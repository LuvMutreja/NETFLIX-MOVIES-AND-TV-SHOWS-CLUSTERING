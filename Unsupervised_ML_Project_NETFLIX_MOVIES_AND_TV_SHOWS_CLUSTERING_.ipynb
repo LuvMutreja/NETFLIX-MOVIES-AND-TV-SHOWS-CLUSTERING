{
  "cells": [
    {
      "cell_type": "markdown",
      "metadata": {
        "id": "view-in-github",
        "colab_type": "text"
      },
      "source": [
        "<a href=\"https://colab.research.google.com/github/LuvMutreja/NETFLIX-MOVIES-AND-TV-SHOWS-CLUSTERING/blob/main/Unsupervised_ML_Project_NETFLIX_MOVIES_AND_TV_SHOWS_CLUSTERING_.ipynb\" target=\"_parent\"><img src=\"https://colab.research.google.com/assets/colab-badge.svg\" alt=\"Open In Colab\"/></a>"
      ]
    },
    {
      "cell_type": "markdown",
      "metadata": {
        "id": "vncDsAP0Gaoa"
      },
      "source": [
        "# **Project Name**    - NETFLIX MOVIES AND TV SHOWS CLUSTERING\n",
        "\n"
      ]
    },
    {
      "cell_type": "markdown",
      "metadata": {
        "id": "beRrZCGUAJYm"
      },
      "source": [
        "##### **Project Type**    - Unsupervised\n",
        "##### **Contribution**    - Individual - Luv Mutreja\n"
      ]
    },
    {
      "cell_type": "markdown",
      "metadata": {
        "id": "FJNUwmbgGyua"
      },
      "source": [
        "# **Project Summary -**"
      ]
    },
    {
      "cell_type": "markdown",
      "metadata": {
        "id": "F6v_1wHtG2nS"
      },
      "source": [
        "Write the summary here within 500-600 words."
      ]
    },
    {
      "cell_type": "markdown",
      "metadata": {
        "id": "w6K7xa23Elo4"
      },
      "source": [
        "# **GitHub Link -**"
      ]
    },
    {
      "cell_type": "markdown",
      "metadata": {
        "id": "h1o69JH3Eqqn"
      },
      "source": [
        "[GitHub Repository Link](https://)"
      ]
    },
    {
      "cell_type": "markdown",
      "metadata": {
        "id": "yQaldy8SH6Dl"
      },
      "source": [
        "# **Problem Statement**\n"
      ]
    },
    {
      "cell_type": "markdown",
      "metadata": {
        "id": "DpeJGUA3kjGy"
      },
      "source": [
        "**Write Problem Statement Here.**"
      ]
    },
    {
      "cell_type": "markdown",
      "metadata": {
        "id": "mDgbUHAGgjLW"
      },
      "source": [
        "# **General Guidelines** : -  "
      ]
    },
    {
      "cell_type": "markdown",
      "metadata": {
        "id": "ZrxVaUj-hHfC"
      },
      "source": [
        "1.   Well-structured, formatted, and commented code is required. \n",
        "2.   Exception Handling, Production Grade Code & Deployment Ready Code will be a plus. Those students will be awarded some additional credits. \n",
        "     \n",
        "     The additional credits will have advantages over other students during Star Student selection.\n",
        "       \n",
        "             [ Note: - Deployment Ready Code is defined as, the whole .ipynb notebook should be executable in one go\n",
        "                       without a single error logged. ]\n",
        "\n",
        "3.   Each and every logic should have proper comments.\n",
        "4. You may add as many number of charts you want. Make Sure for each and every chart the following format should be answered.\n",
        "        \n",
        "\n",
        "```\n",
        "# Chart visualization code\n",
        "```\n",
        "            \n",
        "\n",
        "*   Why did you pick the specific chart?\n",
        "*   What is/are the insight(s) found from the chart?\n",
        "* Will the gained insights help creating a positive business impact? \n",
        "Are there any insights that lead to negative growth? Justify with specific reason.\n",
        "\n",
        "5. You have to create at least 15 logical & meaningful charts having important insights.\n",
        "\n",
        "\n",
        "[ Hints : - Do the Vizualization in  a structured way while following \"UBM\" Rule. \n",
        "\n",
        "U - Univariate Analysis,\n",
        "\n",
        "B - Bivariate Analysis (Numerical - Categorical, Numerical - Numerical, Categorical - Categorical)\n",
        "\n",
        "M - Multivariate Analysis\n",
        " ]\n",
        "\n",
        "\n",
        "\n",
        "\n",
        "\n",
        "6. You may add more ml algorithms for model creation. Make sure for each and every algorithm, the following format should be answered.\n",
        "\n",
        "\n",
        "*   Explain the ML Model used and it's performance using Evaluation metric Score Chart.\n",
        "\n",
        "\n",
        "*   Cross- Validation & Hyperparameter Tuning\n",
        "\n",
        "*   Have you seen any improvement? Note down the improvement with updates Evaluation metric Score Chart.\n",
        "\n",
        "*   Explain each evaluation metric's indication towards business and the business impact pf the ML model used.\n",
        "\n",
        "\n",
        "\n",
        "\n",
        "\n",
        "\n",
        "\n",
        "\n",
        "\n",
        "\n",
        "\n",
        "\n",
        "\n",
        "\n",
        "\n",
        "\n",
        "\n",
        "\n"
      ]
    },
    {
      "cell_type": "markdown",
      "metadata": {
        "id": "O_i_v8NEhb9l"
      },
      "source": [
        "# ***Let's Begin !***"
      ]
    },
    {
      "cell_type": "markdown",
      "metadata": {
        "id": "HhfV-JJviCcP"
      },
      "source": [
        "## ***1. Know Your Data***"
      ]
    },
    {
      "cell_type": "markdown",
      "metadata": {
        "id": "Y3lxredqlCYt"
      },
      "source": [
        "### Import Libraries"
      ]
    },
    {
      "cell_type": "code",
      "execution_count": 32,
      "metadata": {
        "id": "iXk68sdJbXbs"
      },
      "outputs": [],
      "source": [
        "# Importing Libraries \n",
        "import pandas as pd\n",
        "import numpy as np\n",
        "import matplotlib.pyplot as plt\n",
        "import seaborn as sns\n",
        "import plotly.express as px\n",
        "from datetime import datetime\n",
        "from datetime import date\n",
        "plt.rcParams['figure.figsize'] = (10,6)\n",
        "\n",
        "import warnings\n",
        "warnings.filterwarnings('ignore')"
      ]
    },
    {
      "cell_type": "markdown",
      "metadata": {
        "id": "6S6-SX5Ps5jR"
      },
      "source": [
        "### Dataset Loading"
      ]
    },
    {
      "cell_type": "code",
      "execution_count": 33,
      "metadata": {
        "colab": {
          "base_uri": "https://localhost:8080/"
        },
        "id": "XT5oa8rbs5jR",
        "outputId": "7cbdaffb-07cc-479b-f8ac-5575fdd496bc"
      },
      "outputs": [
        {
          "output_type": "stream",
          "name": "stdout",
          "text": [
            "Drive already mounted at /content/drive; to attempt to forcibly remount, call drive.mount(\"/content/drive\", force_remount=True).\n"
          ]
        }
      ],
      "source": [
        "# Mounting the drive \n",
        "from google.colab import drive\n",
        "drive.mount('/content/drive')"
      ]
    },
    {
      "cell_type": "code",
      "execution_count": 34,
      "metadata": {
        "id": "GSx3l8so_to9"
      },
      "outputs": [],
      "source": [
        "# Importing the dataset\n",
        "dataset = pd.read_csv('/content/drive/MyDrive/Alma Better/Module 4 Machine Learning/#Capstone Projects/Unsupervised Capstone Project- NETFLIX MOVIES AND TV SHOWS CLUSTERING/NETFLIX MOVIES AND TV SHOWS CLUSTERING.csv')"
      ]
    },
    {
      "cell_type": "code",
      "execution_count": 35,
      "metadata": {
        "id": "EqthfmyfrQjC"
      },
      "outputs": [],
      "source": [
        "# dataset = pd.read_csv('G:/My Drive/Alma Better/Module 4 Machine Learning/#Capstone Projects/Unsupervised Capstone Project- NETFLIX MOVIES AND TV SHOWS CLUSTERING/NETFLIX MOVIES AND TV SHOWS CLUSTERING.csv')"
      ]
    },
    {
      "cell_type": "markdown",
      "metadata": {
        "id": "b-QZoMkos5jS"
      },
      "source": [
        "### Dataset First View"
      ]
    },
    {
      "cell_type": "code",
      "execution_count": 36,
      "metadata": {
        "colab": {
          "base_uri": "https://localhost:8080/",
          "height": 337
        },
        "id": "rtNn5l8rs5jS",
        "outputId": "29bab8db-6338-4901-e380-3cd14b6ccf5e"
      },
      "outputs": [
        {
          "output_type": "execute_result",
          "data": {
            "text/plain": [
              "  show_id     type  title           director  \\\n",
              "0      s1  TV Show     3%                NaN   \n",
              "1      s2    Movie   7:19  Jorge Michel Grau   \n",
              "2      s3    Movie  23:59       Gilbert Chan   \n",
              "3      s4    Movie      9        Shane Acker   \n",
              "4      s5    Movie     21     Robert Luketic   \n",
              "\n",
              "                                                cast        country  \\\n",
              "0  João Miguel, Bianca Comparato, Michel Gomes, R...         Brazil   \n",
              "1  Demián Bichir, Héctor Bonilla, Oscar Serrano, ...         Mexico   \n",
              "2  Tedd Chan, Stella Chung, Henley Hii, Lawrence ...      Singapore   \n",
              "3  Elijah Wood, John C. Reilly, Jennifer Connelly...  United States   \n",
              "4  Jim Sturgess, Kevin Spacey, Kate Bosworth, Aar...  United States   \n",
              "\n",
              "          date_added  release_year rating   duration  \\\n",
              "0    August 14, 2020          2020  TV-MA  4 Seasons   \n",
              "1  December 23, 2016          2016  TV-MA     93 min   \n",
              "2  December 20, 2018          2011      R     78 min   \n",
              "3  November 16, 2017          2009  PG-13     80 min   \n",
              "4    January 1, 2020          2008  PG-13    123 min   \n",
              "\n",
              "                                           listed_in  \\\n",
              "0  International TV Shows, TV Dramas, TV Sci-Fi &...   \n",
              "1                       Dramas, International Movies   \n",
              "2                Horror Movies, International Movies   \n",
              "3  Action & Adventure, Independent Movies, Sci-Fi...   \n",
              "4                                             Dramas   \n",
              "\n",
              "                                         description  \n",
              "0  In a future where the elite inhabit an island ...  \n",
              "1  After a devastating earthquake hits Mexico Cit...  \n",
              "2  When an army recruit is found dead, his fellow...  \n",
              "3  In a postapocalyptic world, rag-doll robots hi...  \n",
              "4  A brilliant group of students become card-coun...  "
            ],
            "text/html": [
              "\n",
              "  <div id=\"df-491a0cf0-c16a-4d22-bda3-923cb2fec21b\">\n",
              "    <div class=\"colab-df-container\">\n",
              "      <div>\n",
              "<style scoped>\n",
              "    .dataframe tbody tr th:only-of-type {\n",
              "        vertical-align: middle;\n",
              "    }\n",
              "\n",
              "    .dataframe tbody tr th {\n",
              "        vertical-align: top;\n",
              "    }\n",
              "\n",
              "    .dataframe thead th {\n",
              "        text-align: right;\n",
              "    }\n",
              "</style>\n",
              "<table border=\"1\" class=\"dataframe\">\n",
              "  <thead>\n",
              "    <tr style=\"text-align: right;\">\n",
              "      <th></th>\n",
              "      <th>show_id</th>\n",
              "      <th>type</th>\n",
              "      <th>title</th>\n",
              "      <th>director</th>\n",
              "      <th>cast</th>\n",
              "      <th>country</th>\n",
              "      <th>date_added</th>\n",
              "      <th>release_year</th>\n",
              "      <th>rating</th>\n",
              "      <th>duration</th>\n",
              "      <th>listed_in</th>\n",
              "      <th>description</th>\n",
              "    </tr>\n",
              "  </thead>\n",
              "  <tbody>\n",
              "    <tr>\n",
              "      <th>0</th>\n",
              "      <td>s1</td>\n",
              "      <td>TV Show</td>\n",
              "      <td>3%</td>\n",
              "      <td>NaN</td>\n",
              "      <td>João Miguel, Bianca Comparato, Michel Gomes, R...</td>\n",
              "      <td>Brazil</td>\n",
              "      <td>August 14, 2020</td>\n",
              "      <td>2020</td>\n",
              "      <td>TV-MA</td>\n",
              "      <td>4 Seasons</td>\n",
              "      <td>International TV Shows, TV Dramas, TV Sci-Fi &amp;...</td>\n",
              "      <td>In a future where the elite inhabit an island ...</td>\n",
              "    </tr>\n",
              "    <tr>\n",
              "      <th>1</th>\n",
              "      <td>s2</td>\n",
              "      <td>Movie</td>\n",
              "      <td>7:19</td>\n",
              "      <td>Jorge Michel Grau</td>\n",
              "      <td>Demián Bichir, Héctor Bonilla, Oscar Serrano, ...</td>\n",
              "      <td>Mexico</td>\n",
              "      <td>December 23, 2016</td>\n",
              "      <td>2016</td>\n",
              "      <td>TV-MA</td>\n",
              "      <td>93 min</td>\n",
              "      <td>Dramas, International Movies</td>\n",
              "      <td>After a devastating earthquake hits Mexico Cit...</td>\n",
              "    </tr>\n",
              "    <tr>\n",
              "      <th>2</th>\n",
              "      <td>s3</td>\n",
              "      <td>Movie</td>\n",
              "      <td>23:59</td>\n",
              "      <td>Gilbert Chan</td>\n",
              "      <td>Tedd Chan, Stella Chung, Henley Hii, Lawrence ...</td>\n",
              "      <td>Singapore</td>\n",
              "      <td>December 20, 2018</td>\n",
              "      <td>2011</td>\n",
              "      <td>R</td>\n",
              "      <td>78 min</td>\n",
              "      <td>Horror Movies, International Movies</td>\n",
              "      <td>When an army recruit is found dead, his fellow...</td>\n",
              "    </tr>\n",
              "    <tr>\n",
              "      <th>3</th>\n",
              "      <td>s4</td>\n",
              "      <td>Movie</td>\n",
              "      <td>9</td>\n",
              "      <td>Shane Acker</td>\n",
              "      <td>Elijah Wood, John C. Reilly, Jennifer Connelly...</td>\n",
              "      <td>United States</td>\n",
              "      <td>November 16, 2017</td>\n",
              "      <td>2009</td>\n",
              "      <td>PG-13</td>\n",
              "      <td>80 min</td>\n",
              "      <td>Action &amp; Adventure, Independent Movies, Sci-Fi...</td>\n",
              "      <td>In a postapocalyptic world, rag-doll robots hi...</td>\n",
              "    </tr>\n",
              "    <tr>\n",
              "      <th>4</th>\n",
              "      <td>s5</td>\n",
              "      <td>Movie</td>\n",
              "      <td>21</td>\n",
              "      <td>Robert Luketic</td>\n",
              "      <td>Jim Sturgess, Kevin Spacey, Kate Bosworth, Aar...</td>\n",
              "      <td>United States</td>\n",
              "      <td>January 1, 2020</td>\n",
              "      <td>2008</td>\n",
              "      <td>PG-13</td>\n",
              "      <td>123 min</td>\n",
              "      <td>Dramas</td>\n",
              "      <td>A brilliant group of students become card-coun...</td>\n",
              "    </tr>\n",
              "  </tbody>\n",
              "</table>\n",
              "</div>\n",
              "      <button class=\"colab-df-convert\" onclick=\"convertToInteractive('df-491a0cf0-c16a-4d22-bda3-923cb2fec21b')\"\n",
              "              title=\"Convert this dataframe to an interactive table.\"\n",
              "              style=\"display:none;\">\n",
              "        \n",
              "  <svg xmlns=\"http://www.w3.org/2000/svg\" height=\"24px\"viewBox=\"0 0 24 24\"\n",
              "       width=\"24px\">\n",
              "    <path d=\"M0 0h24v24H0V0z\" fill=\"none\"/>\n",
              "    <path d=\"M18.56 5.44l.94 2.06.94-2.06 2.06-.94-2.06-.94-.94-2.06-.94 2.06-2.06.94zm-11 1L8.5 8.5l.94-2.06 2.06-.94-2.06-.94L8.5 2.5l-.94 2.06-2.06.94zm10 10l.94 2.06.94-2.06 2.06-.94-2.06-.94-.94-2.06-.94 2.06-2.06.94z\"/><path d=\"M17.41 7.96l-1.37-1.37c-.4-.4-.92-.59-1.43-.59-.52 0-1.04.2-1.43.59L10.3 9.45l-7.72 7.72c-.78.78-.78 2.05 0 2.83L4 21.41c.39.39.9.59 1.41.59.51 0 1.02-.2 1.41-.59l7.78-7.78 2.81-2.81c.8-.78.8-2.07 0-2.86zM5.41 20L4 18.59l7.72-7.72 1.47 1.35L5.41 20z\"/>\n",
              "  </svg>\n",
              "      </button>\n",
              "      \n",
              "  <style>\n",
              "    .colab-df-container {\n",
              "      display:flex;\n",
              "      flex-wrap:wrap;\n",
              "      gap: 12px;\n",
              "    }\n",
              "\n",
              "    .colab-df-convert {\n",
              "      background-color: #E8F0FE;\n",
              "      border: none;\n",
              "      border-radius: 50%;\n",
              "      cursor: pointer;\n",
              "      display: none;\n",
              "      fill: #1967D2;\n",
              "      height: 32px;\n",
              "      padding: 0 0 0 0;\n",
              "      width: 32px;\n",
              "    }\n",
              "\n",
              "    .colab-df-convert:hover {\n",
              "      background-color: #E2EBFA;\n",
              "      box-shadow: 0px 1px 2px rgba(60, 64, 67, 0.3), 0px 1px 3px 1px rgba(60, 64, 67, 0.15);\n",
              "      fill: #174EA6;\n",
              "    }\n",
              "\n",
              "    [theme=dark] .colab-df-convert {\n",
              "      background-color: #3B4455;\n",
              "      fill: #D2E3FC;\n",
              "    }\n",
              "\n",
              "    [theme=dark] .colab-df-convert:hover {\n",
              "      background-color: #434B5C;\n",
              "      box-shadow: 0px 1px 3px 1px rgba(0, 0, 0, 0.15);\n",
              "      filter: drop-shadow(0px 1px 2px rgba(0, 0, 0, 0.3));\n",
              "      fill: #FFFFFF;\n",
              "    }\n",
              "  </style>\n",
              "\n",
              "      <script>\n",
              "        const buttonEl =\n",
              "          document.querySelector('#df-491a0cf0-c16a-4d22-bda3-923cb2fec21b button.colab-df-convert');\n",
              "        buttonEl.style.display =\n",
              "          google.colab.kernel.accessAllowed ? 'block' : 'none';\n",
              "\n",
              "        async function convertToInteractive(key) {\n",
              "          const element = document.querySelector('#df-491a0cf0-c16a-4d22-bda3-923cb2fec21b');\n",
              "          const dataTable =\n",
              "            await google.colab.kernel.invokeFunction('convertToInteractive',\n",
              "                                                     [key], {});\n",
              "          if (!dataTable) return;\n",
              "\n",
              "          const docLinkHtml = 'Like what you see? Visit the ' +\n",
              "            '<a target=\"_blank\" href=https://colab.research.google.com/notebooks/data_table.ipynb>data table notebook</a>'\n",
              "            + ' to learn more about interactive tables.';\n",
              "          element.innerHTML = '';\n",
              "          dataTable['output_type'] = 'display_data';\n",
              "          await google.colab.output.renderOutput(dataTable, element);\n",
              "          const docLink = document.createElement('div');\n",
              "          docLink.innerHTML = docLinkHtml;\n",
              "          element.appendChild(docLink);\n",
              "        }\n",
              "      </script>\n",
              "    </div>\n",
              "  </div>\n",
              "  "
            ]
          },
          "metadata": {},
          "execution_count": 36
        }
      ],
      "source": [
        "# Dataset First Look\n",
        "dataset.head()"
      ]
    },
    {
      "cell_type": "markdown",
      "metadata": {
        "id": "G-Wwuquzs5jS"
      },
      "source": [
        "### Dataset Rows & Columns count"
      ]
    },
    {
      "cell_type": "code",
      "execution_count": 37,
      "metadata": {
        "colab": {
          "base_uri": "https://localhost:8080/"
        },
        "id": "emVx8tngs5jS",
        "outputId": "a6ebe512-3a29-402c-8a86-1b0e15af2974"
      },
      "outputs": [
        {
          "output_type": "execute_result",
          "data": {
            "text/plain": [
              "(7787, 12)"
            ]
          },
          "metadata": {},
          "execution_count": 37
        }
      ],
      "source": [
        "# Dataset Rows & Columns count\n",
        "dataset.shape"
      ]
    },
    {
      "cell_type": "markdown",
      "metadata": {
        "id": "HtRMlB9Ns5jS"
      },
      "source": [
        "### Dataset Information"
      ]
    },
    {
      "cell_type": "code",
      "execution_count": 38,
      "metadata": {
        "colab": {
          "base_uri": "https://localhost:8080/"
        },
        "id": "t0R6pLkLs5jT",
        "outputId": "6b67e01e-0e81-4e59-fda4-e2424e0f0c77"
      },
      "outputs": [
        {
          "output_type": "stream",
          "name": "stdout",
          "text": [
            "<class 'pandas.core.frame.DataFrame'>\n",
            "RangeIndex: 7787 entries, 0 to 7786\n",
            "Data columns (total 12 columns):\n",
            " #   Column        Non-Null Count  Dtype \n",
            "---  ------        --------------  ----- \n",
            " 0   show_id       7787 non-null   object\n",
            " 1   type          7787 non-null   object\n",
            " 2   title         7787 non-null   object\n",
            " 3   director      5398 non-null   object\n",
            " 4   cast          7069 non-null   object\n",
            " 5   country       7280 non-null   object\n",
            " 6   date_added    7777 non-null   object\n",
            " 7   release_year  7787 non-null   int64 \n",
            " 8   rating        7780 non-null   object\n",
            " 9   duration      7787 non-null   object\n",
            " 10  listed_in     7787 non-null   object\n",
            " 11  description   7787 non-null   object\n",
            "dtypes: int64(1), object(11)\n",
            "memory usage: 730.2+ KB\n"
          ]
        }
      ],
      "source": [
        "# Dataset's Info\n",
        "dataset.info()"
      ]
    },
    {
      "cell_type": "markdown",
      "metadata": {
        "id": "TSejUB_Ds5jT"
      },
      "source": [
        "#### Duplicate Values"
      ]
    },
    {
      "cell_type": "code",
      "execution_count": 39,
      "metadata": {
        "colab": {
          "base_uri": "https://localhost:8080/"
        },
        "id": "Qbr4fIZ4s5jT",
        "outputId": "40da2f60-9bb5-4c98-c731-7b97d379f670"
      },
      "outputs": [
        {
          "output_type": "execute_result",
          "data": {
            "text/plain": [
              "0"
            ]
          },
          "metadata": {},
          "execution_count": 39
        }
      ],
      "source": [
        "# Duplicate Value Count\n",
        "len(dataset[dataset.duplicated()])"
      ]
    },
    {
      "cell_type": "markdown",
      "metadata": {
        "id": "ekecm6las5jT"
      },
      "source": [
        "#### Missing Values/Null Values"
      ]
    },
    {
      "cell_type": "code",
      "execution_count": 40,
      "metadata": {
        "colab": {
          "base_uri": "https://localhost:8080/"
        },
        "id": "5fE_Jyl0s5jT",
        "outputId": "0bfc8568-2abc-4252-a99c-baefdbe0439e"
      },
      "outputs": [
        {
          "output_type": "stream",
          "name": "stdout",
          "text": [
            "show_id            0\n",
            "type               0\n",
            "title              0\n",
            "director        2389\n",
            "cast             718\n",
            "country          507\n",
            "date_added        10\n",
            "release_year       0\n",
            "rating             7\n",
            "duration           0\n",
            "listed_in          0\n",
            "description        0\n",
            "dtype: int64\n"
          ]
        }
      ],
      "source": [
        "# Missing Values/Null Values Count\n",
        "print(dataset.isnull().sum())"
      ]
    },
    {
      "cell_type": "code",
      "execution_count": 41,
      "metadata": {
        "colab": {
          "base_uri": "https://localhost:8080/"
        },
        "id": "Sm8rox1BvkyB",
        "outputId": "d95b7cf9-a87c-4e2d-c8fc-a41b6bb4c166"
      },
      "outputs": [
        {
          "output_type": "stream",
          "name": "stdout",
          "text": [
            "Total null values present in this dataset are : 3631\n"
          ]
        }
      ],
      "source": [
        "# printing the total null values in the dataset\n",
        "print('Total null values present in this dataset are :',dataset.isnull().sum().sum())"
      ]
    },
    {
      "cell_type": "code",
      "execution_count": 42,
      "metadata": {
        "colab": {
          "base_uri": "https://localhost:8080/",
          "height": 604
        },
        "id": "AW6fIkAFwx6j",
        "outputId": "5af45ea2-a970-42ab-eb8c-8f8142e805c9"
      },
      "outputs": [
        {
          "output_type": "display_data",
          "data": {
            "text/plain": [
              "<Figure size 1000x600 with 1 Axes>"
            ],
            "image/png": "[encoded data removed]"
          },
          "metadata": {}
        }
      ],
      "source": [
        "# visualizing Null Value by plotting Heatmap\n",
        "sns.heatmap(dataset.isnull(), cbar=False)\n",
        "plt.show()"
      ]
    },
    {
      "cell_type": "markdown",
      "metadata": {
        "id": "54lMkm_Us5jT"
      },
      "source": [
        "### What did you learn about your dataset?"
      ]
    },
    {
      "cell_type": "markdown",
      "metadata": {
        "id": "FuIe87tDs5jT"
      },
      "source": []
    },
    {
      "cell_type": "markdown",
      "metadata": {
        "id": "WsK1-QfXs5jT"
      },
      "source": [
        "## ***2. Understanding Your Variables***"
      ]
    },
    {
      "cell_type": "code",
      "execution_count": 43,
      "metadata": {
        "colab": {
          "base_uri": "https://localhost:8080/"
        },
        "id": "JmRqdHwQs5jT",
        "outputId": "101d0ffc-dd65-457b-cc03-155edea32c0d"
      },
      "outputs": [
        {
          "output_type": "execute_result",
          "data": {
            "text/plain": [
              "Index(['show_id', 'type', 'title', 'director', 'cast', 'country', 'date_added',\n",
              "       'release_year', 'rating', 'duration', 'listed_in', 'description'],\n",
              "      dtype='object')"
            ]
          },
          "metadata": {},
          "execution_count": 43
        }
      ],
      "source": [
        "# Dataset's Columns\n",
        "dataset.columns"
      ]
    },
    {
      "cell_type": "code",
      "execution_count": 44,
      "metadata": {
        "colab": {
          "base_uri": "https://localhost:8080/",
          "height": 300
        },
        "id": "rRgSgwmAs5jT",
        "outputId": "50abdb8f-c57c-42d1-ed5e-3f5d4411b7e7"
      },
      "outputs": [
        {
          "output_type": "execute_result",
          "data": {
            "text/plain": [
              "       release_year\n",
              "count   7787.000000\n",
              "mean    2013.932580\n",
              "std        8.757395\n",
              "min     1925.000000\n",
              "25%     2013.000000\n",
              "50%     2017.000000\n",
              "75%     2018.000000\n",
              "max     2021.000000"
            ],
            "text/html": [
              "\n",
              "  <div id=\"df-0532e001-d4c9-48e5-ad1d-689304145579\">\n",
              "    <div class=\"colab-df-container\">\n",
              "      <div>\n",
              "<style scoped>\n",
              "    .dataframe tbody tr th:only-of-type {\n",
              "        vertical-align: middle;\n",
              "    }\n",
              "\n",
              "    .dataframe tbody tr th {\n",
              "        vertical-align: top;\n",
              "    }\n",
              "\n",
              "    .dataframe thead th {\n",
              "        text-align: right;\n",
              "    }\n",
              "</style>\n",
              "<table border=\"1\" class=\"dataframe\">\n",
              "  <thead>\n",
              "    <tr style=\"text-align: right;\">\n",
              "      <th></th>\n",
              "      <th>release_year</th>\n",
              "    </tr>\n",
              "  </thead>\n",
              "  <tbody>\n",
              "    <tr>\n",
              "      <th>count</th>\n",
              "      <td>7787.000000</td>\n",
              "    </tr>\n",
              "    <tr>\n",
              "      <th>mean</th>\n",
              "      <td>2013.932580</td>\n",
              "    </tr>\n",
              "    <tr>\n",
              "      <th>std</th>\n",
              "      <td>8.757395</td>\n",
              "    </tr>\n",
              "    <tr>\n",
              "      <th>min</th>\n",
              "      <td>1925.000000</td>\n",
              "    </tr>\n",
              "    <tr>\n",
              "      <th>25%</th>\n",
              "      <td>2013.000000</td>\n",
              "    </tr>\n",
              "    <tr>\n",
              "      <th>50%</th>\n",
              "      <td>2017.000000</td>\n",
              "    </tr>\n",
              "    <tr>\n",
              "      <th>75%</th>\n",
              "      <td>2018.000000</td>\n",
              "    </tr>\n",
              "    <tr>\n",
              "      <th>max</th>\n",
              "      <td>2021.000000</td>\n",
              "    </tr>\n",
              "  </tbody>\n",
              "</table>\n",
              "</div>\n",
              "      <button class=\"colab-df-convert\" onclick=\"convertToInteractive('df-0532e001-d4c9-48e5-ad1d-689304145579')\"\n",
              "              title=\"Convert this dataframe to an interactive table.\"\n",
              "              style=\"display:none;\">\n",
              "        \n",
              "  <svg xmlns=\"http://www.w3.org/2000/svg\" height=\"24px\"viewBox=\"0 0 24 24\"\n",
              "       width=\"24px\">\n",
              "    <path d=\"M0 0h24v24H0V0z\" fill=\"none\"/>\n",
              "    <path d=\"M18.56 5.44l.94 2.06.94-2.06 2.06-.94-2.06-.94-.94-2.06-.94 2.06-2.06.94zm-11 1L8.5 8.5l.94-2.06 2.06-.94-2.06-.94L8.5 2.5l-.94 2.06-2.06.94zm10 10l.94 2.06.94-2.06 2.06-.94-2.06-.94-.94-2.06-.94 2.06-2.06.94z\"/><path d=\"M17.41 7.96l-1.37-1.37c-.4-.4-.92-.59-1.43-.59-.52 0-1.04.2-1.43.59L10.3 9.45l-7.72 7.72c-.78.78-.78 2.05 0 2.83L4 21.41c.39.39.9.59 1.41.59.51 0 1.02-.2 1.41-.59l7.78-7.78 2.81-2.81c.8-.78.8-2.07 0-2.86zM5.41 20L4 18.59l7.72-7.72 1.47 1.35L5.41 20z\"/>\n",
              "  </svg>\n",
              "      </button>\n",
              "      \n",
              "  <style>\n",
              "    .colab-df-container {\n",
              "      display:flex;\n",
              "      flex-wrap:wrap;\n",
              "      gap: 12px;\n",
              "    }\n",
              "\n",
              "    .colab-df-convert {\n",
              "      background-color: #E8F0FE;\n",
              "      border: none;\n",
              "      border-radius: 50%;\n",
              "      cursor: pointer;\n",
              "      display: none;\n",
              "      fill: #1967D2;\n",
              "      height: 32px;\n",
              "      padding: 0 0 0 0;\n",
              "      width: 32px;\n",
              "    }\n",
              "\n",
              "    .colab-df-convert:hover {\n",
              "      background-color: #E2EBFA;\n",
              "      box-shadow: 0px 1px 2px rgba(60, 64, 67, 0.3), 0px 1px 3px 1px rgba(60, 64, 67, 0.15);\n",
              "      fill: #174EA6;\n",
              "    }\n",
              "\n",
              "    [theme=dark] .colab-df-convert {\n",
              "      background-color: #3B4455;\n",
              "      fill: #D2E3FC;\n",
              "    }\n",
              "\n",
              "    [theme=dark] .colab-df-convert:hover {\n",
              "      background-color: #434B5C;\n",
              "      box-shadow: 0px 1px 3px 1px rgba(0, 0, 0, 0.15);\n",
              "      filter: drop-shadow(0px 1px 2px rgba(0, 0, 0, 0.3));\n",
              "      fill: #FFFFFF;\n",
              "    }\n",
              "  </style>\n",
              "\n",
              "      <script>\n",
              "        const buttonEl =\n",
              "          document.querySelector('#df-0532e001-d4c9-48e5-ad1d-689304145579 button.colab-df-convert');\n",
              "        buttonEl.style.display =\n",
              "          google.colab.kernel.accessAllowed ? 'block' : 'none';\n",
              "\n",
              "        async function convertToInteractive(key) {\n",
              "          const element = document.querySelector('#df-0532e001-d4c9-48e5-ad1d-689304145579');\n",
              "          const dataTable =\n",
              "            await google.colab.kernel.invokeFunction('convertToInteractive',\n",
              "                                                     [key], {});\n",
              "          if (!dataTable) return;\n",
              "\n",
              "          const docLinkHtml = 'Like what you see? Visit the ' +\n",
              "            '<a target=\"_blank\" href=https://colab.research.google.com/notebooks/data_table.ipynb>data table notebook</a>'\n",
              "            + ' to learn more about interactive tables.';\n",
              "          element.innerHTML = '';\n",
              "          dataTable['output_type'] = 'display_data';\n",
              "          await google.colab.output.renderOutput(dataTable, element);\n",
              "          const docLink = document.createElement('div');\n",
              "          docLink.innerHTML = docLinkHtml;\n",
              "          element.appendChild(docLink);\n",
              "        }\n",
              "      </script>\n",
              "    </div>\n",
              "  </div>\n",
              "  "
            ]
          },
          "metadata": {},
          "execution_count": 44
        }
      ],
      "source": [
        "# Describing the Dataset \n",
        "dataset.describe()"
      ]
    },
    {
      "cell_type": "markdown",
      "metadata": {
        "id": "NgmYkeY1s5jT"
      },
      "source": [
        "### Variables Description "
      ]
    },
    {
      "cell_type": "markdown",
      "metadata": {
        "id": "s_k3o-0r_jQo"
      },
      "source": [
        "show_id : Unique ID for every Movie / Tv Show\n",
        "\n",
        "type : Identifier - A Movie or TV Show\n",
        "\n",
        "title : Title of the Movie / Tv Show\n",
        "\n",
        "director : Director of the Movie\n",
        "\n",
        "cast : Actors involved in the movie / show\n",
        "\n",
        "country : Country where the movie / show was produced\n",
        "\n",
        "date_added : Date it was added on Netflix\n",
        "\n",
        "release_year : Actual Releaseyear of the movie / show\n",
        "\n",
        "rating : TV Rating of the movie / show\n",
        "\n",
        "duration : Total Duration - in minutes or number of seasons\n",
        "\n",
        "listed_in : Genre\n",
        "\n",
        "description: The Summary description"
      ]
    },
    {
      "cell_type": "markdown",
      "metadata": {
        "id": "ugB-0qzRs5jT"
      },
      "source": [
        "### Check Unique Values for each variable."
      ]
    },
    {
      "cell_type": "code",
      "execution_count": 45,
      "metadata": {
        "colab": {
          "base_uri": "https://localhost:8080/"
        },
        "id": "9E014q8Bs5jU",
        "outputId": "9a64435c-ccda-403a-b313-1cf3c603a480"
      },
      "outputs": [
        {
          "output_type": "stream",
          "name": "stdout",
          "text": [
            "Number of unique values in  show_id  is  7787\n",
            "Number of unique values in  type  is  2\n",
            "Number of unique values in  title  is  7787\n",
            "Number of unique values in  director  is  4049\n",
            "Number of unique values in  cast  is  6831\n",
            "Number of unique values in  country  is  681\n",
            "Number of unique values in  date_added  is  1565\n",
            "Number of unique values in  release_year  is  73\n",
            "Number of unique values in  rating  is  14\n",
            "Number of unique values in  duration  is  216\n",
            "Number of unique values in  listed_in  is  492\n",
            "Number of unique values in  description  is  7769\n"
          ]
        }
      ],
      "source": [
        "# Number of Unique Values in each variable.\n",
        "for col in dataset.columns:\n",
        "  print('Number of unique values in ',col,' is ',dataset[col].nunique())"
      ]
    },
    {
      "cell_type": "markdown",
      "metadata": {
        "id": "xiyOF9F70UgQ"
      },
      "source": [
        "## 3. ***Handling Missing Values***"
      ]
    },
    {
      "cell_type": "code",
      "execution_count": 46,
      "metadata": {
        "colab": {
          "base_uri": "https://localhost:8080/"
        },
        "id": "iRsAHk1K0fpS",
        "outputId": "06c68d83-3d75-4336-dee4-ed813f1365b1"
      },
      "outputs": [
        {
          "output_type": "stream",
          "name": "stdout",
          "text": [
            "director has 30.679337357133683 % null values\n",
            "cast has 9.220495697958135 % null values\n",
            "country has 6.51085141903172 % null values\n",
            "date_added has 0.1284191601386927 % null values\n",
            "rating has 0.08989341209708489 % null values\n"
          ]
        }
      ],
      "source": [
        "# Handling Missing Values & Missing Value Imputation\n",
        "for col in dataset.columns[dataset.isnull().any()].tolist():\n",
        "    print(col,'has',(dataset[col].isnull().sum()/dataset.shape[0])*100,'% null values' )"
      ]
    },
    {
      "cell_type": "code",
      "execution_count": 47,
      "metadata": {
        "id": "KmD4wgEvrQjH"
      },
      "outputs": [],
      "source": [
        "for col in dataset.columns[dataset.isnull().any()].tolist():\n",
        "    if col not in 'date_added':\n",
        "        dataset[col].fillna('unknown',inplace=True)"
      ]
    },
    {
      "cell_type": "markdown",
      "metadata": {
        "id": "dauF4eBmngu3"
      },
      "source": [
        "## 4. ***Data Wrangling***"
      ]
    },
    {
      "cell_type": "code",
      "execution_count": 48,
      "metadata": {
        "id": "O_LnCVvsrQjH"
      },
      "outputs": [],
      "source": [
        "def making_df_from_column(col,column_names):\n",
        "    lis=[]\n",
        "    for row in range(dataset.shape[0]):\n",
        "        if ',' in dataset[col][row]: \n",
        "            for item in dataset[col][row].split(','):\n",
        "                lis.append(item)\n",
        "        else:\n",
        "            lis.append(dataset[col][row])        \n",
        "    dictionary={}\n",
        "    for item in set(lis):\n",
        "        dictionary.update({item : lis.count(item)})\n",
        "    df=pd.DataFrame(dictionary.items(),columns=column_names)\n",
        "    return df "
      ]
    },
    {
      "cell_type": "code",
      "execution_count": 49,
      "metadata": {
        "colab": {
          "base_uri": "https://localhost:8080/"
        },
        "id": "6DKuELaxFih_",
        "outputId": "261994ef-bba2-4c2a-eddf-8f81c250f0f5"
      },
      "outputs": [
        {
          "output_type": "execute_result",
          "data": {
            "text/plain": [
              "0       4 Seasons\n",
              "1          93 min\n",
              "2          78 min\n",
              "3          80 min\n",
              "4         123 min\n",
              "          ...    \n",
              "7782       99 min\n",
              "7783      111 min\n",
              "7784       44 min\n",
              "7785     1 Season\n",
              "7786       90 min\n",
              "Name: duration, Length: 7787, dtype: object"
            ]
          },
          "metadata": {},
          "execution_count": 49
        }
      ],
      "source": [
        "dataset['duration']"
      ]
    },
    {
      "cell_type": "code",
      "execution_count": 50,
      "metadata": {
        "id": "dlYI06F6FiiA"
      },
      "outputs": [],
      "source": [
        "# dataset['duration']=np.where(dataset['type']=='Movie',dataset['duration'].apply(lambda x : int(str(x).split()[0])),dataset['duration'])"
      ]
    },
    {
      "cell_type": "code",
      "execution_count": 51,
      "metadata": {
        "id": "Y4BXMJkaFiiA"
      },
      "outputs": [],
      "source": [
        "# dataset"
      ]
    },
    {
      "cell_type": "markdown",
      "metadata": {
        "id": "MSa1f5Uengrz"
      },
      "source": [
        "### What all manipulations have you done and insights you found?"
      ]
    },
    {
      "cell_type": "markdown",
      "metadata": {
        "id": "LbyXE7I1olp8"
      },
      "source": [
        "Answer Here."
      ]
    },
    {
      "cell_type": "markdown",
      "metadata": {
        "id": "GF8Ens_Soomf"
      },
      "source": [
        "## ***5. Data Vizualization, Storytelling & Experimenting with charts : Understand the relationships between variables***"
      ]
    },
    {
      "cell_type": "markdown",
      "metadata": {
        "id": "0wOQAZs5pc--"
      },
      "source": [
        "#### Chart - 1. Show Type value counts"
      ]
    },
    {
      "cell_type": "code",
      "execution_count": 52,
      "metadata": {
        "id": "7v_ESjsspbW7",
        "colab": {
          "base_uri": "https://localhost:8080/",
          "height": 0
        },
        "outputId": "d790a0d4-68d3-4363-a37f-a36f1a882811"
      },
      "outputs": [
        {
          "output_type": "display_data",
          "data": {
            "text/html": [
              "<html>\n",
              "<head><meta charset=\"utf-8\" /></head>\n",
              "<body>\n",
              "    <div>            <script src=\"https://cdnjs.cloudflare.com/ajax/libs/mathjax/2.7.5/MathJax.js?config=TeX-AMS-MML_SVG\"></script><script type=\"text/javascript\">if (window.MathJax && window.MathJax.Hub && window.MathJax.Hub.Config) {window.MathJax.Hub.Config({SVG: {font: \"STIX-Web\"}});}</script>                <script type=\"text/javascript\">window.PlotlyConfig = {MathJaxConfig: 'local'};</script>\n",
              "        <script src=\"https://cdn.plot.ly/plotly-2.18.2.min.js\"></script>                <div id=\"ab3cf3f8-7b08-4c92-9004-fdc4377bcf25\" class=\"plotly-graph-div\" style=\"height:400px; width:450px;\"></div>            <script type=\"text/javascript\">                                    window.PLOTLYENV=window.PLOTLYENV || {};                                    if (document.getElementById(\"ab3cf3f8-7b08-4c92-9004-fdc4377bcf25\")) {                    Plotly.newPlot(                        \"ab3cf3f8-7b08-4c92-9004-fdc4377bcf25\",                        [{\"domain\":{\"x\":[0.0,1.0],\"y\":[0.0,1.0]},\"hole\":0.8,\"labels\":[\"Movie\",\"TV Show\"],\"legendgroup\":\"\",\"name\":\"\",\"showlegend\":false,\"values\":[5377,2410],\"type\":\"pie\",\"textinfo\":\"percent+value+label\"}],                        {\"template\":{\"data\":{\"barpolar\":[{\"marker\":{\"line\":{\"color\":\"rgb(17,17,17)\",\"width\":0.5},\"pattern\":{\"fillmode\":\"overlay\",\"size\":10,\"solidity\":0.2}},\"type\":\"barpolar\"}],\"bar\":[{\"error_x\":{\"color\":\"#f2f5fa\"},\"error_y\":{\"color\":\"#f2f5fa\"},\"marker\":{\"line\":{\"color\":\"rgb(17,17,17)\",\"width\":0.5},\"pattern\":{\"fillmode\":\"overlay\",\"size\":10,\"solidity\":0.2}},\"type\":\"bar\"}],\"carpet\":[{\"aaxis\":{\"endlinecolor\":\"#A2B1C6\",\"gridcolor\":\"#506784\",\"linecolor\":\"#506784\",\"minorgridcolor\":\"#506784\",\"startlinecolor\":\"#A2B1C6\"},\"baxis\":{\"endlinecolor\":\"#A2B1C6\",\"gridcolor\":\"#506784\",\"linecolor\":\"#506784\",\"minorgridcolor\":\"#506784\",\"startlinecolor\":\"#A2B1C6\"},\"type\":\"carpet\"}],\"choropleth\":[{\"colorbar\":{\"outlinewidth\":0,\"ticks\":\"\"},\"type\":\"choropleth\"}],\"contourcarpet\":[{\"colorbar\":{\"outlinewidth\":0,\"ticks\":\"\"},\"type\":\"contourcarpet\"}],\"contour\":[{\"colorbar\":{\"outlinewidth\":0,\"ticks\":\"\"},\"colorscale\":[[0.0,\"#0d0887\"],[0.1111111111111111,\"#46039f\"],[0.2222222222222222,\"#7201a8\"],[0.3333333333333333,\"#9c179e\"],[0.4444444444444444,\"#bd3786\"],[0.5555555555555556,\"#d8576b\"],[0.6666666666666666,\"#ed7953\"],[0.7777777777777778,\"#fb9f3a\"],[0.8888888888888888,\"#fdca26\"],[1.0,\"#f0f921\"]],\"type\":\"contour\"}],\"heatmapgl\":[{\"colorbar\":{\"outlinewidth\":0,\"ticks\":\"\"},\"colorscale\":[[0.0,\"#0d0887\"],[0.1111111111111111,\"#46039f\"],[0.2222222222222222,\"#7201a8\"],[0.3333333333333333,\"#9c179e\"],[0.4444444444444444,\"#bd3786\"],[0.5555555555555556,\"#d8576b\"],[0.6666666666666666,\"#ed7953\"],[0.7777777777777778,\"#fb9f3a\"],[0.8888888888888888,\"#fdca26\"],[1.0,\"#f0f921\"]],\"type\":\"heatmapgl\"}],\"heatmap\":[{\"colorbar\":{\"outlinewidth\":0,\"ticks\":\"\"},\"colorscale\":[[0.0,\"#0d0887\"],[0.1111111111111111,\"#46039f\"],[0.2222222222222222,\"#7201a8\"],[0.3333333333333333,\"#9c179e\"],[0.4444444444444444,\"#bd3786\"],[0.5555555555555556,\"#d8576b\"],[0.6666666666666666,\"#ed7953\"],[0.7777777777777778,\"#fb9f3a\"],[0.8888888888888888,\"#fdca26\"],[1.0,\"#f0f921\"]],\"type\":\"heatmap\"}],\"histogram2dcontour\":[{\"colorbar\":{\"outlinewidth\":0,\"ticks\":\"\"},\"colorscale\":[[0.0,\"#0d0887\"],[0.1111111111111111,\"#46039f\"],[0.2222222222222222,\"#7201a8\"],[0.3333333333333333,\"#9c179e\"],[0.4444444444444444,\"#bd3786\"],[0.5555555555555556,\"#d8576b\"],[0.6666666666666666,\"#ed7953\"],[0.7777777777777778,\"#fb9f3a\"],[0.8888888888888888,\"#fdca26\"],[1.0,\"#f0f921\"]],\"type\":\"histogram2dcontour\"}],\"histogram2d\":[{\"colorbar\":{\"outlinewidth\":0,\"ticks\":\"\"},\"colorscale\":[[0.0,\"#0d0887\"],[0.1111111111111111,\"#46039f\"],[0.2222222222222222,\"#7201a8\"],[0.3333333333333333,\"#9c179e\"],[0.4444444444444444,\"#bd3786\"],[0.5555555555555556,\"#d8576b\"],[0.6666666666666666,\"#ed7953\"],[0.7777777777777778,\"#fb9f3a\"],[0.8888888888888888,\"#fdca26\"],[1.0,\"#f0f921\"]],\"type\":\"histogram2d\"}],\"histogram\":[{\"marker\":{\"pattern\":{\"fillmode\":\"overlay\",\"size\":10,\"solidity\":0.2}},\"type\":\"histogram\"}],\"mesh3d\":[{\"colorbar\":{\"outlinewidth\":0,\"ticks\":\"\"},\"type\":\"mesh3d\"}],\"parcoords\":[{\"line\":{\"colorbar\":{\"outlinewidth\":0,\"ticks\":\"\"}},\"type\":\"parcoords\"}],\"pie\":[{\"automargin\":true,\"type\":\"pie\"}],\"scatter3d\":[{\"line\":{\"colorbar\":{\"outlinewidth\":0,\"ticks\":\"\"}},\"marker\":{\"colorbar\":{\"outlinewidth\":0,\"ticks\":\"\"}},\"type\":\"scatter3d\"}],\"scattercarpet\":[{\"marker\":{\"colorbar\":{\"outlinewidth\":0,\"ticks\":\"\"}},\"type\":\"scattercarpet\"}],\"scattergeo\":[{\"marker\":{\"colorbar\":{\"outlinewidth\":0,\"ticks\":\"\"}},\"type\":\"scattergeo\"}],\"scattergl\":[{\"marker\":{\"line\":{\"color\":\"#283442\"}},\"type\":\"scattergl\"}],\"scattermapbox\":[{\"marker\":{\"colorbar\":{\"outlinewidth\":0,\"ticks\":\"\"}},\"type\":\"scattermapbox\"}],\"scatterpolargl\":[{\"marker\":{\"colorbar\":{\"outlinewidth\":0,\"ticks\":\"\"}},\"type\":\"scatterpolargl\"}],\"scatterpolar\":[{\"marker\":{\"colorbar\":{\"outlinewidth\":0,\"ticks\":\"\"}},\"type\":\"scatterpolar\"}],\"scatter\":[{\"marker\":{\"line\":{\"color\":\"#283442\"}},\"type\":\"scatter\"}],\"scatterternary\":[{\"marker\":{\"colorbar\":{\"outlinewidth\":0,\"ticks\":\"\"}},\"type\":\"scatterternary\"}],\"surface\":[{\"colorbar\":{\"outlinewidth\":0,\"ticks\":\"\"},\"colorscale\":[[0.0,\"#0d0887\"],[0.1111111111111111,\"#46039f\"],[0.2222222222222222,\"#7201a8\"],[0.3333333333333333,\"#9c179e\"],[0.4444444444444444,\"#bd3786\"],[0.5555555555555556,\"#d8576b\"],[0.6666666666666666,\"#ed7953\"],[0.7777777777777778,\"#fb9f3a\"],[0.8888888888888888,\"#fdca26\"],[1.0,\"#f0f921\"]],\"type\":\"surface\"}],\"table\":[{\"cells\":{\"fill\":{\"color\":\"#506784\"},\"line\":{\"color\":\"rgb(17,17,17)\"}},\"header\":{\"fill\":{\"color\":\"#2a3f5f\"},\"line\":{\"color\":\"rgb(17,17,17)\"}},\"type\":\"table\"}]},\"layout\":{\"annotationdefaults\":{\"arrowcolor\":\"#f2f5fa\",\"arrowhead\":0,\"arrowwidth\":1},\"autotypenumbers\":\"strict\",\"coloraxis\":{\"colorbar\":{\"outlinewidth\":0,\"ticks\":\"\"}},\"colorscale\":{\"diverging\":[[0,\"#8e0152\"],[0.1,\"#c51b7d\"],[0.2,\"#de77ae\"],[0.3,\"#f1b6da\"],[0.4,\"#fde0ef\"],[0.5,\"#f7f7f7\"],[0.6,\"#e6f5d0\"],[0.7,\"#b8e186\"],[0.8,\"#7fbc41\"],[0.9,\"#4d9221\"],[1,\"#276419\"]],\"sequential\":[[0.0,\"#0d0887\"],[0.1111111111111111,\"#46039f\"],[0.2222222222222222,\"#7201a8\"],[0.3333333333333333,\"#9c179e\"],[0.4444444444444444,\"#bd3786\"],[0.5555555555555556,\"#d8576b\"],[0.6666666666666666,\"#ed7953\"],[0.7777777777777778,\"#fb9f3a\"],[0.8888888888888888,\"#fdca26\"],[1.0,\"#f0f921\"]],\"sequentialminus\":[[0.0,\"#0d0887\"],[0.1111111111111111,\"#46039f\"],[0.2222222222222222,\"#7201a8\"],[0.3333333333333333,\"#9c179e\"],[0.4444444444444444,\"#bd3786\"],[0.5555555555555556,\"#d8576b\"],[0.6666666666666666,\"#ed7953\"],[0.7777777777777778,\"#fb9f3a\"],[0.8888888888888888,\"#fdca26\"],[1.0,\"#f0f921\"]]},\"colorway\":[\"#636efa\",\"#EF553B\",\"#00cc96\",\"#ab63fa\",\"#FFA15A\",\"#19d3f3\",\"#FF6692\",\"#B6E880\",\"#FF97FF\",\"#FECB52\"],\"font\":{\"color\":\"#f2f5fa\"},\"geo\":{\"bgcolor\":\"rgb(17,17,17)\",\"lakecolor\":\"rgb(17,17,17)\",\"landcolor\":\"rgb(17,17,17)\",\"showlakes\":true,\"showland\":true,\"subunitcolor\":\"#506784\"},\"hoverlabel\":{\"align\":\"left\"},\"hovermode\":\"closest\",\"mapbox\":{\"style\":\"dark\"},\"paper_bgcolor\":\"rgb(17,17,17)\",\"plot_bgcolor\":\"rgb(17,17,17)\",\"polar\":{\"angularaxis\":{\"gridcolor\":\"#506784\",\"linecolor\":\"#506784\",\"ticks\":\"\"},\"bgcolor\":\"rgb(17,17,17)\",\"radialaxis\":{\"gridcolor\":\"#506784\",\"linecolor\":\"#506784\",\"ticks\":\"\"}},\"scene\":{\"xaxis\":{\"backgroundcolor\":\"rgb(17,17,17)\",\"gridcolor\":\"#506784\",\"gridwidth\":2,\"linecolor\":\"#506784\",\"showbackground\":true,\"ticks\":\"\",\"zerolinecolor\":\"#C8D4E3\"},\"yaxis\":{\"backgroundcolor\":\"rgb(17,17,17)\",\"gridcolor\":\"#506784\",\"gridwidth\":2,\"linecolor\":\"#506784\",\"showbackground\":true,\"ticks\":\"\",\"zerolinecolor\":\"#C8D4E3\"},\"zaxis\":{\"backgroundcolor\":\"rgb(17,17,17)\",\"gridcolor\":\"#506784\",\"gridwidth\":2,\"linecolor\":\"#506784\",\"showbackground\":true,\"ticks\":\"\",\"zerolinecolor\":\"#C8D4E3\"}},\"shapedefaults\":{\"line\":{\"color\":\"#f2f5fa\"}},\"sliderdefaults\":{\"bgcolor\":\"#C8D4E3\",\"bordercolor\":\"rgb(17,17,17)\",\"borderwidth\":1,\"tickwidth\":0},\"ternary\":{\"aaxis\":{\"gridcolor\":\"#506784\",\"linecolor\":\"#506784\",\"ticks\":\"\"},\"baxis\":{\"gridcolor\":\"#506784\",\"linecolor\":\"#506784\",\"ticks\":\"\"},\"bgcolor\":\"rgb(17,17,17)\",\"caxis\":{\"gridcolor\":\"#506784\",\"linecolor\":\"#506784\",\"ticks\":\"\"}},\"title\":{\"x\":0.05},\"updatemenudefaults\":{\"bgcolor\":\"#506784\",\"borderwidth\":0},\"xaxis\":{\"automargin\":true,\"gridcolor\":\"#283442\",\"linecolor\":\"#506784\",\"ticks\":\"\",\"title\":{\"standoff\":15},\"zerolinecolor\":\"#283442\",\"zerolinewidth\":2},\"yaxis\":{\"automargin\":true,\"gridcolor\":\"#283442\",\"linecolor\":\"#506784\",\"ticks\":\"\",\"title\":{\"standoff\":15},\"zerolinecolor\":\"#283442\",\"zerolinewidth\":2}}},\"legend\":{\"tracegroupgap\":0},\"margin\":{\"t\":60},\"piecolorway\":[\"#FFFF00\",\"#Ff0000\"],\"height\":400,\"width\":450,\"title\":{\"text\":\"Number of TV Shows and Movies\",\"x\":0.5}},                        {\"responsive\": true}                    ).then(function(){\n",
              "                            \n",
              "var gd = document.getElementById('ab3cf3f8-7b08-4c92-9004-fdc4377bcf25');\n",
              "var x = new MutationObserver(function (mutations, observer) {{\n",
              "        var display = window.getComputedStyle(gd).display;\n",
              "        if (!display || display === 'none') {{\n",
              "            console.log([gd, 'removed!']);\n",
              "            Plotly.purge(gd);\n",
              "            observer.disconnect();\n",
              "        }}\n",
              "}});\n",
              "\n",
              "// Listen for the removal of the full notebook cells\n",
              "var notebookContainer = gd.closest('#notebook-container');\n",
              "if (notebookContainer) {{\n",
              "    x.observe(notebookContainer, {childList: true});\n",
              "}}\n",
              "\n",
              "// Listen for the clearing of the current output cell\n",
              "var outputEl = gd.closest('.output');\n",
              "if (outputEl) {{\n",
              "    x.observe(outputEl, {childList: true});\n",
              "}}\n",
              "\n",
              "                        })                };                            </script>        </div>\n",
              "</body>\n",
              "</html>"
            ]
          },
          "metadata": {}
        }
      ],
      "source": [
        "# visualization code\n",
        "px.pie(names=np.sort(dataset['type'].unique()),values=dataset['type'].value_counts(),template='plotly_dark',hole=0.8,width=450,height=400,color_discrete_sequence=['#FFFF00', '#Ff0000']).update_traces(hovertemplate=None,textinfo='percent + value + label',showlegend=False).update_layout(title_text='Number of TV Shows and Movies',title_x=0.5)"
      ]
    },
    {
      "cell_type": "markdown",
      "metadata": {
        "id": "K5QZ13OEpz2H"
      },
      "source": [
        "##### 1. Why did you pick the specific chart?"
      ]
    },
    {
      "cell_type": "markdown",
      "metadata": {
        "id": "XESiWehPqBRc"
      },
      "source": [
        "Answer Here."
      ]
    },
    {
      "cell_type": "markdown",
      "metadata": {
        "id": "lQ7QKXXCp7Bj"
      },
      "source": [
        "##### 2. What is/are the insight(s) found from the chart?"
      ]
    },
    {
      "cell_type": "markdown",
      "metadata": {
        "id": "C_j1G7yiqdRP"
      },
      "source": [
        "Answer Here"
      ]
    },
    {
      "cell_type": "markdown",
      "metadata": {
        "id": "448CDAPjqfQr"
      },
      "source": [
        "##### 3. Will the gained insights help creating a positive business impact? \n",
        "Are there any insights that lead to negative growth? Justify with specific reason."
      ]
    },
    {
      "cell_type": "markdown",
      "metadata": {
        "id": "3cspy4FjqxJW"
      },
      "source": [
        "Answer Here"
      ]
    },
    {
      "cell_type": "markdown",
      "metadata": {
        "id": "KSlN3yHqYklG"
      },
      "source": [
        "#### Chart - 2"
      ]
    },
    {
      "cell_type": "code",
      "execution_count": 53,
      "metadata": {
        "id": "R4YgtaqtYklH",
        "colab": {
          "base_uri": "https://localhost:8080/",
          "height": 0
        },
        "outputId": "f01adf49-016d-43e6-bfdf-b73e343db55e"
      },
      "outputs": [
        {
          "output_type": "display_data",
          "data": {
            "text/html": [
              "<html>\n",
              "<head><meta charset=\"utf-8\" /></head>\n",
              "<body>\n",
              "    <div>            <script src=\"https://cdnjs.cloudflare.com/ajax/libs/mathjax/2.7.5/MathJax.js?config=TeX-AMS-MML_SVG\"></script><script type=\"text/javascript\">if (window.MathJax && window.MathJax.Hub && window.MathJax.Hub.Config) {window.MathJax.Hub.Config({SVG: {font: \"STIX-Web\"}});}</script>                <script type=\"text/javascript\">window.PlotlyConfig = {MathJaxConfig: 'local'};</script>\n",
              "        <script src=\"https://cdn.plot.ly/plotly-2.18.2.min.js\"></script>                <div id=\"f7340d0a-2a6c-438f-b931-0ec70fec16dd\" class=\"plotly-graph-div\" style=\"height:525px; width:100%;\"></div>            <script type=\"text/javascript\">                                    window.PLOTLYENV=window.PLOTLYENV || {};                                    if (document.getElementById(\"f7340d0a-2a6c-438f-b931-0ec70fec16dd\")) {                    Plotly.newPlot(                        \"f7340d0a-2a6c-438f-b931-0ec70fec16dd\",                        [{\"alignmentgroup\":\"True\",\"bingroup\":\"x\",\"hovertemplate\":\"release_year=%{x}<br>count=%{y}<extra></extra>\",\"legendgroup\":\"\",\"marker\":{\"color\":\"#Ff0000\",\"pattern\":{\"shape\":\"\"}},\"name\":\"\",\"offsetgroup\":\"\",\"orientation\":\"v\",\"showlegend\":false,\"x\":[2020,2016,2011,2009,2008,2016,2019,1997,2019,2008,2017,2018,2019,2018,2019,2014,2018,2018,2019,2017,2018,2018,2017,2017,2020,2015,2020,2020,2019,2020,2020,2018,2020,2017,2018,2016,2014,2016,2016,2019,2015,2017,2010,2020,2005,2013,2014,2017,2017,2012,2008,2018,2018,2020,2016,2014,2016,2020,2017,2014,2017,2014,2015,2020,2019,2014,2016,2017,2010,2018,2016,2006,2009,2020,2016,2019,2018,2008,2014,2013,2013,2015,2018,2016,2013,2019,2018,2017,2016,2017,2016,2012,2018,2017,2000,2016,2014,2003,2015,2016,2009,2018,2015,2016,2011,1989,2020,2020,2019,2019,2017,2018,2019,2017,2019,2015,2019,2017,2014,2018,2014,2004,2011,2012,2019,2018,2017,2019,2015,2014,2019,2017,2019,2016,2018,2018,2011,2016,2018,2017,2016,2020,2016,2019,2016,2011,2019,2020,2017,2011,2016,2016,2017,1977,2020,2018,2016,2020,2018,2017,2019,2018,2016,2004,2019,1971,1993,2014,2020,2015,2016,2019,2016,2018,2018,2017,2012,2020,2020,2020,2013,2015,2017,2013,2019,2015,2011,2019,2017,2019,2016,2017,2019,2018,2020,2006,2014,2018,2019,2020,2020,2007,2010,2016,2012,2016,2014,2014,2017,2020,1998,2015,2015,2020,2012,2013,2016,2011,2020,2019,2011,2016,2015,2020,2011,2019,2009,2020,2016,2009,2017,2015,1988,2017,2019,2018,2015,2019,1996,2019,2012,2016,2020,2016,2020,2018,2017,2015,2018,2008,2002,2008,2017,2020,2017,2018,2015,2016,2013,2015,2018,2019,2018,2011,2017,2009,2013,1988,2018,2008,2018,2011,2010,1993,2010,2019,2019,2015,2015,2013,2012,2017,2016,2016,2017,2012,2002,2013,2019,2020,2019,2015,2016,2009,2018,2013,2015,2007,2012,2010,2010,2017,2018,2018,2020,2019,2018,2018,1986,2014,2018,2018,2017,2013,2018,2017,2015,2018,2016,2018,2020,2013,2017,2019,2020,2019,2012,2018,2019,2020,2017,2008,2012,2014,2018,2017,2010,2018,2017,2019,2015,2020,2018,1990,2018,2009,2006,2012,2019,2018,2014,2020,2020,2015,2004,2018,2012,2020,2009,2015,2016,2017,2020,2014,2019,2015,2019,2017,2020,2017,2017,2017,2017,2019,2016,2018,2018,2019,2020,2018,2020,1979,1989,2019,2019,2015,2016,2018,2018,2017,2017,1980,1974,2020,2019,2017,2020,2019,2020,2020,2018,2016,2017,2018,2018,2019,2020,2020,1989,2020,2019,2017,2017,2016,2019,2018,2017,2006,2020,2018,2020,2017,2020,2009,2019,2017,2020,2020,2019,2016,2019,2001,2013,2014,2014,2017,2018,2020,2020,2019,2019,2016,2016,2002,2017,2015,1977,2011,2018,2018,2017,2014,2013,2016,2017,1999,2017,2017,2016,2017,2018,2018,2019,2019,2019,2014,1998,2016,2019,2018,2020,2015,2020,2000,2019,2018,2019,2019,2017,2017,1966,2015,2019,2017,2013,1986,1991,1999,2000,2019,1982,2018,2012,2017,2012,2018,2017,2020,2014,2018,2014,2017,2017,2010,2018,2018,2008,1994,2018,2020,2020,2020,2020,2015,2017,2014,2010,2001,2019,2018,2020,2009,2003,2018,2015,2020,2018,2019,2020,2018,2018,2020,2014,2018,2018,2015,2013,2013,2016,2019,2011,2018,2016,2019,2016,2019,2018,2017,2018,2018,2019,2015,2006,2018,2019,2007,2012,2017,2019,2016,2005,2016,2011,2018,2015,2016,2016,2015,2018,2019,2020,2019,2016,2018,2014,2020,2017,2020,2017,2020,2011,2011,2016,2019,2019,2019,2019,2011,2011,2019,2018,2014,1997,2018,2018,2018,2018,2017,2019,2001,2016,2020,2019,2019,2015,2020,2016,2016,2018,2003,2015,2020,2019,2012,2012,2016,2013,2014,2016,2019,2016,2020,2010,1994,2016,2002,1997,1999,2016,2014,2009,2020,2007,2018,2019,2018,2017,2018,2019,2019,2020,2015,2018,2020,2017,2018,2018,2016,2015,2013,2019,2018,2013,2017,2017,2016,2017,2017,2017,2015,2015,2015,2015,2018,2005,2018,2006,2020,2020,2018,2019,2018,2020,2016,2016,2019,2018,2016,2019,2015,2018,2014,2019,2019,2015,2019,2020,1995,2003,2017,2014,2017,2014,2014,2018,2017,2016,2018,2013,2006,2019,2019,2019,2020,2020,2018,2019,2016,1995,2001,2004,2017,2015,2017,2020,2017,2015,1978,2010,2015,2016,2019,2002,2018,2018,2019,2019,2009,2015,2009,2016,2020,2017,2013,2017,2018,2020,2010,2015,2015,2012,2020,2016,2010,2011,2016,2012,2017,2017,2016,2019,2017,2015,2012,2013,2016,1995,1998,1992,2019,2016,2017,2016,2018,2016,2018,2015,2018,2016,2018,1972,2019,2019,1982,2011,2015,2016,2015,2015,2018,2013,1997,2013,2010,2019,2015,2018,2017,2015,2019,2016,2016,2015,2016,1996,1992,2008,2017,2016,2020,2018,2007,2008,2007,2018,2015,2017,2016,2016,2016,2015,2001,2017,2018,2015,2010,2016,2015,2011,2016,2014,2018,1975,2016,2015,2015,2018,2016,2009,2016,2020,2019,2017,2019,2018,2004,1978,2019,2008,2012,2017,2020,2019,2012,2012,2013,2020,2018,2016,2020,2016,2014,2020,2020,2016,2018,2020,2019,2018,2019,2017,2018,2016,2019,2019,2018,2005,2010,2016,2017,2019,2018,2009,2006,2013,2017,2017,2020,2018,2013,2020,2015,2006,2019,2019,2013,2019,2017,2018,2018,2020,2007,2003,2017,2014,2014,2016,2017,2016,1997,2017,1999,2017,2002,2018,2012,2020,2014,2017,2012,2020,2017,2002,2019,2014,2010,2019,2017,2012,1991,2015,1992,1993,1989,2018,2017,2009,2000,2018,2016,2017,2020,2015,2016,2018,2019,2016,2018,2017,2016,2016,2018,2010,2012,2015,2018,2019,2010,2017,2018,2004,2001,2014,2014,2019,2015,2019,2018,2014,2018,2014,2015,2017,2007,2017,2019,2019,2013,2020,2015,2017,2018,2017,2006,2008,2010,2016,2016,2015,2013,2021,2015,2013,2017,2016,2020,2016,2012,2020,2018,2019,2017,2020,2001,2019,2017,2013,2013,2016,2016,2017,2013,1999,2010,2005,2017,2020,2018,2016,2013,2007,2018,1991,2015,2017,2020,1973,2014,2018,2018,2016,2018,2011,2018,2018,2020,2014,2017,2019,2001,2008,2017,2018,2013,2016,2017,2015,2017,2006,2016,2019,1967,2019,2019,2020,2003,2016,2018,2017,2017,2019,2012,2018,2019,2014,2016,2018,2017,2016,2013,2005,2013,2017,2017,2011,2008,2013,2016,2016,2016,2009,2017,2016,2016,2016,2018,2018,2007,2020,2013,2016,2018,2014,2020,2018,2020,2010,2014,2019,2013,2015,2014,2010,2018,2019,2020,2017,2005,2014,2019,2020,2016,2017,2017,2018,2016,2017,2015,2017,2019,2015,2009,2019,2019,2006,2019,2017,2015,2016,2016,2017,2017,2018,2018,2013,2020,2012,2017,2017,2016,2018,2016,2020,2018,2017,2020,2018,2012,2018,2020,2017,2010,2017,2017,2005,2018,2019,2017,2012,2017,2019,2016,1960,2018,2012,2015,1981,2017,2019,2008,2016,2016,2017,2019,2020,2020,2014,2016,2009,1958,2018,2015,2018,2018,2020,2017,2019,2017,2020,2016,2018,2020,2019,2018,2018,2018,2014,2016,2017,2014,2014,2012,2020,2018,1998,2017,2007,2018,2019,2017,1992,2016,2019,2020,2019,2017,2020,2020,2016,2020,2017,2016,1999,2016,2012,2018,2008,2020,2019,2016,2018,2020,2021,2020,2015,2019,1976,2016,2009,2012,2016,2015,2009,2015,2006,1992,1992,2017,2018,2015,2020,1958,2002,2018,2015,2016,2017,2010,2018,2015,2016,2016,2017,2018,2012,2018,2000,1996,2014,1976,2014,2010,2000,2017,2020,2003,2020,1992,2019,2004,2018,2010,2010,2018,2016,2017,2015,2017,2019,2005,2000,2003,2019,1973,2019,2021,2013,2013,1997,2016,2017,2016,2017,2016,2015,2015,2016,2020,2020,2016,1992,2016,2014,2017,2019,2020,2016,2017,2016,2014,2014,2013,2012,2015,1999,2017,2019,2012,2018,2018,2018,2019,2019,2017,2017,2005,2018,2020,2020,2018,2019,1988,2020,1994,2019,2017,1994,2011,2020,2017,2017,2019,2020,2012,1968,2009,2019,2017,2020,2019,2019,2017,2015,2017,2020,2021,2018,2015,2014,2018,2017,2016,2019,2020,2012,2017,2015,2017,2018,2017,2018,2018,2004,2018,2016,2006,2019,2019,2019,2019,2019,2019,2017,2006,2017,1975,2018,2017,2011,2016,2016,2015,2015,2016,2015,2020,2009,2020,2018,2016,2002,2013,2018,2016,2018,2016,2008,2019,2010,1993,2020,2018,2012,2020,1973,2017,2006,2017,2017,2017,2019,2018,2016,2013,2012,2014,2009,2013,2008,2018,2018,2015,2016,2017,2016,2016,2016,2019,2005,2018,2021,2005,2018,2018,2020,2015,2019,2008,2007,2007,2020,2017,2017,2017,2017,1999,2019,2013,2019,2016,2015,2016,2018,2018,2015,2018,2012,2008,2016,2018,2019,2019,2016,2018,2017,2015,2019,2002,2016,2018,2016,2013,2014,2020,2017,2014,2014,2015,2016,2008,2020,2019,2014,2017,2016,2020,2018,1967,2017,2015,2016,2020,2009,2020,2015,2017,2018,2017,2020,2016,2016,2017,2016,2014,2021,2018,2017,2004,2019,2016,2020,2015,2020,2019,2018,2018,2016,2016,2021,2015,2014,2017,2019,2019,2019,2019,2017,2017,2019,2019,2019,2020,2020,2017,2016,2018,2000,2016,2017,2019,2019,2017,2019,2019,2020,2020,2018,2014,2013,2020,2015,2017,2018,2014,2018,2013,2016,2013,2015,2020,2005,2015,2014,2015,2013,1989,2020,1977,2003,2019,2015,2017,2015,2013,2017,2016,2018,2013,2017,2020,2016,2018,2016,2019,2016,2016,2016,1992,2020,2012,2018,2019,2017,2015,1997,2017,2018,2018,2019,2015,2020,2016,2016,2020,2020,2019,2017,2015,2013,2018,1956,2003,2015,2016,2020,2020,2020,2017,1991,2017,2017,2019,2020,2020,2020,2016,2016,2019,2016,2017,2002,2017,2018,2019,2017,2017,2019,2020,2018,2015,2018,2019,2008,2020,2019,2006,2018,2019,2020,2020,2016,2016,2012,2018,2016,2011,2019,2016,2010,2018,2020,2017,2017,2020,2017,2020,2017,2016,2014,2017,2017,2016,2013,2002,2017,2008,2016,2017,2017,2009,2011,2019,2014,2018,2018,2020,2015,2018,2014,2018,2015,2018,1992,2017,2019,2017,2015,2018,2018,2018,2019,2019,2019,2017,2018,2017,2020,2017,2019,1997,2020,2017,2016,2016,2009,2019,2016,2017,2018,2017,2004,2013,2007,2007,2015,2015,2014,2017,2015,2010,2009,2018,2020,2019,2019,2015,2018,2017,2017,2015,2020,2002,2015,2016,2019,2019,1990,2001,2015,2002,1998,2014,2018,2019,2015,2007,2010,2020,2016,2008,2017,2018,2018,2020,2018,1985,2020,1982,2018,2017,2021,2018,2017,2009,2017,2016,2019,2012,2020,2020,2010,2009,2017,1965,2019,2016,2018,2018,2019,2019,2020,2019,2019,2020,2019,2014,2019,2006,2011,2015,2015,2010,2015,2016,2017,2019,2011,2014,2016,2016,2016,2020,2012,1997,2005,2019,2013,2020,2019,2019,2020,2008,2020,1999,2020,1989,2008,2018,2017,2020,2018,2003,2018,2012,2020,2018,2019,2006,2020,1996,2015,2000,2017,2020,2018,2014,2018,2020,2020,2020,2020,2016,2017,2017,2021,2015,2005,2011,2017,2011,2008,2008,2009,2011,2017,2020,2016,2015,2019,2018,2019,2018,2019,2015,2019,2018,2018,2018,2018,2018,2015,2014,2003,2003,2018,1984,1998,2016,2017,2018,2019,2016,2014,2020,2014,2014,2015,2018,2019,2015,2018,2019,2010,2009,2010,2018,2019,2015,1983,1987,2018,2018,1998,2008,2018,2017,2019,2018,2018,2019,2014,2019,2015,2009,2006,2009,2004,1983,2005,2019,2012,2016,2012,2013,2017,2019,2008,2010,2018,1979,2017,2010,2018,2018,2019,2020,2017,2017,2020,2019,2018,2018,2013,2019,2019,2017,2018,2017,2016,2018,1971,2012,2006,2019,2020,2020,2019,2019,2020,2016,2019,2018,2014,2015,2016,2018,2015,2016,2008,2020,2020,2020,2016,2016,2017,2018,2014,2006,2018,2002,2016,2018,2012,2018,2013,2018,1996,2018,2016,2020,2014,2018,2019,1973,2016,2017,2015,2017,2002,2020,2016,2020,2012,2018,2017,1990,2009,2020,1985,2016,2017,2018,2020,2018,2018,2019,2020,2007,1998,2017,2019,2010,2018,1997,2016,2019,2019,2015,2014,2016,2018,2019,2018,2001,2019,2015,2011,2019,2008,1996,2018,2019,2013,2012,2001,2017,2017,2014,2019,2019,2018,2020,2020,2006,2019,2019,2016,2019,2010,2011,2014,2009,2016,2020,2017,2018,2017,2020,2017,2019,2009,2019,2015,2018,2011,2019,2014,1998,2017,2019,2018,2018,2018,2017,2018,2020,2020,2015,2018,2019,2017,2014,2016,2018,2015,2017,2015,2020,2018,2008,2020,2019,2020,2020,2016,2017,2018,2016,2015,2012,2017,2018,2020,2012,2020,1998,2020,2015,2020,2020,2017,2020,2020,2012,2017,2020,2018,2018,2018,2012,1986,2004,1971,2020,2015,1996,2018,2008,2018,2016,2015,2017,2015,2000,2003,2006,2017,2017,2020,2020,2016,2017,2019,2012,2019,2013,2018,2015,2015,2017,2018,2018,2017,2018,2018,2018,2018,2017,2016,2019,2017,2015,2018,2015,2016,2019,2017,1982,2015,2014,2000,2017,2008,2020,2018,2016,2019,2018,2018,2020,2016,2018,1978,2017,2018,2020,2017,2016,2017,2011,2015,2010,2015,2012,2015,2019,2018,2018,1977,2016,2017,2017,2017,1956,2016,2016,2020,2011,2019,2018,2016,2019,2011,2018,2017,2011,2020,2020,2008,2016,2013,1994,2007,2019,2016,2012,2019,2019,2018,2016,2007,2020,2019,2003,2017,2018,2018,2020,2018,2007,2016,2019,2018,2019,2016,1993,2018,2018,2015,2016,2015,2015,2016,2019,2020,2017,2009,2016,2003,2019,1980,2014,2016,2017,2013,2010,2016,2018,2018,2011,2011,2011,2008,2013,2018,2013,2020,2020,2019,2015,2020,2020,2017,2010,2017,2018,2016,2020,2019,2017,2020,2019,2017,2009,2004,2016,2015,2021,2019,2017,2016,2018,2018,2017,2015,2017,2013,2016,2017,2011,2020,2012,2019,2019,2019,2018,2009,2020,2016,2003,2014,2002,2016,2018,2014,2007,2008,2009,2016,2013,2019,2009,2011,2018,2015,2016,2016,2018,2019,2017,2017,2018,2018,2015,2016,2020,2016,2020,2003,2017,2011,2020,2010,2019,2017,2020,2014,2017,2008,2016,2005,2013,2013,1990,2017,2020,2017,2013,2016,2007,2020,2014,2012,2013,2019,2020,2018,1997,2005,2019,1958,2006,2016,2013,2020,2013,2008,2012,2020,2019,2018,2018,2019,2013,2020,2017,2017,2007,2019,2018,2019,2012,2015,2019,2020,2015,2019,2020,2016,2017,2019,2020,2012,2010,2018,2020,2020,2020,2019,2019,2018,2015,2016,2017,2014,2018,2017,2017,2017,2018,2018,2020,2018,1979,2013,1995,2019,2017,2016,2014,2008,2006,2016,2018,2015,2017,1997,2018,2019,2009,2016,2014,2019,2012,2007,2017,2020,2005,2014,2019,2017,2019,2012,1990,2016,2017,2011,2016,1998,2018,2013,2018,2001,2012,2019,2003,2015,2018,2020,2020,2008,2017,2020,2017,2013,2013,2019,2012,2014,2015,2017,2019,1978,2016,2017,2020,2017,2016,2019,2019,2019,2019,2015,2016,2020,2020,2018,2019,2019,2015,2017,2016,2018,2018,2016,2016,2019,2020,2020,2020,1993,2018,2015,2019,2020,2008,2017,2007,2007,2018,2015,2010,2017,2002,2015,2013,2013,2009,2015,2016,2013,2010,2012,2019,2014,2014,2015,2016,2007,2018,2016,2017,2005,2017,2018,2009,2015,2017,2000,1987,2018,2017,2016,2020,2017,2014,2017,2013,2020,2018,2015,2016,2018,2017,2018,2018,2013,2012,2018,2018,2014,2017,2019,2014,2019,2014,2016,2019,2015,2020,2015,2020,1986,2015,2015,2018,2018,2009,2018,2005,2008,2004,2015,2014,2010,2017,2015,2016,2014,2010,2020,2017,2014,1999,2015,2020,2018,2018,2017,2015,2007,2019,2017,2017,2018,2020,2016,2017,2015,2016,2015,2015,2011,2003,2020,2016,2015,2015,2018,2018,1998,2016,2021,2011,2017,2019,1999,2001,2017,2017,2017,2011,2018,2016,2020,2017,2015,2015,2015,2016,2016,2004,1999,2020,2019,2017,2019,2015,2015,2016,2013,2020,2018,1976,2016,2018,2014,1997,2019,2016,2017,2012,2018,2017,2020,2019,2016,2017,2019,2015,2018,2010,2016,2016,2017,2017,2016,2019,2019,2019,1988,2020,2020,2018,2019,2017,2015,2014,2016,1988,2018,2021,2020,2013,2016,2020,2015,2020,2010,2015,2019,2020,2017,2021,2016,2012,2005,1977,2017,2016,2017,2015,2015,2019,2016,2016,2006,2018,2015,2016,2020,2020,2019,2019,2019,2016,2018,2020,2017,2019,2017,2016,2008,2010,2017,2020,2020,2019,2018,2019,2019,2020,2018,2011,2018,2007,2014,2018,2011,1991,2020,2011,2018,2020,2018,2017,2015,2013,2019,2020,2016,2013,2020,2020,2016,2017,2017,2016,2018,2019,2015,2017,2016,2007,2017,2017,2009,1975,2017,2018,2019,2012,2018,2017,2016,2016,2019,2018,2017,2000,2017,1997,2015,2020,2020,2018,2018,1995,2020,2020,2017,2014,2016,1992,2012,2020,2019,2011,2009,1994,1999,2019,2006,2014,2011,2014,2016,2010,2020,2013,2015,2015,2015,2011,2016,2018,2012,2016,2005,2020,2018,2018,2017,2019,2016,2010,2020,2020,2016,2013,2017,2019,2010,2018,2016,2015,2019,2018,2016,2020,2017,2015,2016,2018,2020,2019,2016,2016,2017,2011,2017,2014,2010,2019,2019,2019,2019,2019,2010,2016,2015,2016,2015,2013,2019,2019,2019,2020,2019,2017,2018,2017,2017,2016,2016,2014,2017,2010,2014,2020,2018,2018,2008,2017,2016,2018,2015,2019,2013,2018,2009,2018,2020,1974,2012,2018,2012,2014,2017,2016,2012,2018,1990,2018,2018,2016,2017,2018,2019,2017,2019,2020,2017,2016,2019,2019,2016,2011,2016,2010,2014,2019,2017,2017,2015,2018,2014,2015,2017,2020,2008,1989,1981,1984,2016,2013,2016,2009,2018,2018,2013,2019,2020,2005,2012,2013,2008,2017,2017,2005,2019,2019,2019,2018,2017,2015,2017,2018,2021,2010,2017,2018,2019,2013,2007,2019,2016,2015,2016,2008,2018,2015,2016,2020,2007,2020,2001,2004,2003,2001,2002,2019,2009,2017,2018,2017,2019,2008,2010,2015,2019,2006,2010,2009,2018,2019,2018,2014,2011,2019,2018,2015,2018,2019,2003,2015,2009,2020,2018,2014,2017,2015,2013,2017,2019,2013,1995,2019,2012,2016,2015,2020,2017,2020,2017,2014,2015,2019,2020,2018,2020,1986,2006,2008,2017,2007,2013,2018,2016,2017,2019,2020,2020,1997,2017,2015,2019,2019,2016,2015,2017,2020,2009,2019,2017,2014,2013,2012,2018,2020,2016,2016,2019,2018,2018,2020,2008,2019,2014,2013,2001,1973,2018,2014,2006,2019,2011,2012,2017,2015,2008,2016,2019,2020,2015,2015,2017,2017,2019,2019,2016,2015,2008,2017,2020,2002,1998,2014,2016,2018,2016,2019,2017,2003,2009,2017,2005,2017,2009,2012,2014,2014,2016,2020,2018,2017,1973,2016,2019,2001,2018,2017,2020,2017,2019,2013,2011,1960,2019,2020,2017,2018,2017,2012,2017,2008,2017,2017,2018,2016,2005,2018,2012,2013,2020,2018,2017,2019,2018,2012,2015,2020,2013,2014,2017,2012,2018,2015,2018,2015,2017,2000,2017,2018,2016,2019,2020,2015,2016,2019,2017,2017,2015,1997,2017,2011,2017,2009,2020,2017,2014,2019,2015,2011,2005,2015,2020,2020,2007,2005,2018,2016,2013,2017,2012,1992,2011,2016,2012,2016,2019,2012,2002,2010,2011,2012,2013,2009,2016,2013,2017,2019,2015,2019,2005,2020,1981,2017,2016,2019,2006,1994,2001,2019,2016,2012,2014,2013,2010,2019,2003,2012,2016,2019,2019,2017,2016,2009,2017,2019,2017,2020,2017,2016,2020,2015,2019,2007,2016,2010,2017,2008,2019,2016,2001,2012,2007,1982,2019,2017,2016,2007,2018,2012,2006,2006,2015,2018,2017,2005,2017,2019,2015,2019,1990,2014,1996,2019,2019,2020,2019,2009,2019,2011,2013,2010,2016,2020,2019,2018,2001,2017,2017,1993,2018,2013,2018,2014,1973,2006,2011,1980,2003,2018,2017,2017,2016,1995,2018,2015,2016,2015,2019,2019,2010,2003,2004,2016,2015,2014,2019,2016,2011,2014,2014,2019,2020,1988,2019,2017,2010,2017,2012,2016,2014,2020,2015,2018,2018,2005,2012,2017,2017,2018,1996,2017,2020,2020,2015,2009,2008,2017,2018,1997,2020,2016,2020,2017,2017,2013,2019,2019,2015,2019,2015,1945,2009,2005,2012,2015,2016,2018,2006,2016,2019,2018,2014,2012,2018,2020,2003,2020,1972,2014,2009,2013,2016,2012,2017,2017,2010,2013,2015,2020,2019,2004,2013,2019,2017,2003,1998,2017,2016,2018,2004,2010,2010,2016,2017,2018,2017,2009,2013,2016,1998,2014,2012,2000,2005,2016,2017,2001,2004,2019,2019,2016,2017,1987,2020,2016,2016,2016,2012,2016,2016,2016,2020,2017,2017,2016,2020,2017,2020,2019,2004,2010,2016,2016,2018,2011,2018,2019,2017,2016,2019,2017,2006,2019,2018,2015,2017,2001,2018,2016,2004,1971,2010,2011,2015,2018,2017,2019,2020,2015,2019,2018,2015,2019,2020,2019,2012,2018,2015,2010,2020,2018,2020,2011,2002,2012,2012,2004,2016,2017,2014,2019,2018,2010,2016,2003,2011,2011,2011,2015,2018,2017,2013,2014,2019,2015,2010,2017,2017,2019,1982,2017,2016,2010,2016,2014,2017,2017,2018,2016,2018,2019,2018,2016,2015,2018,2017,2020,2019,2016,2019,2013,2019,2010,2020,2015,2017,2013,2016,2012,2020,2018,2017,2019,1946,2006,2015,2013,2019,2014,2020,2018,2015,2013,2017,2014,2010,2018,2010,2014,2007,2018,2012,2018,2009,2019,2016,2018,2014,2006,2018,1997,2019,2018,2018,1992,2019,2015,2018,2014,2017,2012,2012,2016,2020,2017,2013,2018,2019,2017,1990,2019,2019,2016,1983,2017,2015,2016,2016,2016,2018,1989,2000,2020,2018,2019,2019,2020,2019,2020,2019,2016,2019,2017,2018,2017,2018,2020,2017,2019,2019,2019,2014,2019,2016,2018,2017,2013,2017,2016,1982,1998,2013,2020,2018,2020,2012,2017,2014,2015,1976,2019,2016,1962,2017,2017,2020,2015,2017,2017,2017,2016,2009,1990,2015,2015,2019,2015,2015,2017,2012,2019,2019,2017,2016,2020,2015,2020,2017,2019,2018,2018,2017,2010,2015,2018,2016,2020,2020,2020,2019,2018,2017,2017,2013,2016,2014,2015,2019,2013,2018,2019,2013,2010,2015,2019,2010,2019,2018,1997,2020,2015,2012,2017,2012,2016,2017,1994,2019,2018,2012,2016,2018,2011,2016,2020,2017,2015,2013,2014,2019,2020,2014,2017,2017,2014,2016,2020,2016,2016,2006,2019,1995,2010,2017,2017,2020,2019,2019,2019,2016,2018,2017,2020,2009,2019,2017,2010,2005,2020,2019,2018,2019,2020,2017,2018,2019,2018,2021,1979,2018,2015,2018,2012,2017,2017,2020,2020,2017,2012,2014,2013,2016,1979,2014,2008,1987,2016,2016,2008,2019,2017,2019,2018,2004,2013,2016,2017,2016,2013,2020,2016,2013,2019,2018,2015,1999,2016,2013,2010,2015,2014,2017,2010,1981,2013,2010,2009,2004,2005,2005,1989,2015,2018,2020,2020,2016,2018,2017,2019,2020,2018,2018,2019,2020,2019,2018,2019,2018,2017,2020,2013,2017,2015,2018,2020,1983,2017,2014,2016,2014,2017,2020,2018,2020,2017,2020,2019,1999,2017,2007,1974,1999,2015,2018,2017,2017,2018,2017,2014,2017,2017,2020,2016,2020,2013,2017,2019,2017,2018,2017,2016,2015,2019,2017,2012,2015,2019,2016,2016,2018,2018,2016,2016,2018,2019,2019,2018,2018,1986,2002,2017,2019,2016,2014,2011,2011,2015,2020,2018,2016,2018,2013,2019,2018,2017,2019,2017,2014,2018,2016,2020,2020,2013,2016,2019,2012,2012,2020,1983,2016,2017,2018,2017,2017,2012,2006,2018,2018,2020,2013,2018,2014,2017,2016,1993,2019,2017,2017,1988,2016,2017,2016,2011,1973,2020,2018,2020,2019,2017,1985,2016,2017,2017,2013,2018,2012,2017,2019,2017,2016,2003,2017,2019,2018,2018,2017,1997,2002,2020,2008,2017,2016,2009,2018,2016,2018,2016,2019,2018,2019,2018,2015,2012,2019,2019,2018,2017,2017,2020,2013,2014,2018,2016,2016,2016,2017,2019,2018,2009,2015,2017,2011,2017,2016,2017,2020,2020,2019,2009,2016,2020,2020,2014,2019,2018,2016,2020,2020,2020,2019,2020,2021,1996,2010,2014,2013,2017,2019,2008,2015,2019,2017,2018,2020,2019,2018,2008,2019,2020,2019,2017,2015,2017,2017,2019,2016,2019,2015,2014,2016,2018,2016,2017,2013,2004,2019,2019,2018,2018,2019,2012,2016,2014,2019,2017,2019,2020,2020,2019,2015,2015,2016,2020,2014,2014,2017,2012,2011,2015,2015,2016,2019,2014,2017,2008,2018,2014,2015,2014,2018,2019,2018,2014,2016,2018,2000,2016,2019,2017,2016,2015,2019,2015,2017,2017,2014,2018,2003,2021,2016,2015,2020,1997,2019,2017,2014,2018,2016,2017,2017,2013,2015,2017,2012,2014,2013,2011,2014,2012,2016,2015,2010,2013,2013,2006,2017,2012,2005,2014,2014,2013,2011,1975,2014,2008,2014,2000,1998,1982,2014,2009,1972,1974,1979,2005,2018,2009,2016,2015,2015,2018,2020,2016,2019,2013,2011,2012,2017,2020,2016,2020,2020,2016,2019,2016,2019,2016,2017,2020,2013,2018,2016,2018,2018,2016,2002,2015,2020,2014,2016,2015,2009,2017,2018,1984,2007,2013,2020,2012,2017,2016,2015,2020,2015,2012,2017,2012,2019,2004,1989,2006,2012,2014,2003,2008,2018,2014,2014,2014,1987,2017,2011,2017,2018,2019,2007,2020,2017,2015,2019,2013,2017,2017,2018,2020,1962,2015,2010,2012,2010,2016,2015,2018,2005,2019,2017,2017,2019,2013,2016,2017,2015,2019,2011,2007,1991,2017,2020,2015,2012,2017,2019,2016,2017,2016,2018,2015,2016,2014,2018,2018,2018,2018,2016,2002,2020,2019,2020,2017,2013,2015,2020,2018,2018,2016,2017,2001,2015,2017,2017,2009,2008,2018,2016,2019,2009,2013,2018,2017,2012,2016,2011,2017,2014,2020,1999,2018,1988,2020,2003,2014,2017,2019,2017,2013,2017,2014,2006,2020,2016,2014,2020,2019,2020,2019,2021,2019,2017,2017,2016,1982,2007,2016,1999,2015,2018,2017,2020,2019,2006,2008,2009,2011,2007,2010,2005,2006,2004,2013,2020,2018,2017,2020,2010,2019,2018,2016,1993,2016,2004,2016,2016,2015,2018,2016,2016,2009,2009,2016,2015,2013,1945,2016,2017,2019,2017,2014,2016,2018,2018,1995,2016,2009,2016,2020,2018,2018,2018,2004,2017,2016,2007,2018,2018,2020,2017,2018,2018,2018,2013,2018,2020,2020,2021,2014,2018,2016,2016,2008,2019,2016,2019,2009,1981,1997,2019,2020,2015,2018,2005,2005,2018,2014,2017,2019,1979,2011,2017,2011,2007,2019,2016,2016,2019,2020,2020,2017,2019,2016,2016,2018,2017,2020,2019,2019,2016,2020,2004,2019,2017,2020,2016,2018,2018,2019,2017,2018,2017,2017,2017,2017,2018,2017,2017,2018,2017,2017,2017,2017,2017,2018,2017,2018,2018,2012,2018,2017,1995,2016,2009,2019,2016,2018,2019,2012,2015,2011,2015,2016,2013,2013,2016,2016,2016,2014,2009,2018,2019,1960,2007,2004,2017,2020,2015,2020,2020,2017,2018,2018,2018,2015,2015,2020,2011,2016,2016,2017,2017,1995,2015,2011,2012,2015,2012,2014,2020,2017,2019,2019,2019,2019,2013,2016,2017,2018,2017,2020,2018,2015,2013,2018,2014,2013,2007,2009,2012,2020,2017,2018,2020,2018,2017,1983,2017,2016,2010,2018,2018,2018,2018,2018,2018,2018,2018,2018,2019,2019,2019,2010,2013,1968,2001,2014,2016,2019,2020,2019,2013,2017,2016,1998,2018,2017,2016,2012,2016,2017,2006,2002,2019,2018,2020,2015,2020,2019,2013,2018,2015,2006,2016,2015,2020,2016,2016,2016,2018,2012,2012,2018,2016,1984,2019,2019,2017,2018,2016,2016,2005,2018,2017,2011,2019,2016,2019,2017,2019,2014,2019,2018,2011,2016,2019,2019,2017,2017,2006,1991,2018,2017,2015,2020,2017,2018,2018,2018,2021,2020,2020,2017,2017,2008,2020,2006,2015,2016,2007,2010,2017,2017,2020,2017,2012,2007,2014,2016,2019,2016,2017,2018,2015,2019,2013,2019,2005,2018,2007,2002,2016,1988,2011,2019,2004,2015,2015,2006,2020,2017,2016,2002,2019,2017,2014,2000,2018,2018,2018,2019,2018,2020,2018,2016,2020,2007,2018,2016,2012,2014,2019,1997,2017,2018,1990,2019,2019,2015,2018,1989,2017,2018,2003,2018,1992,2020,2016,2011,2017,2019,2019,2020,1992,2014,2017,2020,2016,2009,2017,2016,2010,2018,2009,2016,2019,2018,2015,2013,2016,1990,1988,2010,2019,2014,2016,2019,2018,2006,2014,2016,2018,2016,2018,2017,2018,2017,2007,2018,2018,2016,2019,2016,2020,2016,2018,2020,2019,2019,2016,2018,2015,2015,1993,2000,2006,2015,2009,2012,2016,2017,2018,2017,2020,2018,2018,2018,2019,2017,2018,2008,2016,2019,2019,2018,1946,1925,2002,2014,1998,2018,2014,2018,2009,2016,2006,2010,2016,1986,2012,2012,1980,2018,2019,2020,2018,2017,2015,2008,2015,2015,2014,2016,2019,2020,2017,2018,2019,2000,2019,2019,2019,2020,2018,2013,2018,2017,2018,1980,2016,2013,2018,2016,2019,2006,2017,2016,2019,2018,2017,2017,2017,2010,2016,2017,2020,2020,2015,2016,2004,1998,2008,2000,1999,2006,2018,2003,2007,2009,2005,2011,2011,2011,2011,2014,2014,2012,2012,2012,2001,1997,2002,1996,2013,2013,2013,2013,2019,2019,1942,2015,2013,2015,2010,2021,2018,2018,2012,1996,1969,1984,2017,2019,2018,2017,2014,2017,2018,2020,2012,1962,2018,2011,2016,2017,2018,2020,2017,2008,2019,2018,2016,2020,2018,2018,2011,2020,2015,2016,2000,2018,1994,2014,2020,2016,2017,2018,2018,2017,2012,2017,2011,2019,2011,2015,2006,2014,1986,2019,2017,2019,1998,2012,2018,2020,2015,2018,2008,2012,2014,2009,2015,2018,2020,2017,2018,2020,2019,2018,2019,1988,1990,2018,2017,2019,2008,2010,2020,2012,2018,2004,2008,2013,2009,2008,2013,2012,2015,2018,2017,2016,2018,1980,2011,2014,2020,2015,2015,2016,1988,2018,2016,2016,2019,2016,2002,1996,2014,2014,2018,1974,2018,2019,2018,2015,2015,2018,1995,1985,2016,2012,2018,2005,2016,2018,2010,2006,2011,2017,2017,2018,2020,2021,2016,2019,2017,2019,1984,2015,2017,2018,2011,2011,2019,2008,2010,2017,2011,2015,2020,2020,1955,2004,2016,2016,2018,2018,2019,2018,2020,2018,2016,2016,1984,2017,2017,2015,2013,2016,2016,2015,2016,2017,2020,2012,2017,2012,2019,2019,2019,2019,2019,2018,2018,2018,2015,2015,2010,2017,2018,2015,2014,2012,2014,2018,2010,2017,2020,2020,2016,2015,2017,2018,2017,2016,1976,1980,2016,2017,2014,2019,2018,2018,2018,2017,2017,2017,2008,2012,2020,2020,2020,2019,2016,2016,2016,2018,2019,2020,1979,2015,2018,2020,2019,2020,2018,2008,2019,2019,2017,2015,2015,2017,2016,2017,2020,2013,2018,2010,2020,2020,2020,2011,2019,2018,2019,2005,2016,2020,2010,2015,2009,2020,2016,2018,2015,2018,1985,2018,2016,2019,2008,2019,1976,2016,1979,1982,1985,1990,2017,2017,2017,2020,2019,2020,2014,2018,2017,2015,2019,2018,2019,2020,2019,2010,2013,2019,2014,2018,2018,2018,2019,2019,2015,2020,2017,2012,2016,2020,2016,2020,2017,2018,2020,1968,2020,2019,1998,2012,2018,2016,2004,2016,2020,2000,2017,2016,1995,2005,2004,2020,1999,2018,2020,2018,2017,1998,2010,2018,2017,2015,2013,2016,2013,2019,2019,2020,2016,2017,2016,2016,2003,2020,2015,2019,1982,2019,2016,2017,2018,2019,2013,2017,2014,2016,1983,2014,2016,2018,2012,2017,2016,2013,1986,2009,2016,2019,2007,2019,1975,1963,2018,2014,2018,2014,2020,1987,1991,1991,2016,2017,2019,2017,2017,2013,2014,2012,2018,2018,2017,1945,2008,2017,2016,2017,1964,2018,2020,2016,2019,2014,2019,2016,2010,2020,2018,2018,2020,2017,2010,2014,2015,2016,2005,2018,2018,2018,2017,2017,2008,2018,2014,2012,2017,1982,2014,2017,2013,2016,2017,2018,2017,2015,2019,2017,2013,2019,2018,2020,2014,1985,2017,2019,2018,1955,2011,2019,2000,2013,1993,2020,1988,2019,2016,2020,2020,1998,2012,2018,2010,2019,1997,2000,2018,2013,2018,2012,2014,1993,2012,2011,2018,2019,2012,2016,2015,2007,2014,2016,2015,2019,2015,2016,2017,2019,2018,2013,2013,2016,2013,2014,2013,2013,2014,2020,2013,2014,2014,2017,2017,2019,2018,2018,2019,2018,2020,2020,2015,2020,2015,2012,2010,2018,2016,2015,2016,2017,2020,2018,2020,2020,2015,2018,2008,2011,2019,2018,2020,2013,2019,2019,2018,2017,2018,2008,2018,2017,2019,2014,2010,2008,2016,2008,2020,2020,1999,2019,2019,2019,2019,2005,2018,2016,2011,2011,1986,2002,2019,2012,2019,2002,2002,2011,2018,2016,2020,2020,2008,2020,2020,2020,2019,2006,2020,2014,2018,2010,2013,2019,2010,2016,2017,2009,1991,2020,2017,2018,2020,2018,1990,2018,2018,2007,2014,2016,2018,2017,2011,2016,2013,2016,2009,2017,2017,2016,2004,2013,2015,2017,2017,2004,2018,2019,2020,2018,2017,2018,2008,2014,2018,2014,2016,2020,2018,2014,2012,2016,2019,2016,2012,2015,2016,2019,2012,2017,2019,2008,2018,2015,2018,2020,2020,2020,1960,2019,2013,2011,2015,2018,2018,2015,2017,2015,2017,2019,2016,2018,2016,2015,1998,2012,2018,2020,2020,2019,2020,2014,2016,2016,2017,2016,2016,2016,2020,2014,2018,2010,2019,2017,2019,2015,2019,2019,2019,2020,2004,1996,1993,2018,2017,2015,2017,1998,2017,2008,2017,2016,2018,2015,2020,2016,2000,2016,2013,2020,2005,2018,2020,2013,2016,2018,2017,1984,2020,1998,2018,1991,2018,2018,2009,2015,2017,2020,2019,2020,2015,2017,2018,2003,2016,2017,2019,2013,2015,2014,2018,2020,2018,2003,2016,2017,2018,2008,2016,2008,2015,2011,2019,2019,2016,2020,2000,2020,2016,2014,2015,2016,1976,2017,2018,2013,2019,2013,2016,2016,2020,2017,2019,2020,2020,2017,2014,2007,2018,2020,2019,2020,2020,2019,2019,2017,2018,2017,2018,2009,2019,2004,2015,2015,2012,2018,2018,2001,2002,2003,2011,2018,2015,2017,2018,2019,2018,2015,2015,1968,1999,2004,1993,2000,2017,2014,2020,2020,2007,2006,2013,2018,2004,2020,2014,2020,2015,2018,2019,2006,2006,2019,2018,2008,2018,2018,2017,2014,2015,2018,2010,2010,2018,2019,2015,2010,2020,2017,2014,2014,2015,2015,2017,2016,2020,2019,1987,2016,2020,2006,2019,2019,2015,2010,2018,2019,2019,2020,2018,2018,1992,2016,1981,1996,2016,2017,2017,2016,2017,2018,2018,1999,2002,2021,2018,2019,2018,2019,2019,2019,2015,2020,2011,2018,2013,2015,2020,2020,2020,2014,2014,2018,2019,2015,2020,2017,2017,2020,2018,2016,2014,2019,2018,2017,2019,2018,2019,2018,2019,2019,2018,2019,2019,2018,2020,2020,2020,2019,2014,2020,2007,1972,2019,2018,2006,1993,2019,2016,1999,2019,2002,2016,2007,2015,2017,2021,2017,2019,2020,2019,2014,2017,2017,2016,2018,2019,2004,1977,2018,2014,2014,2007,2020,2017,2019,2018,2016,2018,2018,2018,2016,1980,2001,2018,2018,2010,2020,1999,2007,2017,2020,2008,2020,2017,2011,2018,2017,2018,2018,2018,2010,2014,2012,2009,2018,2018,2019,1993,2017,2019,2016,2014,2015,2011,2018,1993,2011,2017,2006,2018,2015,2020,1999,2005,2013,2017,2018,2012,1976,2018,2018,2020,2014,2016,2016,2017,2016,2020,2003,2019,2019,2018,2018,2011,2010,2020,2016,2007,1991,1990,2010,2019,2016,2017,2017,2015,2012,2010,2016,2003,2009,2015,2017,2016,2018,2019,2017,2018,2016,2012,2015,2012,2019,2019,2019,2019,2011,2005,2015,2013,2018,2020,2016,2018,2018,2016,2020,2018,2019,2019,2007,2016,2019,2018,2017,2018,2015,2010,2016,2015,2018,2005,1993,2011,2007,2016,2018,2016,2019,2014,2020,2013,2019,2018,1995,2005,1967,2018,2019,2019,2010,2014,2015,2019,2020,2016,2017,2013,2000,2011,2018,2016,2016,2018,2016,2020,2017,2020,2009,2010,2017,2016,2015,2016,2018,2017,2017,1993,2020,2018,2014,1942,2004,2020,2008,2012,2016,2020,2016,2016,2011,2015,2018,2020,2020,2018,2020,2018,2018,2017,2019,2017,2016,2015,2019,1954,2016,2018,2016,2019,2013,2019,2001,2005,2019,2019,2016,2011,2019,2010,2020,2013,2020,2020,2015,2019,2010,2009,2016,2008,2010,2019,2020,2020,2019,2007,2019,2017,2018,2018,2006,2018,2015,2017,2017,2020,2017,2005,2007,2013,1983,2018,2020,2013,2017,2019,2016,2020,2017,2020,2018,2014,1977,2019,2017,2017,2019,2014,2017,2016,2018,2006,2019,2016,2015,2020,2017,2010,2016,2019,2015,2013,2018,2020,2016,1965,2020,2020,2020,2017,2020,2017,2018,2019,2011,2019,2018,2018,2010,2018,2018,2019,2019,2016,2018,2013,2013,2011,2018,1996,2016,2019,2020,2015,2015,2020,2013,1994,2020,1970,1992,2019,2015,2018,2016,2015,2006,2009,2011,2015,1982,2019,2018,2016,2016,2015,2017,2017,2015,2020,2016,2010,2017,2005,2017,2018,2020,2020,2019,2019,2019,2018,2006,2017,2017,2020,2017,2012,2013,2019,2020,2018,2016,2015,2019,2019,2017,2018,2019,2017,2016,2016,2016,2017,2019,2009,2016,2009,2016,2018,2011,2020,2016,2005,2007,2018,2020,2019,2016,2015,2016,1994,2019,1997,2019,2015,2017,2019,2020,2019,2020,1981,2016,2020,2016,2019,2013,2010,2012,2015,2018,2010,2010,2009,2009,2018,2015,2014,2019,1996,2016,1978,2018,2019,1994,2000,2017,1975,2008,2017,2017,2016,2019,2020,2014,2020,2017,2016,2017,2016,2017,2013,2016,2015,2016,2007,2008,2018,2013,2018,2003,2018,2017,2018,2020,2019,2017,2020,2018,2016,2011,2007,2016,2018,2018,2017,2018,2020,2016,2020,2009,2020,2014,2015,2015,2014,2016,2013,2018,2020,2020,2018,2012,1979,2019,2020,2011,2005,2013,2011,2013,2016,2018,2018,2013,2020,2018,2019,2015,2015,2020,2017,2013,2020,2018,2008,2017,2020,2020,2007,2018,2011,2017,2015,2017,2019,2012,2019,2018,2020,2020,2016,2017,2005,2015,2018,2020,2017,2020,2019,2016,2015,2018,2013,2017,2018,2014,2015,2018,2016,2019,2021,2020,2009,2012,2011,2020,2010,2014,2017,2018,2018,2017,1995,2019,2009,2018,2020,2018,2018,2016,2018,2009,1998,2011,2009,2018,2017,2016,2015,2008,2019,2019,2011,2014,2018,2013,2016,2015,2010,2007,2018,2016,2018,2010,2013,2016,2010,2017,2017,2017,2017,2018,2019,2019,2020,2019,2010,2017,2018,2020,2003,2019,2019,2009,2017,2006,2017,1970,2012,2018,2018,2016,2020,2010,2019,1991,2019,2020,2020,1992,2010,2016,2018,2017,2020,2020,2019,2014,2019,2017,2018,2018,2016,2019,2020,2019,2020,2016,2019,2018,2020,2018,2019,2017,2002,2008,2019,2014,2016,2019,2019,2020,2019,2013,2017,2020,2019,2020,2020,2010,2016,2016,2017,2018,2009,2015,2019,2017,1982,2006,2015,2015,2017,2019,2018,2019,1974,2008,2014,2003,2002,2017,2020,2019,2015,2008,2020,2017,2016,1982,1993,2017,1997,2018,2020,2020,2020,2020,2020,2012,2018,2009,2019,2017,2017,1981,2017,1998,2015,2012,2020,1999,2003,2003,2017,2018,2017,2013,2019,2015,1944,2009,2020,2015,2015,2017,2013,2020,2020,2017,2019,2016,2019,2021,2012,2020,2017,2016,2018,2011,2016,2017,2012,2017,2016,2016,2015,2018,2018,2017,2017,2018,2017,2019,2017,2011,2015,2017,2019,1991,1988,1984,1944,2019,2021,2020,2020,2018,1994,2016,2018,2020,2018,2017,2017,2016,2014,2018,2019,2011,2020,2012,2020,2007,2018,2014,2008,2018,2020,2000,2018,1999,2010,2015,2018,2017,2017,2020,2019,2004,2018,2019,2018,2020,2003,2001,2016,1997,1993,2019,2018,2014,2017,2019,2019,2012,2004,2020,2018,2013,2006,2014,2017,2012,2007,2012,2018,2015,2020,2020,2012,2020,2004,2020,2018,2017,2004,2017,2014,2004,2019,2005,2009,2018,2020,2016,2017,2019,2020,2016,2019,2020,2019,2006,2018,2009,1968,2020,2018,2020,2018,2020,2008,1997,2020,2016,2010,2006,2015,2016,2016,2019,2017,2016,2019,2019,2018,2015,2017,2018,2015,2016,2015,2016,2011,2002,2014,2020,2018,2018,2016,1994,2017,2019,2019,2016,2011,2020,2014,2014,2017,2017,1998,2011,2010,2015,2017,2019,1989,2017,2014,2012,2020,1973,2001,2015,2020,2016,2018,2019,2019,2019,2018,2014,2015,2018,2014,2013,2017,2019,2016,1955,2014,2019,2019,2019,2020,2015,2013,2018,2018,2019,2020,2011,2013,2017,2020,2010,2019,2019,2016,2018,2016,2013,2020,2008,1978,2019,2019,2010,2019,2013,2005,2018,2020,2018,2015,2016,2017,2017,2019,2020,2017,2004,2018,2015,2017,1989,2016,2020,2018,2016,2009,1999,2016,2018,1974,2014,2013,2016,2020,2016,2017,2002,2009,2018,2010,2019,2018,2016,2017,2018,2019,2020,2020,2018,2017,1996,2016,2015,2008,2016,2016,2010,2002,2019,1963,2004,2019,2009,2009,2020,2011,2020,2020,2017,2019,2009,2015,2016,2013,2019,2016,2020,2019,2017,2020,2017,2020,2015,2017,2018,2020,2017,2016,2015,2018,2015,2019,2007,2018,2014,2007,1998,2006,2016,2017,2019,2018,2005,2016,2018,2015,2020,2020,2017,2015,2018,2018,2019,2020,1976,2019,2010,2016,2016,2020,2017,1999,2018,2019,2019,2018,2020,2016,2019,2017,2020,2019,2009,2016,2016,1985,2019,2016,2017,2013,1988,2019,2016,2016,2007,2019,2016,2018,2018,2017,2020,2019,2014,2019,2017,2015,2017,2015,2015,2020,2020,2020,2020,2017,2017,2011,2010,2010,2019,2016,2019,2018,2018,2010,2018,2019,2017,2017,1947,2018,2019,2017,2017,2019,2019,2017,2015,2018,2016,2020,2020,2019,2016,2017,2019,1990,1991,2011,2008,2015,2013,2018,2020,2017,2017,2009,2014,2010,2016,2014,2018,2020,2019,2020,2014,2018,2017,2018,2020,2006,2016,2019,2018,2017,2020,1995,2015,2018,2017,2017,2018,2012,2018,2016,2009,1999,2017,2017,2017,2010,2001,2011,2020,2020,2014,2018,2016,2016,1997,2017,2016,2020,2016,2019,2020,1988,2017,2019,2018,2019,2018,2016,2008,2020,2016,2001,2015,2016,1990,2018,2016,2019,2015,2017,2007,2018,2014,2014,2009,2015,2016,2017,2008,2020,2006,2004,2007,2016,1996,2008,2019,2017,2014,2017,2017,2013,2020,2020,2016,2016,2020,2020,2014,2016,2020,2018,2018,2019,2019,2017,2019,2015,2018,1990,1995,2001,2004,2015,2018,2020,2016,2017,2018,2019,2020,2020,2021,2019,1985,1995,2020,2016,2014,2016,2019,2019,1991,2019,2018,2017,2019,2017,2004,2017,2018,2017,2018,2019,1969,2016,2017,2019,2020,2019,2019,2018,2020,2020,2019,2019,2018,2020,2015,2018,2017,2016,2019,2010,2012,2010,2020,2019,2016,2019,1944,2019,2013,2016,2017,2019,2017,2014,2019,2010,2019,2020,1990,2007,2018,2018,2015,2018,2013,2018,2016,2019,2020,2015,2019,2008,2016,2020,2010,2016,2013,2008,2020,2015,1959,2018,2018,2019,2019,2020,2019,2020,2015,2015,2016,2018,2006,2017,2020,2019,2019,2020,2018,2019,2017,2016,2016,2019,2020,2019,2019,2011,2017,2016,2016,2007,2018,2020,2016,2013,2020,2019,2016,2017,1943,2013,2017,2012,2014,2014,2019,2017,2017,2011,2020,2020,2019,2020,2019,2017,2012,2011,2018,2020,1990,2020,2018,2020,2018,2009,2018,2011,2020,2019,2019,2017,2020,2018,2018,2016,2019,2005,2019,1995,2019,2018,2020,2020,2018,2008,2020,2020,2019,2018,2008,2020,2016,2016,2018,2016,2017,2016,2016,2019,2018,2020,2017,2017,2018,2008,2017,2015,2012,2012,2017,2018,1991,2015,2013,2006,2018,2016,2020,2016,2016,2018,2019,2018,2017,2020,2018,2020,2013,2020,2010,2014,2015,2017,2014,2006,2001,2004,2018,2018,2020,2018,2018,2017,2016,2018,2018,2011,2015,2018,2017,2013,2016,2015,2012,2019,2015,2010,2005,2017,2009,2016,2017,2014,2017,2017,2019,2017,2015,2019,2019,2018,2018,2007,2013,2013,2011,2017,2016,2014,2015,2018,2020,2014,2020,2020,2020,2019,2017,2018,2018,2011,2016,1979,2010,2019,2020,2020,2019,2014,2015,2018,2018,2020,2018,2016,2018,2020,2018,2017,2012,2017,2015,2018,1983,2017,2018,2018,2012,2016,2016,2007,2015,2013,2016,2014,2008,2020,2018,2017,2009,2020,2020,1999,2016,2015,1967,2018,2003,2019,2015,2017,2019,2003,2017,2020,2018,2020,2017,2021,2015,2016,2019,2015,2012,2018,2000,2017,2017,2018,2019,2013,2017,2015,2020,2017,2020,2021,1993,2005,2002,2006,2009,2017,2020,2018,2017,2013,2018,2015,2014,2019,2019,2016,2018,2000,2017,2015,2019,2020,2004,1980,2018,1954,2018,2016,2019,2016,2020,2016,2016,2019,2010,2019,2020,2017,2019,1967,2011,2017,2020,2016,2016,2015,1943,2015,2013,2008,2019,2016,2018,1999,2018,2018,2017,2019,1971,2017,2020,2018,2019,2017,2016,1981,2015,2014,2010,2015,2019,2014,2019,2020,2021,2015,2017,2011,2016,2017,2020,2018,2016,2010,2019,2019,2014,2017,2019,2017,2020,2020,2020,2020,2014,2020,2017,2006,2009,2017,2020,2015,2017,2013,2018,2015,2016,2019,2009,1943,2014,1994,2018,2011,2015,2016,2016,2017,2002,2005,2001,2008,2020,2001,1994,2011,2013,2006,2019,2019,2018,2020,2014,2018,2014,2008,2010,2012,2015,2014,2020,2018,2015,2016,2016,2016,2015,2016,2018,2018,2020,2019,2020,2017,2017,2020,2015,2009,2008,2017,2019,2016,2015,2008,2020,2017,2011,1973,2020,2019,2014,2020,2018,2012,2020,2005,2019,2016,2009,2005,2015,2018,2019,2016,2004,2018,2018,2006,2008,2016,2005,2014,2014,2009,2018,2018,2016,2012,2016,2011,2015,2018,2016,2016,2007,2018,2011,2018,2009,2019,2018,2006,2005,2015,2019,2019,2019],\"xaxis\":\"x\",\"yaxis\":\"y\",\"type\":\"histogram\"}],                        {\"template\":{\"data\":{\"barpolar\":[{\"marker\":{\"line\":{\"color\":\"rgb(17,17,17)\",\"width\":0.5},\"pattern\":{\"fillmode\":\"overlay\",\"size\":10,\"solidity\":0.2}},\"type\":\"barpolar\"}],\"bar\":[{\"error_x\":{\"color\":\"#f2f5fa\"},\"error_y\":{\"color\":\"#f2f5fa\"},\"marker\":{\"line\":{\"color\":\"rgb(17,17,17)\",\"width\":0.5},\"pattern\":{\"fillmode\":\"overlay\",\"size\":10,\"solidity\":0.2}},\"type\":\"bar\"}],\"carpet\":[{\"aaxis\":{\"endlinecolor\":\"#A2B1C6\",\"gridcolor\":\"#506784\",\"linecolor\":\"#506784\",\"minorgridcolor\":\"#506784\",\"startlinecolor\":\"#A2B1C6\"},\"baxis\":{\"endlinecolor\":\"#A2B1C6\",\"gridcolor\":\"#506784\",\"linecolor\":\"#506784\",\"minorgridcolor\":\"#506784\",\"startlinecolor\":\"#A2B1C6\"},\"type\":\"carpet\"}],\"choropleth\":[{\"colorbar\":{\"outlinewidth\":0,\"ticks\":\"\"},\"type\":\"choropleth\"}],\"contourcarpet\":[{\"colorbar\":{\"outlinewidth\":0,\"ticks\":\"\"},\"type\":\"contourcarpet\"}],\"contour\":[{\"colorbar\":{\"outlinewidth\":0,\"ticks\":\"\"},\"colorscale\":[[0.0,\"#0d0887\"],[0.1111111111111111,\"#46039f\"],[0.2222222222222222,\"#7201a8\"],[0.3333333333333333,\"#9c179e\"],[0.4444444444444444,\"#bd3786\"],[0.5555555555555556,\"#d8576b\"],[0.6666666666666666,\"#ed7953\"],[0.7777777777777778,\"#fb9f3a\"],[0.8888888888888888,\"#fdca26\"],[1.0,\"#f0f921\"]],\"type\":\"contour\"}],\"heatmapgl\":[{\"colorbar\":{\"outlinewidth\":0,\"ticks\":\"\"},\"colorscale\":[[0.0,\"#0d0887\"],[0.1111111111111111,\"#46039f\"],[0.2222222222222222,\"#7201a8\"],[0.3333333333333333,\"#9c179e\"],[0.4444444444444444,\"#bd3786\"],[0.5555555555555556,\"#d8576b\"],[0.6666666666666666,\"#ed7953\"],[0.7777777777777778,\"#fb9f3a\"],[0.8888888888888888,\"#fdca26\"],[1.0,\"#f0f921\"]],\"type\":\"heatmapgl\"}],\"heatmap\":[{\"colorbar\":{\"outlinewidth\":0,\"ticks\":\"\"},\"colorscale\":[[0.0,\"#0d0887\"],[0.1111111111111111,\"#46039f\"],[0.2222222222222222,\"#7201a8\"],[0.3333333333333333,\"#9c179e\"],[0.4444444444444444,\"#bd3786\"],[0.5555555555555556,\"#d8576b\"],[0.6666666666666666,\"#ed7953\"],[0.7777777777777778,\"#fb9f3a\"],[0.8888888888888888,\"#fdca26\"],[1.0,\"#f0f921\"]],\"type\":\"heatmap\"}],\"histogram2dcontour\":[{\"colorbar\":{\"outlinewidth\":0,\"ticks\":\"\"},\"colorscale\":[[0.0,\"#0d0887\"],[0.1111111111111111,\"#46039f\"],[0.2222222222222222,\"#7201a8\"],[0.3333333333333333,\"#9c179e\"],[0.4444444444444444,\"#bd3786\"],[0.5555555555555556,\"#d8576b\"],[0.6666666666666666,\"#ed7953\"],[0.7777777777777778,\"#fb9f3a\"],[0.8888888888888888,\"#fdca26\"],[1.0,\"#f0f921\"]],\"type\":\"histogram2dcontour\"}],\"histogram2d\":[{\"colorbar\":{\"outlinewidth\":0,\"ticks\":\"\"},\"colorscale\":[[0.0,\"#0d0887\"],[0.1111111111111111,\"#46039f\"],[0.2222222222222222,\"#7201a8\"],[0.3333333333333333,\"#9c179e\"],[0.4444444444444444,\"#bd3786\"],[0.5555555555555556,\"#d8576b\"],[0.6666666666666666,\"#ed7953\"],[0.7777777777777778,\"#fb9f3a\"],[0.8888888888888888,\"#fdca26\"],[1.0,\"#f0f921\"]],\"type\":\"histogram2d\"}],\"histogram\":[{\"marker\":{\"pattern\":{\"fillmode\":\"overlay\",\"size\":10,\"solidity\":0.2}},\"type\":\"histogram\"}],\"mesh3d\":[{\"colorbar\":{\"outlinewidth\":0,\"ticks\":\"\"},\"type\":\"mesh3d\"}],\"parcoords\":[{\"line\":{\"colorbar\":{\"outlinewidth\":0,\"ticks\":\"\"}},\"type\":\"parcoords\"}],\"pie\":[{\"automargin\":true,\"type\":\"pie\"}],\"scatter3d\":[{\"line\":{\"colorbar\":{\"outlinewidth\":0,\"ticks\":\"\"}},\"marker\":{\"colorbar\":{\"outlinewidth\":0,\"ticks\":\"\"}},\"type\":\"scatter3d\"}],\"scattercarpet\":[{\"marker\":{\"colorbar\":{\"outlinewidth\":0,\"ticks\":\"\"}},\"type\":\"scattercarpet\"}],\"scattergeo\":[{\"marker\":{\"colorbar\":{\"outlinewidth\":0,\"ticks\":\"\"}},\"type\":\"scattergeo\"}],\"scattergl\":[{\"marker\":{\"line\":{\"color\":\"#283442\"}},\"type\":\"scattergl\"}],\"scattermapbox\":[{\"marker\":{\"colorbar\":{\"outlinewidth\":0,\"ticks\":\"\"}},\"type\":\"scattermapbox\"}],\"scatterpolargl\":[{\"marker\":{\"colorbar\":{\"outlinewidth\":0,\"ticks\":\"\"}},\"type\":\"scatterpolargl\"}],\"scatterpolar\":[{\"marker\":{\"colorbar\":{\"outlinewidth\":0,\"ticks\":\"\"}},\"type\":\"scatterpolar\"}],\"scatter\":[{\"marker\":{\"line\":{\"color\":\"#283442\"}},\"type\":\"scatter\"}],\"scatterternary\":[{\"marker\":{\"colorbar\":{\"outlinewidth\":0,\"ticks\":\"\"}},\"type\":\"scatterternary\"}],\"surface\":[{\"colorbar\":{\"outlinewidth\":0,\"ticks\":\"\"},\"colorscale\":[[0.0,\"#0d0887\"],[0.1111111111111111,\"#46039f\"],[0.2222222222222222,\"#7201a8\"],[0.3333333333333333,\"#9c179e\"],[0.4444444444444444,\"#bd3786\"],[0.5555555555555556,\"#d8576b\"],[0.6666666666666666,\"#ed7953\"],[0.7777777777777778,\"#fb9f3a\"],[0.8888888888888888,\"#fdca26\"],[1.0,\"#f0f921\"]],\"type\":\"surface\"}],\"table\":[{\"cells\":{\"fill\":{\"color\":\"#506784\"},\"line\":{\"color\":\"rgb(17,17,17)\"}},\"header\":{\"fill\":{\"color\":\"#2a3f5f\"},\"line\":{\"color\":\"rgb(17,17,17)\"}},\"type\":\"table\"}]},\"layout\":{\"annotationdefaults\":{\"arrowcolor\":\"#f2f5fa\",\"arrowhead\":0,\"arrowwidth\":1},\"autotypenumbers\":\"strict\",\"coloraxis\":{\"colorbar\":{\"outlinewidth\":0,\"ticks\":\"\"}},\"colorscale\":{\"diverging\":[[0,\"#8e0152\"],[0.1,\"#c51b7d\"],[0.2,\"#de77ae\"],[0.3,\"#f1b6da\"],[0.4,\"#fde0ef\"],[0.5,\"#f7f7f7\"],[0.6,\"#e6f5d0\"],[0.7,\"#b8e186\"],[0.8,\"#7fbc41\"],[0.9,\"#4d9221\"],[1,\"#276419\"]],\"sequential\":[[0.0,\"#0d0887\"],[0.1111111111111111,\"#46039f\"],[0.2222222222222222,\"#7201a8\"],[0.3333333333333333,\"#9c179e\"],[0.4444444444444444,\"#bd3786\"],[0.5555555555555556,\"#d8576b\"],[0.6666666666666666,\"#ed7953\"],[0.7777777777777778,\"#fb9f3a\"],[0.8888888888888888,\"#fdca26\"],[1.0,\"#f0f921\"]],\"sequentialminus\":[[0.0,\"#0d0887\"],[0.1111111111111111,\"#46039f\"],[0.2222222222222222,\"#7201a8\"],[0.3333333333333333,\"#9c179e\"],[0.4444444444444444,\"#bd3786\"],[0.5555555555555556,\"#d8576b\"],[0.6666666666666666,\"#ed7953\"],[0.7777777777777778,\"#fb9f3a\"],[0.8888888888888888,\"#fdca26\"],[1.0,\"#f0f921\"]]},\"colorway\":[\"#636efa\",\"#EF553B\",\"#00cc96\",\"#ab63fa\",\"#FFA15A\",\"#19d3f3\",\"#FF6692\",\"#B6E880\",\"#FF97FF\",\"#FECB52\"],\"font\":{\"color\":\"#f2f5fa\"},\"geo\":{\"bgcolor\":\"rgb(17,17,17)\",\"lakecolor\":\"rgb(17,17,17)\",\"landcolor\":\"rgb(17,17,17)\",\"showlakes\":true,\"showland\":true,\"subunitcolor\":\"#506784\"},\"hoverlabel\":{\"align\":\"left\"},\"hovermode\":\"closest\",\"mapbox\":{\"style\":\"dark\"},\"paper_bgcolor\":\"rgb(17,17,17)\",\"plot_bgcolor\":\"rgb(17,17,17)\",\"polar\":{\"angularaxis\":{\"gridcolor\":\"#506784\",\"linecolor\":\"#506784\",\"ticks\":\"\"},\"bgcolor\":\"rgb(17,17,17)\",\"radialaxis\":{\"gridcolor\":\"#506784\",\"linecolor\":\"#506784\",\"ticks\":\"\"}},\"scene\":{\"xaxis\":{\"backgroundcolor\":\"rgb(17,17,17)\",\"gridcolor\":\"#506784\",\"gridwidth\":2,\"linecolor\":\"#506784\",\"showbackground\":true,\"ticks\":\"\",\"zerolinecolor\":\"#C8D4E3\"},\"yaxis\":{\"backgroundcolor\":\"rgb(17,17,17)\",\"gridcolor\":\"#506784\",\"gridwidth\":2,\"linecolor\":\"#506784\",\"showbackground\":true,\"ticks\":\"\",\"zerolinecolor\":\"#C8D4E3\"},\"zaxis\":{\"backgroundcolor\":\"rgb(17,17,17)\",\"gridcolor\":\"#506784\",\"gridwidth\":2,\"linecolor\":\"#506784\",\"showbackground\":true,\"ticks\":\"\",\"zerolinecolor\":\"#C8D4E3\"}},\"shapedefaults\":{\"line\":{\"color\":\"#f2f5fa\"}},\"sliderdefaults\":{\"bgcolor\":\"#C8D4E3\",\"bordercolor\":\"rgb(17,17,17)\",\"borderwidth\":1,\"tickwidth\":0},\"ternary\":{\"aaxis\":{\"gridcolor\":\"#506784\",\"linecolor\":\"#506784\",\"ticks\":\"\"},\"baxis\":{\"gridcolor\":\"#506784\",\"linecolor\":\"#506784\",\"ticks\":\"\"},\"bgcolor\":\"rgb(17,17,17)\",\"caxis\":{\"gridcolor\":\"#506784\",\"linecolor\":\"#506784\",\"ticks\":\"\"}},\"title\":{\"x\":0.05},\"updatemenudefaults\":{\"bgcolor\":\"#506784\",\"borderwidth\":0},\"xaxis\":{\"automargin\":true,\"gridcolor\":\"#283442\",\"linecolor\":\"#506784\",\"ticks\":\"\",\"title\":{\"standoff\":15},\"zerolinecolor\":\"#283442\",\"zerolinewidth\":2},\"yaxis\":{\"automargin\":true,\"gridcolor\":\"#283442\",\"linecolor\":\"#506784\",\"ticks\":\"\",\"title\":{\"standoff\":15},\"zerolinecolor\":\"#283442\",\"zerolinewidth\":2}}},\"xaxis\":{\"anchor\":\"y\",\"domain\":[0.0,1.0],\"title\":{\"text\":\"release_year\"}},\"yaxis\":{\"anchor\":\"x\",\"domain\":[0.0,1.0],\"title\":{\"text\":\"count\"}},\"legend\":{\"tracegroupgap\":0},\"margin\":{\"t\":60},\"barmode\":\"relative\",\"title\":{\"text\":\"Shows released year wise\",\"x\":0.5}},                        {\"responsive\": true}                    ).then(function(){\n",
              "                            \n",
              "var gd = document.getElementById('f7340d0a-2a6c-438f-b931-0ec70fec16dd');\n",
              "var x = new MutationObserver(function (mutations, observer) {{\n",
              "        var display = window.getComputedStyle(gd).display;\n",
              "        if (!display || display === 'none') {{\n",
              "            console.log([gd, 'removed!']);\n",
              "            Plotly.purge(gd);\n",
              "            observer.disconnect();\n",
              "        }}\n",
              "}});\n",
              "\n",
              "// Listen for the removal of the full notebook cells\n",
              "var notebookContainer = gd.closest('#notebook-container');\n",
              "if (notebookContainer) {{\n",
              "    x.observe(notebookContainer, {childList: true});\n",
              "}}\n",
              "\n",
              "// Listen for the clearing of the current output cell\n",
              "var outputEl = gd.closest('.output');\n",
              "if (outputEl) {{\n",
              "    x.observe(outputEl, {childList: true});\n",
              "}}\n",
              "\n",
              "                        })                };                            </script>        </div>\n",
              "</body>\n",
              "</html>"
            ]
          },
          "metadata": {}
        }
      ],
      "source": [
        "# visualization code\n",
        "px.histogram(dataset,x='release_year',color_discrete_sequence=['#Ff0000'],template='plotly_dark').update_layout(title_text='Shows released year wise',title_x=0.5)"
      ]
    },
    {
      "cell_type": "markdown",
      "metadata": {
        "id": "t6dVpIINYklI"
      },
      "source": [
        "##### 1. Why did you pick the specific chart?"
      ]
    },
    {
      "cell_type": "markdown",
      "metadata": {
        "id": "5aaW0BYyYklI"
      },
      "source": [
        "Answer Here."
      ]
    },
    {
      "cell_type": "markdown",
      "metadata": {
        "id": "ijmpgYnKYklI"
      },
      "source": [
        "##### 2. What is/are the insight(s) found from the chart?"
      ]
    },
    {
      "cell_type": "markdown",
      "metadata": {
        "id": "PSx9atu2YklI"
      },
      "source": [
        "Answer Here"
      ]
    },
    {
      "cell_type": "markdown",
      "metadata": {
        "id": "-JiQyfWJYklI"
      },
      "source": [
        "##### 3. Will the gained insights help creating a positive business impact? \n",
        "Are there any insights that lead to negative growth? Justify with specific reason."
      ]
    },
    {
      "cell_type": "markdown",
      "metadata": {
        "id": "BcBbebzrYklV"
      },
      "source": [
        "Answer Here"
      ]
    },
    {
      "cell_type": "markdown",
      "metadata": {
        "id": "EM7whBJCYoAo"
      },
      "source": [
        "#### Chart - 3"
      ]
    },
    {
      "cell_type": "code",
      "execution_count": 54,
      "metadata": {
        "id": "t6GMdE67YoAp",
        "colab": {
          "base_uri": "https://localhost:8080/",
          "height": 0
        },
        "outputId": "7711a28f-cc13-4d91-ba93-54b79d72e328"
      },
      "outputs": [
        {
          "output_type": "display_data",
          "data": {
            "text/html": [
              "<html>\n",
              "<head><meta charset=\"utf-8\" /></head>\n",
              "<body>\n",
              "    <div>            <script src=\"https://cdnjs.cloudflare.com/ajax/libs/mathjax/2.7.5/MathJax.js?config=TeX-AMS-MML_SVG\"></script><script type=\"text/javascript\">if (window.MathJax && window.MathJax.Hub && window.MathJax.Hub.Config) {window.MathJax.Hub.Config({SVG: {font: \"STIX-Web\"}});}</script>                <script type=\"text/javascript\">window.PlotlyConfig = {MathJaxConfig: 'local'};</script>\n",
              "        <script src=\"https://cdn.plot.ly/plotly-2.18.2.min.js\"></script>                <div id=\"8f3c3059-9bf8-4cb2-8f9b-8bd99af83a05\" class=\"plotly-graph-div\" style=\"height:525px; width:100%;\"></div>            <script type=\"text/javascript\">                                    window.PLOTLYENV=window.PLOTLYENV || {};                                    if (document.getElementById(\"8f3c3059-9bf8-4cb2-8f9b-8bd99af83a05\")) {                    Plotly.newPlot(                        \"8f3c3059-9bf8-4cb2-8f9b-8bd99af83a05\",                        [{\"alignmentgroup\":\"True\",\"bingroup\":\"x\",\"hovertemplate\":\"type=TV Show<br>release_year=%{x}<br>count=%{y}<extra></extra>\",\"legendgroup\":\"TV Show\",\"marker\":{\"color\":\"#Ff0000\",\"pattern\":{\"shape\":\"\"}},\"name\":\"TV Show\",\"offsetgroup\":\"TV Show\",\"orientation\":\"v\",\"showlegend\":true,\"x\":[2020,2016,2018,2019,2018,2020,2020,2020,2016,2013,2018,2020,2017,2014,2020,2019,2013,2019,2018,2017,2016,2019,2018,2019,2019,2019,2018,2016,2018,2017,2016,2020,2016,2017,2013,2017,2017,2006,2018,2019,2020,2010,2020,2020,2019,2018,2019,2016,2018,2015,2013,2015,2018,2019,2017,2019,2020,2019,2018,2018,2018,2018,2013,2017,2020,2014,2017,2010,2018,2017,2019,2015,2020,2019,2018,2014,2020,2015,2016,2014,2019,2015,2017,2020,2017,2020,2020,2020,2018,2019,2020,2017,2017,2020,2019,2014,2020,2019,2018,2014,2013,2017,2016,2018,2019,2015,2018,2017,2012,2018,2014,2010,2018,2020,2018,2018,2019,2011,2019,2016,2019,2018,2012,2019,2016,2016,2019,2020,2014,2020,2017,2017,2019,2019,2019,2018,2018,2017,2019,2019,2003,2015,2016,2013,2019,2020,2016,2009,2007,2019,2020,2015,2018,2020,2020,2018,2020,2018,2016,2018,2019,2020,2014,2014,2018,2013,2019,2020,2020,2018,2019,2016,2016,2019,2018,2018,2019,2019,2020,2018,2020,2012,2019,2019,2016,2017,2015,2016,2018,2015,2015,2018,2010,2019,2018,2015,2016,2016,2017,2018,2015,2001,2015,2010,2016,2015,2009,2016,2020,2016,2018,2020,2018,2019,2016,2016,2017,2019,2018,2009,2017,2013,2020,2015,2016,1997,2017,2020,2018,2016,2020,2016,2018,2010,2017,2018,2014,2014,2019,2019,2014,2019,2019,2017,2006,2021,2016,2020,2020,2018,2017,2020,2019,2017,2017,2020,2007,1991,2018,2018,2020,2019,2016,2019,2019,2019,2020,2016,2018,2017,2017,2019,2012,2018,2013,2017,2011,2009,2016,2018,2013,2014,2020,2020,2019,2013,2010,2020,2020,2017,2016,2015,2017,2019,2015,2019,2016,2013,2020,2017,2018,2020,2017,2005,2012,2019,2017,2019,2020,2009,2018,2020,2020,2016,2018,2020,2018,2014,2014,2012,2020,2018,2019,2016,2019,2016,2020,1999,2016,2012,2020,2021,2019,2015,2015,2018,2015,2020,2017,2015,2018,2020,2019,2018,2017,2019,2019,2019,2016,2016,2016,2020,2020,2016,1992,2016,2017,2019,2020,2016,2017,2016,2015,1999,2017,2019,2019,2017,2018,2020,2019,2020,2017,1994,2020,2019,2019,2019,2018,2019,2019,2017,2018,2016,2016,2015,2015,2016,2016,2018,2008,2012,2020,2017,2017,2016,2018,2015,2016,2017,2016,2016,2016,2019,2018,2021,2005,2018,2020,2015,2008,2007,2017,1999,2018,2018,2018,2012,2019,2019,2016,2018,2015,2018,2020,2015,2016,2020,2019,2016,2020,2018,2020,2020,2017,2019,2016,2020,2019,2018,2016,2015,2019,2019,2019,2019,2017,2017,2019,2019,2019,2020,2019,2019,2020,2020,2015,2017,2013,2016,1977,2017,2018,2013,2016,2018,2016,2016,1992,2012,2018,2019,2020,2020,2017,2018,2015,2020,2020,2020,2017,2017,2017,2016,2017,2002,2017,2019,2017,2019,2020,2008,2020,2020,2020,2016,2019,2018,2017,2016,2017,2019,2020,2018,2017,2015,2019,2019,2019,2020,2018,2017,2013,2014,2015,2020,2019,2019,2015,2007,2020,2016,2008,2017,2018,2018,2020,2018,2021,2018,2017,2020,2017,2019,2018,2018,2019,2019,2019,2013,2019,2020,2020,2020,2018,2020,2018,2020,2016,2021,2005,2011,2011,2008,2008,2009,2011,2020,2019,2018,2019,2015,2015,2016,2019,2014,2015,2018,2018,2019,2009,2018,2008,2018,2009,2013,2008,2010,2018,1979,2010,2019,2020,2019,2013,2019,2017,2020,2018,2020,2020,2017,2018,2018,2016,2018,2018,2014,2017,2017,2020,2016,2020,2017,2020,2018,2019,2016,2014,2018,2019,2018,2011,2019,2008,2019,2019,2020,2006,2019,2009,2016,2020,2020,2009,2015,2014,2017,2018,2018,2020,2020,2016,2015,2020,2020,2019,2016,2017,2018,2015,2012,2017,2020,2020,2015,2020,2020,2018,2018,2015,2017,2020,2017,2018,2018,2018,2015,2017,2014,2017,2020,2019,2018,2020,2016,2018,2018,2020,2016,2017,2011,2017,2016,2011,2019,2019,2011,2020,2016,2020,2003,2019,2016,2020,2017,2003,2019,2016,2018,2011,2018,2020,2020,2010,2020,2021,2018,2016,2020,2009,2020,2014,2013,2019,2015,2016,2020,2016,2011,2020,2020,2017,2020,2012,2018,2019,2006,2016,2019,2018,2017,2007,2019,2018,2019,2012,2015,2019,2020,2016,2017,2019,2020,2010,2020,2019,2015,2017,2017,2020,2017,2016,2015,2019,2017,2020,2019,2012,2016,1998,2018,2012,2019,2020,2020,2017,2020,2017,2013,2016,2017,2020,2017,2019,2019,2019,2019,2020,2020,2019,2018,2008,2007,2018,2017,2002,2009,2015,2016,2019,2015,2005,2017,2020,2014,2015,2018,2013,2012,2019,2016,2019,2015,2018,2014,2017,2014,2020,2015,2020,2018,2017,2015,2019,2017,2016,2015,2021,2019,1999,2017,2011,2018,2020,2017,2015,2016,2020,2017,2015,2016,2020,2018,2019,2018,2020,2019,2016,2015,2018,1988,2020,2020,2017,2016,1988,2021,2016,2020,2015,2019,2020,2021,2016,2017,2015,2019,2016,2016,2020,2019,2020,2020,2020,2018,2020,2018,2020,2015,2019,2016,2020,2018,2017,2017,2017,2018,2020,2020,2018,2020,2020,2019,2011,2013,2015,2011,2020,2018,2018,2017,2019,2020,2020,2016,2020,2019,2019,2019,2019,2019,2016,2017,2014,2018,2018,2020,2012,2018,2017,2012,2018,2016,2019,2020,2011,2015,2020,2018,2018,2013,2020,2012,2017,2017,2019,2019,2018,2017,2015,2017,2018,2021,2017,2018,2019,2007,2019,2016,2018,2020,2001,2009,2018,2011,2015,2014,2015,2019,2020,2020,2019,2020,2020,2016,2020,2019,2018,2020,2019,2020,2008,2020,2017,2019,2008,2009,2018,2017,2019,2013,2014,2017,2015,2018,2020,2015,2016,2020,2017,2014,2019,2015,2020,2013,2012,2012,2016,2012,2010,2012,2013,2009,2013,2019,2019,2017,2007,2017,2019,1990,2014,1996,2019,2019,2017,2018,2013,2011,2017,2018,2016,2010,2014,2020,2019,2017,2020,2012,2017,2018,2020,2020,2018,2016,2020,2017,2019,2015,2005,2012,2014,2018,2020,2003,2020,2019,2016,2018,2013,2016,2014,2019,2020,2016,2016,2012,2016,2016,2020,2017,2016,2017,2020,2019,2004,2010,2016,2019,2017,2015,2011,2019,2015,2019,2018,2015,2020,2018,2020,2002,2012,2018,2015,2018,2019,2017,2019,2017,2016,2017,2017,2018,2016,2019,2018,2020,2019,2019,2019,2020,2017,2015,2013,2019,2014,2014,2018,2009,2016,2018,2014,2014,2012,2017,2019,2015,2020,2019,2017,2018,2017,2018,2017,2019,2019,2019,2017,2013,2017,2020,2020,2014,2016,2015,2017,2016,2015,2012,2019,2016,2015,2019,2018,2018,2016,2020,2020,2019,2018,2017,2013,2014,2015,2013,2013,2010,2015,2012,2012,2019,2012,2016,2016,2013,2014,2019,2014,2020,2020,2010,2019,2018,2020,2017,2018,2019,2018,2021,2014,2019,2018,2017,2016,2013,2020,2016,2019,2015,2014,2010,2013,2010,2015,2018,2016,2019,2017,2020,2017,2018,2020,2020,2018,2017,2020,2019,2017,2018,2016,2019,2018,2016,2019,2018,2018,2011,2011,2020,2018,2018,2019,2018,2017,2019,2016,2020,2013,2019,2012,2012,2017,2020,2018,2020,2019,2016,2013,2018,2012,2016,2018,2017,2020,2018,2015,2012,2019,2020,2014,2018,2016,2017,2020,2014,2019,2018,2020,2020,2019,2020,2021,1996,2010,2019,2020,2019,2017,2015,2019,2015,2014,2016,2018,2013,2019,2014,2020,2019,2015,2016,2012,2015,2018,2014,2016,2000,2015,2014,2021,2015,2017,2014,2018,2012,2014,2013,2011,2014,2009,1972,1974,2005,2018,2018,2020,2019,2017,2020,2016,2019,2020,2018,2016,2020,2018,2013,2017,2018,2017,2015,2017,2012,2019,2017,2019,2019,2020,2017,2019,2017,2016,2018,2018,2002,2020,2017,2020,2018,2016,2017,2017,2017,2013,2020,1999,2018,2020,2014,2019,2017,2020,2014,2020,2019,2020,2019,2021,2019,2017,2020,2019,2006,2018,2016,2009,2009,2016,2015,2016,2017,2018,1995,2016,2020,2018,2020,2018,2020,2021,2018,2016,2016,1981,1997,2020,2014,2019,2019,2016,2016,2019,2016,2018,2020,2004,2019,2018,2019,2016,2018,2019,2011,2015,2016,2016,2019,2017,2020,2015,2017,2015,2011,2017,2017,2015,2014,2020,2013,2020,2015,2013,2018,2020,2018,2020,2017,2019,2019,2019,2016,2006,2002,2019,2018,2015,2016,2012,2012,2019,2018,2018,2011,2019,2019,2006,2015,2020,2017,2020,2020,2016,2017,2020,2017,2012,2014,2016,2015,2011,2019,2020,2018,2018,2020,2016,2020,2016,2014,2015,2017,2003,2020,2016,2020,2020,2017,2010,2019,2018,1990,2016,2018,2018,2016,2019,2019,2018,2019,1946,1925,2018,2016,2006,2019,2017,2020,2019,2000,2020,2018,2018,2016,2013,2018,2019,2019,2010,2016,2020,2020,2015,2016,2004,1998,2008,2000,1999,2006,2018,2003,2007,2009,2005,2011,2014,2012,2001,1997,2002,1996,2013,2019,2010,2021,2018,2017,2019,2017,2020,2012,2011,2017,2017,2016,2018,2011,2020,2016,2020,2019,2014,2019,2012,2015,2018,2009,2018,2020,2017,2018,2020,2019,2019,2017,2012,2018,2020,2016,2019,2014,2018,2012,2018,2020,2015,2017,2018,2017,2015,2020,2004,2016,2018,2019,2018,2020,2016,2015,2016,2017,2020,2017,2015,2014,2012,2014,2018,2020,2018,2016,2017,2018,2017,2017,2020,2020,2019,2016,2015,2019,2019,2017,2017,2020,2010,2020,2019,2015,2018,1985,2018,2019,2019,2019,2020,2016,2018,2020,2019,2016,2004,2020,2020,2020,1998,2013,2019,2020,2017,2019,2014,2018,1986,2009,2019,2018,2014,2019,2014,2017,2020,2019,2014,2014,2017,2015,2020,2019,2018,2011,2020,2020,2020,2012,2019,2018,2015,2014,2016,2015,2016,2019,2016,2017,2019,2018,2020,2020,2020,2018,2016,2018,2015,2017,2018,2020,2020,2019,2016,1986,2019,2016,2020,2020,2020,2018,2017,2018,2018,2014,2017,2004,2015,2018,2008,2016,2020,2016,2015,2016,2008,2018,2015,2020,2020,2020,2019,2018,2018,2015,2019,2018,1998,2018,2020,2020,2016,2016,2018,2019,2019,2019,2019,2019,2020,2018,2018,2020,2020,2017,2015,2020,2020,2015,2018,2017,2019,2020,2003,2017,2016,2008,2019,2020,2020,2016,2014,2016,2018,2013,2019,2020,2014,2020,2019,2020,2019,2017,2018,2015,2018,2018,1968,1999,2004,1993,2000,2014,2020,2006,2020,2020,2015,2018,2019,2018,2010,2020,2017,2015,2015,2016,2020,2019,2019,2015,2019,2020,2018,2016,2017,2017,2018,2018,2019,2020,2013,2020,2020,2018,2020,2020,2016,2019,2018,2019,2018,2019,2020,2019,1993,2019,2016,2021,2017,2019,2020,2014,2018,2020,2018,2018,2018,2018,2010,2017,2020,2020,2018,2018,2014,2018,2019,1993,2017,2018,2018,2014,2020,2019,2011,2020,2010,2017,2016,2018,2019,2018,2015,2019,2005,2013,2018,2020,2018,2019,2007,2018,2010,2015,2018,1993,2019,2020,2013,1967,2014,2018,2020,2009,2010,2020,2012,2016,2011,2015,2018,2020,2020,2019,2001,2011,2019,2013,2020,2019,2018,2018,2017,2020,2020,2018,2019,2014,2018,2006,2019,2015,2020,2017,2019,2020,2020,2020,2019,2011,2018,2019,2019,2018,2018,2016,2020,2015,2020,2015,2018,2016,2019,2017,2015,2016,2019,2019,2019,2013,2019,2020,2019,2018,2019,2019,2009,2016,2011,2020,2018,2020,2016,2019,2020,2019,2020,2020,2010,2012,2010,2018,2016,2018,2019,2020,2017,2017,2017,2015,2007,2008,2018,2017,2020,2020,2007,2016,2018,2018,2020,2020,2020,2016,2020,2020,2018,2012,2020,2013,2018,2013,2015,2013,2020,2018,2020,2019,2020,2020,2017,2015,2018,2020,2020,2015,2015,2019,2021,2020,2011,2020,2010,2017,2018,2020,2018,2018,2018,2008,2014,2013,2010,2018,2018,2010,2016,2017,2019,2020,2019,2017,2019,2009,2017,2018,2019,2020,2020,2020,2019,2017,2020,2020,2008,2014,2019,2019,2020,2013,2017,2020,2019,2009,2015,1997,2018,2020,2012,2017,2019,2020,2015,2015,2020,2016,2019,2012,2020,2017,2016,2018,2016,2017,2018,2017,2019,2017,2015,2019,2019,2021,2020,2018,2017,2017,2019,2011,2012,2018,2020,2018,2004,2018,2003,2017,2020,2020,2020,2020,2019,2005,2016,2019,2020,2009,2020,2018,2020,2020,2020,2016,2006,2018,2015,2020,2018,2017,2019,2017,2020,2020,2019,2015,2018,2018,2017,2019,2016,2018,2019,2018,2018,2017,2017,2019,2020,1989,2020,2018,2019,2016,2019,2020,2008,2016,2010,2019,1963,2009,2020,2020,2020,2017,2019,2009,2015,2019,2020,2019,2020,2017,2020,2017,2018,2007,2005,2018,2015,2020,2019,2020,2010,2020,2019,2020,2019,2019,2009,2018,2019,2014,2017,2015,2020,2019,2018,2018,2019,2017,2017,2019,2020,2019,2019,2017,2009,2014,2010,2020,2019,2020,2014,2018,2017,2020,2015,2018,2009,2017,2017,2016,2020,2017,2018,2019,2018,2008,2015,2016,2019,2018,2016,2017,2020,2019,2017,2013,2020,2020,2016,2016,2020,2020,2020,2018,2019,2018,2019,2020,2020,2019,2020,2016,2018,2019,2004,2017,2018,2019,2019,2018,2020,2018,2018,2019,2016,2019,2016,2019,2017,2019,2019,1990,2018,2013,2019,2020,2019,2020,2015,2018,2018,2019,2019,2019,2018,2020,2019,2019,2016,2016,2016,2020,2017,2017,2020,2019,2020,2019,2012,2018,2020,2020,2020,2011,2019,1995,2019,2018,2020,2020,2018,2008,2020,2019,2017,2016,2016,2018,2018,2012,2018,2013,2006,2018,2018,2013,2020,2018,2020,2018,2016,2015,2017,2015,2019,2017,2017,2014,2018,2018,2018,2020,2014,2020,2020,2018,2011,2020,2019,2018,2018,2017,2012,2016,2018,2020,2020,2015,2018,2003,2015,2017,2019,2016,2019,2015,2012,2017,2020,2005,2017,2018,2015,2019,2019,2019,2020,2016,2016,2019,2020,2011,2020,2015,2013,2019,2018,2020,2016,2014,2015,2015,2020,2018,2010,2019,2020,2020,2020,2014,2017,2009,2017,2020,2017,2018,2019,2009,2018,2019,2019,2018,2014,2018,2015,2016,2016,2020,2019,2020,2019,2008,2017,2020,2014,2012,2019,2005,2015,2019,2016,2018,2018,2016,2016,2012,2018,2018,2019,2019],\"xaxis\":\"x\",\"yaxis\":\"y\",\"type\":\"histogram\"},{\"alignmentgroup\":\"True\",\"bingroup\":\"x\",\"hovertemplate\":\"type=Movie<br>release_year=%{x}<br>count=%{y}<extra></extra>\",\"legendgroup\":\"Movie\",\"marker\":{\"color\":\"#0000ff\",\"pattern\":{\"shape\":\"\"}},\"name\":\"Movie\",\"offsetgroup\":\"Movie\",\"orientation\":\"v\",\"showlegend\":true,\"x\":[2016,2011,2009,2008,2019,1997,2019,2008,2017,2018,2019,2014,2018,2019,2017,2018,2018,2017,2017,2015,2020,2019,2020,2018,2020,2017,2018,2016,2014,2016,2019,2015,2017,2010,2020,2005,2014,2017,2017,2012,2008,2018,2016,2014,2016,2020,2014,2017,2015,2014,2016,2017,2010,2018,2016,2006,2009,2020,2016,2019,2018,2008,2014,2013,2015,2018,2016,2013,2016,2017,2016,2012,2018,2017,2000,2014,2003,2015,2016,2009,2018,2015,2016,2011,1989,2020,2020,2019,2017,2017,2019,2015,2019,2017,2014,2018,2014,2004,2011,2012,2019,2018,2017,2019,2015,2014,2017,2016,2018,2011,2019,2016,2011,2019,2020,2017,2011,2016,2016,1977,2020,2018,2016,2020,2018,2017,2019,2018,2016,2004,2019,1971,1993,2014,2020,2015,2016,2019,2016,2018,2018,2017,2012,2020,2020,2020,2015,2017,2013,2019,2015,2011,2019,2019,2016,2019,2018,2020,2014,2020,2007,2016,2012,2016,2014,2014,2017,2020,1998,2015,2015,2012,2013,2016,2011,2019,2011,2016,2015,2020,2011,2009,2020,2016,2009,2017,2015,1988,2017,2019,2015,2019,1996,2012,2020,2016,2020,2018,2017,2015,2008,2002,2008,2017,2020,2017,2018,2016,2019,2018,2011,2017,2009,2013,1988,2018,2008,2018,2011,2010,1993,2010,2019,2015,2015,2013,2012,2017,2016,2016,2012,2002,2013,2015,2016,2009,2013,2015,2007,2012,2010,2010,2017,2018,2020,2019,2018,1986,2014,2018,2018,2017,2013,2018,2017,2015,2018,2016,2020,2019,2019,2012,2018,2019,2020,2017,2008,2012,2018,2018,1990,2018,2009,2006,2012,2020,2020,2015,2004,2018,2012,2009,2017,2020,2019,2020,2017,2017,2017,2017,2019,2016,2018,2018,2019,2020,2018,1979,1989,2019,2019,2015,2016,2018,2018,2017,1980,1974,2019,2017,2019,2020,2018,2016,2017,2018,2020,2020,1989,2019,2016,2019,2018,2017,2006,2020,2018,2020,2017,2020,2009,2019,2017,2020,2016,2019,2001,2013,2014,2017,2018,2020,2019,2016,2016,2002,2017,2015,1977,2011,2018,2017,2016,2017,1999,2017,2017,2018,2019,2019,2019,2014,1998,2016,2018,2020,2020,2000,2019,2019,2019,2017,1966,2015,2019,2017,2013,1986,1991,1999,2000,2019,1982,2018,2012,2017,2018,2017,2020,2014,2018,2014,2017,2017,2010,2018,2008,1994,2018,2020,2020,2020,2020,2015,2017,2001,2019,2018,2020,2009,2003,2015,2020,2018,2019,2020,2018,2018,2014,2015,2013,2013,2016,2018,2016,2018,2017,2018,2019,2015,2006,2018,2019,2007,2017,2005,2016,2011,2018,2015,2016,2015,2018,2019,2016,2018,2020,2020,2011,2011,2016,2019,2011,2011,2019,2018,2014,1997,2018,2018,2001,2016,2020,2019,2015,2020,2016,2016,2018,2020,2019,2012,2012,2014,2016,2016,2010,1994,2002,1997,1999,2016,2014,2020,2018,2019,2018,2017,2018,2019,2018,2020,2017,2018,2018,2016,2015,2013,2019,2013,2017,2017,2016,2017,2017,2017,2015,2015,2015,2015,2018,2005,2018,2006,2019,2018,2016,2016,2019,2019,2015,2014,2019,2019,2015,1995,2003,2017,2017,2014,2017,2016,2018,2006,2019,2019,1995,2001,2004,2017,2015,2017,2020,2017,2015,1978,2010,2015,2002,2009,2015,2009,2016,2017,2013,2017,2010,2015,2015,2020,2016,2010,2011,2016,2012,2017,2017,2016,2017,2015,2012,2013,2016,1995,1998,1992,2016,2018,2016,2018,2018,1972,2019,2019,1982,2011,2015,2016,2013,1997,2013,2015,2017,2019,2016,2015,1996,1992,2008,2016,2020,2007,2008,2007,2018,2017,2016,2016,2016,2015,2017,2018,2016,2015,2011,2014,2018,1975,2016,2015,2018,2016,2020,2019,2017,2019,2018,2004,1978,2019,2008,2012,2017,2020,2019,2012,2012,2013,2020,2018,2016,2014,2020,2020,2016,2019,2017,2018,2019,2019,2018,2005,2010,2006,2013,2017,2020,2018,2006,2019,2019,2013,2019,2017,2018,2018,2020,2007,2003,2017,2014,2014,2016,2017,2017,1999,2002,2018,2012,2014,2017,2012,2020,2017,2002,2019,2014,2010,2019,2017,2012,1991,2015,1992,1993,1989,2017,2009,2000,2018,2017,2015,2016,2018,2019,2016,2018,2017,2016,2010,2012,2015,2018,2019,2004,2001,2015,2018,2018,2014,2015,2017,2007,2017,2013,2020,2015,2017,2018,2008,2010,2016,2016,2015,2013,2015,2013,2017,2016,2012,2019,2001,2013,2013,2016,2016,2013,1999,2010,2005,2017,2018,2016,2013,2018,2015,2017,2020,1973,2014,2018,2016,2011,2018,2018,2014,2017,2001,2008,2017,2018,2013,2016,2017,2015,2017,2006,1967,2003,2019,2014,2016,2018,2017,2016,2013,2005,2017,2008,2013,2016,2016,2016,2017,2016,2016,2018,2007,2020,2016,2018,2018,2010,2014,2015,2014,2018,2019,2017,2005,2014,2019,2016,2017,2018,2017,2009,2019,2019,2006,2017,2015,2016,2017,2017,2018,2018,2012,2017,2016,2018,2016,2020,2018,2017,2020,2018,2012,2010,2017,2017,2018,2019,2017,2017,2016,1960,2018,2012,2015,1981,2017,2019,2008,2016,2016,2020,2014,2016,1958,2018,2015,2018,2017,2019,2017,2019,2018,2018,2016,2017,2014,1998,2017,2007,2018,2017,1992,2020,2019,2017,2020,2020,2017,2016,2018,2008,2020,2019,2016,2018,2020,2015,1976,2016,2009,2012,2016,2009,2006,1992,1992,2017,1958,2002,2018,2015,2016,2010,2018,2016,2016,2017,2012,2018,2000,1996,2014,1976,2014,2010,2000,2017,2003,2020,1992,2004,2010,2010,2018,2016,2017,2015,2005,2000,2003,1973,2021,2013,2013,1997,2017,2017,2016,2015,2015,2014,2014,2014,2013,2012,2012,2018,2018,2018,2019,2017,2005,2020,2018,1988,1994,2019,2011,2017,2017,2020,2012,1968,2009,2017,2020,2019,2017,2015,2017,2020,2021,2018,2015,2014,2017,2016,2019,2020,2012,2017,2015,2017,2018,2017,2018,2018,2004,2018,2016,2006,2019,2019,2019,2019,2006,2017,1975,2017,2011,2015,2020,2009,2020,2018,2002,2013,2018,2016,2016,2019,2010,1993,2020,2018,1973,2006,2017,2017,2019,2018,2013,2012,2014,2009,2013,2008,2018,2005,2018,2019,2007,2020,2017,2017,2017,2019,2013,2019,2016,2015,2016,2015,2008,2016,2018,2017,2019,2002,2016,2016,2013,2014,2017,2014,2014,2008,2014,2017,1967,2017,2015,2016,2020,2009,2015,2017,2018,2017,2016,2016,2016,2014,2021,2018,2017,2004,2020,2015,2018,2016,2021,2014,2017,2020,2017,2016,2018,2000,2016,2017,2019,2017,2019,2018,2014,2013,2020,2018,2014,2018,2013,2015,2020,2005,2015,2014,2015,2013,1989,2020,2003,2019,2015,2017,2015,2013,2016,2017,2020,2016,2019,2016,2020,2019,2017,2015,1997,2017,2018,2018,2015,2016,2016,2020,2019,2015,2013,1956,2003,2016,1991,2019,2020,2020,2020,2016,2016,2019,2018,2017,2018,2015,2018,2019,2019,2006,2018,2019,2016,2016,2012,2018,2011,2016,2010,2020,2017,2017,2020,2017,2020,2017,2016,2014,2017,2013,2002,2017,2008,2016,2017,2009,2011,2014,2018,2018,2015,2018,2014,2015,2018,1992,2019,2017,2018,2018,2018,2017,2018,2017,2020,2017,2019,1997,2017,2016,2016,2009,2019,2016,2017,2004,2007,2007,2015,2015,2017,2010,2009,2018,2018,2017,2017,2015,2020,2002,2015,2016,2019,2019,1990,2001,2015,2002,1998,2014,2018,2019,2015,2010,1985,2020,1982,2018,2017,2017,2009,2016,2019,2012,2020,2010,2009,1965,2016,2019,2020,2019,2020,2019,2014,2019,2006,2011,2015,2015,2010,2015,2016,2017,2011,2014,2016,2016,2016,2020,2012,1997,2005,2019,2020,2019,2008,2020,1999,2020,1989,2008,2018,2017,2018,2003,2018,2012,2019,2006,1996,2015,2000,2017,2020,2018,2014,2020,2020,2020,2017,2017,2015,2017,2017,2016,2015,2019,2018,2019,2018,2018,2018,2018,2018,2014,2003,2003,2018,1984,1998,2017,2018,2016,2014,2020,2014,2019,2015,2010,2010,2018,2019,2015,1983,1987,2018,1998,2017,2019,2018,2018,2019,2014,2019,2015,2006,2009,2004,1983,2005,2019,2012,2016,2012,2017,2019,2017,2018,2018,2017,2017,2020,2018,2018,2019,2017,2018,2016,2018,1971,2012,2006,2019,2020,2020,2019,2019,2016,2019,2014,2015,2016,2018,2015,2016,2008,2020,2016,2016,2014,2006,2002,2018,2012,2013,1996,2018,2016,2020,2018,2019,1973,2016,2015,2002,2020,2012,2018,2017,1990,2009,1985,2016,2018,2018,2020,2007,1998,2017,2019,2010,2018,1997,2019,2019,2015,2016,2001,2019,2015,1996,2018,2013,2012,2001,2017,2017,2014,2019,2018,2020,2019,2016,2019,2010,2011,2014,2017,2018,2017,2017,2019,2019,2018,2011,2019,1998,2019,2018,2017,2018,2015,2018,2019,2017,2014,2018,2015,2017,2018,2008,2020,2020,2016,2018,2020,2012,1998,2020,2017,2020,2012,2017,2020,2018,2018,2018,2012,1986,2004,1971,2020,2015,1996,2008,2016,2017,2015,2000,2003,2006,2017,2020,2016,2019,2012,2019,2013,2015,2015,2017,2018,2017,2018,2018,2018,2017,2016,2019,2017,2015,2018,2016,2019,1982,2015,2000,2008,2018,2016,2018,1978,2017,2017,2015,2010,2015,2012,2015,2019,2018,2018,1977,2016,2017,2017,1956,2016,2020,2018,2016,2018,2017,2011,2020,2008,2013,1994,2007,2019,2016,2012,2019,2019,2018,2016,2007,2019,2017,2018,2018,2020,2018,2007,2016,2018,2019,2016,1993,2018,2018,2015,2016,2015,2015,2019,2009,2016,1980,2014,2017,2013,2010,2016,2018,2011,2011,2008,2013,2013,2020,2019,2015,2020,2017,2017,2018,2016,2020,2019,2017,2019,2017,2009,2004,2016,2015,2019,2017,2016,2018,2017,2015,2017,2013,2017,2011,2012,2019,2019,2019,2018,2016,2003,2002,2016,2018,2014,2007,2008,2009,2016,2009,2011,2018,2015,2016,2016,2018,2019,2017,2017,2018,2018,2020,2003,2017,2010,2019,2017,2014,2008,2016,2005,2013,2013,1990,2017,2017,2013,2016,2007,2020,2014,2013,2019,2020,1997,2005,1958,2013,2020,2013,2008,2012,2020,2018,2019,2013,2020,2017,2015,2019,2020,2012,2018,2020,2020,2019,2018,2016,2017,2014,2018,2017,2018,2018,2018,1979,2013,1995,2019,2016,2014,2008,2006,2018,2017,1997,2018,2009,2016,2014,2019,2012,2007,2005,2014,2019,2017,1990,2017,2011,2016,2018,2013,2001,2003,2015,2018,2008,2013,2019,2012,2014,2015,2017,2019,1978,2016,2015,2016,2018,2019,2015,2017,2016,2018,2016,2016,2019,2020,2020,2020,1993,2018,2015,2019,2020,2017,2007,2015,2010,2015,2013,2013,2013,2010,2012,2014,2014,2016,2007,2018,2016,2017,2017,2018,2009,2015,2000,1987,2018,2017,2016,2017,2017,2013,2020,2018,2016,2018,2017,2018,2018,2018,2014,2017,2014,2019,2014,2020,2015,2020,1986,2015,2015,2018,2009,2018,2005,2008,2004,2015,2010,2015,2016,2010,2017,2014,1999,2018,2007,2017,2018,2020,2017,2016,2015,2015,2011,2003,2020,2016,2015,2015,2018,2018,1998,2016,2011,2017,2001,2017,2017,2016,2015,2015,2016,2004,1999,2019,2019,2015,2013,2018,1976,2016,2014,1997,2016,2017,2012,2017,2017,2019,2010,2016,2016,2017,2017,2016,2019,2019,2019,2018,2019,2015,2014,2018,2020,2013,2015,2020,2010,2017,2012,2005,1977,2016,2017,2015,2006,2018,2015,2016,2020,2019,2019,2016,2018,2017,2019,2017,2016,2008,2010,2017,2019,2019,2019,2018,2011,2018,2007,2014,2011,1991,2011,2018,2020,2018,2017,2013,2020,2013,2020,2016,2017,2017,2016,2019,2015,2016,2007,2017,2009,1975,2018,2019,2012,2017,2016,2016,2019,2018,2017,2000,2017,1997,2015,2018,1995,2017,2014,2016,1992,2012,2020,2011,2009,1994,1999,2019,2006,2014,2014,2016,2010,2020,2015,2015,2016,2018,2012,2016,2005,2016,2010,2016,2013,2017,2019,2010,2018,2015,2019,2018,2016,2017,2015,2016,2018,2020,2019,2016,2016,2017,2011,2017,2014,2010,2019,2019,2010,2016,2015,2016,2015,2013,2019,2019,2020,2017,2018,2017,2017,2016,2014,2010,2020,2008,2017,2016,2018,2015,2019,2013,2018,2009,2018,1974,2012,2014,2016,2018,1990,2018,2017,2018,2019,2017,2017,2016,2019,2019,2016,2016,2010,2014,2019,2017,2017,2015,2018,2014,2017,2008,1989,1981,1984,2016,2013,2016,2009,2019,2005,2013,2008,2005,2019,2010,2013,2016,2015,2008,2015,2016,2007,2020,2004,2003,2001,2002,2019,2009,2017,2018,2017,2019,2008,2010,2015,2019,2006,2010,2018,2019,2014,2019,2018,2018,2019,2003,2015,2009,2020,2018,2017,2013,2017,2019,2013,1995,2012,2016,2015,2017,2017,2014,2015,2018,1986,2006,2008,2017,2007,2013,2018,2017,2019,2020,1997,2017,2015,2019,2019,2016,2015,2017,2020,2009,2017,2014,2013,2012,2016,2016,2018,2018,2019,2014,2013,2001,1973,2018,2014,2006,2019,2011,2012,2017,2015,2008,2016,2019,2015,2015,2017,2019,2016,2015,2017,2020,2002,1998,2014,2016,2018,2016,2019,2017,2003,2017,2005,2017,2009,2012,2014,2014,2016,2020,2018,2017,1973,2016,2019,2001,2017,2020,2013,2011,1960,2019,2020,2017,2018,2017,2012,2017,2008,2017,2017,2018,2016,2005,2018,2012,2013,2020,2018,2017,2019,2018,2012,2015,2020,2012,2018,2015,2018,2017,2000,2017,2016,2019,2019,2017,2017,2015,1997,2017,2011,2017,2009,2011,2005,2015,2020,2007,2005,2018,2016,2017,1992,2011,2016,2019,2002,2011,2016,2017,2019,2015,2019,2005,2020,1981,2017,2016,2006,1994,2001,2019,2016,2012,2014,2013,2010,2003,2012,2016,2019,2019,2017,2016,2009,2017,2019,2017,2020,2016,2020,2015,2019,2007,2016,2010,2017,2008,2019,2016,2001,2012,1982,2019,2017,2016,2007,2018,2012,2006,2006,2015,2018,2017,2005,2019,2015,2019,2020,2009,2019,2011,2013,2010,2016,2020,2019,2018,2001,2017,1993,2018,2014,1973,2006,1980,2003,2018,2017,2016,1995,2015,2015,2019,2019,2003,2004,2016,2015,2019,2016,2011,2014,2014,2019,1988,2010,2017,2012,2016,2014,2015,2018,2018,2005,2017,1996,2017,2015,2009,2008,2017,1997,2020,2017,2013,2019,2019,2015,1945,2009,2015,2016,2018,2006,2016,2019,2018,2012,1972,2014,2009,2013,2016,2012,2017,2017,2010,2013,2015,2020,2004,2013,2019,2017,2003,1998,2017,2004,2010,2010,2016,2017,2018,2017,2009,1998,2012,2000,2005,2016,2017,2001,2004,2019,2016,2017,1987,2016,2016,2017,2020,2016,2018,2011,2018,2017,2016,2019,2006,2019,2018,2017,2001,2018,2016,2004,1971,2010,2015,2018,2017,2020,2019,2019,2012,2015,2010,2018,2020,2011,2012,2004,2016,2017,2014,2019,2010,2016,2003,2011,2011,2011,2017,2013,2014,2015,2010,2017,1982,2016,2010,2014,2018,2016,2015,2018,2017,2016,2013,2010,2015,2013,2016,2012,2020,2018,2017,2019,1946,2006,2020,2018,2015,2013,2017,2010,2010,2014,2007,2018,2012,2018,2019,2006,2018,1997,2019,2018,2018,1992,2019,2015,2018,2017,2012,2016,2020,2013,2018,2019,2017,1990,2019,2016,1983,2017,2016,2016,2016,2018,1989,2000,2018,2019,2019,2020,2019,2020,2019,2016,2020,2019,2014,2016,2018,2016,1982,1998,2013,2018,2012,2017,2015,1976,2019,1962,2017,2017,2020,2017,2017,2009,1990,2015,2015,2019,2015,2017,2019,2017,2020,2020,2017,2018,2017,2010,2015,2020,2017,2016,2019,2018,2019,2010,2015,2019,2019,2018,1997,2020,2017,2016,2017,1994,2018,2018,2011,2020,2017,2015,2020,2014,2017,2017,2016,2016,2016,2006,2019,1995,2010,2017,2017,2020,2019,2019,2019,2016,2018,2017,2009,2019,2017,2005,2020,2019,1979,2018,2015,2018,2012,2017,2017,2020,2020,2017,2012,2014,2013,2016,1979,2008,1987,2016,2016,2008,2017,2019,2004,2013,2016,2013,2018,2015,1999,2016,2013,2010,2017,1981,2009,2004,2005,2005,1989,2020,2020,2018,2017,2019,2020,2018,2018,2019,2020,2018,2019,2018,2013,2015,1983,2017,2014,2016,2014,2017,2020,2017,2020,2019,1999,2017,2007,1974,1999,2015,2018,2017,2017,2018,2017,2014,2017,2016,2020,2013,2017,2017,2015,2019,2017,2012,2015,2016,2016,2018,2016,2018,2019,1986,2002,2017,2019,2016,2014,2015,2016,2013,2017,2014,2018,2020,2016,2020,1983,2016,2018,2017,2017,2012,2006,2018,2018,2020,2013,2018,2014,2017,2016,1993,2019,2017,2017,1988,2016,2017,2016,2011,1973,2017,1985,2017,2017,2017,2019,2017,2003,2017,2019,2018,1997,2002,2008,2017,2016,2009,2018,2016,2018,2016,2019,2019,2018,2019,2018,2017,2017,2013,2016,2016,2017,2019,2018,2009,2015,2011,2017,2016,2017,2020,2020,2019,2009,2016,2020,2016,2020,2014,2013,2017,2019,2008,2015,2019,2017,2018,2020,2019,2018,2008,2017,2017,2016,2019,2016,2017,2004,2019,2018,2018,2019,2012,2016,2019,2017,2019,2020,2015,2020,2014,2014,2017,2011,2015,2016,2019,2014,2017,2008,2018,2014,2015,2014,2018,2019,2018,2016,2019,2017,2016,2015,2019,2017,2017,2018,2003,2016,2020,1997,2019,2016,2017,2017,2013,2015,2017,2012,2014,2013,2011,2014,2012,2016,2015,2010,2013,2013,2006,2017,2005,2014,1975,2008,2014,2000,1998,1982,2014,1979,2009,2016,2015,2015,2016,2013,2011,2012,2016,2020,2020,2019,2016,2016,2017,2013,2018,2018,2016,2002,2015,2014,2016,2015,2009,2017,1984,2007,2020,2012,2017,2016,2015,2020,2015,2012,2017,2012,2019,2004,1989,2006,2012,2014,2003,2008,2018,2014,2014,2014,1987,2017,2011,2019,2007,2020,2019,2013,2017,2018,2020,1962,2015,2010,2010,2016,2015,2018,2005,2017,2013,2016,2017,2015,2011,2007,1991,2017,2015,2012,2016,2018,2015,2016,2014,2018,2018,2016,2019,2020,2013,2015,2018,2001,2015,2009,2008,2018,2016,2019,2009,2018,2017,2012,2016,2011,2017,2014,1988,2003,2017,2013,2017,2014,2006,2016,2017,2017,2016,1982,2007,2016,1999,2015,2018,2008,2009,2011,2007,2010,2005,2006,2004,2013,2020,2018,2017,2020,2010,2019,2018,2016,1993,2016,2004,2016,2016,2015,2016,2013,1945,2019,2017,2014,2016,2018,2016,2009,2018,2018,2004,2017,2016,2007,2018,2018,2017,2018,2018,2013,2018,2020,2014,2008,2019,2016,2019,2009,2019,2015,2018,2005,2005,2018,2017,1979,2011,2017,2011,2007,2019,2020,2020,2017,2016,2017,2020,2019,2019,2016,2017,2020,2016,2018,2018,2019,2017,2018,2017,2017,2017,2017,2018,2017,2017,2018,2017,2017,2017,2017,2017,2018,2017,2018,2018,2012,2017,1995,2016,2009,2012,2015,2013,2013,2016,2016,2014,2009,2018,1960,2007,2004,2020,2020,2018,2018,2018,2015,2020,2016,2016,1995,2011,2012,2015,2012,2017,2019,2019,2019,2019,2016,2017,2018,2017,2018,2014,2013,2007,2009,2012,2017,2018,1983,2017,2016,2010,2018,2018,2018,2018,2018,2018,2018,2018,2018,2019,2010,2013,1968,2001,2014,2016,2020,2019,2013,2017,2016,1998,2018,2017,2012,2016,2017,2020,2020,2019,2013,2018,2015,2006,2016,2015,2020,2016,2016,2018,2018,2016,1984,2019,2017,2016,2016,2005,2017,2016,2019,2017,2019,2014,2019,2018,2011,2016,2019,2017,2017,1991,2018,2017,2018,2018,2018,2021,2020,2017,2017,2008,2006,2015,2007,2010,2017,2007,2016,2019,2017,2018,2019,2013,2019,2005,2018,2007,2002,2016,1988,2004,2015,2015,2006,2017,2016,2002,2019,2017,2014,2000,2018,2019,2018,2018,2007,2018,2012,2019,1997,2017,2018,1990,2019,2019,2018,1989,2018,2018,1992,2011,2017,2019,2019,1992,2014,2017,2016,2009,2016,2018,2009,2016,2015,2013,2016,1988,2010,2019,2014,2016,2019,2018,2006,2014,2016,2018,2017,2018,2017,2007,2018,2016,2020,2016,2018,2020,2019,2019,2016,2018,2015,2015,1993,2000,2006,2015,2009,2012,2016,2017,2018,2017,2020,2018,2018,2018,2017,2008,2016,2019,2018,2002,2014,1998,2014,2018,2009,2010,2016,1986,2012,2012,1980,2018,2020,2018,2015,2008,2015,2015,2014,2016,2019,2017,2018,2019,2019,2019,2013,2017,2018,1980,2016,2006,2017,2016,2018,2017,2017,2017,2017,2011,2011,2011,2014,2012,2012,2013,2013,2013,2019,1942,2015,2013,2015,2018,2012,1996,1969,1984,2018,2017,2014,2018,1962,2018,2016,2018,2020,2008,2019,2018,2020,2018,2015,2000,2018,1994,2014,2016,2017,2018,2018,2017,2012,2017,2011,2011,2015,2006,1986,2019,2017,1998,2018,2020,2008,2012,2014,2015,2018,1988,1990,2018,2019,2008,2010,2020,2004,2008,2013,2009,2008,2013,2012,2015,2018,2017,2016,2018,1980,2011,2014,2015,2015,2016,1988,2018,2016,2016,2002,1996,2014,2018,1974,2019,2018,2015,2015,2018,1995,1985,2016,2018,2005,2016,2018,2010,2006,2011,2017,2017,2021,2016,2019,2017,2019,1984,2011,2011,2019,2008,2010,2011,2020,1955,2016,2018,2018,2016,1984,2017,2017,2013,2016,2015,2016,2012,2012,2019,2019,2019,2019,2019,2018,2018,2018,2015,2015,2010,2017,2018,2010,2017,2020,2016,2015,2017,2017,1976,1980,2016,2014,2019,2018,2018,2017,2008,2012,2020,2016,2016,2018,2019,2020,1979,2018,2020,2020,2018,2008,2019,2015,2015,2017,2016,2013,2018,2020,2020,2011,2019,2018,2005,2016,2020,2010,2015,2009,2020,2016,2018,2016,2019,2008,2019,1976,2016,1979,1982,1985,1990,2017,2017,2017,2020,2019,2020,2014,2018,2017,2015,2019,2018,2020,2010,2013,2019,2014,2018,2018,2018,2019,2015,2017,2012,2020,2016,2020,2017,2020,1968,1998,2012,2018,2016,2000,2017,2016,1995,2005,2004,1999,2018,2018,2017,2010,2018,2017,2015,2016,2013,2019,2016,2017,2016,2016,2003,2020,2015,2019,1982,2019,2016,2018,2013,2017,2014,2016,1983,2016,2012,2017,2016,2013,2016,2019,2007,1975,1963,2018,2014,2020,1987,1991,1991,2016,2017,2017,2017,2013,2012,2018,2018,1945,2008,2017,2016,2017,1964,2018,2016,2014,2019,2016,2010,2020,2018,2018,2020,2017,2010,2014,2015,2016,2005,2018,2018,2018,2017,2017,2008,2018,2012,2017,1982,2017,2013,2016,2017,2018,2019,2017,2013,2019,2018,2014,1985,2017,1955,2019,2000,2013,1993,1988,2019,2016,1998,2018,2010,1997,2000,2018,2013,2012,2014,1993,2012,2011,2018,2019,2012,2016,2007,2015,2019,2017,2018,2013,2013,2013,2014,2013,2013,2014,2020,2013,2014,2014,2017,2019,2018,2018,2015,2015,2012,2010,2015,2016,2017,2020,2020,2020,2018,2008,2011,2019,2018,2020,2013,2019,2019,2018,2018,2008,2017,2019,2014,2010,2008,2016,2008,1999,2019,2019,2019,2005,2018,2011,2011,2002,2012,2019,2002,2002,2011,2018,2020,2008,2020,2020,2019,2006,2014,2010,2013,2019,2010,2016,2009,1991,2020,2017,2020,2018,1990,2018,2007,2016,2018,2017,2011,2016,2013,2016,2009,2017,2016,2013,2017,2017,2004,2018,2019,2020,2018,2017,2014,2018,2014,2018,2014,2012,2016,2019,2012,2019,2012,2017,2019,2018,1960,2013,2011,2015,2017,2015,2017,2016,2016,2015,2012,2020,2019,2014,2017,2016,2016,2016,2020,2014,2010,2017,2015,2004,1996,1993,2017,2015,2017,1998,2017,2008,2017,2016,2015,2016,2000,2016,2013,2020,2005,2018,2013,2016,2018,1984,2020,1998,2018,1991,2018,2018,2009,2017,2019,2017,2003,2016,2013,2015,2014,2018,2018,2016,2018,2008,2015,2011,2019,2016,2000,2015,1976,2017,2013,2016,2016,2017,2019,2020,2020,2017,2007,2018,2020,2019,2018,2017,2009,2019,2004,2015,2012,2018,2018,2001,2002,2003,2011,2015,2017,2018,2019,2015,2015,2017,2020,2007,2013,2018,2004,2014,2006,2006,2019,2018,2008,2018,2018,2017,2014,2015,2018,2010,2010,2019,2015,2014,2014,2017,2020,2019,1987,2016,2006,2010,2018,2019,2018,1992,2016,1981,1996,2017,2016,2018,1999,2002,2021,2018,2019,2019,2019,2015,2011,2018,2015,2020,2014,2014,2019,2015,2017,2017,2018,2014,2018,2017,2019,2018,2019,2019,2019,2018,2020,2020,2020,2019,2014,2007,1972,2018,2006,1999,2019,2002,2016,2007,2015,2017,2019,2017,2017,2016,2018,2019,2004,1977,2014,2014,2007,2017,2019,2018,2016,2016,1980,2001,2018,2020,1999,2007,2008,2017,2011,2017,2018,2018,2010,2012,2009,2018,2019,2016,2014,2015,2011,1993,2011,2017,2006,2018,2015,2020,1999,2005,2013,2017,2018,2012,1976,2018,2020,2016,2016,2017,2016,2003,2019,2018,2018,2010,2016,2007,1991,1990,2010,2019,2016,2017,2017,2015,2012,2016,2003,2009,2015,2017,2016,2012,2012,2019,2019,2019,2011,2015,2016,2018,2016,2020,2018,2019,2016,2019,2017,2018,2015,2016,2005,2011,2007,2016,2018,2016,2014,2019,2018,1995,2005,2018,2019,2019,2010,2015,2019,2020,2016,2017,2013,2000,2011,2016,2016,2018,2016,2017,2020,2017,2016,2015,2016,2018,2017,2017,1993,2018,2014,1942,2004,2020,2008,2016,2020,2016,2018,2020,2018,2018,2017,2019,2017,2016,2015,1954,2016,2018,2016,2019,2013,2019,2005,2019,2019,2016,2010,2020,2020,2015,2010,2009,2016,2008,2010,2019,2020,2020,2019,2007,2019,2017,2006,2018,2015,2017,2020,2017,2005,2007,2013,1983,2018,2013,2017,2019,2016,2017,2020,2014,1977,2019,2017,2017,2017,2016,2016,2010,2016,2015,2013,2018,2020,2016,1965,2017,2020,2017,2018,2019,2018,2010,2018,2018,2016,2013,2013,2011,1996,2019,2015,2020,2013,1994,1970,1992,2019,2015,2006,2009,2011,2015,1982,2018,2016,2016,2015,2017,2020,2010,2017,2005,2017,2018,2020,2020,2018,2006,2017,2017,2020,2017,2012,2018,2016,2015,2019,2017,2017,2016,2016,2016,2017,2009,2016,2018,2016,2005,2007,2019,2016,2015,1994,2019,1997,2015,2017,2019,1981,2016,2016,2019,2013,2015,2018,2010,2009,2009,2015,2014,2019,1996,1978,1994,2000,2017,1975,2008,2017,2017,2016,2019,2014,2020,2016,2016,2013,2016,2016,2018,2013,2003,2018,2018,2019,2017,2018,2016,2011,2018,2017,2016,2009,2014,2015,2015,2014,2013,2018,1979,2019,2011,2005,2011,2013,2016,2018,2020,2018,2019,2015,2020,2017,2008,2017,2020,2007,2018,2011,2017,2015,2017,2019,2012,2018,2016,2005,2017,2019,2016,2018,2013,2017,2018,2014,2018,2016,2009,2012,2014,2017,2018,2018,1995,2019,2009,2016,2018,2009,1998,2011,2009,2017,2016,2015,2019,2019,2011,2018,2016,2015,2007,2016,2013,2010,2017,2017,2017,2018,2019,2010,2018,2020,2003,2019,2006,2017,1970,2012,2018,2016,2020,2010,2019,1991,2020,1992,2010,2016,2018,2017,2019,2014,2018,2018,2016,2019,2020,2019,2016,2019,2018,2018,2019,2017,2002,2019,2016,2019,2020,2020,2010,2016,2016,2017,2018,2015,2019,2017,1982,2006,2015,2017,2019,2018,2019,1974,2008,2014,2003,2002,2017,2020,2019,2015,2008,2020,2017,2016,1982,1993,2017,2020,2020,2020,2020,2018,2009,2019,2017,1981,2017,1998,2015,2012,2020,1999,2003,2003,2017,2018,2017,2013,2015,1944,2009,2017,2013,2020,2017,2019,2021,2011,2012,2017,2016,2016,2015,2018,2017,2018,2017,2011,2017,1991,1988,1984,1944,2020,2018,1994,2016,2020,2018,2016,2014,2018,2020,2020,2007,2014,2008,2018,2000,1999,2010,2015,2018,2017,2017,2020,2019,2018,2019,2020,2001,2016,1997,1993,2019,2018,2014,2019,2019,2012,2004,2018,2013,2006,2014,2017,2012,2007,2012,2018,2015,2012,2020,2004,2018,2017,2004,2017,2014,2004,2009,2018,2020,2017,2019,2020,2016,2019,2006,2018,1968,2018,2008,1997,2010,2015,2016,2016,2019,2017,2016,2019,2019,2015,2017,2018,2016,2015,2016,2011,2002,2014,2018,2016,1994,2019,2016,2011,2020,2014,2014,2017,1998,2011,2010,2015,2017,2019,1989,2017,2014,2012,1973,2001,2015,2016,2018,2019,2019,2018,2014,2014,2013,2017,2019,2016,1955,2014,2019,2019,2019,2020,2015,2013,2018,2019,2020,2011,2013,2020,2010,2019,2016,2013,2020,2008,1978,2019,2010,2019,2013,2005,2020,2015,2016,2017,2004,2018,2015,2017,2016,2018,2016,2009,1999,2016,1974,2014,2013,2016,2020,2016,2017,2002,2009,2018,2010,2018,2017,2018,2020,2018,2017,1996,2016,2015,2016,2002,2004,2019,2009,2011,2016,2013,2016,2017,2020,2015,2017,2018,2016,2015,2015,2019,2018,2014,2007,1998,2006,2016,2017,2019,2018,2016,2020,2017,2015,2018,2018,1976,2019,2016,2016,2017,1999,2018,2019,2018,2016,2017,2020,2016,2016,1985,2019,2016,2017,2013,1988,2019,2016,2016,2007,2019,2016,2018,2017,2020,2019,2017,2015,2015,2020,2020,2020,2017,2017,2011,2010,2010,2019,2016,2018,2010,2018,2019,2017,2017,1947,2019,2017,2015,2018,2016,2020,2016,2017,1990,1991,2011,2008,2015,2013,2018,2020,2017,2016,2014,2018,2018,2020,2006,2016,2019,2018,2017,1995,2017,2017,2018,2012,2018,2016,1999,2017,2017,2010,2001,2011,2020,2020,2014,2018,2016,2016,1997,2020,2016,2019,1988,2019,2016,2020,2016,2001,2016,1990,2018,2015,2017,2007,2014,2014,2009,2015,2008,2006,2004,2007,2016,1996,2008,2017,2014,2017,2014,2016,2018,2019,2019,2017,2015,1990,1995,2001,2004,2015,2018,2020,2016,2017,2018,2021,1985,1995,2014,2016,2019,2019,1991,2019,2017,2017,2017,2018,1969,2016,2017,2020,2019,2019,2020,2019,2019,2020,2015,2017,2016,2010,2012,2010,2020,2019,2019,1944,2013,2017,2014,2010,2020,2007,2018,2015,2018,2018,2016,2015,2008,2016,2020,2010,2016,2013,2008,1959,2020,2020,2015,2015,2016,2006,2017,2020,2018,2019,2017,2016,2019,2020,2019,2019,2011,2017,2007,2018,2020,2016,2013,2019,2016,1943,2013,2017,2012,2014,2014,2019,2017,2011,2020,2017,2011,1990,2018,2018,2009,2018,2020,2019,2019,2017,2020,2018,2018,2016,2019,2005,2020,2018,2008,2020,2016,2016,2018,2016,2019,2020,2017,2017,2008,2017,2015,2012,2017,1991,2015,2018,2016,2020,2016,2016,2019,2017,2020,2018,2020,2010,2014,2015,2017,2014,2006,2001,2004,2018,2018,2017,2018,2018,2011,2018,2013,2016,2012,2015,2010,2005,2009,2016,2017,2017,2019,2017,2015,2019,2019,2007,2013,2013,2011,2017,2016,2014,2015,2020,2019,2017,2018,2016,1979,2010,2019,2020,2014,2015,2018,2020,2018,2016,2020,2018,2017,2012,2015,2018,1983,2017,2018,2018,2016,2007,2015,2013,2016,2014,2008,2020,2017,2009,1999,2016,1967,2019,2003,2017,2020,2018,2020,2017,2021,2015,2018,2000,2017,2018,2019,2013,2017,2015,2017,2020,2021,1993,2002,2006,2009,2017,2020,2018,2013,2014,2016,2018,2000,2017,2015,2019,2020,2004,1980,2018,1954,2018,2016,2016,2019,2010,2017,2019,1967,2017,2016,2016,2015,1943,2008,2016,1999,2018,2018,2017,2019,1971,2017,2018,2019,2017,1981,2015,2010,2019,2014,2019,2020,2021,2017,2011,2016,2017,2016,2019,2014,2017,2019,2017,2020,2020,2006,2015,2013,2015,2016,1943,2014,1994,2011,2015,2016,2016,2017,2002,2005,2001,2008,2020,2001,1994,2011,2013,2006,2018,2020,2014,2014,2008,2010,2012,2015,2020,2016,2016,2015,2018,2018,2020,2017,2017,2015,2009,2008,2017,2016,2015,2020,2011,1973,2019,2020,2018,2020,2005,2016,2009,2018,2004,2006,2008,2005,2014,2014,2009,2018,2018,2016,2011,2015,2018,2016,2016,2007,2011,2009,2018,2006,2005,2015,2019,2019],\"xaxis\":\"x\",\"yaxis\":\"y\",\"type\":\"histogram\"}],                        {\"template\":{\"data\":{\"barpolar\":[{\"marker\":{\"line\":{\"color\":\"rgb(17,17,17)\",\"width\":0.5},\"pattern\":{\"fillmode\":\"overlay\",\"size\":10,\"solidity\":0.2}},\"type\":\"barpolar\"}],\"bar\":[{\"error_x\":{\"color\":\"#f2f5fa\"},\"error_y\":{\"color\":\"#f2f5fa\"},\"marker\":{\"line\":{\"color\":\"rgb(17,17,17)\",\"width\":0.5},\"pattern\":{\"fillmode\":\"overlay\",\"size\":10,\"solidity\":0.2}},\"type\":\"bar\"}],\"carpet\":[{\"aaxis\":{\"endlinecolor\":\"#A2B1C6\",\"gridcolor\":\"#506784\",\"linecolor\":\"#506784\",\"minorgridcolor\":\"#506784\",\"startlinecolor\":\"#A2B1C6\"},\"baxis\":{\"endlinecolor\":\"#A2B1C6\",\"gridcolor\":\"#506784\",\"linecolor\":\"#506784\",\"minorgridcolor\":\"#506784\",\"startlinecolor\":\"#A2B1C6\"},\"type\":\"carpet\"}],\"choropleth\":[{\"colorbar\":{\"outlinewidth\":0,\"ticks\":\"\"},\"type\":\"choropleth\"}],\"contourcarpet\":[{\"colorbar\":{\"outlinewidth\":0,\"ticks\":\"\"},\"type\":\"contourcarpet\"}],\"contour\":[{\"colorbar\":{\"outlinewidth\":0,\"ticks\":\"\"},\"colorscale\":[[0.0,\"#0d0887\"],[0.1111111111111111,\"#46039f\"],[0.2222222222222222,\"#7201a8\"],[0.3333333333333333,\"#9c179e\"],[0.4444444444444444,\"#bd3786\"],[0.5555555555555556,\"#d8576b\"],[0.6666666666666666,\"#ed7953\"],[0.7777777777777778,\"#fb9f3a\"],[0.8888888888888888,\"#fdca26\"],[1.0,\"#f0f921\"]],\"type\":\"contour\"}],\"heatmapgl\":[{\"colorbar\":{\"outlinewidth\":0,\"ticks\":\"\"},\"colorscale\":[[0.0,\"#0d0887\"],[0.1111111111111111,\"#46039f\"],[0.2222222222222222,\"#7201a8\"],[0.3333333333333333,\"#9c179e\"],[0.4444444444444444,\"#bd3786\"],[0.5555555555555556,\"#d8576b\"],[0.6666666666666666,\"#ed7953\"],[0.7777777777777778,\"#fb9f3a\"],[0.8888888888888888,\"#fdca26\"],[1.0,\"#f0f921\"]],\"type\":\"heatmapgl\"}],\"heatmap\":[{\"colorbar\":{\"outlinewidth\":0,\"ticks\":\"\"},\"colorscale\":[[0.0,\"#0d0887\"],[0.1111111111111111,\"#46039f\"],[0.2222222222222222,\"#7201a8\"],[0.3333333333333333,\"#9c179e\"],[0.4444444444444444,\"#bd3786\"],[0.5555555555555556,\"#d8576b\"],[0.6666666666666666,\"#ed7953\"],[0.7777777777777778,\"#fb9f3a\"],[0.8888888888888888,\"#fdca26\"],[1.0,\"#f0f921\"]],\"type\":\"heatmap\"}],\"histogram2dcontour\":[{\"colorbar\":{\"outlinewidth\":0,\"ticks\":\"\"},\"colorscale\":[[0.0,\"#0d0887\"],[0.1111111111111111,\"#46039f\"],[0.2222222222222222,\"#7201a8\"],[0.3333333333333333,\"#9c179e\"],[0.4444444444444444,\"#bd3786\"],[0.5555555555555556,\"#d8576b\"],[0.6666666666666666,\"#ed7953\"],[0.7777777777777778,\"#fb9f3a\"],[0.8888888888888888,\"#fdca26\"],[1.0,\"#f0f921\"]],\"type\":\"histogram2dcontour\"}],\"histogram2d\":[{\"colorbar\":{\"outlinewidth\":0,\"ticks\":\"\"},\"colorscale\":[[0.0,\"#0d0887\"],[0.1111111111111111,\"#46039f\"],[0.2222222222222222,\"#7201a8\"],[0.3333333333333333,\"#9c179e\"],[0.4444444444444444,\"#bd3786\"],[0.5555555555555556,\"#d8576b\"],[0.6666666666666666,\"#ed7953\"],[0.7777777777777778,\"#fb9f3a\"],[0.8888888888888888,\"#fdca26\"],[1.0,\"#f0f921\"]],\"type\":\"histogram2d\"}],\"histogram\":[{\"marker\":{\"pattern\":{\"fillmode\":\"overlay\",\"size\":10,\"solidity\":0.2}},\"type\":\"histogram\"}],\"mesh3d\":[{\"colorbar\":{\"outlinewidth\":0,\"ticks\":\"\"},\"type\":\"mesh3d\"}],\"parcoords\":[{\"line\":{\"colorbar\":{\"outlinewidth\":0,\"ticks\":\"\"}},\"type\":\"parcoords\"}],\"pie\":[{\"automargin\":true,\"type\":\"pie\"}],\"scatter3d\":[{\"line\":{\"colorbar\":{\"outlinewidth\":0,\"ticks\":\"\"}},\"marker\":{\"colorbar\":{\"outlinewidth\":0,\"ticks\":\"\"}},\"type\":\"scatter3d\"}],\"scattercarpet\":[{\"marker\":{\"colorbar\":{\"outlinewidth\":0,\"ticks\":\"\"}},\"type\":\"scattercarpet\"}],\"scattergeo\":[{\"marker\":{\"colorbar\":{\"outlinewidth\":0,\"ticks\":\"\"}},\"type\":\"scattergeo\"}],\"scattergl\":[{\"marker\":{\"line\":{\"color\":\"#283442\"}},\"type\":\"scattergl\"}],\"scattermapbox\":[{\"marker\":{\"colorbar\":{\"outlinewidth\":0,\"ticks\":\"\"}},\"type\":\"scattermapbox\"}],\"scatterpolargl\":[{\"marker\":{\"colorbar\":{\"outlinewidth\":0,\"ticks\":\"\"}},\"type\":\"scatterpolargl\"}],\"scatterpolar\":[{\"marker\":{\"colorbar\":{\"outlinewidth\":0,\"ticks\":\"\"}},\"type\":\"scatterpolar\"}],\"scatter\":[{\"marker\":{\"line\":{\"color\":\"#283442\"}},\"type\":\"scatter\"}],\"scatterternary\":[{\"marker\":{\"colorbar\":{\"outlinewidth\":0,\"ticks\":\"\"}},\"type\":\"scatterternary\"}],\"surface\":[{\"colorbar\":{\"outlinewidth\":0,\"ticks\":\"\"},\"colorscale\":[[0.0,\"#0d0887\"],[0.1111111111111111,\"#46039f\"],[0.2222222222222222,\"#7201a8\"],[0.3333333333333333,\"#9c179e\"],[0.4444444444444444,\"#bd3786\"],[0.5555555555555556,\"#d8576b\"],[0.6666666666666666,\"#ed7953\"],[0.7777777777777778,\"#fb9f3a\"],[0.8888888888888888,\"#fdca26\"],[1.0,\"#f0f921\"]],\"type\":\"surface\"}],\"table\":[{\"cells\":{\"fill\":{\"color\":\"#506784\"},\"line\":{\"color\":\"rgb(17,17,17)\"}},\"header\":{\"fill\":{\"color\":\"#2a3f5f\"},\"line\":{\"color\":\"rgb(17,17,17)\"}},\"type\":\"table\"}]},\"layout\":{\"annotationdefaults\":{\"arrowcolor\":\"#f2f5fa\",\"arrowhead\":0,\"arrowwidth\":1},\"autotypenumbers\":\"strict\",\"coloraxis\":{\"colorbar\":{\"outlinewidth\":0,\"ticks\":\"\"}},\"colorscale\":{\"diverging\":[[0,\"#8e0152\"],[0.1,\"#c51b7d\"],[0.2,\"#de77ae\"],[0.3,\"#f1b6da\"],[0.4,\"#fde0ef\"],[0.5,\"#f7f7f7\"],[0.6,\"#e6f5d0\"],[0.7,\"#b8e186\"],[0.8,\"#7fbc41\"],[0.9,\"#4d9221\"],[1,\"#276419\"]],\"sequential\":[[0.0,\"#0d0887\"],[0.1111111111111111,\"#46039f\"],[0.2222222222222222,\"#7201a8\"],[0.3333333333333333,\"#9c179e\"],[0.4444444444444444,\"#bd3786\"],[0.5555555555555556,\"#d8576b\"],[0.6666666666666666,\"#ed7953\"],[0.7777777777777778,\"#fb9f3a\"],[0.8888888888888888,\"#fdca26\"],[1.0,\"#f0f921\"]],\"sequentialminus\":[[0.0,\"#0d0887\"],[0.1111111111111111,\"#46039f\"],[0.2222222222222222,\"#7201a8\"],[0.3333333333333333,\"#9c179e\"],[0.4444444444444444,\"#bd3786\"],[0.5555555555555556,\"#d8576b\"],[0.6666666666666666,\"#ed7953\"],[0.7777777777777778,\"#fb9f3a\"],[0.8888888888888888,\"#fdca26\"],[1.0,\"#f0f921\"]]},\"colorway\":[\"#636efa\",\"#EF553B\",\"#00cc96\",\"#ab63fa\",\"#FFA15A\",\"#19d3f3\",\"#FF6692\",\"#B6E880\",\"#FF97FF\",\"#FECB52\"],\"font\":{\"color\":\"#f2f5fa\"},\"geo\":{\"bgcolor\":\"rgb(17,17,17)\",\"lakecolor\":\"rgb(17,17,17)\",\"landcolor\":\"rgb(17,17,17)\",\"showlakes\":true,\"showland\":true,\"subunitcolor\":\"#506784\"},\"hoverlabel\":{\"align\":\"left\"},\"hovermode\":\"closest\",\"mapbox\":{\"style\":\"dark\"},\"paper_bgcolor\":\"rgb(17,17,17)\",\"plot_bgcolor\":\"rgb(17,17,17)\",\"polar\":{\"angularaxis\":{\"gridcolor\":\"#506784\",\"linecolor\":\"#506784\",\"ticks\":\"\"},\"bgcolor\":\"rgb(17,17,17)\",\"radialaxis\":{\"gridcolor\":\"#506784\",\"linecolor\":\"#506784\",\"ticks\":\"\"}},\"scene\":{\"xaxis\":{\"backgroundcolor\":\"rgb(17,17,17)\",\"gridcolor\":\"#506784\",\"gridwidth\":2,\"linecolor\":\"#506784\",\"showbackground\":true,\"ticks\":\"\",\"zerolinecolor\":\"#C8D4E3\"},\"yaxis\":{\"backgroundcolor\":\"rgb(17,17,17)\",\"gridcolor\":\"#506784\",\"gridwidth\":2,\"linecolor\":\"#506784\",\"showbackground\":true,\"ticks\":\"\",\"zerolinecolor\":\"#C8D4E3\"},\"zaxis\":{\"backgroundcolor\":\"rgb(17,17,17)\",\"gridcolor\":\"#506784\",\"gridwidth\":2,\"linecolor\":\"#506784\",\"showbackground\":true,\"ticks\":\"\",\"zerolinecolor\":\"#C8D4E3\"}},\"shapedefaults\":{\"line\":{\"color\":\"#f2f5fa\"}},\"sliderdefaults\":{\"bgcolor\":\"#C8D4E3\",\"bordercolor\":\"rgb(17,17,17)\",\"borderwidth\":1,\"tickwidth\":0},\"ternary\":{\"aaxis\":{\"gridcolor\":\"#506784\",\"linecolor\":\"#506784\",\"ticks\":\"\"},\"baxis\":{\"gridcolor\":\"#506784\",\"linecolor\":\"#506784\",\"ticks\":\"\"},\"bgcolor\":\"rgb(17,17,17)\",\"caxis\":{\"gridcolor\":\"#506784\",\"linecolor\":\"#506784\",\"ticks\":\"\"}},\"title\":{\"x\":0.05},\"updatemenudefaults\":{\"bgcolor\":\"#506784\",\"borderwidth\":0},\"xaxis\":{\"automargin\":true,\"gridcolor\":\"#283442\",\"linecolor\":\"#506784\",\"ticks\":\"\",\"title\":{\"standoff\":15},\"zerolinecolor\":\"#283442\",\"zerolinewidth\":2},\"yaxis\":{\"automargin\":true,\"gridcolor\":\"#283442\",\"linecolor\":\"#506784\",\"ticks\":\"\",\"title\":{\"standoff\":15},\"zerolinecolor\":\"#283442\",\"zerolinewidth\":2}}},\"xaxis\":{\"anchor\":\"y\",\"domain\":[0.0,1.0],\"title\":{\"text\":\"release_year\"}},\"yaxis\":{\"anchor\":\"x\",\"domain\":[0.0,1.0],\"title\":{\"text\":\"count\"}},\"legend\":{\"title\":{\"text\":\"type\"},\"tracegroupgap\":0},\"margin\":{\"t\":60},\"barmode\":\"group\",\"title\":{\"text\":\"TV shows and Movies released year wise\",\"x\":0.5}},                        {\"responsive\": true}                    ).then(function(){\n",
              "                            \n",
              "var gd = document.getElementById('8f3c3059-9bf8-4cb2-8f9b-8bd99af83a05');\n",
              "var x = new MutationObserver(function (mutations, observer) {{\n",
              "        var display = window.getComputedStyle(gd).display;\n",
              "        if (!display || display === 'none') {{\n",
              "            console.log([gd, 'removed!']);\n",
              "            Plotly.purge(gd);\n",
              "            observer.disconnect();\n",
              "        }}\n",
              "}});\n",
              "\n",
              "// Listen for the removal of the full notebook cells\n",
              "var notebookContainer = gd.closest('#notebook-container');\n",
              "if (notebookContainer) {{\n",
              "    x.observe(notebookContainer, {childList: true});\n",
              "}}\n",
              "\n",
              "// Listen for the clearing of the current output cell\n",
              "var outputEl = gd.closest('.output');\n",
              "if (outputEl) {{\n",
              "    x.observe(outputEl, {childList: true});\n",
              "}}\n",
              "\n",
              "                        })                };                            </script>        </div>\n",
              "</body>\n",
              "</html>"
            ]
          },
          "metadata": {}
        }
      ],
      "source": [
        "# visualization code\n",
        "px.histogram(dataset,x='release_year',color='type',color_discrete_sequence=['#Ff0000','#0000ff'],barmode='group',template='plotly_dark').update_layout(title_text='TV shows and Movies released year wise',title_x=0.5)"
      ]
    },
    {
      "cell_type": "markdown",
      "metadata": {
        "id": "fge-S5ZAYoAp"
      },
      "source": [
        "##### 1. Why did you pick the specific chart?"
      ]
    },
    {
      "cell_type": "markdown",
      "metadata": {
        "id": "5dBItgRVYoAp"
      },
      "source": [
        "Answer Here."
      ]
    },
    {
      "cell_type": "markdown",
      "metadata": {
        "id": "85gYPyotYoAp"
      },
      "source": [
        "##### 2. What is/are the insight(s) found from the chart?"
      ]
    },
    {
      "cell_type": "markdown",
      "metadata": {
        "id": "4jstXR6OYoAp"
      },
      "source": [
        "Answer Here"
      ]
    },
    {
      "cell_type": "markdown",
      "metadata": {
        "id": "RoGjAbkUYoAp"
      },
      "source": [
        "##### 3. Will the gained insights help creating a positive business impact? \n",
        "Are there any insights that lead to negative growth? Justify with specific reason."
      ]
    },
    {
      "cell_type": "markdown",
      "metadata": {
        "id": "zfJ8IqMcYoAp"
      },
      "source": [
        "Answer Here"
      ]
    },
    {
      "cell_type": "markdown",
      "metadata": {
        "id": "4Of9eVA-YrdM"
      },
      "source": [
        "#### Chart - 4"
      ]
    },
    {
      "cell_type": "code",
      "execution_count": 55,
      "metadata": {
        "id": "wjJHm1ZDrQjH"
      },
      "outputs": [],
      "source": [
        "actors_df=making_df_from_column('cast',['actors','appeared_in'])"
      ]
    },
    {
      "cell_type": "code",
      "execution_count": 56,
      "metadata": {
        "id": "irlUoxc8YrdO",
        "colab": {
          "base_uri": "https://localhost:8080/",
          "height": 0
        },
        "outputId": "900d47f8-ce80-4053-fa6b-40d7372c7de4"
      },
      "outputs": [
        {
          "output_type": "display_data",
          "data": {
            "text/html": [
              "<html>\n",
              "<head><meta charset=\"utf-8\" /></head>\n",
              "<body>\n",
              "    <div>            <script src=\"https://cdnjs.cloudflare.com/ajax/libs/mathjax/2.7.5/MathJax.js?config=TeX-AMS-MML_SVG\"></script><script type=\"text/javascript\">if (window.MathJax && window.MathJax.Hub && window.MathJax.Hub.Config) {window.MathJax.Hub.Config({SVG: {font: \"STIX-Web\"}});}</script>                <script type=\"text/javascript\">window.PlotlyConfig = {MathJaxConfig: 'local'};</script>\n",
              "        <script src=\"https://cdn.plot.ly/plotly-2.18.2.min.js\"></script>                <div id=\"1f17c757-3944-4ae6-adb5-0607ad3c892a\" class=\"plotly-graph-div\" style=\"height:525px; width:100%;\"></div>            <script type=\"text/javascript\">                                    window.PLOTLYENV=window.PLOTLYENV || {};                                    if (document.getElementById(\"1f17c757-3944-4ae6-adb5-0607ad3c892a\")) {                    Plotly.newPlot(                        \"1f17c757-3944-4ae6-adb5-0607ad3c892a\",                        [{\"alignmentgroup\":\"True\",\"hovertemplate\":\"actors=%{x}<br>appeared_in=%{y}<extra></extra>\",\"legendgroup\":\"\",\"marker\":{\"color\":\"#800020\",\"pattern\":{\"shape\":\"\"}},\"name\":\"\",\"offsetgroup\":\"\",\"orientation\":\"v\",\"showlegend\":false,\"textposition\":\"auto\",\"x\":[\" Anupam Kher\",\" Takahiro Sakurai\",\" Om Puri\",\"Shah Rukh Khan\",\" Boman Irani\",\" Paresh Rawal\",\" Andrea Libman\",\" Yuki Kaji\",\" Vincent Tong\",\"Akshay Kumar\",\" Kareena Kapoor\",\" John Cleese\",\"Adam Sandler\",\" Naseeruddin Shah\",\" Yashpal Sharma\",\"David Attenborough\",\" Ai Kayano\",\" Gulshan Grover\",\"Amitabh Bachchan\"],\"xaxis\":\"x\",\"y\":[38,28,27,27,25,24,24,23,22,22,20,20,19,18,18,18,18,18,18],\"yaxis\":\"y\",\"type\":\"bar\"}],                        {\"template\":{\"data\":{\"barpolar\":[{\"marker\":{\"line\":{\"color\":\"rgb(17,17,17)\",\"width\":0.5},\"pattern\":{\"fillmode\":\"overlay\",\"size\":10,\"solidity\":0.2}},\"type\":\"barpolar\"}],\"bar\":[{\"error_x\":{\"color\":\"#f2f5fa\"},\"error_y\":{\"color\":\"#f2f5fa\"},\"marker\":{\"line\":{\"color\":\"rgb(17,17,17)\",\"width\":0.5},\"pattern\":{\"fillmode\":\"overlay\",\"size\":10,\"solidity\":0.2}},\"type\":\"bar\"}],\"carpet\":[{\"aaxis\":{\"endlinecolor\":\"#A2B1C6\",\"gridcolor\":\"#506784\",\"linecolor\":\"#506784\",\"minorgridcolor\":\"#506784\",\"startlinecolor\":\"#A2B1C6\"},\"baxis\":{\"endlinecolor\":\"#A2B1C6\",\"gridcolor\":\"#506784\",\"linecolor\":\"#506784\",\"minorgridcolor\":\"#506784\",\"startlinecolor\":\"#A2B1C6\"},\"type\":\"carpet\"}],\"choropleth\":[{\"colorbar\":{\"outlinewidth\":0,\"ticks\":\"\"},\"type\":\"choropleth\"}],\"contourcarpet\":[{\"colorbar\":{\"outlinewidth\":0,\"ticks\":\"\"},\"type\":\"contourcarpet\"}],\"contour\":[{\"colorbar\":{\"outlinewidth\":0,\"ticks\":\"\"},\"colorscale\":[[0.0,\"#0d0887\"],[0.1111111111111111,\"#46039f\"],[0.2222222222222222,\"#7201a8\"],[0.3333333333333333,\"#9c179e\"],[0.4444444444444444,\"#bd3786\"],[0.5555555555555556,\"#d8576b\"],[0.6666666666666666,\"#ed7953\"],[0.7777777777777778,\"#fb9f3a\"],[0.8888888888888888,\"#fdca26\"],[1.0,\"#f0f921\"]],\"type\":\"contour\"}],\"heatmapgl\":[{\"colorbar\":{\"outlinewidth\":0,\"ticks\":\"\"},\"colorscale\":[[0.0,\"#0d0887\"],[0.1111111111111111,\"#46039f\"],[0.2222222222222222,\"#7201a8\"],[0.3333333333333333,\"#9c179e\"],[0.4444444444444444,\"#bd3786\"],[0.5555555555555556,\"#d8576b\"],[0.6666666666666666,\"#ed7953\"],[0.7777777777777778,\"#fb9f3a\"],[0.8888888888888888,\"#fdca26\"],[1.0,\"#f0f921\"]],\"type\":\"heatmapgl\"}],\"heatmap\":[{\"colorbar\":{\"outlinewidth\":0,\"ticks\":\"\"},\"colorscale\":[[0.0,\"#0d0887\"],[0.1111111111111111,\"#46039f\"],[0.2222222222222222,\"#7201a8\"],[0.3333333333333333,\"#9c179e\"],[0.4444444444444444,\"#bd3786\"],[0.5555555555555556,\"#d8576b\"],[0.6666666666666666,\"#ed7953\"],[0.7777777777777778,\"#fb9f3a\"],[0.8888888888888888,\"#fdca26\"],[1.0,\"#f0f921\"]],\"type\":\"heatmap\"}],\"histogram2dcontour\":[{\"colorbar\":{\"outlinewidth\":0,\"ticks\":\"\"},\"colorscale\":[[0.0,\"#0d0887\"],[0.1111111111111111,\"#46039f\"],[0.2222222222222222,\"#7201a8\"],[0.3333333333333333,\"#9c179e\"],[0.4444444444444444,\"#bd3786\"],[0.5555555555555556,\"#d8576b\"],[0.6666666666666666,\"#ed7953\"],[0.7777777777777778,\"#fb9f3a\"],[0.8888888888888888,\"#fdca26\"],[1.0,\"#f0f921\"]],\"type\":\"histogram2dcontour\"}],\"histogram2d\":[{\"colorbar\":{\"outlinewidth\":0,\"ticks\":\"\"},\"colorscale\":[[0.0,\"#0d0887\"],[0.1111111111111111,\"#46039f\"],[0.2222222222222222,\"#7201a8\"],[0.3333333333333333,\"#9c179e\"],[0.4444444444444444,\"#bd3786\"],[0.5555555555555556,\"#d8576b\"],[0.6666666666666666,\"#ed7953\"],[0.7777777777777778,\"#fb9f3a\"],[0.8888888888888888,\"#fdca26\"],[1.0,\"#f0f921\"]],\"type\":\"histogram2d\"}],\"histogram\":[{\"marker\":{\"pattern\":{\"fillmode\":\"overlay\",\"size\":10,\"solidity\":0.2}},\"type\":\"histogram\"}],\"mesh3d\":[{\"colorbar\":{\"outlinewidth\":0,\"ticks\":\"\"},\"type\":\"mesh3d\"}],\"parcoords\":[{\"line\":{\"colorbar\":{\"outlinewidth\":0,\"ticks\":\"\"}},\"type\":\"parcoords\"}],\"pie\":[{\"automargin\":true,\"type\":\"pie\"}],\"scatter3d\":[{\"line\":{\"colorbar\":{\"outlinewidth\":0,\"ticks\":\"\"}},\"marker\":{\"colorbar\":{\"outlinewidth\":0,\"ticks\":\"\"}},\"type\":\"scatter3d\"}],\"scattercarpet\":[{\"marker\":{\"colorbar\":{\"outlinewidth\":0,\"ticks\":\"\"}},\"type\":\"scattercarpet\"}],\"scattergeo\":[{\"marker\":{\"colorbar\":{\"outlinewidth\":0,\"ticks\":\"\"}},\"type\":\"scattergeo\"}],\"scattergl\":[{\"marker\":{\"line\":{\"color\":\"#283442\"}},\"type\":\"scattergl\"}],\"scattermapbox\":[{\"marker\":{\"colorbar\":{\"outlinewidth\":0,\"ticks\":\"\"}},\"type\":\"scattermapbox\"}],\"scatterpolargl\":[{\"marker\":{\"colorbar\":{\"outlinewidth\":0,\"ticks\":\"\"}},\"type\":\"scatterpolargl\"}],\"scatterpolar\":[{\"marker\":{\"colorbar\":{\"outlinewidth\":0,\"ticks\":\"\"}},\"type\":\"scatterpolar\"}],\"scatter\":[{\"marker\":{\"line\":{\"color\":\"#283442\"}},\"type\":\"scatter\"}],\"scatterternary\":[{\"marker\":{\"colorbar\":{\"outlinewidth\":0,\"ticks\":\"\"}},\"type\":\"scatterternary\"}],\"surface\":[{\"colorbar\":{\"outlinewidth\":0,\"ticks\":\"\"},\"colorscale\":[[0.0,\"#0d0887\"],[0.1111111111111111,\"#46039f\"],[0.2222222222222222,\"#7201a8\"],[0.3333333333333333,\"#9c179e\"],[0.4444444444444444,\"#bd3786\"],[0.5555555555555556,\"#d8576b\"],[0.6666666666666666,\"#ed7953\"],[0.7777777777777778,\"#fb9f3a\"],[0.8888888888888888,\"#fdca26\"],[1.0,\"#f0f921\"]],\"type\":\"surface\"}],\"table\":[{\"cells\":{\"fill\":{\"color\":\"#506784\"},\"line\":{\"color\":\"rgb(17,17,17)\"}},\"header\":{\"fill\":{\"color\":\"#2a3f5f\"},\"line\":{\"color\":\"rgb(17,17,17)\"}},\"type\":\"table\"}]},\"layout\":{\"annotationdefaults\":{\"arrowcolor\":\"#f2f5fa\",\"arrowhead\":0,\"arrowwidth\":1},\"autotypenumbers\":\"strict\",\"coloraxis\":{\"colorbar\":{\"outlinewidth\":0,\"ticks\":\"\"}},\"colorscale\":{\"diverging\":[[0,\"#8e0152\"],[0.1,\"#c51b7d\"],[0.2,\"#de77ae\"],[0.3,\"#f1b6da\"],[0.4,\"#fde0ef\"],[0.5,\"#f7f7f7\"],[0.6,\"#e6f5d0\"],[0.7,\"#b8e186\"],[0.8,\"#7fbc41\"],[0.9,\"#4d9221\"],[1,\"#276419\"]],\"sequential\":[[0.0,\"#0d0887\"],[0.1111111111111111,\"#46039f\"],[0.2222222222222222,\"#7201a8\"],[0.3333333333333333,\"#9c179e\"],[0.4444444444444444,\"#bd3786\"],[0.5555555555555556,\"#d8576b\"],[0.6666666666666666,\"#ed7953\"],[0.7777777777777778,\"#fb9f3a\"],[0.8888888888888888,\"#fdca26\"],[1.0,\"#f0f921\"]],\"sequentialminus\":[[0.0,\"#0d0887\"],[0.1111111111111111,\"#46039f\"],[0.2222222222222222,\"#7201a8\"],[0.3333333333333333,\"#9c179e\"],[0.4444444444444444,\"#bd3786\"],[0.5555555555555556,\"#d8576b\"],[0.6666666666666666,\"#ed7953\"],[0.7777777777777778,\"#fb9f3a\"],[0.8888888888888888,\"#fdca26\"],[1.0,\"#f0f921\"]]},\"colorway\":[\"#636efa\",\"#EF553B\",\"#00cc96\",\"#ab63fa\",\"#FFA15A\",\"#19d3f3\",\"#FF6692\",\"#B6E880\",\"#FF97FF\",\"#FECB52\"],\"font\":{\"color\":\"#f2f5fa\"},\"geo\":{\"bgcolor\":\"rgb(17,17,17)\",\"lakecolor\":\"rgb(17,17,17)\",\"landcolor\":\"rgb(17,17,17)\",\"showlakes\":true,\"showland\":true,\"subunitcolor\":\"#506784\"},\"hoverlabel\":{\"align\":\"left\"},\"hovermode\":\"closest\",\"mapbox\":{\"style\":\"dark\"},\"paper_bgcolor\":\"rgb(17,17,17)\",\"plot_bgcolor\":\"rgb(17,17,17)\",\"polar\":{\"angularaxis\":{\"gridcolor\":\"#506784\",\"linecolor\":\"#506784\",\"ticks\":\"\"},\"bgcolor\":\"rgb(17,17,17)\",\"radialaxis\":{\"gridcolor\":\"#506784\",\"linecolor\":\"#506784\",\"ticks\":\"\"}},\"scene\":{\"xaxis\":{\"backgroundcolor\":\"rgb(17,17,17)\",\"gridcolor\":\"#506784\",\"gridwidth\":2,\"linecolor\":\"#506784\",\"showbackground\":true,\"ticks\":\"\",\"zerolinecolor\":\"#C8D4E3\"},\"yaxis\":{\"backgroundcolor\":\"rgb(17,17,17)\",\"gridcolor\":\"#506784\",\"gridwidth\":2,\"linecolor\":\"#506784\",\"showbackground\":true,\"ticks\":\"\",\"zerolinecolor\":\"#C8D4E3\"},\"zaxis\":{\"backgroundcolor\":\"rgb(17,17,17)\",\"gridcolor\":\"#506784\",\"gridwidth\":2,\"linecolor\":\"#506784\",\"showbackground\":true,\"ticks\":\"\",\"zerolinecolor\":\"#C8D4E3\"}},\"shapedefaults\":{\"line\":{\"color\":\"#f2f5fa\"}},\"sliderdefaults\":{\"bgcolor\":\"#C8D4E3\",\"bordercolor\":\"rgb(17,17,17)\",\"borderwidth\":1,\"tickwidth\":0},\"ternary\":{\"aaxis\":{\"gridcolor\":\"#506784\",\"linecolor\":\"#506784\",\"ticks\":\"\"},\"baxis\":{\"gridcolor\":\"#506784\",\"linecolor\":\"#506784\",\"ticks\":\"\"},\"bgcolor\":\"rgb(17,17,17)\",\"caxis\":{\"gridcolor\":\"#506784\",\"linecolor\":\"#506784\",\"ticks\":\"\"}},\"title\":{\"x\":0.05},\"updatemenudefaults\":{\"bgcolor\":\"#506784\",\"borderwidth\":0},\"xaxis\":{\"automargin\":true,\"gridcolor\":\"#283442\",\"linecolor\":\"#506784\",\"ticks\":\"\",\"title\":{\"standoff\":15},\"zerolinecolor\":\"#283442\",\"zerolinewidth\":2},\"yaxis\":{\"automargin\":true,\"gridcolor\":\"#283442\",\"linecolor\":\"#506784\",\"ticks\":\"\",\"title\":{\"standoff\":15},\"zerolinecolor\":\"#283442\",\"zerolinewidth\":2}}},\"xaxis\":{\"anchor\":\"y\",\"domain\":[0.0,1.0],\"title\":{\"text\":\"actors\"}},\"yaxis\":{\"anchor\":\"x\",\"domain\":[0.0,1.0],\"title\":{\"text\":\"appeared_in\"}},\"legend\":{\"tracegroupgap\":0},\"margin\":{\"t\":60},\"barmode\":\"relative\",\"title\":{\"text\":\"Top 20 Actors\",\"x\":0.5}},                        {\"responsive\": true}                    ).then(function(){\n",
              "                            \n",
              "var gd = document.getElementById('1f17c757-3944-4ae6-adb5-0607ad3c892a');\n",
              "var x = new MutationObserver(function (mutations, observer) {{\n",
              "        var display = window.getComputedStyle(gd).display;\n",
              "        if (!display || display === 'none') {{\n",
              "            console.log([gd, 'removed!']);\n",
              "            Plotly.purge(gd);\n",
              "            observer.disconnect();\n",
              "        }}\n",
              "}});\n",
              "\n",
              "// Listen for the removal of the full notebook cells\n",
              "var notebookContainer = gd.closest('#notebook-container');\n",
              "if (notebookContainer) {{\n",
              "    x.observe(notebookContainer, {childList: true});\n",
              "}}\n",
              "\n",
              "// Listen for the clearing of the current output cell\n",
              "var outputEl = gd.closest('.output');\n",
              "if (outputEl) {{\n",
              "    x.observe(outputEl, {childList: true});\n",
              "}}\n",
              "\n",
              "                        })                };                            </script>        </div>\n",
              "</body>\n",
              "</html>"
            ]
          },
          "metadata": {}
        }
      ],
      "source": [
        "# visualization code\n",
        "px.bar(actors_df.sort_values(by='appeared_in',ascending=False)[1:20],x='actors',y='appeared_in',template='plotly_dark',color_discrete_sequence=['#800020']).update_layout(title_text='Top 20 Actors',title_x=0.5)"
      ]
    },
    {
      "cell_type": "markdown",
      "metadata": {
        "id": "iky9q4vBYrdO"
      },
      "source": [
        "##### 1. Why did you pick the specific chart?"
      ]
    },
    {
      "cell_type": "markdown",
      "metadata": {
        "id": "aJRCwT6DYrdO"
      },
      "source": [
        "Answer Here."
      ]
    },
    {
      "cell_type": "markdown",
      "metadata": {
        "id": "F6T5p64dYrdO"
      },
      "source": [
        "##### 2. What is/are the insight(s) found from the chart?"
      ]
    },
    {
      "cell_type": "markdown",
      "metadata": {
        "id": "Xx8WAJvtYrdO"
      },
      "source": [
        "Answer Here"
      ]
    },
    {
      "cell_type": "markdown",
      "metadata": {
        "id": "y-Ehk30pYrdP"
      },
      "source": [
        "##### 3. Will the gained insights help creating a positive business impact? \n",
        "Are there any insights that lead to negative growth? Justify with specific reason."
      ]
    },
    {
      "cell_type": "markdown",
      "metadata": {
        "id": "jLNxxz7MYrdP"
      },
      "source": [
        "Answer Here"
      ]
    },
    {
      "cell_type": "markdown",
      "metadata": {
        "id": "bamQiAODYuh1"
      },
      "source": [
        "#### Chart - 5. Top 10 Directors"
      ]
    },
    {
      "cell_type": "code",
      "execution_count": 57,
      "metadata": {
        "id": "TIJwrbroYuh3",
        "outputId": "35383739-f643-4973-d642-f5b8f51acbee",
        "colab": {
          "base_uri": "https://localhost:8080/",
          "height": 0
        }
      },
      "outputs": [
        {
          "output_type": "display_data",
          "data": {
            "text/plain": [
              "<Figure size 1000x600 with 1 Axes>"
            ],
            "image/png": "[encoded data removed]"
          },
          "metadata": {}
        }
      ],
      "source": [
        "# visualization code\n",
        "plt.figure(facecolor='#00FFFF')\n",
        "plt.axes().set_facecolor(\"black\")\n",
        "dataset['director'].value_counts()[1:11].plot(kind='bar',color='#00FFFF')\n",
        "plt.title('Top 10 Directors')\n",
        "plt.ylabel('count')\n",
        "plt.show()"
      ]
    },
    {
      "cell_type": "markdown",
      "metadata": {
        "id": "QHF8YVU7Yuh3"
      },
      "source": [
        "##### 1. Why did you pick the specific chart?"
      ]
    },
    {
      "cell_type": "markdown",
      "metadata": {
        "id": "dcxuIMRPYuh3"
      },
      "source": [
        "Answer Here."
      ]
    },
    {
      "cell_type": "markdown",
      "metadata": {
        "id": "GwzvFGzlYuh3"
      },
      "source": [
        "##### 2. What is/are the insight(s) found from the chart?"
      ]
    },
    {
      "cell_type": "markdown",
      "metadata": {
        "id": "uyqkiB8YYuh3"
      },
      "source": [
        "Answer Here"
      ]
    },
    {
      "cell_type": "markdown",
      "metadata": {
        "id": "qYpmQ266Yuh3"
      },
      "source": [
        "##### 3. Will the gained insights help creating a positive business impact? \n",
        "Are there any insights that lead to negative growth? Justify with specific reason."
      ]
    },
    {
      "cell_type": "markdown",
      "metadata": {
        "id": "_WtzZ_hCYuh4"
      },
      "source": [
        "Answer Here"
      ]
    },
    {
      "cell_type": "markdown",
      "metadata": {
        "id": "OH-pJp9IphqM"
      },
      "source": [
        "#### Chart - 6. Number of Movies and Tv Shows for different show Ratings"
      ]
    },
    {
      "cell_type": "code",
      "execution_count": 58,
      "metadata": {
        "id": "kuRf4wtuphqN",
        "outputId": "10bc654d-8d74-4fe5-e09d-35562ad4ed90",
        "colab": {
          "base_uri": "https://localhost:8080/",
          "height": 0
        }
      },
      "outputs": [
        {
          "output_type": "display_data",
          "data": {
            "text/html": [
              "<html>\n",
              "<head><meta charset=\"utf-8\" /></head>\n",
              "<body>\n",
              "    <div>            <script src=\"https://cdnjs.cloudflare.com/ajax/libs/mathjax/2.7.5/MathJax.js?config=TeX-AMS-MML_SVG\"></script><script type=\"text/javascript\">if (window.MathJax && window.MathJax.Hub && window.MathJax.Hub.Config) {window.MathJax.Hub.Config({SVG: {font: \"STIX-Web\"}});}</script>                <script type=\"text/javascript\">window.PlotlyConfig = {MathJaxConfig: 'local'};</script>\n",
              "        <script src=\"https://cdn.plot.ly/plotly-2.18.2.min.js\"></script>                <div id=\"d9cbffc7-4553-42fb-ae8a-b8119fb8b5a1\" class=\"plotly-graph-div\" style=\"height:525px; width:100%;\"></div>            <script type=\"text/javascript\">                                    window.PLOTLYENV=window.PLOTLYENV || {};                                    if (document.getElementById(\"d9cbffc7-4553-42fb-ae8a-b8119fb8b5a1\")) {                    Plotly.newPlot(                        \"d9cbffc7-4553-42fb-ae8a-b8119fb8b5a1\",                        [{\"alignmentgroup\":\"True\",\"bingroup\":\"x\",\"hovertemplate\":\"type=TV Show<br>rating=%{x}<br>count=%{y}<extra></extra>\",\"legendgroup\":\"TV Show\",\"marker\":{\"color\":\"#FF69B4\",\"pattern\":{\"shape\":\"\"}},\"name\":\"TV Show\",\"offsetgroup\":\"TV Show\",\"orientation\":\"v\",\"showlegend\":true,\"x\":[\"TV-MA\",\"TV-MA\",\"TV-MA\",\"TV-MA\",\"TV-14\",\"TV-14\",\"TV-MA\",\"TV-MA\",\"TV-14\",\"TV-MA\",\"TV-14\",\"TV-14\",\"TV-14\",\"TV-14\",\"TV-MA\",\"TV-MA\",\"TV-MA\",\"TV-MA\",\"TV-14\",\"TV-MA\",\"TV-PG\",\"TV-Y7\",\"TV-Y7\",\"TV-MA\",\"TV-MA\",\"TV-14\",\"TV-PG\",\"TV-PG\",\"TV-14\",\"TV-14\",\"TV-PG\",\"TV-MA\",\"TV-PG\",\"TV-MA\",\"TV-14\",\"TV-PG\",\"TV-MA\",\"TV-14\",\"TV-G\",\"TV-G\",\"TV-PG\",\"TV-14\",\"TV-14\",\"TV-14\",\"TV-PG\",\"TV-MA\",\"TV-14\",\"TV-MA\",\"TV-MA\",\"TV-PG\",\"TV-MA\",\"TV-14\",\"TV-14\",\"TV-Y\",\"TV-PG\",\"TV-14\",\"TV-PG\",\"TV-14\",\"TV-14\",\"TV-MA\",\"TV-14\",\"TV-MA\",\"TV-PG\",\"TV-PG\",\"TV-MA\",\"TV-14\",\"TV-MA\",\"TV-MA\",\"TV-MA\",\"TV-PG\",\"TV-MA\",\"TV-14\",\"TV-14\",\"TV-14\",\"TV-MA\",\"TV-PG\",\"TV-14\",\"TV-PG\",\"TV-MA\",\"TV-14\",\"TV-G\",\"TV-14\",\"TV-14\",\"TV-G\",\"TV-MA\",\"TV-MA\",\"TV-Y7\",\"TV-PG\",\"TV-PG\",\"TV-14\",\"TV-MA\",\"TV-Y7\",\"TV-Y7\",\"TV-MA\",\"TV-14\",\"TV-Y\",\"TV-MA\",\"TV-14\",\"TV-PG\",\"TV-14\",\"TV-14\",\"TV-MA\",\"TV-MA\",\"TV-PG\",\"TV-MA\",\"TV-14\",\"TV-MA\",\"TV-MA\",\"TV-14\",\"TV-14\",\"TV-14\",\"TV-PG\",\"TV-Y7\",\"TV-MA\",\"TV-14\",\"TV-14\",\"TV-PG\",\"TV-14\",\"TV-MA\",\"TV-MA\",\"TV-MA\",\"TV-PG\",\"TV-Y7\",\"TV-MA\",\"TV-MA\",\"TV-MA\",\"TV-PG\",\"TV-Y7\",\"TV-14\",\"TV-MA\",\"TV-MA\",\"TV-MA\",\"TV-MA\",\"TV-14\",\"TV-MA\",\"TV-MA\",\"TV-14\",\"TV-PG\",\"TV-Y\",\"TV-MA\",\"TV-14\",\"TV-PG\",\"TV-Y7\",\"TV-MA\",\"TV-14\",\"TV-MA\",\"TV-MA\",\"TV-14\",\"TV-Y7\",\"TV-PG\",\"TV-14\",\"TV-PG\",\"TV-MA\",\"TV-14\",\"TV-MA\",\"TV-MA\",\"TV-MA\",\"TV-MA\",\"TV-PG\",\"TV-MA\",\"TV-MA\",\"TV-14\",\"TV-MA\",\"TV-MA\",\"TV-MA\",\"TV-14\",\"TV-MA\",\"TV-MA\",\"TV-Y7\",\"TV-PG\",\"TV-Y7\",\"TV-MA\",\"TV-MA\",\"TV-MA\",\"TV-14\",\"TV-14\",\"TV-14\",\"TV-14\",\"TV-MA\",\"TV-Y\",\"TV-Y\",\"TV-Y\",\"TV-MA\",\"TV-PG\",\"TV-Y\",\"TV-MA\",\"TV-14\",\"TV-PG\",\"TV-MA\",\"TV-PG\",\"TV-14\",\"TV-Y\",\"TV-PG\",\"TV-MA\",\"TV-Y\",\"TV-14\",\"TV-14\",\"TV-MA\",\"TV-14\",\"TV-G\",\"TV-MA\",\"TV-14\",\"TV-MA\",\"TV-MA\",\"TV-14\",\"TV-G\",\"TV-Y\",\"TV-Y7\",\"TV-G\",\"TV-14\",\"TV-PG\",\"TV-MA\",\"TV-MA\",\"TV-MA\",\"TV-14\",\"TV-Y7\",\"TV-Y\",\"TV-Y7\",\"TV-Y7\",\"TV-Y7\",\"TV-14\",\"TV-PG\",\"TV-MA\",\"TV-14\",\"TV-PG\",\"TV-G\",\"TV-G\",\"TV-MA\",\"TV-14\",\"TV-14\",\"TV-MA\",\"TV-MA\",\"TV-MA\",\"TV-MA\",\"TV-14\",\"TV-MA\",\"TV-14\",\"TV-14\",\"TV-14\",\"TV-MA\",\"TV-MA\",\"TV-MA\",\"TV-MA\",\"TV-MA\",\"TV-14\",\"TV-MA\",\"TV-14\",\"TV-MA\",\"TV-MA\",\"TV-MA\",\"TV-MA\",\"TV-MA\",\"TV-14\",\"TV-MA\",\"TV-G\",\"TV-14\",\"TV-Y\",\"TV-G\",\"TV-MA\",\"TV-PG\",\"TV-MA\",\"TV-MA\",\"TV-PG\",\"TV-MA\",\"TV-MA\",\"TV-Y7\",\"TV-Y\",\"TV-PG\",\"TV-14\",\"TV-14\",\"TV-MA\",\"TV-MA\",\"TV-MA\",\"TV-MA\",\"TV-MA\",\"TV-Y7\",\"TV-14\",\"TV-14\",\"TV-G\",\"TV-G\",\"TV-14\",\"TV-PG\",\"TV-Y\",\"TV-MA\",\"TV-MA\",\"TV-MA\",\"TV-14\",\"TV-MA\",\"TV-MA\",\"TV-MA\",\"TV-14\",\"TV-14\",\"TV-MA\",\"TV-14\",\"TV-PG\",\"TV-MA\",\"TV-14\",\"TV-PG\",\"TV-Y\",\"TV-Y7\",\"TV-MA\",\"TV-G\",\"TV-PG\",\"TV-MA\",\"TV-MA\",\"TV-14\",\"TV-PG\",\"TV-MA\",\"TV-MA\",\"TV-MA\",\"TV-Y\",\"TV-Y\",\"TV-MA\",\"TV-14\",\"TV-MA\",\"TV-MA\",\"TV-14\",\"TV-14\",\"TV-MA\",\"TV-14\",\"TV-MA\",\"TV-MA\",\"TV-MA\",\"TV-MA\",\"TV-MA\",\"TV-MA\",\"TV-PG\",\"TV-Y7\",\"TV-Y\",\"TV-Y\",\"TV-14\",\"TV-Y7\",\"TV-MA\",\"TV-MA\",\"TV-14\",\"TV-MA\",\"TV-MA\",\"TV-MA\",\"TV-MA\",\"TV-MA\",\"TV-PG\",\"TV-14\",\"TV-MA\",\"TV-14\",\"TV-MA\",\"TV-MA\",\"TV-Y\",\"TV-14\",\"TV-14\",\"TV-PG\",\"TV-14\",\"TV-14\",\"TV-MA\",\"TV-PG\",\"TV-PG\",\"TV-14\",\"TV-PG\",\"TV-MA\",\"TV-14\",\"TV-14\",\"TV-MA\",\"TV-MA\",\"TV-MA\",\"TV-14\",\"TV-MA\",\"TV-Y\",\"TV-Y7\",\"TV-14\",\"TV-MA\",\"TV-Y\",\"TV-14\",\"TV-14\",\"TV-14\",\"TV-G\",\"TV-14\",\"TV-Y\",\"TV-14\",\"TV-14\",\"TV-MA\",\"TV-Y\",\"TV-Y\",\"TV-Y7\",\"TV-MA\",\"TV-PG\",\"TV-14\",\"TV-PG\",\"TV-14\",\"TV-PG\",\"TV-PG\",\"TV-14\",\"TV-PG\",\"TV-PG\",\"TV-Y\",\"TV-MA\",\"TV-14\",\"TV-14\",\"TV-MA\",\"TV-MA\",\"TV-MA\",\"TV-MA\",\"TV-MA\",\"TV-MA\",\"TV-MA\",\"TV-MA\",\"TV-MA\",\"TV-14\",\"TV-14\",\"TV-MA\",\"TV-Y\",\"TV-Y\",\"TV-MA\",\"TV-Y7\",\"TV-14\",\"TV-MA\",\"TV-MA\",\"TV-MA\",\"TV-14\",\"TV-PG\",\"TV-14\",\"TV-MA\",\"TV-14\",\"TV-14\",\"TV-14\",\"TV-14\",\"TV-14\",\"TV-14\",\"TV-MA\",\"TV-MA\",\"TV-MA\",\"TV-14\",\"TV-MA\",\"TV-MA\",\"TV-PG\",\"TV-PG\",\"TV-MA\",\"TV-14\",\"TV-MA\",\"TV-PG\",\"TV-MA\",\"TV-MA\",\"TV-MA\",\"TV-Y\",\"TV-PG\",\"TV-MA\",\"TV-MA\",\"TV-MA\",\"TV-MA\",\"TV-14\",\"TV-MA\",\"TV-MA\",\"TV-MA\",\"TV-MA\",\"TV-MA\",\"TV-Y7\",\"TV-MA\",\"TV-MA\",\"TV-MA\",\"TV-14\",\"TV-14\",\"TV-PG\",\"TV-PG\",\"TV-MA\",\"TV-Y\",\"TV-PG\",\"TV-PG\",\"TV-14\",\"TV-MA\",\"TV-Y7\",\"TV-Y\",\"TV-MA\",\"TV-MA\",\"TV-MA\",\"TV-MA\",\"TV-MA\",\"TV-PG\",\"TV-MA\",\"TV-MA\",\"TV-14\",\"TV-MA\",\"TV-14\",\"TV-14\",\"TV-MA\",\"TV-MA\",\"TV-14\",\"TV-Y7\",\"TV-14\",\"TV-MA\",\"TV-MA\",\"TV-MA\",\"TV-Y7\",\"TV-14\",\"TV-MA\",\"TV-MA\",\"TV-MA\",\"TV-MA\",\"TV-MA\",\"TV-MA\",\"TV-PG\",\"TV-MA\",\"TV-MA\",\"TV-14\",\"TV-MA\",\"TV-14\",\"TV-14\",\"TV-Y\",\"TV-MA\",\"TV-MA\",\"TV-MA\",\"TV-14\",\"TV-MA\",\"TV-MA\",\"TV-PG\",\"TV-MA\",\"TV-PG\",\"TV-14\",\"TV-MA\",\"TV-14\",\"TV-MA\",\"TV-PG\",\"TV-MA\",\"TV-Y7\",\"TV-G\",\"TV-Y7\",\"TV-Y7\",\"TV-Y7\",\"TV-MA\",\"TV-MA\",\"TV-MA\",\"TV-14\",\"TV-MA\",\"TV-MA\",\"TV-14\",\"TV-MA\",\"TV-14\",\"TV-PG\",\"TV-MA\",\"TV-MA\",\"TV-14\",\"TV-MA\",\"TV-14\",\"TV-MA\",\"TV-MA\",\"TV-PG\",\"TV-14\",\"TV-14\",\"TV-MA\",\"TV-Y7\",\"TV-Y\",\"TV-14\",\"TV-G\",\"TV-PG\",\"TV-PG\",\"TV-PG\",\"TV-PG\",\"TV-PG\",\"TV-PG\",\"TV-PG\",\"TV-14\",\"TV-MA\",\"TV-MA\",\"TV-MA\",\"TV-MA\",\"TV-14\",\"TV-MA\",\"TV-14\",\"TV-Y\",\"TV-PG\",\"TV-14\",\"TV-MA\",\"TV-MA\",\"TV-MA\",\"TV-Y7\",\"TV-G\",\"TV-MA\",\"TV-MA\",\"NR\",\"TV-MA\",\"TV-MA\",\"TV-MA\",\"TV-PG\",\"TV-14\",\"TV-MA\",\"TV-MA\",\"TV-MA\",\"TV-MA\",\"TV-MA\",\"TV-MA\",\"TV-MA\",\"TV-MA\",\"TV-MA\",\"TV-Y\",\"TV-PG\",\"TV-14\",\"TV-MA\",\"TV-14\",\"TV-MA\",\"TV-MA\",\"TV-14\",\"TV-MA\",\"TV-Y7\",\"TV-MA\",\"TV-14\",\"TV-14\",\"TV-14\",\"TV-MA\",\"TV-14\",\"TV-PG\",\"TV-Y7\",\"TV-PG\",\"TV-14\",\"TV-14\",\"TV-MA\",\"TV-14\",\"TV-MA\",\"TV-14\",\"TV-MA\",\"TV-MA\",\"TV-MA\",\"TV-MA\",\"TV-MA\",\"TV-14\",\"TV-14\",\"TV-MA\",\"TV-MA\",\"TV-MA\",\"TV-G\",\"TV-14\",\"TV-MA\",\"TV-MA\",\"TV-MA\",\"TV-MA\",\"TV-PG\",\"TV-Y7\",\"TV-14\",\"TV-MA\",\"TV-Y7\",\"TV-MA\",\"TV-MA\",\"TV-MA\",\"TV-MA\",\"TV-14\",\"TV-MA\",\"TV-14\",\"TV-MA\",\"TV-MA\",\"TV-MA\",\"TV-MA\",\"TV-MA\",\"TV-14\",\"TV-MA\",\"TV-14\",\"TV-PG\",\"TV-14\",\"TV-MA\",\"TV-Y\",\"TV-MA\",\"TV-PG\",\"TV-14\",\"TV-MA\",\"TV-G\",\"TV-MA\",\"TV-G\",\"TV-PG\",\"TV-MA\",\"TV-PG\",\"TV-Y7\",\"TV-MA\",\"TV-MA\",\"TV-MA\",\"TV-MA\",\"TV-PG\",\"TV-14\",\"TV-14\",\"TV-PG\",\"TV-MA\",\"TV-14\",\"TV-14\",\"TV-MA\",\"TV-MA\",\"TV-MA\",\"TV-MA\",\"TV-PG\",\"TV-G\",\"TV-14\",\"TV-MA\",\"TV-PG\",\"TV-14\",\"TV-MA\",\"TV-MA\",\"TV-MA\",\"TV-PG\",\"TV-MA\",\"TV-Y\",\"TV-PG\",\"TV-14\",\"TV-14\",\"TV-Y\",\"TV-14\",\"TV-PG\",\"TV-G\",\"TV-MA\",\"TV-14\",\"TV-PG\",\"unknown\",\"TV-PG\",\"TV-PG\",\"TV-PG\",\"TV-MA\",\"TV-MA\",\"TV-Y\",\"TV-PG\",\"TV-PG\",\"TV-MA\",\"TV-14\",\"TV-14\",\"TV-MA\",\"TV-Y\",\"TV-14\",\"TV-14\",\"TV-MA\",\"TV-MA\",\"TV-MA\",\"TV-14\",\"TV-MA\",\"TV-MA\",\"TV-MA\",\"TV-PG\",\"TV-14\",\"TV-MA\",\"TV-Y7\",\"TV-Y7\",\"TV-Y7\",\"TV-MA\",\"TV-14\",\"TV-14\",\"TV-Y\",\"TV-PG\",\"TV-14\",\"TV-MA\",\"TV-14\",\"TV-MA\",\"TV-Y\",\"TV-MA\",\"TV-14\",\"TV-MA\",\"TV-14\",\"TV-MA\",\"TV-PG\",\"TV-14\",\"TV-14\",\"TV-G\",\"TV-Y\",\"TV-14\",\"TV-MA\",\"TV-MA\",\"TV-MA\",\"TV-PG\",\"TV-MA\",\"TV-14\",\"TV-PG\",\"TV-PG\",\"TV-14\",\"TV-MA\",\"TV-PG\",\"TV-14\",\"TV-MA\",\"TV-Y7\",\"TV-MA\",\"TV-PG\",\"TV-14\",\"TV-14\",\"TV-Y\",\"TV-14\",\"TV-14\",\"TV-Y7\",\"TV-MA\",\"TV-MA\",\"TV-PG\",\"TV-Y7\",\"TV-MA\",\"TV-MA\",\"TV-14\",\"TV-14\",\"TV-14\",\"TV-14\",\"TV-PG\",\"TV-MA\",\"TV-MA\",\"TV-14\",\"TV-14\",\"TV-MA\",\"TV-MA\",\"TV-MA\",\"TV-MA\",\"TV-MA\",\"TV-14\",\"TV-Y7\",\"TV-PG\",\"TV-Y7\",\"TV-MA\",\"TV-MA\",\"TV-Y\",\"TV-PG\",\"TV-14\",\"TV-MA\",\"TV-G\",\"TV-14\",\"TV-14\",\"TV-G\",\"TV-14\",\"TV-14\",\"TV-14\",\"TV-MA\",\"TV-MA\",\"TV-Y7\",\"TV-Y\",\"TV-MA\",\"TV-14\",\"TV-Y\",\"TV-MA\",\"TV-MA\",\"TV-G\",\"TV-MA\",\"TV-14\",\"TV-14\",\"TV-MA\",\"TV-14\",\"TV-14\",\"TV-MA\",\"TV-Y7\",\"TV-14\",\"TV-PG\",\"TV-14\",\"TV-MA\",\"TV-MA\",\"TV-PG\",\"TV-PG\",\"TV-Y7\",\"TV-14\",\"TV-MA\",\"TV-MA\",\"TV-MA\",\"TV-14\",\"TV-MA\",\"TV-PG\",\"TV-14\",\"TV-MA\",\"TV-PG\",\"TV-MA\",\"TV-Y\",\"TV-G\",\"TV-MA\",\"TV-MA\",\"TV-MA\",\"TV-MA\",\"TV-Y7\",\"TV-MA\",\"TV-MA\",\"TV-MA\",\"TV-MA\",\"TV-Y7\",\"TV-14\",\"TV-MA\",\"TV-MA\",\"TV-MA\",\"TV-14\",\"TV-Y7\",\"TV-MA\",\"TV-MA\",\"TV-14\",\"TV-MA\",\"TV-MA\",\"TV-MA\",\"TV-MA\",\"TV-PG\",\"TV-MA\",\"TV-14\",\"TV-Y7\",\"TV-MA\",\"TV-14\",\"TV-14\",\"TV-MA\",\"TV-PG\",\"TV-MA\",\"TV-MA\",\"TV-14\",\"TV-MA\",\"TV-14\",\"TV-14\",\"TV-MA\",\"TV-MA\",\"TV-MA\",\"TV-14\",\"TV-PG\",\"TV-PG\",\"TV-MA\",\"TV-G\",\"TV-MA\",\"TV-14\",\"TV-MA\",\"TV-MA\",\"TV-14\",\"TV-MA\",\"TV-PG\",\"TV-14\",\"TV-14\",\"TV-14\",\"TV-PG\",\"TV-14\",\"TV-MA\",\"TV-MA\",\"TV-14\",\"TV-MA\",\"TV-14\",\"TV-MA\",\"TV-MA\",\"TV-MA\",\"TV-14\",\"TV-MA\",\"TV-MA\",\"TV-14\",\"TV-14\",\"TV-MA\",\"TV-MA\",\"TV-Y7\",\"TV-MA\",\"TV-MA\",\"TV-MA\",\"TV-PG\",\"TV-MA\",\"TV-MA\",\"TV-MA\",\"TV-14\",\"TV-14\",\"TV-14\",\"TV-Y7\",\"TV-MA\",\"TV-PG\",\"TV-MA\",\"TV-MA\",\"TV-MA\",\"TV-MA\",\"TV-MA\",\"TV-Y\",\"TV-14\",\"TV-MA\",\"TV-MA\",\"TV-MA\",\"TV-14\",\"TV-MA\",\"TV-14\",\"TV-MA\",\"TV-G\",\"TV-MA\",\"TV-MA\",\"TV-G\",\"TV-14\",\"TV-14\",\"TV-MA\",\"TV-Y7\",\"TV-MA\",\"TV-Y7\",\"TV-MA\",\"TV-14\",\"TV-14\",\"TV-MA\",\"TV-MA\",\"TV-MA\",\"TV-14\",\"TV-G\",\"TV-Y\",\"TV-Y\",\"TV-G\",\"TV-14\",\"TV-PG\",\"TV-14\",\"TV-14\",\"TV-Y\",\"TV-Y\",\"TV-MA\",\"TV-PG\",\"TV-14\",\"TV-14\",\"TV-14\",\"TV-14\",\"TV-MA\",\"TV-MA\",\"TV-PG\",\"TV-MA\",\"TV-Y\",\"TV-MA\",\"TV-14\",\"TV-PG\",\"TV-PG\",\"TV-MA\",\"TV-MA\",\"TV-14\",\"TV-14\",\"TV-14\",\"TV-14\",\"TV-Y7\",\"TV-Y7\",\"TV-Y\",\"TV-Y\",\"TV-MA\",\"TV-MA\",\"TV-MA\",\"TV-MA\",\"TV-MA\",\"TV-14\",\"TV-MA\",\"TV-PG\",\"TV-MA\",\"TV-Y7\",\"TV-MA\",\"TV-14\",\"TV-MA\",\"TV-14\",\"TV-MA\",\"TV-MA\",\"TV-MA\",\"TV-MA\",\"TV-PG\",\"TV-Y7\",\"TV-Y\",\"TV-14\",\"TV-G\",\"TV-Y7\",\"TV-Y7\",\"TV-Y7\",\"TV-MA\",\"TV-14\",\"TV-14\",\"TV-14\",\"TV-MA\",\"TV-14\",\"TV-MA\",\"TV-14\",\"TV-14\",\"TV-14\",\"TV-MA\",\"TV-MA\",\"TV-MA\",\"TV-MA\",\"TV-MA\",\"TV-MA\",\"TV-MA\",\"TV-PG\",\"TV-14\",\"TV-MA\",\"TV-MA\",\"TV-14\",\"TV-14\",\"TV-MA\",\"TV-Y7\",\"TV-Y7\",\"TV-MA\",\"TV-14\",\"TV-MA\",\"TV-14\",\"TV-MA\",\"TV-14\",\"TV-14\",\"TV-14\",\"TV-Y\",\"TV-Y\",\"TV-14\",\"TV-Y7\",\"TV-Y7\",\"TV-PG\",\"TV-Y7\",\"TV-Y7\",\"TV-G\",\"TV-Y\",\"TV-Y7\",\"TV-Y\",\"TV-Y\",\"TV-Y7\",\"TV-Y7\",\"TV-Y\",\"TV-MA\",\"TV-MA\",\"TV-Y\",\"TV-MA\",\"TV-PG\",\"TV-14\",\"TV-MA\",\"TV-PG\",\"TV-MA\",\"TV-G\",\"TV-PG\",\"TV-14\",\"TV-14\",\"TV-MA\",\"TV-MA\",\"TV-MA\",\"TV-Y\",\"unknown\",\"TV-Y7\",\"TV-MA\",\"TV-Y7\",\"TV-Y7\",\"TV-G\",\"TV-MA\",\"TV-MA\",\"TV-MA\",\"TV-MA\",\"TV-Y\",\"TV-14\",\"TV-14\",\"TV-MA\",\"TV-14\",\"TV-MA\",\"TV-MA\",\"TV-Y\",\"TV-MA\",\"TV-MA\",\"TV-Y\",\"TV-MA\",\"TV-14\",\"TV-MA\",\"TV-G\",\"TV-14\",\"TV-PG\",\"TV-14\",\"TV-MA\",\"TV-14\",\"TV-MA\",\"TV-MA\",\"TV-MA\",\"TV-MA\",\"TV-PG\",\"TV-14\",\"TV-14\",\"TV-MA\",\"TV-MA\",\"TV-14\",\"TV-14\",\"TV-PG\",\"TV-14\",\"TV-14\",\"TV-14\",\"TV-PG\",\"TV-MA\",\"TV-14\",\"TV-G\",\"TV-PG\",\"TV-MA\",\"TV-MA\",\"TV-14\",\"TV-14\",\"TV-PG\",\"TV-MA\",\"TV-MA\",\"TV-MA\",\"TV-Y\",\"TV-Y\",\"TV-MA\",\"TV-Y\",\"TV-MA\",\"TV-14\",\"TV-PG\",\"TV-MA\",\"TV-Y7\",\"TV-14\",\"TV-14\",\"TV-14\",\"TV-PG\",\"TV-G\",\"TV-14\",\"TV-14\",\"TV-14\",\"TV-14\",\"TV-14\",\"TV-PG\",\"TV-14\",\"TV-G\",\"TV-G\",\"TV-MA\",\"TV-MA\",\"TV-14\",\"TV-PG\",\"TV-PG\",\"TV-14\",\"TV-MA\",\"TV-MA\",\"TV-MA\",\"TV-MA\",\"TV-14\",\"TV-14\",\"TV-MA\",\"TV-MA\",\"TV-14\",\"TV-MA\",\"TV-14\",\"TV-PG\",\"TV-MA\",\"TV-14\",\"TV-14\",\"TV-14\",\"TV-MA\",\"TV-MA\",\"TV-MA\",\"TV-MA\",\"TV-MA\",\"TV-MA\",\"TV-14\",\"TV-MA\",\"TV-14\",\"TV-Y\",\"TV-Y\",\"TV-Y\",\"TV-MA\",\"TV-14\",\"TV-MA\",\"TV-MA\",\"TV-MA\",\"TV-PG\",\"TV-G\",\"TV-MA\",\"TV-PG\",\"TV-14\",\"TV-MA\",\"TV-14\",\"TV-14\",\"TV-14\",\"TV-MA\",\"TV-PG\",\"TV-PG\",\"TV-MA\",\"TV-MA\",\"TV-14\",\"TV-PG\",\"TV-Y7\",\"TV-MA\",\"TV-MA\",\"TV-MA\",\"TV-14\",\"TV-Y\",\"TV-Y\",\"TV-Y\",\"TV-Y\",\"TV-Y\",\"TV-Y7\",\"TV-Y7\",\"TV-MA\",\"TV-MA\",\"TV-MA\",\"TV-MA\",\"TV-14\",\"TV-MA\",\"TV-PG\",\"TV-G\",\"TV-Y7\",\"TV-Y7\",\"TV-PG\",\"TV-Y7\",\"TV-MA\",\"TV-MA\",\"TV-14\",\"TV-14\",\"TV-14\",\"TV-PG\",\"TV-MA\",\"TV-MA\",\"TV-PG\",\"TV-14\",\"TV-PG\",\"TV-Y\",\"TV-14\",\"TV-MA\",\"TV-PG\",\"TV-Y7\",\"TV-PG\",\"TV-MA\",\"TV-Y\",\"TV-PG\",\"TV-G\",\"TV-G\",\"TV-MA\",\"TV-MA\",\"TV-MA\",\"TV-14\",\"TV-MA\",\"TV-MA\",\"TV-14\",\"TV-Y\",\"TV-MA\",\"TV-MA\",\"TV-MA\",\"TV-Y\",\"TV-Y\",\"TV-MA\",\"TV-G\",\"TV-PG\",\"TV-14\",\"TV-MA\",\"TV-G\",\"TV-MA\",\"TV-MA\",\"TV-MA\",\"TV-PG\",\"TV-PG\",\"TV-PG\",\"TV-14\",\"TV-MA\",\"TV-14\",\"TV-14\",\"TV-14\",\"TV-PG\",\"TV-MA\",\"TV-14\",\"TV-PG\",\"TV-Y\",\"TV-MA\",\"TV-PG\",\"TV-MA\",\"TV-MA\",\"TV-G\",\"TV-14\",\"TV-14\",\"TV-14\",\"TV-14\",\"TV-MA\",\"TV-MA\",\"TV-PG\",\"TV-14\",\"TV-14\",\"TV-MA\",\"TV-14\",\"TV-MA\",\"TV-PG\",\"TV-G\",\"TV-14\",\"TV-PG\",\"TV-14\",\"TV-14\",\"TV-PG\",\"TV-PG\",\"TV-PG\",\"TV-MA\",\"TV-MA\",\"TV-MA\",\"TV-14\",\"TV-PG\",\"TV-G\",\"TV-PG\",\"TV-PG\",\"TV-PG\",\"TV-PG\",\"TV-PG\",\"TV-14\",\"TV-MA\",\"TV-MA\",\"TV-MA\",\"TV-14\",\"TV-14\",\"TV-14\",\"TV-MA\",\"TV-PG\",\"TV-MA\",\"TV-MA\",\"TV-14\",\"TV-MA\",\"TV-Y7\",\"TV-G\",\"TV-MA\",\"TV-MA\",\"TV-PG\",\"TV-MA\",\"TV-PG\",\"R\",\"TV-MA\",\"TV-Y\",\"TV-MA\",\"TV-MA\",\"NR\",\"TV-14\",\"TV-MA\",\"TV-MA\",\"TV-MA\",\"TV-MA\",\"TV-Y\",\"TV-MA\",\"TV-MA\",\"TV-14\",\"TV-MA\",\"TV-MA\",\"TV-14\",\"TV-MA\",\"TV-Y\",\"TV-Y\",\"TV-MA\",\"TV-14\",\"TV-MA\",\"TV-Y7\",\"TV-MA\",\"TV-Y7-FV\",\"TV-G\",\"TV-G\",\"TV-MA\",\"TV-MA\",\"TV-PG\",\"TV-Y\",\"TV-MA\",\"TV-14\",\"TV-14\",\"TV-MA\",\"TV-14\",\"TV-14\",\"TV-PG\",\"TV-14\",\"TV-14\",\"TV-14\",\"TV-14\",\"TV-PG\",\"TV-14\",\"TV-14\",\"TV-PG\",\"TV-PG\",\"TV-MA\",\"TV-MA\",\"TV-PG\",\"TV-Y\",\"TV-MA\",\"TV-PG\",\"TV-PG\",\"TV-MA\",\"TV-MA\",\"TV-MA\",\"TV-MA\",\"TV-MA\",\"TV-Y\",\"TV-Y7\",\"TV-MA\",\"TV-Y\",\"TV-MA\",\"TV-Y7\",\"TV-14\",\"TV-14\",\"TV-Y\",\"TV-14\",\"TV-14\",\"TV-Y\",\"TV-MA\",\"TV-MA\",\"TV-MA\",\"TV-14\",\"TV-14\",\"TV-MA\",\"TV-14\",\"TV-14\",\"TV-14\",\"TV-G\",\"TV-Y\",\"TV-MA\",\"TV-MA\",\"TV-14\",\"TV-14\",\"TV-MA\",\"TV-14\",\"TV-PG\",\"TV-MA\",\"TV-MA\",\"TV-MA\",\"TV-14\",\"TV-MA\",\"TV-14\",\"TV-MA\",\"TV-Y7\",\"TV-14\",\"TV-14\",\"TV-Y\",\"TV-G\",\"TV-PG\",\"TV-MA\",\"TV-Y\",\"TV-Y7\",\"TV-Y7\",\"TV-Y7\",\"TV-Y\",\"TV-G\",\"TV-14\",\"TV-Y\",\"TV-Y7\",\"TV-14\",\"TV-MA\",\"TV-MA\",\"TV-14\",\"TV-Y7\",\"TV-Y7\",\"TV-Y7\",\"TV-Y7\",\"TV-Y7\",\"TV-Y7\",\"TV-Y7\",\"TV-Y7\",\"TV-Y7\",\"TV-Y7\",\"TV-Y7\",\"TV-Y7\",\"TV-Y7\",\"TV-Y7\",\"TV-Y7\",\"TV-Y7\",\"TV-Y7\",\"TV-Y7\",\"TV-Y7\",\"TV-Y7\",\"TV-Y7\",\"TV-Y7\",\"TV-Y7\",\"TV-Y7\",\"TV-MA\",\"TV-14\",\"TV-14\",\"TV-14\",\"TV-Y\",\"TV-G\",\"TV-MA\",\"TV-14\",\"TV-14\",\"TV-PG\",\"TV-G\",\"TV-MA\",\"TV-MA\",\"TV-Y7\",\"TV-14\",\"TV-MA\",\"TV-Y\",\"TV-Y\",\"TV-14\",\"TV-14\",\"TV-14\",\"TV-14\",\"TV-MA\",\"TV-14\",\"TV-MA\",\"TV-MA\",\"TV-MA\",\"TV-MA\",\"TV-14\",\"TV-14\",\"TV-14\",\"TV-MA\",\"TV-Y\",\"TV-14\",\"TV-Y7\",\"TV-MA\",\"TV-Y\",\"TV-PG\",\"TV-G\",\"TV-MA\",\"TV-14\",\"TV-MA\",\"TV-MA\",\"TV-14\",\"TV-MA\",\"TV-MA\",\"TV-MA\",\"TV-MA\",\"TV-MA\",\"TV-14\",\"TV-MA\",\"TV-Y7\",\"TV-MA\",\"TV-MA\",\"TV-14\",\"TV-MA\",\"NR\",\"TV-14\",\"TV-MA\",\"TV-PG\",\"TV-14\",\"TV-14\",\"TV-MA\",\"TV-MA\",\"TV-14\",\"TV-MA\",\"TV-14\",\"TV-14\",\"TV-MA\",\"TV-MA\",\"TV-14\",\"TV-PG\",\"TV-MA\",\"TV-Y\",\"TV-Y\",\"TV-MA\",\"TV-MA\",\"TV-G\",\"TV-PG\",\"TV-PG\",\"TV-PG\",\"TV-MA\",\"TV-MA\",\"TV-14\",\"TV-MA\",\"TV-14\",\"TV-Y\",\"TV-Y7\",\"TV-MA\",\"TV-Y7\",\"TV-MA\",\"TV-14\",\"TV-14\",\"TV-MA\",\"TV-14\",\"TV-MA\",\"TV-14\",\"TV-MA\",\"TV-PG\",\"TV-PG\",\"TV-MA\",\"TV-MA\",\"TV-Y7\",\"TV-14\",\"NR\",\"TV-MA\",\"TV-14\",\"TV-Y7\",\"TV-MA\",\"TV-PG\",\"TV-MA\",\"TV-14\",\"TV-MA\",\"TV-MA\",\"TV-PG\",\"TV-PG\",\"TV-MA\",\"TV-Y\",\"TV-PG\",\"TV-MA\",\"TV-MA\",\"TV-PG\",\"TV-PG\",\"TV-MA\",\"TV-G\",\"TV-14\",\"TV-14\",\"TV-14\",\"TV-MA\",\"TV-MA\",\"TV-MA\",\"TV-14\",\"TV-Y7\",\"TV-MA\",\"TV-MA\",\"TV-14\",\"TV-14\",\"TV-MA\",\"TV-14\",\"TV-14\",\"TV-MA\",\"TV-PG\",\"TV-14\",\"TV-MA\",\"TV-14\",\"TV-PG\",\"TV-MA\",\"TV-MA\",\"TV-MA\",\"TV-MA\",\"TV-14\",\"TV-14\",\"TV-Y\",\"TV-MA\",\"TV-MA\",\"TV-MA\",\"TV-MA\",\"TV-MA\",\"TV-14\",\"TV-MA\",\"TV-Y\",\"TV-Y7\",\"TV-MA\",\"TV-Y7\",\"TV-MA\",\"TV-14\",\"TV-MA\",\"TV-14\",\"TV-Y\",\"TV-MA\",\"TV-14\",\"TV-14\",\"TV-MA\",\"TV-Y\",\"TV-MA\",\"TV-MA\",\"TV-14\",\"TV-MA\",\"TV-Y\",\"TV-14\",\"TV-MA\",\"TV-14\",\"TV-PG\",\"TV-PG\",\"TV-G\",\"TV-MA\",\"TV-MA\",\"TV-MA\",\"TV-14\",\"TV-MA\",\"TV-MA\",\"TV-G\",\"TV-MA\",\"TV-14\",\"TV-MA\",\"TV-14\",\"TV-14\",\"TV-Y7\",\"TV-MA\",\"TV-MA\",\"TV-MA\",\"TV-MA\",\"TV-MA\",\"TV-MA\",\"TV-MA\",\"TV-MA\",\"TV-MA\",\"TV-MA\",\"TV-Y\",\"TV-Y\",\"TV-14\",\"TV-MA\",\"TV-14\",\"TV-MA\",\"TV-14\",\"TV-MA\",\"TV-MA\",\"TV-Y7\",\"TV-14\",\"TV-MA\",\"TV-14\",\"TV-MA\",\"TV-PG\",\"TV-MA\",\"TV-Y\",\"TV-Y\",\"TV-PG\",\"TV-MA\",\"TV-MA\",\"TV-MA\",\"TV-MA\",\"TV-14\",\"TV-MA\",\"TV-Y7\",\"TV-Y7\",\"TV-Y7\",\"TV-PG\",\"TV-Y\",\"TV-MA\",\"TV-Y7\",\"TV-PG\",\"TV-14\",\"TV-14\",\"TV-14\",\"TV-PG\",\"TV-PG\",\"TV-14\",\"TV-Y\",\"TV-MA\",\"TV-14\",\"TV-MA\",\"TV-MA\",\"TV-PG\",\"TV-14\",\"TV-14\",\"TV-PG\",\"TV-MA\",\"TV-Y7\",\"TV-MA\",\"TV-PG\",\"TV-Y\",\"TV-MA\",\"TV-14\",\"TV-MA\",\"TV-Y\",\"TV-PG\",\"TV-PG\",\"TV-Y7\",\"TV-14\",\"TV-14\",\"TV-MA\",\"TV-PG\",\"TV-MA\",\"TV-14\",\"TV-MA\",\"TV-14\",\"TV-PG\",\"TV-14\",\"TV-MA\",\"TV-MA\",\"TV-MA\",\"TV-Y\",\"TV-Y\",\"TV-MA\",\"TV-Y\",\"TV-Y\",\"TV-Y\",\"TV-Y\",\"TV-14\",\"TV-G\",\"TV-14\",\"TV-PG\",\"TV-MA\",\"TV-MA\",\"TV-MA\",\"TV-MA\",\"TV-14\",\"TV-14\",\"TV-14\",\"TV-MA\",\"TV-MA\",\"TV-MA\",\"TV-MA\",\"TV-PG\",\"TV-MA\",\"TV-MA\",\"TV-MA\",\"TV-14\",\"TV-14\",\"TV-14\",\"TV-14\",\"TV-MA\",\"TV-MA\",\"TV-Y\",\"TV-14\",\"TV-MA\",\"TV-Y\",\"TV-PG\",\"TV-PG\",\"TV-14\",\"TV-MA\",\"TV-PG\",\"TV-14\",\"TV-14\",\"TV-14\",\"TV-MA\",\"TV-MA\",\"TV-Y7\",\"TV-MA\",\"TV-14\",\"TV-MA\",\"TV-14\",\"TV-14\",\"TV-MA\",\"TV-MA\",\"TV-14\",\"TV-PG\",\"TV-PG\",\"TV-Y7\",\"TV-Y7\",\"TV-Y7\",\"TV-MA\",\"TV-G\",\"TV-G\",\"TV-G\",\"TV-PG\",\"TV-MA\",\"TV-G\",\"TV-14\",\"TV-14\",\"TV-MA\",\"TV-MA\",\"TV-PG\",\"TV-14\",\"TV-PG\",\"TV-PG\",\"TV-PG\",\"TV-G\",\"TV-14\",\"TV-G\",\"TV-MA\",\"TV-MA\",\"TV-MA\",\"TV-Y7\",\"TV-MA\",\"TV-MA\",\"TV-MA\",\"TV-14\",\"TV-MA\",\"TV-MA\",\"TV-MA\",\"TV-14\",\"TV-Y\",\"TV-MA\",\"TV-14\",\"TV-14\",\"TV-PG\",\"TV-MA\",\"TV-14\",\"TV-MA\",\"TV-MA\",\"TV-MA\",\"TV-MA\",\"TV-MA\",\"TV-PG\",\"TV-MA\",\"TV-14\",\"TV-MA\",\"TV-PG\",\"TV-14\",\"TV-14\",\"TV-MA\",\"TV-MA\",\"TV-MA\",\"TV-14\",\"TV-PG\",\"TV-PG\",\"TV-PG\",\"TV-MA\",\"TV-Y7\",\"TV-14\",\"TV-Y7\",\"TV-14\",\"TV-MA\",\"TV-14\",\"TV-MA\",\"TV-14\",\"TV-14\",\"TV-14\",\"TV-14\",\"TV-Y7\",\"TV-14\",\"TV-14\",\"TV-MA\",\"TV-MA\",\"TV-14\",\"TV-MA\",\"TV-PG\",\"TV-MA\",\"TV-14\",\"TV-Y7\",\"TV-Y7\",\"TV-PG\",\"TV-MA\",\"TV-MA\",\"TV-MA\",\"TV-PG\",\"TV-MA\",\"TV-MA\",\"TV-14\",\"TV-MA\",\"TV-14\",\"TV-MA\",\"TV-MA\",\"TV-Y\",\"TV-PG\",\"TV-14\",\"TV-Y\",\"TV-MA\",\"TV-14\",\"TV-MA\",\"TV-MA\",\"TV-G\",\"TV-MA\",\"TV-14\",\"TV-MA\",\"TV-14\",\"TV-MA\",\"TV-14\",\"TV-14\",\"TV-14\",\"TV-PG\",\"TV-PG\",\"TV-MA\",\"NR\",\"TV-14\",\"TV-MA\",\"R\",\"TV-G\",\"TV-MA\",\"TV-MA\",\"TV-G\",\"TV-MA\",\"TV-PG\",\"TV-Y7\",\"TV-MA\",\"TV-PG\",\"TV-MA\",\"TV-MA\",\"TV-MA\",\"TV-PG\",\"TV-PG\",\"TV-MA\",\"TV-14\",\"TV-MA\",\"TV-14\",\"TV-Y\",\"TV-MA\",\"TV-14\",\"TV-MA\",\"TV-MA\",\"TV-MA\",\"TV-MA\",\"TV-MA\",\"TV-MA\",\"TV-14\",\"TV-MA\",\"TV-PG\",\"TV-MA\",\"TV-MA\",\"TV-Y7\",\"TV-14\",\"TV-MA\",\"TV-PG\",\"TV-14\",\"TV-MA\",\"TV-14\",\"TV-MA\",\"TV-MA\",\"TV-MA\",\"TV-14\",\"TV-MA\",\"TV-MA\",\"TV-Y7\",\"TV-MA\",\"TV-MA\",\"TV-MA\",\"TV-MA\",\"TV-MA\",\"TV-14\",\"TV-Y7\",\"TV-14\",\"TV-MA\",\"TV-PG\",\"TV-14\",\"TV-PG\",\"TV-MA\",\"TV-14\",\"TV-14\",\"TV-14\",\"TV-Y\",\"TV-Y\",\"TV-MA\",\"TV-PG\",\"TV-14\",\"TV-MA\",\"TV-MA\",\"TV-14\",\"TV-MA\",\"TV-MA\",\"TV-PG\",\"TV-14\",\"TV-G\",\"TV-MA\",\"TV-MA\",\"TV-14\",\"TV-MA\",\"TV-PG\",\"TV-MA\",\"TV-MA\",\"TV-MA\",\"TV-MA\",\"TV-Y7\",\"TV-MA\",\"TV-MA\",\"TV-MA\",\"TV-MA\",\"TV-PG\",\"TV-G\",\"TV-14\",\"TV-14\",\"TV-MA\",\"TV-14\",\"TV-14\",\"TV-Y\",\"TV-MA\",\"TV-14\",\"TV-MA\",\"TV-MA\",\"TV-PG\",\"TV-14\",\"TV-MA\",\"TV-14\",\"TV-MA\",\"TV-MA\",\"TV-PG\",\"TV-14\",\"TV-14\",\"TV-14\",\"TV-MA\",\"TV-PG\",\"TV-14\",\"TV-MA\",\"TV-MA\",\"TV-MA\",\"TV-MA\",\"TV-14\",\"TV-MA\",\"TV-PG\",\"TV-MA\",\"TV-MA\",\"TV-14\",\"TV-14\",\"TV-14\",\"TV-MA\",\"TV-MA\",\"TV-MA\",\"TV-14\",\"TV-PG\",\"TV-MA\",\"TV-MA\",\"TV-MA\",\"TV-MA\",\"TV-14\",\"TV-14\",\"TV-MA\",\"TV-MA\",\"TV-MA\",\"TV-14\",\"TV-14\",\"TV-MA\",\"TV-MA\",\"TV-Y7\",\"TV-14\",\"TV-14\",\"TV-14\",\"TV-MA\",\"TV-MA\",\"TV-MA\",\"TV-14\",\"TV-MA\",\"TV-MA\",\"TV-MA\",\"TV-14\",\"TV-14\",\"TV-14\",\"TV-14\",\"TV-MA\",\"TV-MA\",\"TV-14\",\"TV-14\",\"TV-PG\",\"TV-PG\",\"TV-MA\",\"TV-14\",\"TV-MA\",\"TV-14\",\"TV-MA\",\"TV-MA\",\"TV-MA\",\"TV-14\",\"TV-14\",\"TV-PG\",\"TV-Y\",\"TV-MA\",\"TV-MA\",\"TV-MA\",\"TV-MA\",\"TV-MA\",\"TV-G\",\"TV-G\",\"TV-14\",\"TV-MA\",\"TV-PG\",\"TV-MA\",\"TV-MA\",\"TV-14\",\"TV-14\",\"TV-14\",\"TV-Y\",\"TV-MA\",\"TV-14\",\"TV-MA\",\"TV-PG\",\"TV-MA\",\"TV-14\",\"TV-MA\",\"TV-MA\",\"TV-MA\",\"TV-MA\",\"TV-MA\",\"TV-14\",\"TV-14\",\"TV-Y\",\"TV-PG\",\"TV-PG\",\"TV-MA\",\"TV-Y\",\"TV-Y\",\"TV-MA\",\"TV-MA\",\"TV-MA\",\"TV-Y7\",\"TV-14\",\"TV-MA\",\"TV-14\",\"TV-MA\",\"TV-MA\",\"TV-MA\",\"TV-14\",\"TV-MA\",\"TV-MA\",\"TV-14\",\"TV-PG\",\"TV-MA\",\"TV-MA\",\"TV-MA\",\"TV-MA\",\"TV-MA\",\"TV-MA\",\"TV-MA\",\"TV-MA\",\"TV-Y7\",\"TV-Y\",\"TV-Y7\",\"TV-Y7\",\"TV-Y7\",\"TV-14\",\"TV-Y7\",\"TV-Y\",\"TV-MA\",\"TV-Y\",\"TV-Y\",\"TV-MA\",\"TV-MA\",\"TV-MA\",\"TV-MA\",\"TV-MA\",\"TV-PG\",\"TV-Y7\",\"TV-Y7\",\"TV-Y\",\"TV-MA\",\"TV-MA\",\"TV-Y\",\"TV-Y\",\"TV-Y\",\"TV-Y\",\"TV-Y\",\"TV-14\",\"TV-MA\",\"TV-PG\",\"TV-14\",\"TV-Y7\",\"TV-MA\",\"TV-14\",\"TV-PG\",\"TV-MA\",\"TV-14\",\"TV-Y\",\"TV-14\",\"TV-14\",\"TV-G\",\"TV-MA\",\"TV-MA\",\"TV-14\",\"TV-PG\",\"TV-PG\",\"TV-14\",\"TV-14\",\"TV-MA\",\"TV-MA\",\"TV-MA\",\"TV-MA\",\"TV-14\",\"TV-14\",\"TV-MA\",\"TV-14\",\"TV-MA\",\"TV-MA\",\"TV-MA\",\"TV-MA\",\"TV-MA\",\"TV-MA\",\"TV-14\",\"TV-14\",\"TV-MA\",\"TV-MA\",\"TV-MA\",\"TV-MA\",\"TV-Y\",\"TV-MA\",\"TV-G\",\"TV-MA\",\"TV-MA\",\"TV-14\",\"TV-MA\",\"TV-14\",\"TV-14\",\"TV-MA\",\"TV-MA\",\"TV-Y\",\"TV-Y\",\"TV-14\",\"TV-14\",\"TV-MA\",\"TV-MA\",\"TV-MA\",\"TV-G\",\"TV-MA\",\"TV-14\",\"TV-PG\",\"TV-Y7\",\"TV-14\",\"TV-14\",\"TV-PG\",\"TV-Y7\",\"TV-Y\",\"TV-MA\",\"TV-MA\",\"TV-14\",\"TV-PG\",\"TV-14\",\"TV-PG\",\"TV-PG\",\"TV-MA\",\"TV-14\",\"TV-MA\",\"TV-MA\",\"TV-MA\",\"TV-14\",\"TV-MA\",\"TV-PG\",\"TV-14\",\"TV-MA\",\"TV-MA\",\"TV-Y\",\"TV-MA\",\"TV-Y\",\"TV-MA\",\"TV-PG\",\"TV-MA\",\"TV-14\",\"TV-MA\",\"TV-G\",\"TV-MA\",\"TV-14\",\"TV-MA\",\"TV-MA\",\"TV-MA\",\"TV-14\",\"TV-14\",\"TV-14\",\"TV-14\",\"TV-14\",\"TV-14\",\"TV-Y7\",\"TV-PG\",\"TV-MA\",\"TV-14\",\"TV-14\",\"TV-MA\",\"TV-MA\",\"TV-MA\",\"TV-14\",\"TV-14\",\"TV-MA\",\"TV-MA\",\"TV-14\",\"TV-PG\",\"TV-PG\",\"TV-PG\",\"TV-MA\",\"TV-MA\",\"TV-14\",\"TV-G\",\"TV-MA\",\"TV-Y7\",\"TV-14\",\"TV-Y7\",\"TV-MA\",\"TV-14\",\"TV-MA\",\"TV-Y\",\"TV-Y\",\"TV-MA\",\"TV-14\",\"TV-Y7\",\"TV-MA\",\"TV-PG\",\"TV-14\",\"TV-14\",\"TV-MA\",\"TV-MA\",\"TV-14\",\"TV-14\",\"TV-MA\",\"TV-14\",\"TV-PG\",\"TV-14\",\"TV-MA\",\"TV-Y7\",\"TV-Y\",\"TV-Y7\",\"TV-Y\",\"TV-MA\",\"TV-MA\",\"TV-PG\",\"TV-MA\",\"TV-14\",\"TV-MA\",\"TV-14\",\"TV-14\",\"TV-14\",\"TV-Y7\",\"TV-Y7\",\"TV-MA\",\"TV-PG\",\"TV-MA\",\"TV-PG\",\"TV-Y7\",\"TV-Y7\",\"TV-PG\",\"TV-Y7\",\"TV-Y7\",\"TV-MA\",\"TV-PG\"],\"xaxis\":\"x\",\"yaxis\":\"y\",\"type\":\"histogram\"},{\"alignmentgroup\":\"True\",\"bingroup\":\"x\",\"hovertemplate\":\"type=Movie<br>rating=%{x}<br>count=%{y}<extra></extra>\",\"legendgroup\":\"Movie\",\"marker\":{\"color\":\"#7F00FF\",\"pattern\":{\"shape\":\"\"}},\"name\":\"Movie\",\"offsetgroup\":\"Movie\",\"orientation\":\"v\",\"showlegend\":true,\"x\":[\"TV-MA\",\"R\",\"PG-13\",\"PG-13\",\"TV-MA\",\"R\",\"TV-14\",\"TV-MA\",\"TV-MA\",\"TV-MA\",\"R\",\"TV-14\",\"R\",\"TV-14\",\"TV-PG\",\"TV-14\",\"TV-14\",\"TV-14\",\"TV-14\",\"NR\",\"TV-MA\",\"TV-14\",\"TV-14\",\"TV-G\",\"TV-G\",\"TV-14\",\"TV-14\",\"TV-PG\",\"TV-MA\",\"TV-MA\",\"TV-MA\",\"TV-14\",\"TV-MA\",\"TV-MA\",\"TV-MA\",\"PG-13\",\"TV-PG\",\"TV-14\",\"TV-14\",\"TV-14\",\"PG-13\",\"TV-MA\",\"TV-MA\",\"TV-Y\",\"TV-14\",\"TV-14\",\"TV-14\",\"TV-MA\",\"NR\",\"R\",\"TV-MA\",\"unknown\",\"R\",\"TV-MA\",\"TV-MA\",\"PG-13\",\"PG-13\",\"TV-MA\",\"R\",\"TV-MA\",\"TV-MA\",\"TV-MA\",\"TV-PG\",\"PG-13\",\"TV-PG\",\"TV-14\",\"R\",\"R\",\"TV-MA\",\"R\",\"TV-14\",\"TV-MA\",\"TV-MA\",\"TV-MA\",\"PG-13\",\"PG-13\",\"TV-MA\",\"PG-13\",\"TV-PG\",\"PG-13\",\"TV-PG\",\"TV-MA\",\"TV-14\",\"R\",\"TV-14\",\"TV-MA\",\"TV-MA\",\"TV-14\",\"TV-MA\",\"TV-G\",\"TV-MA\",\"NR\",\"TV-MA\",\"TV-MA\",\"PG-13\",\"TV-14\",\"R\",\"PG-13\",\"R\",\"TV-14\",\"TV-14\",\"TV-MA\",\"R\",\"R\",\"TV-MA\",\"TV-MA\",\"R\",\"TV-MA\",\"TV-PG\",\"TV-MA\",\"TV-MA\",\"TV-PG\",\"PG\",\"TV-PG\",\"TV-PG\",\"R\",\"TV-14\",\"TV-14\",\"PG\",\"PG\",\"PG-13\",\"G\",\"TV-14\",\"TV-14\",\"TV-G\",\"TV-PG\",\"TV-PG\",\"TV-PG\",\"TV-Y7\",\"PG\",\"PG\",\"R\",\"R\",\"TV-Y7\",\"TV-MA\",\"TV-PG\",\"R\",\"TV-PG\",\"TV-14\",\"TV-MA\",\"TV-MA\",\"R\",\"R\",\"TV-Y\",\"TV-Y\",\"TV-Y\",\"TV-PG\",\"TV-MA\",\"R\",\"TV-14\",\"TV-MA\",\"TV-G\",\"TV-MA\",\"TV-MA\",\"R\",\"TV-MA\",\"TV-MA\",\"TV-14\",\"R\",\"TV-PG\",\"TV-14\",\"TV-MA\",\"TV-MA\",\"PG-13\",\"R\",\"PG-13\",\"TV-14\",\"TV-MA\",\"PG-13\",\"TV-MA\",\"TV-MA\",\"TV-MA\",\"R\",\"TV-14\",\"TV-PG\",\"TV-MA\",\"NR\",\"TV-MA\",\"TV-MA\",\"TV-14\",\"PG-13\",\"R\",\"G\",\"TV-14\",\"R\",\"TV-14\",\"TV-PG\",\"TV-14\",\"TV-Y\",\"TV-MA\",\"PG-13\",\"TV-PG\",\"R\",\"PG-13\",\"TV-Y\",\"TV-MA\",\"TV-Y7\",\"TV-MA\",\"TV-G\",\"TV-14\",\"TV-G\",\"PG\",\"TV-MA\",\"TV-14\",\"TV-PG\",\"PG\",\"PG\",\"TV-MA\",\"TV-MA\",\"PG\",\"TV-MA\",\"TV-MA\",\"TV-14\",\"TV-PG\",\"TV-14\",\"TV-PG\",\"TV-14\",\"TV-14\",\"TV-14\",\"TV-14\",\"TV-14\",\"TV-14\",\"TV-14\",\"TV-PG\",\"TV-14\",\"TV-14\",\"TV-MA\",\"TV-14\",\"TV-14\",\"TV-14\",\"TV-Y7\",\"PG-13\",\"R\",\"TV-MA\",\"TV-MA\",\"TV-MA\",\"TV-PG\",\"TV-MA\",\"PG-13\",\"R\",\"NR\",\"TV-PG\",\"R\",\"R\",\"TV-MA\",\"TV-MA\",\"TV-MA\",\"TV-MA\",\"TV-14\",\"TV-MA\",\"TV-14\",\"TV-MA\",\"R\",\"PG-13\",\"TV-14\",\"TV-MA\",\"NR\",\"TV-14\",\"TV-MA\",\"PG-13\",\"TV-PG\",\"NR\",\"TV-MA\",\"TV-PG\",\"R\",\"R\",\"TV-MA\",\"R\",\"TV-MA\",\"TV-PG\",\"TV-14\",\"TV-MA\",\"TV-14\",\"TV-14\",\"R\",\"TV-PG\",\"TV-PG\",\"TV-14\",\"TV-14\",\"TV-MA\",\"TV-14\",\"TV-14\",\"TV-MA\",\"TV-MA\",\"TV-MA\",\"TV-14\",\"TV-MA\",\"TV-MA\",\"TV-MA\",\"TV-MA\",\"TV-MA\",\"TV-PG\",\"TV-MA\",\"TV-MA\",\"TV-MA\",\"TV-MA\",\"TV-MA\",\"TV-MA\",\"TV-MA\",\"TV-MA\",\"TV-14\",\"TV-MA\",\"TV-MA\",\"TV-MA\",\"TV-MA\",\"TV-MA\",\"TV-14\",\"PG\",\"TV-MA\",\"TV-PG\",\"TV-MA\",\"TV-Y\",\"PG\",\"TV-14\",\"TV-MA\",\"R\",\"TV-PG\",\"R\",\"G\",\"TV-MA\",\"TV-G\",\"TV-14\",\"TV-MA\",\"TV-MA\",\"R\",\"TV-MA\",\"R\",\"TV-14\",\"TV-MA\",\"PG\",\"TV-14\",\"TV-MA\",\"R\",\"TV-MA\",\"R\",\"TV-14\",\"R\",\"TV-G\",\"TV-Y7\",\"TV-G\",\"TV-MA\",\"TV-MA\",\"TV-14\",\"TV-14\",\"TV-MA\",\"PG-13\",\"TV-MA\",\"TV-MA\",\"TV-14\",\"TV-14\",\"TV-MA\",\"TV-PG\",\"TV-MA\",\"R\",\"R\",\"TV-14\",\"TV-MA\",\"TV-14\",\"TV-14\",\"TV-G\",\"TV-MA\",\"R\",\"R\",\"R\",\"TV-MA\",\"TV-MA\",\"R\",\"R\",\"TV-MA\",\"TV-MA\",\"TV-14\",\"TV-14\",\"TV-PG\",\"R\",\"TV-MA\",\"TV-MA\",\"TV-PG\",\"G\",\"G\",\"G\",\"G\",\"TV-MA\",\"TV-MA\",\"R\",\"TV-14\",\"R\",\"TV-PG\",\"R\",\"TV-14\",\"TV-MA\",\"TV-MA\",\"TV-14\",\"TV-MA\",\"TV-MA\",\"TV-MA\",\"TV-14\",\"TV-14\",\"TV-14\",\"TV-14\",\"TV-14\",\"TV-14\",\"TV-PG\",\"TV-14\",\"R\",\"TV-14\",\"R\",\"R\",\"TV-Y\",\"TV-Y\",\"PG-13\",\"PG-13\",\"TV-MA\",\"TV-14\",\"TV-14\",\"TV-PG\",\"TV-Y7\",\"TV-MA\",\"TV-MA\",\"TV-14\",\"TV-14\",\"TV-PG\",\"TV-14\",\"TV-PG\",\"TV-MA\",\"TV-PG\",\"PG-13\",\"TV-MA\",\"TV-Y7\",\"TV-MA\",\"TV-MA\",\"TV-14\",\"TV-MA\",\"TV-PG\",\"TV-14\",\"TV-MA\",\"TV-14\",\"NR\",\"PG-13\",\"TV-MA\",\"PG\",\"TV-MA\",\"TV-14\",\"TV-MA\",\"PG\",\"TV-14\",\"TV-14\",\"TV-MA\",\"TV-MA\",\"TV-14\",\"TV-14\",\"TV-MA\",\"TV-MA\",\"PG-13\",\"PG\",\"TV-MA\",\"TV-14\",\"R\",\"PG-13\",\"TV-MA\",\"TV-14\",\"R\",\"TV-MA\",\"TV-14\",\"TV-MA\",\"TV-14\",\"TV-14\",\"NR\",\"TV-MA\",\"TV-14\",\"PG-13\",\"TV-14\",\"PG-13\",\"TV-14\",\"TV-14\",\"TV-14\",\"TV-MA\",\"TV-MA\",\"TV-PG\",\"PG-13\",\"PG-13\",\"PG-13\",\"TV-MA\",\"R\",\"R\",\"TV-PG\",\"TV-MA\",\"PG-13\",\"TV-MA\",\"TV-MA\",\"TV-MA\",\"TV-MA\",\"TV-MA\",\"TV-MA\",\"TV-MA\",\"TV-14\",\"TV-14\",\"TV-MA\",\"TV-MA\",\"TV-MA\",\"TV-14\",\"TV-14\",\"TV-14\",\"TV-14\",\"TV-MA\",\"TV-14\",\"TV-MA\",\"TV-14\",\"TV-14\",\"TV-14\",\"TV-14\",\"TV-MA\",\"TV-14\",\"TV-MA\",\"R\",\"TV-PG\",\"TV-14\",\"TV-MA\",\"NR\",\"TV-Y\",\"TV-MA\",\"TV-14\",\"NR\",\"R\",\"TV-MA\",\"R\",\"R\",\"R\",\"TV-MA\",\"TV-MA\",\"TV-MA\",\"TV-MA\",\"TV-MA\",\"TV-MA\",\"TV-14\",\"TV-14\",\"TV-14\",\"G\",\"G\",\"G\",\"TV-MA\",\"TV-14\",\"TV-14\",\"TV-MA\",\"R\",\"NR\",\"TV-PG\",\"TV-MA\",\"TV-14\",\"TV-MA\",\"TV-14\",\"TV-MA\",\"TV-14\",\"TV-MA\",\"TV-MA\",\"TV-Y\",\"TV-Y\",\"TV-Y\",\"TV-Y\",\"TV-Y\",\"TV-Y\",\"TV-Y\",\"TV-Y7\",\"TV-Y\",\"TV-Y\",\"TV-Y\",\"TV-Y\",\"TV-14\",\"TV-14\",\"TV-14\",\"PG-13\",\"TV-14\",\"TV-14\",\"TV-MA\",\"TV-PG\",\"R\",\"R\",\"TV-14\",\"PG-13\",\"R\",\"TV-MA\",\"TV-MA\",\"TV-PG\",\"TV-PG\",\"TV-MA\",\"TV-14\",\"TV-14\",\"TV-MA\",\"PG\",\"TV-G\",\"PG-13\",\"TV-G\",\"TV-MA\",\"TV-Y\",\"TV-MA\",\"TV-MA\",\"TV-14\",\"PG-13\",\"PG-13\",\"TV-14\",\"TV-14\",\"PG\",\"PG-13\",\"PG\",\"PG\",\"TV-MA\",\"PG-13\",\"PG-13\",\"PG\",\"TV-14\",\"TV-14\",\"TV-MA\",\"TV-14\",\"TV-MA\",\"TV-14\",\"PG\",\"TV-14\",\"TV-MA\",\"TV-14\",\"TV-MA\",\"TV-MA\",\"TV-MA\",\"TV-MA\",\"TV-PG\",\"PG-13\",\"TV-MA\",\"TV-MA\",\"TV-PG\",\"PG\",\"TV-G\",\"PG-13\",\"TV-MA\",\"TV-14\",\"R\",\"TV-MA\",\"R\",\"TV-MA\",\"TV-MA\",\"TV-MA\",\"TV-MA\",\"TV-MA\",\"TV-MA\",\"TV-14\",\"TV-MA\",\"TV-MA\",\"TV-MA\",\"PG\",\"TV-PG\",\"TV-14\",\"TV-14\",\"TV-MA\",\"R\",\"TV-PG\",\"TV-14\",\"TV-MA\",\"TV-14\",\"R\",\"TV-G\",\"TV-14\",\"TV-14\",\"TV-14\",\"TV-PG\",\"TV-14\",\"TV-14\",\"TV-14\",\"TV-14\",\"TV-Y\",\"TV-14\",\"TV-14\",\"TV-MA\",\"TV-14\",\"TV-PG\",\"TV-14\",\"TV-14\",\"TV-14\",\"TV-MA\",\"PG-13\",\"PG\",\"R\",\"PG\",\"PG-13\",\"TV-MA\",\"TV-PG\",\"TV-MA\",\"PG\",\"R\",\"TV-MA\",\"TV-MA\",\"NR\",\"TV-MA\",\"TV-MA\",\"TV-MA\",\"TV-MA\",\"TV-MA\",\"TV-MA\",\"TV-MA\",\"TV-MA\",\"TV-PG\",\"TV-PG\",\"R\",\"TV-PG\",\"TV-MA\",\"TV-14\",\"TV-MA\",\"R\",\"TV-G\",\"TV-MA\",\"TV-MA\",\"R\",\"TV-14\",\"TV-MA\",\"TV-14\",\"TV-14\",\"R\",\"TV-MA\",\"TV-MA\",\"R\",\"TV-PG\",\"TV-MA\",\"PG-13\",\"TV-MA\",\"R\",\"TV-MA\",\"R\",\"TV-MA\",\"PG-13\",\"TV-14\",\"PG-13\",\"TV-14\",\"R\",\"TV-PG\",\"TV-14\",\"R\",\"TV-14\",\"TV-14\",\"TV-MA\",\"PG\",\"TV-MA\",\"TV-MA\",\"R\",\"TV-14\",\"TV-MA\",\"R\",\"NC-17\",\"PG-13\",\"TV-MA\",\"R\",\"R\",\"PG-13\",\"R\",\"TV-14\",\"TV-MA\",\"TV-14\",\"TV-MA\",\"TV-MA\",\"TV-MA\",\"TV-G\",\"TV-MA\",\"PG\",\"TV-14\",\"TV-14\",\"TV-14\",\"TV-14\",\"TV-14\",\"TV-PG\",\"TV-MA\",\"TV-MA\",\"TV-14\",\"TV-MA\",\"PG\",\"TV-MA\",\"TV-MA\",\"TV-MA\",\"TV-MA\",\"TV-14\",\"TV-MA\",\"TV-MA\",\"TV-MA\",\"R\",\"TV-MA\",\"TV-MA\",\"TV-14\",\"TV-14\",\"R\",\"TV-MA\",\"TV-14\",\"TV-14\",\"TV-14\",\"TV-MA\",\"TV-MA\",\"PG\",\"TV-MA\",\"TV-MA\",\"R\",\"TV-MA\",\"TV-MA\",\"PG-13\",\"TV-MA\",\"PG\",\"TV-PG\",\"TV-MA\",\"R\",\"TV-MA\",\"TV-14\",\"TV-14\",\"TV-MA\",\"TV-PG\",\"TV-MA\",\"TV-14\",\"TV-PG\",\"R\",\"TV-PG\",\"TV-MA\",\"TV-MA\",\"TV-MA\",\"TV-MA\",\"PG-13\",\"R\",\"TV-MA\",\"TV-MA\",\"TV-MA\",\"TV-MA\",\"TV-14\",\"TV-PG\",\"TV-PG\",\"TV-PG\",\"TV-14\",\"TV-MA\",\"TV-MA\",\"TV-Y7\",\"TV-MA\",\"TV-MA\",\"TV-G\",\"TV-MA\",\"TV-14\",\"R\",\"TV-MA\",\"TV-MA\",\"PG-13\",\"PG-13\",\"TV-MA\",\"TV-MA\",\"TV-MA\",\"TV-MA\",\"TV-MA\",\"TV-MA\",\"TV-MA\",\"TV-14\",\"TV-MA\",\"TV-MA\",\"R\",\"TV-14\",\"TV-MA\",\"TV-14\",\"TV-14\",\"R\",\"R\",\"TV-MA\",\"TV-14\",\"TV-MA\",\"TV-14\",\"TV-MA\",\"TV-14\",\"TV-MA\",\"TV-Y\",\"TV-Y\",\"TV-Y\",\"TV-MA\",\"TV-MA\",\"TV-14\",\"TV-MA\",\"TV-G\",\"R\",\"PG-13\",\"TV-14\",\"TV-MA\",\"TV-14\",\"TV-MA\",\"R\",\"G\",\"TV-14\",\"TV-PG\",\"TV-Y7\",\"TV-Y7\",\"TV-MA\",\"TV-MA\",\"TV-14\",\"TV-14\",\"TV-14\",\"TV-14\",\"TV-MA\",\"TV-MA\",\"TV-Y7\",\"R\",\"R\",\"TV-MA\",\"PG-13\",\"R\",\"TV-14\",\"R\",\"PG-13\",\"TV-MA\",\"TV-MA\",\"TV-14\",\"NR\",\"PG-13\",\"TV-MA\",\"TV-14\",\"TV-MA\",\"PG\",\"TV-PG\",\"TV-MA\",\"TV-MA\",\"TV-PG\",\"TV-PG\",\"TV-G\",\"PG-13\",\"TV-14\",\"TV-PG\",\"TV-PG\",\"TV-14\",\"TV-14\",\"TV-14\",\"TV-14\",\"TV-14\",\"TV-MA\",\"TV-14\",\"TV-14\",\"TV-14\",\"TV-G\",\"PG\",\"TV-14\",\"PG-13\",\"R\",\"PG\",\"PG-13\",\"PG-13\",\"G\",\"TV-Y7\",\"TV-14\",\"TV-PG\",\"R\",\"TV-PG\",\"TV-MA\",\"TV-PG\",\"TV-MA\",\"TV-14\",\"R\",\"TV-MA\",\"TV-MA\",\"TV-14\",\"R\",\"TV-Y7\",\"TV-Y7\",\"TV-Y7\",\"TV-Y7\",\"TV-Y7\",\"TV-14\",\"G\",\"TV-Y\",\"TV-MA\",\"R\",\"TV-MA\",\"TV-PG\",\"TV-PG\",\"TV-MA\",\"TV-MA\",\"TV-14\",\"NR\",\"G\",\"R\",\"TV-MA\",\"TV-14\",\"TV-MA\",\"TV-MA\",\"TV-MA\",\"TV-MA\",\"TV-MA\",\"TV-MA\",\"TV-MA\",\"TV-MA\",\"PG\",\"TV-MA\",\"R\",\"TV-PG\",\"TV-MA\",\"TV-PG\",\"TV-PG\",\"TV-G\",\"TV-G\",\"TV-MA\",\"PG\",\"TV-PG\",\"TV-PG\",\"PG\",\"PG\",\"TV-MA\",\"R\",\"TV-Y\",\"TV-Y\",\"TV-Y\",\"TV-Y\",\"TV-PG\",\"TV-14\",\"TV-PG\",\"TV-14\",\"TV-14\",\"TV-MA\",\"TV-MA\",\"PG-13\",\"TV-MA\",\"TV-MA\",\"R\",\"TV-MA\",\"TV-MA\",\"TV-MA\",\"TV-MA\",\"TV-MA\",\"PG-13\",\"TV-PG\",\"TV-14\",\"TV-MA\",\"PG\",\"PG-13\",\"TV-MA\",\"TV-MA\",\"TV-MA\",\"TV-MA\",\"R\",\"R\",\"R\",\"PG\",\"PG\",\"PG-13\",\"TV-MA\",\"PG-13\",\"TV-MA\",\"TV-MA\",\"PG-13\",\"TV-MA\",\"TV-PG\",\"TV-PG\",\"TV-14\",\"TV-14\",\"TV-MA\",\"TV-14\",\"TV-MA\",\"TV-MA\",\"TV-14\",\"R\",\"TV-14\",\"R\",\"TV-14\",\"TV-PG\",\"TV-14\",\"TV-MA\",\"TV-MA\",\"TV-MA\",\"R\",\"TV-MA\",\"R\",\"TV-MA\",\"TV-MA\",\"TV-14\",\"TV-14\",\"TV-G\",\"TV-14\",\"PG\",\"R\",\"TV-MA\",\"PG-13\",\"PG\",\"TV-MA\",\"TV-MA\",\"TV-14\",\"TV-MA\",\"TV-14\",\"TV-MA\",\"TV-G\",\"TV-PG\",\"TV-MA\",\"TV-MA\",\"TV-MA\",\"R\",\"TV-PG\",\"TV-14\",\"TV-MA\",\"TV-MA\",\"TV-14\",\"R\",\"TV-MA\",\"R\",\"TV-MA\",\"TV-14\",\"TV-14\",\"PG-13\",\"PG-13\",\"TV-14\",\"TV-MA\",\"R\",\"TV-PG\",\"TV-MA\",\"R\",\"R\",\"TV-MA\",\"TV-PG\",\"TV-MA\",\"TV-MA\",\"TV-PG\",\"TV-MA\",\"R\",\"TV-PG\",\"TV-14\",\"TV-MA\",\"TV-MA\",\"TV-MA\",\"PG\",\"TV-14\",\"PG\",\"TV-MA\",\"NR\",\"TV-14\",\"TV-MA\",\"R\",\"TV-MA\",\"TV-PG\",\"TV-G\",\"TV-MA\",\"TV-PG\",\"TV-PG\",\"TV-14\",\"TV-MA\",\"TV-MA\",\"TV-MA\",\"PG-13\",\"TV-MA\",\"TV-MA\",\"TV-MA\",\"TV-PG\",\"TV-MA\",\"R\",\"TV-MA\",\"TV-MA\",\"R\",\"PG-13\",\"TV-14\",\"TV-MA\",\"TV-14\",\"NR\",\"TV-MA\",\"TV-MA\",\"PG\",\"TV-MA\",\"TV-MA\",\"TV-MA\",\"TV-MA\",\"R\",\"TV-MA\",\"TV-PG\",\"R\",\"TV-MA\",\"TV-MA\",\"TV-14\",\"TV-14\",\"TV-14\",\"TV-PG\",\"PG-13\",\"TV-14\",\"TV-Y7-FV\",\"TV-MA\",\"TV-PG\",\"TV-14\",\"R\",\"TV-14\",\"R\",\"TV-MA\",\"R\",\"R\",\"TV-MA\",\"TV-MA\",\"TV-14\",\"TV-14\",\"PG\",\"TV-14\",\"TV-MA\",\"TV-MA\",\"R\",\"TV-14\",\"TV-14\",\"TV-14\",\"TV-MA\",\"TV-14\",\"TV-PG\",\"R\",\"TV-MA\",\"TV-MA\",\"NR\",\"R\",\"R\",\"R\",\"TV-MA\",\"TV-MA\",\"TV-MA\",\"TV-MA\",\"TV-MA\",\"TV-MA\",\"TV-MA\",\"TV-MA\",\"TV-MA\",\"TV-MA\",\"TV-MA\",\"TV-14\",\"TV-14\",\"R\",\"TV-MA\",\"TV-MA\",\"TV-14\",\"TV-MA\",\"TV-MA\",\"TV-PG\",\"TV-14\",\"TV-14\",\"TV-PG\",\"TV-PG\",\"TV-G\",\"TV-MA\",\"TV-14\",\"TV-14\",\"TV-14\",\"TV-PG\",\"TV-PG\",\"NR\",\"PG-13\",\"PG-13\",\"TV-MA\",\"TV-MA\",\"TV-Y\",\"TV-Y\",\"TV-14\",\"TV-14\",\"TV-MA\",\"TV-14\",\"TV-14\",\"TV-PG\",\"TV-14\",\"TV-14\",\"TV-PG\",\"PG-13\",\"TV-14\",\"TV-MA\",\"TV-14\",\"TV-MA\",\"TV-MA\",\"TV-14\",\"R\",\"TV-MA\",\"TV-PG\",\"R\",\"TV-MA\",\"TV-PG\",\"TV-MA\",\"PG-13\",\"TV-MA\",\"R\",\"TV-MA\",\"TV-14\",\"TV-PG\",\"TV-PG\",\"PG\",\"R\",\"TV-14\",\"TV-14\",\"TV-14\",\"PG-13\",\"R\",\"TV-MA\",\"TV-MA\",\"TV-14\",\"TV-PG\",\"TV-14\",\"R\",\"TV-MA\",\"R\",\"TV-MA\",\"TV-MA\",\"R\",\"R\",\"R\",\"TV-14\",\"TV-14\",\"TV-14\",\"TV-G\",\"R\",\"TV-14\",\"TV-14\",\"PG-13\",\"PG-13\",\"TV-PG\",\"TV-MA\",\"PG\",\"PG\",\"PG\",\"TV-PG\",\"TV-14\",\"PG-13\",\"PG-13\",\"PG\",\"PG-13\",\"PG-13\",\"TV-Y\",\"TV-PG\",\"TV-Y\",\"TV-Y\",\"TV-Y\",\"TV-G\",\"TV-MA\",\"TV-MA\",\"TV-Y\",\"TV-PG\",\"TV-MA\",\"TV-14\",\"TV-14\",\"TV-PG\",\"R\",\"TV-MA\",\"TV-PG\",\"TV-MA\",\"PG\",\"TV-MA\",\"TV-14\",\"TV-14\",\"PG-13\",\"PG-13\",\"TV-14\",\"TV-14\",\"TV-14\",\"TV-MA\",\"TV-14\",\"TV-MA\",\"TV-MA\",\"PG\",\"R\",\"PG\",\"PG-13\",\"PG-13\",\"TV-14\",\"PG-13\",\"TV-MA\",\"TV-MA\",\"R\",\"TV-MA\",\"TV-MA\",\"TV-MA\",\"TV-MA\",\"TV-14\",\"TV-14\",\"TV-14\",\"PG-13\",\"TV-14\",\"TV-14\",\"TV-PG\",\"TV-PG\",\"TV-MA\",\"TV-14\",\"TV-14\",\"TV-14\",\"TV-14\",\"TV-PG\",\"R\",\"TV-MA\",\"TV-MA\",\"TV-14\",\"TV-MA\",\"TV-MA\",\"TV-MA\",\"TV-14\",\"TV-PG\",\"TV-14\",\"TV-MA\",\"TV-14\",\"TV-14\",\"TV-14\",\"TV-PG\",\"TV-14\",\"TV-14\",\"TV-14\",\"TV-MA\",\"TV-MA\",\"TV-Y\",\"TV-Y\",\"TV-MA\",\"TV-MA\",\"TV-G\",\"R\",\"TV-14\",\"TV-MA\",\"TV-PG\",\"PG\",\"TV-PG\",\"TV-MA\",\"TV-14\",\"TV-MA\",\"TV-PG\",\"TV-MA\",\"TV-14\",\"PG-13\",\"TV-14\",\"TV-PG\",\"R\",\"R\",\"TV-14\",\"TV-MA\",\"TV-14\",\"PG-13\",\"TV-MA\",\"TV-MA\",\"R\",\"PG-13\",\"PG-13\",\"R\",\"TV-MA\",\"TV-MA\",\"TV-MA\",\"TV-Y\",\"TV-MA\",\"TV-14\",\"NR\",\"TV-14\",\"TV-14\",\"R\",\"PG-13\",\"PG\",\"TV-MA\",\"TV-MA\",\"TV-MA\",\"TV-MA\",\"TV-PG\",\"R\",\"TV-MA\",\"R\",\"TV-14\",\"TV-MA\",\"PG-13\",\"TV-14\",\"R\",\"R\",\"TV-MA\",\"TV-MA\",\"NR\",\"R\",\"TV-G\",\"TV-PG\",\"TV-MA\",\"TV-14\",\"TV-MA\",\"R\",\"R\",\"TV-PG\",\"TV-MA\",\"TV-MA\",\"TV-PG\",\"TV-PG\",\"TV-MA\",\"TV-PG\",\"TV-MA\",\"TV-MA\",\"TV-MA\",\"PG\",\"TV-MA\",\"TV-14\",\"TV-14\",\"R\",\"TV-PG\",\"TV-MA\",\"TV-MA\",\"TV-MA\",\"TV-14\",\"TV-G\",\"TV-14\",\"TV-MA\",\"NR\",\"TV-PG\",\"TV-14\",\"TV-MA\",\"TV-MA\",\"TV-MA\",\"TV-MA\",\"TV-14\",\"TV-14\",\"TV-MA\",\"R\",\"TV-14\",\"R\",\"TV-Y7\",\"TV-MA\",\"TV-G\",\"TV-MA\",\"TV-MA\",\"TV-MA\",\"TV-MA\",\"TV-MA\",\"TV-MA\",\"TV-PG\",\"PG-13\",\"TV-14\",\"G\",\"TV-MA\",\"NR\",\"TV-14\",\"TV-Y7\",\"TV-PG\",\"TV-MA\",\"TV-PG\",\"R\",\"R\",\"R\",\"TV-14\",\"TV-PG\",\"TV-14\",\"TV-MA\",\"TV-14\",\"TV-MA\",\"TV-MA\",\"TV-G\",\"TV-G\",\"TV-PG\",\"TV-14\",\"R\",\"TV-14\",\"TV-MA\",\"TV-MA\",\"TV-MA\",\"TV-MA\",\"PG-13\",\"TV-14\",\"NR\",\"TV-Y\",\"TV-14\",\"TV-14\",\"R\",\"TV-MA\",\"TV-14\",\"PG-13\",\"TV-PG\",\"TV-14\",\"TV-MA\",\"TV-MA\",\"TV-MA\",\"TV-MA\",\"PG\",\"R\",\"TV-PG\",\"R\",\"TV-MA\",\"TV-MA\",\"TV-MA\",\"TV-14\",\"G\",\"TV-14\",\"TV-MA\",\"TV-14\",\"G\",\"TV-14\",\"TV-14\",\"TV-MA\",\"TV-MA\",\"TV-MA\",\"TV-MA\",\"PG\",\"TV-MA\",\"PG-13\",\"TV-14\",\"R\",\"R\",\"TV-MA\",\"TV-MA\",\"R\",\"TV-MA\",\"TV-MA\",\"TV-MA\",\"TV-MA\",\"TV-MA\",\"TV-14\",\"TV-MA\",\"TV-MA\",\"R\",\"TV-MA\",\"TV-PG\",\"PG\",\"R\",\"TV-G\",\"TV-G\",\"R\",\"PG\",\"TV-MA\",\"TV-PG\",\"R\",\"TV-MA\",\"TV-MA\",\"TV-PG\",\"TV-PG\",\"R\",\"R\",\"TV-14\",\"TV-MA\",\"TV-14\",\"TV-14\",\"R\",\"PG\",\"TV-MA\",\"TV-PG\",\"TV-PG\",\"R\",\"R\",\"TV-14\",\"TV-Y7\",\"TV-PG\",\"TV-PG\",\"TV-Y\",\"TV-PG\",\"R\",\"TV-14\",\"TV-MA\",\"TV-MA\",\"TV-MA\",\"TV-MA\",\"TV-MA\",\"TV-MA\",\"PG\",\"TV-MA\",\"TV-MA\",\"TV-14\",\"TV-14\",\"TV-MA\",\"TV-14\",\"TV-14\",\"TV-MA\",\"TV-14\",\"TV-MA\",\"TV-14\",\"TV-PG\",\"TV-14\",\"TV-14\",\"TV-MA\",\"TV-MA\",\"TV-MA\",\"TV-MA\",\"TV-MA\",\"TV-MA\",\"R\",\"TV-MA\",\"TV-MA\",\"TV-14\",\"TV-Y\",\"TV-Y7\",\"G\",\"TV-MA\",\"TV-PG\",\"TV-PG\",\"TV-MA\",\"TV-MA\",\"TV-MA\",\"TV-MA\",\"TV-PG\",\"TV-14\",\"TV-PG\",\"PG-13\",\"TV-MA\",\"TV-14\",\"TV-MA\",\"PG\",\"TV-MA\",\"R\",\"TV-MA\",\"TV-MA\",\"PG\",\"PG-13\",\"TV-MA\",\"PG-13\",\"TV-MA\",\"TV-MA\",\"TV-14\",\"TV-MA\",\"G\",\"TV-MA\",\"TV-Y7\",\"PG-13\",\"TV-MA\",\"TV-MA\",\"TV-14\",\"TV-MA\",\"R\",\"TV-MA\",\"TV-14\",\"G\",\"PG-13\",\"TV-MA\",\"TV-MA\",\"TV-MA\",\"PG-13\",\"TV-MA\",\"R\",\"TV-MA\",\"TV-14\",\"TV-MA\",\"TV-MA\",\"TV-MA\",\"TV-MA\",\"PG-13\",\"NR\",\"PG\",\"TV-PG\",\"TV-Y\",\"TV-PG\",\"PG\",\"TV-PG\",\"NR\",\"PG\",\"PG\",\"TV-MA\",\"TV-14\",\"TV-PG\",\"TV-G\",\"TV-PG\",\"TV-Y\",\"PG-13\",\"TV-MA\",\"R\",\"TV-14\",\"TV-MA\",\"TV-14\",\"R\",\"TV-14\",\"PG\",\"TV-14\",\"PG-13\",\"R\",\"R\",\"TV-MA\",\"TV-MA\",\"UR\",\"PG\",\"R\",\"TV-PG\",\"R\",\"R\",\"TV-MA\",\"R\",\"R\",\"PG\",\"TV-14\",\"R\",\"R\",\"TV-14\",\"TV-MA\",\"R\",\"TV-MA\",\"PG-13\",\"TV-14\",\"TV-14\",\"TV-14\",\"TV-MA\",\"TV-MA\",\"PG\",\"PG\",\"R\",\"TV-MA\",\"TV-MA\",\"TV-MA\",\"R\",\"TV-MA\",\"TV-MA\",\"R\",\"TV-PG\",\"G\",\"TV-G\",\"R\",\"TV-14\",\"TV-MA\",\"TV-14\",\"TV-MA\",\"TV-PG\",\"TV-MA\",\"TV-14\",\"TV-14\",\"TV-PG\",\"TV-G\",\"TV-14\",\"TV-MA\",\"TV-MA\",\"TV-14\",\"TV-14\",\"TV-14\",\"TV-14\",\"TV-14\",\"TV-MA\",\"PG-13\",\"PG\",\"TV-14\",\"TV-PG\",\"TV-14\",\"TV-14\",\"TV-14\",\"PG-13\",\"TV-14\",\"TV-14\",\"R\",\"TV-MA\",\"TV-14\",\"TV-MA\",\"TV-MA\",\"R\",\"TV-14\",\"TV-MA\",\"TV-MA\",\"TV-MA\",\"TV-MA\",\"TV-G\",\"TV-PG\",\"TV-MA\",\"PG-13\",\"TV-14\",\"TV-MA\",\"TV-14\",\"TV-MA\",\"NR\",\"TV-14\",\"TV-14\",\"R\",\"TV-14\",\"TV-MA\",\"R\",\"TV-MA\",\"TV-PG\",\"TV-14\",\"TV-14\",\"R\",\"R\",\"TV-14\",\"TV-G\",\"TV-PG\",\"NR\",\"TV-MA\",\"TV-MA\",\"TV-14\",\"TV-PG\",\"TV-MA\",\"TV-14\",\"TV-MA\",\"TV-MA\",\"TV-MA\",\"TV-MA\",\"TV-MA\",\"TV-14\",\"TV-14\",\"R\",\"TV-MA\",\"TV-MA\",\"TV-MA\",\"PG-13\",\"R\",\"R\",\"TV-MA\",\"TV-MA\",\"TV-MA\",\"TV-MA\",\"TV-14\",\"PG-13\",\"TV-MA\",\"TV-MA\",\"PG\",\"TV-14\",\"R\",\"R\",\"PG-13\",\"TV-14\",\"TV-14\",\"TV-MA\",\"R\",\"R\",\"TV-14\",\"TV-14\",\"TV-MA\",\"TV-14\",\"TV-MA\",\"TV-MA\",\"TV-14\",\"TV-MA\",\"TV-PG\",\"TV-MA\",\"TV-14\",\"TV-14\",\"TV-14\",\"TV-MA\",\"TV-MA\",\"TV-MA\",\"TV-MA\",\"TV-MA\",\"TV-14\",\"TV-MA\",\"TV-MA\",\"TV-14\",\"TV-14\",\"TV-14\",\"TV-PG\",\"R\",\"TV-14\",\"TV-PG\",\"TV-14\",\"TV-MA\",\"TV-14\",\"R\",\"PG-13\",\"TV-MA\",\"TV-PG\",\"TV-14\",\"TV-PG\",\"TV-MA\",\"TV-MA\",\"TV-MA\",\"TV-MA\",\"TV-MA\",\"TV-PG\",\"TV-PG\",\"TV-MA\",\"PG\",\"TV-MA\",\"TV-14\",\"TV-MA\",\"NR\",\"TV-14\",\"TV-MA\",\"TV-14\",\"TV-14\",\"TV-MA\",\"TV-PG\",\"TV-G\",\"PG-13\",\"PG-13\",\"TV-14\",\"TV-MA\",\"PG\",\"PG\",\"PG\",\"TV-14\",\"TV-PG\",\"PG\",\"TV-14\",\"R\",\"TV-Y\",\"TV-14\",\"R\",\"TV-14\",\"TV-PG\",\"R\",\"NR\",\"TV-MA\",\"TV-MA\",\"TV-MA\",\"PG-13\",\"TV-14\",\"PG\",\"TV-MA\",\"PG\",\"TV-14\",\"PG-13\",\"TV-MA\",\"TV-14\",\"TV-14\",\"TV-MA\",\"TV-MA\",\"TV-PG\",\"PG\",\"PG-13\",\"R\",\"NR\",\"TV-MA\",\"PG-13\",\"TV-14\",\"PG\",\"TV-PG\",\"PG\",\"TV-14\",\"PG-13\",\"PG\",\"PG-13\",\"TV-14\",\"TV-G\",\"TV-PG\",\"TV-PG\",\"TV-14\",\"TV-MA\",\"PG-13\",\"R\",\"TV-MA\",\"R\",\"TV-MA\",\"TV-MA\",\"TV-MA\",\"TV-14\",\"R\",\"R\",\"TV-MA\",\"TV-MA\",\"PG\",\"TV-MA\",\"TV-14\",\"TV-MA\",\"TV-PG\",\"TV-14\",\"TV-MA\",\"TV-PG\",\"TV-MA\",\"TV-14\",\"PG-13\",\"NR\",\"TV-14\",\"R\",\"R\",\"TV-MA\",\"R\",\"TV-14\",\"TV-MA\",\"PG-13\",\"TV-14\",\"TV-14\",\"TV-14\",\"TV-MA\",\"TV-MA\",\"TV-14\",\"R\",\"PG-13\",\"TV-MA\",\"TV-MA\",\"PG\",\"TV-MA\",\"TV-MA\",\"R\",\"TV-MA\",\"TV-MA\",\"TV-MA\",\"TV-MA\",\"TV-MA\",\"R\",\"TV-14\",\"PG\",\"PG\",\"TV-MA\",\"TV-MA\",\"TV-MA\",\"TV-MA\",\"TV-MA\",\"NR\",\"TV-MA\",\"PG\",\"TV-PG\",\"UR\",\"TV-MA\",\"TV-MA\",\"R\",\"TV-MA\",\"TV-14\",\"TV-MA\",\"TV-14\",\"TV-MA\",\"TV-14\",\"R\",\"PG-13\",\"TV-MA\",\"TV-MA\",\"TV-MA\",\"PG-13\",\"PG-13\",\"PG-13\",\"TV-14\",\"TV-MA\",\"TV-MA\",\"R\",\"TV-MA\",\"PG\",\"NR\",\"TV-MA\",\"PG-13\",\"PG-13\",\"PG\",\"PG\",\"TV-MA\",\"PG\",\"TV-PG\",\"R\",\"TV-MA\",\"TV-14\",\"TV-MA\",\"PG\",\"TV-14\",\"R\",\"PG-13\",\"PG-13\",\"TV-14\",\"TV-MA\",\"TV-MA\",\"R\",\"TV-PG\",\"R\",\"TV-MA\",\"TV-PG\",\"TV-14\",\"TV-PG\",\"TV-14\",\"TV-Y7\",\"PG-13\",\"TV-MA\",\"TV-PG\",\"TV-MA\",\"TV-14\",\"R\",\"R\",\"PG-13\",\"TV-MA\",\"TV-Y7\",\"TV-14\",\"TV-14\",\"TV-MA\",\"PG\",\"TV-MA\",\"TV-MA\",\"TV-MA\",\"TV-G\",\"TV-PG\",\"TV-14\",\"TV-14\",\"TV-MA\",\"TV-PG\",\"TV-14\",\"TV-MA\",\"R\",\"TV-MA\",\"TV-PG\",\"PG\",\"TV-14\",\"TV-MA\",\"TV-MA\",\"TV-14\",\"TV-MA\",\"NR\",\"TV-PG\",\"TV-Y7\",\"TV-14\",\"TV-14\",\"TV-14\",\"TV-MA\",\"TV-14\",\"PG\",\"TV-MA\",\"TV-MA\",\"TV-MA\",\"TV-MA\",\"R\",\"TV-PG\",\"TV-14\",\"R\",\"TV-14\",\"TV-MA\",\"TV-MA\",\"TV-14\",\"TV-MA\",\"TV-14\",\"TV-MA\",\"TV-Y\",\"TV-14\",\"TV-14\",\"TV-14\",\"TV-MA\",\"TV-MA\",\"TV-MA\",\"R\",\"TV-14\",\"TV-PG\",\"R\",\"TV-MA\",\"TV-MA\",\"TV-MA\",\"TV-MA\",\"TV-MA\",\"TV-MA\",\"TV-MA\",\"TV-MA\",\"TV-MA\",\"TV-MA\",\"TV-14\",\"TV-MA\",\"PG\",\"TV-MA\",\"TV-MA\",\"TV-MA\",\"R\",\"PG-13\",\"TV-14\",\"TV-PG\",\"R\",\"TV-14\",\"R\",\"TV-Y\",\"TV-14\",\"TV-MA\",\"TV-MA\",\"TV-PG\",\"TV-14\",\"TV-MA\",\"TV-14\",\"TV-14\",\"TV-PG\",\"TV-14\",\"TV-14\",\"TV-MA\",\"TV-MA\",\"TV-MA\",\"TV-MA\",\"TV-MA\",\"R\",\"TV-MA\",\"TV-MA\",\"G\",\"TV-14\",\"PG\",\"TV-Y\",\"PG\",\"TV-14\",\"TV-MA\",\"TV-MA\",\"TV-MA\",\"TV-MA\",\"TV-14\",\"TV-MA\",\"TV-MA\",\"TV-14\",\"TV-14\",\"TV-MA\",\"TV-MA\",\"TV-MA\",\"TV-14\",\"TV-MA\",\"PG-13\",\"TV-MA\",\"R\",\"TV-MA\",\"TV-MA\",\"TV-PG\",\"TV-MA\",\"TV-MA\",\"TV-MA\",\"TV-PG\",\"TV-PG\",\"TV-MA\",\"TV-MA\",\"TV-MA\",\"TV-MA\",\"TV-PG\",\"TV-14\",\"TV-14\",\"TV-MA\",\"TV-MA\",\"TV-MA\",\"TV-MA\",\"TV-PG\",\"TV-14\",\"TV-14\",\"PG\",\"TV-14\",\"PG-13\",\"PG-13\",\"R\",\"PG-13\",\"TV-MA\",\"TV-MA\",\"PG-13\",\"TV-MA\",\"TV-G\",\"R\",\"TV-14\",\"G\",\"TV-MA\",\"TV-MA\",\"PG-13\",\"TV-PG\",\"TV-MA\",\"TV-14\",\"TV-MA\",\"TV-PG\",\"TV-PG\",\"TV-14\",\"TV-14\",\"TV-14\",\"TV-PG\",\"TV-MA\",\"TV-14\",\"TV-14\",\"TV-14\",\"TV-MA\",\"TV-14\",\"TV-14\",\"PG\",\"TV-MA\",\"TV-14\",\"TV-14\",\"TV-14\",\"TV-MA\",\"TV-PG\",\"TV-MA\",\"TV-14\",\"TV-MA\",\"TV-14\",\"TV-PG\",\"TV-14\",\"TV-14\",\"TV-14\",\"TV-14\",\"TV-14\",\"TV-14\",\"TV-14\",\"TV-14\",\"TV-MA\",\"TV-14\",\"TV-PG\",\"TV-14\",\"TV-14\",\"TV-MA\",\"PG-13\",\"TV-14\",\"TV-PG\",\"TV-MA\",\"TV-MA\",\"TV-MA\",\"TV-MA\",\"TV-MA\",\"TV-MA\",\"NR\",\"TV-MA\",\"TV-14\",\"TV-MA\",\"TV-14\",\"TV-14\",\"TV-14\",\"TV-14\",\"TV-MA\",\"TV-MA\",\"TV-MA\",\"TV-MA\",\"R\",\"R\",\"TV-MA\",\"R\",\"TV-MA\",\"TV-PG\",\"TV-PG\",\"TV-PG\",\"TV-MA\",\"TV-14\",\"TV-14\",\"TV-14\",\"TV-14\",\"TV-14\",\"TV-PG\",\"TV-14\",\"TV-14\",\"R\",\"TV-MA\",\"R\",\"TV-14\",\"R\",\"TV-MA\",\"TV-PG\",\"R\",\"R\",\"TV-MA\",\"TV-14\",\"TV-14\",\"TV-MA\",\"R\",\"R\",\"TV-14\",\"TV-14\",\"PG-13\",\"PG-13\",\"R\",\"R\",\"TV-MA\",\"R\",\"NR\",\"TV-MA\",\"TV-14\",\"PG-13\",\"TV-MA\",\"PG-13\",\"R\",\"TV-PG\",\"TV-14\",\"TV-PG\",\"TV-MA\",\"R\",\"TV-G\",\"TV-14\",\"TV-14\",\"PG\",\"PG\",\"R\",\"TV-14\",\"PG-13\",\"TV-14\",\"TV-14\",\"TV-MA\",\"TV-14\",\"TV-G\",\"TV-14\",\"TV-14\",\"PG-13\",\"TV-14\",\"TV-MA\",\"TV-Y7\",\"TV-Y7\",\"TV-Y\",\"TV-Y7\",\"TV-Y7\",\"TV-Y7\",\"TV-Y7\",\"TV-Y7\",\"R\",\"TV-MA\",\"TV-MA\",\"NR\",\"TV-14\",\"R\",\"TV-14\",\"TV-14\",\"TV-MA\",\"R\",\"TV-Y7\",\"TV-PG\",\"TV-PG\",\"TV-PG\",\"TV-14\",\"TV-14\",\"TV-14\",\"R\",\"TV-MA\",\"TV-PG\",\"TV-14\",\"R\",\"TV-MA\",\"TV-PG\",\"TV-PG\",\"TV-MA\",\"TV-MA\",\"R\",\"PG-13\",\"TV-MA\",\"TV-14\",\"TV-MA\",\"TV-MA\",\"TV-14\",\"TV-PG\",\"TV-MA\",\"TV-G\",\"R\",\"R\",\"PG\",\"PG-13\",\"TV-MA\",\"NC-17\",\"TV-MA\",\"PG\",\"TV-MA\",\"TV-PG\",\"TV-PG\",\"TV-14\",\"TV-MA\",\"TV-MA\",\"TV-MA\",\"TV-14\",\"TV-14\",\"TV-MA\",\"TV-MA\",\"TV-14\",\"R\",\"R\",\"TV-14\",\"TV-Y\",\"TV-MA\",\"R\",\"R\",\"TV-MA\",\"TV-14\",\"TV-PG\",\"TV-MA\",\"PG\",\"PG\",\"TV-Y\",\"TV-Y\",\"TV-Y\",\"TV-Y\",\"TV-MA\",\"PG-13\",\"PG-13\",\"R\",\"PG\",\"TV-MA\",\"TV-14\",\"TV-PG\",\"R\",\"TV-Y7\",\"TV-G\",\"TV-Y7\",\"TV-Y7\",\"TV-Y7\",\"TV-Y\",\"TV-Y7-FV\",\"TV-Y7\",\"TV-MA\",\"TV-MA\",\"TV-Y7-FV\",\"TV-MA\",\"PG-13\",\"TV-MA\",\"TV-14\",\"TV-MA\",\"PG-13\",\"TV-PG\",\"TV-14\",\"TV-MA\",\"TV-14\",\"TV-PG\",\"TV-MA\",\"TV-MA\",\"TV-PG\",\"TV-MA\",\"R\",\"TV-14\",\"TV-PG\",\"TV-MA\",\"TV-PG\",\"TV-PG\",\"TV-14\",\"TV-MA\",\"TV-14\",\"TV-14\",\"TV-PG\",\"TV-MA\",\"R\",\"TV-MA\",\"R\",\"TV-MA\",\"TV-PG\",\"PG-13\",\"TV-MA\",\"TV-MA\",\"TV-14\",\"TV-PG\",\"TV-14\",\"TV-MA\",\"TV-14\",\"TV-Y\",\"TV-MA\",\"TV-14\",\"TV-MA\",\"TV-Y7\",\"TV-Y7\",\"PG\",\"TV-G\",\"PG\",\"PG-13\",\"TV-Y7-FV\",\"TV-Y7\",\"TV-Y7\",\"TV-Y7\",\"TV-Y7\",\"TV-Y7\",\"TV-Y7\",\"NR\",\"TV-MA\",\"TV-MA\",\"TV-14\",\"PG-13\",\"TV-14\",\"TV-14\",\"TV-PG\",\"R\",\"R\",\"TV-14\",\"PG-13\",\"TV-MA\",\"TV-MA\",\"PG\",\"TV-14\",\"R\",\"TV-MA\",\"R\",\"TV-MA\",\"TV-14\",\"TV-14\",\"TV-14\",\"TV-14\",\"NR\",\"TV-14\",\"TV-G\",\"TV-MA\",\"TV-14\",\"TV-PG\",\"TV-14\",\"TV-MA\",\"R\",\"TV-PG\",\"TV-14\",\"unknown\",\"unknown\",\"unknown\",\"TV-MA\",\"TV-MA\",\"R\",\"TV-MA\",\"TV-14\",\"TV-14\",\"TV-MA\",\"TV-MA\",\"TV-MA\",\"TV-14\",\"PG-13\",\"R\",\"TV-14\",\"TV-14\",\"TV-14\",\"TV-MA\",\"TV-14\",\"TV-14\",\"TV-MA\",\"TV-14\",\"TV-MA\",\"TV-14\",\"TV-14\",\"TV-PG\",\"R\",\"TV-14\",\"TV-MA\",\"TV-MA\",\"TV-MA\",\"PG-13\",\"TV-MA\",\"TV-MA\",\"TV-14\",\"TV-MA\",\"PG\",\"TV-MA\",\"TV-G\",\"TV-G\",\"TV-G\",\"TV-Y\",\"TV-PG\",\"TV-14\",\"TV-MA\",\"TV-14\",\"TV-14\",\"TV-14\",\"TV-14\",\"TV-MA\",\"TV-PG\",\"PG-13\",\"TV-14\",\"TV-MA\",\"TV-MA\",\"TV-14\",\"TV-MA\",\"TV-14\",\"R\",\"TV-PG\",\"TV-PG\",\"R\",\"TV-MA\",\"R\",\"TV-MA\",\"R\",\"PG-13\",\"NR\",\"TV-MA\",\"TV-14\",\"PG\",\"TV-MA\",\"TV-MA\",\"TV-14\",\"TV-14\",\"TV-MA\",\"TV-Y\",\"TV-14\",\"TV-14\",\"R\",\"TV-PG\",\"TV-14\",\"TV-14\",\"TV-14\",\"TV-PG\",\"TV-14\",\"TV-14\",\"TV-PG\",\"TV-14\",\"TV-PG\",\"TV-MA\",\"TV-G\",\"TV-MA\",\"TV-PG\",\"TV-14\",\"TV-MA\",\"TV-MA\",\"TV-MA\",\"TV-G\",\"TV-G\",\"TV-MA\",\"TV-PG\",\"TV-14\",\"R\",\"R\",\"TV-MA\",\"TV-14\",\"PG-13\",\"TV-14\",\"TV-14\",\"TV-MA\",\"TV-14\",\"TV-14\",\"R\",\"TV-MA\",\"TV-14\",\"TV-MA\",\"TV-14\",\"TV-14\",\"PG-13\",\"TV-MA\",\"TV-MA\",\"TV-MA\",\"TV-14\",\"TV-14\",\"TV-14\",\"R\",\"TV-MA\",\"R\",\"TV-MA\",\"TV-MA\",\"TV-MA\",\"TV-MA\",\"TV-MA\",\"TV-MA\",\"TV-MA\",\"TV-MA\",\"TV-G\",\"TV-MA\",\"TV-14\",\"TV-MA\",\"TV-MA\",\"TV-14\",\"R\",\"R\",\"R\",\"TV-PG\",\"TV-14\",\"TV-14\",\"TV-PG\",\"PG\",\"PG\",\"PG\",\"PG\",\"TV-PG\",\"PG\",\"TV-14\",\"TV-MA\",\"TV-MA\",\"TV-14\",\"NR\",\"TV-14\",\"TV-14\",\"TV-MA\",\"TV-14\",\"TV-14\",\"TV-MA\",\"TV-14\",\"TV-MA\",\"TV-14\",\"TV-MA\",\"TV-MA\",\"TV-14\",\"TV-PG\",\"TV-14\",\"TV-PG\",\"TV-PG\",\"TV-14\",\"TV-PG\",\"TV-MA\",\"TV-MA\",\"R\",\"PG-13\",\"R\",\"TV-PG\",\"TV-MA\",\"TV-PG\",\"TV-14\",\"TV-MA\",\"TV-MA\",\"TV-PG\",\"R\",\"TV-MA\",\"TV-MA\",\"TV-14\",\"PG-13\",\"PG-13\",\"TV-14\",\"PG\",\"TV-MA\",\"R\",\"TV-14\",\"TV-MA\",\"TV-PG\",\"TV-MA\",\"TV-14\",\"TV-MA\",\"TV-MA\",\"TV-MA\",\"TV-MA\",\"TV-14\",\"TV-MA\",\"R\",\"TV-14\",\"TV-MA\",\"R\",\"TV-PG\",\"TV-MA\",\"TV-14\",\"R\",\"TV-MA\",\"TV-MA\",\"TV-MA\",\"TV-PG\",\"TV-MA\",\"TV-MA\",\"TV-MA\",\"R\",\"PG\",\"TV-G\",\"PG-13\",\"TV-Y\",\"TV-Y7\",\"TV-14\",\"TV-MA\",\"TV-MA\",\"TV-MA\",\"TV-MA\",\"TV-MA\",\"TV-14\",\"R\",\"TV-14\",\"TV-MA\",\"TV-MA\",\"R\",\"R\",\"TV-MA\",\"TV-14\",\"TV-MA\",\"TV-14\",\"TV-14\",\"PG\",\"TV-14\",\"TV-MA\",\"PG\",\"TV-14\",\"PG\",\"TV-MA\",\"TV-PG\",\"TV-14\",\"TV-G\",\"TV-MA\",\"PG-13\",\"TV-PG\",\"TV-MA\",\"PG-13\",\"TV-14\",\"NR\",\"TV-MA\",\"NR\",\"TV-MA\",\"TV-PG\",\"TV-14\",\"TV-MA\",\"TV-MA\",\"TV-PG\",\"R\",\"TV-PG\",\"TV-MA\",\"TV-MA\",\"PG\",\"TV-MA\",\"TV-14\",\"TV-MA\",\"TV-14\",\"R\",\"TV-14\",\"R\",\"TV-14\",\"TV-14\",\"PG-13\",\"R\",\"TV-MA\",\"R\",\"TV-MA\",\"PG\",\"TV-MA\",\"PG\",\"TV-Y7\",\"TV-Y7\",\"TV-Y\",\"TV-Y7\",\"TV-Y7\",\"TV-Y7\",\"TV-Y7\",\"TV-Y7\",\"TV-Y7\",\"TV-Y7\",\"TV-Y7\",\"TV-Y7\",\"TV-G\",\"TV-Y7\",\"PG\",\"TV-Y7\",\"PG-13\",\"R\",\"PG\",\"TV-MA\",\"TV-MA\",\"TV-MA\",\"TV-MA\",\"R\",\"TV-MA\",\"R\",\"R\",\"R\",\"R\",\"TV-14\",\"R\",\"TV-MA\",\"TV-14\",\"TV-MA\",\"TV-MA\",\"TV-MA\",\"TV-14\",\"TV-14\",\"TV-PG\",\"TV-Y7-FV\",\"PG\",\"R\",\"PG-13\",\"TV-MA\",\"PG-13\",\"PG-13\",\"TV-14\",\"PG\",\"TV-MA\",\"R\",\"TV-14\",\"TV-MA\",\"TV-14\",\"PG-13\",\"TV-MA\",\"TV-14\",\"PG-13\",\"TV-MA\",\"TV-MA\",\"TV-14\",\"TV-14\",\"PG-13\",\"R\",\"TV-14\",\"TV-14\",\"TV-PG\",\"TV-14\",\"TV-PG\",\"TV-MA\",\"TV-MA\",\"TV-14\",\"TV-MA\",\"TV-MA\",\"TV-14\",\"PG\",\"PG\",\"TV-14\",\"TV-MA\",\"TV-14\",\"PG-13\",\"NR\",\"TV-MA\",\"TV-14\",\"TV-14\",\"TV-14\",\"TV-MA\",\"TV-MA\",\"TV-PG\",\"TV-MA\",\"TV-14\",\"TV-PG\",\"TV-14\",\"TV-MA\",\"TV-14\",\"TV-PG\",\"TV-14\",\"TV-14\",\"PG-13\",\"TV-14\",\"TV-MA\",\"TV-14\",\"TV-14\",\"PG-13\",\"TV-14\",\"unknown\",\"TV-MA\",\"PG-13\",\"TV-Y\",\"TV-Y\",\"TV-Y7\",\"TV-Y\",\"TV-Y\",\"TV-Y\",\"TV-MA\",\"TV-PG\",\"TV-G\",\"TV-14\",\"TV-MA\",\"PG\",\"TV-14\",\"TV-MA\",\"PG-13\",\"TV-PG\",\"TV-MA\",\"TV-G\",\"TV-14\",\"TV-MA\",\"TV-14\",\"TV-MA\",\"TV-MA\",\"TV-14\",\"R\",\"TV-MA\",\"TV-14\",\"R\",\"R\",\"TV-PG\",\"TV-14\",\"TV-14\",\"TV-14\",\"PG\",\"TV-PG\",\"TV-MA\",\"TV-14\",\"TV-PG\",\"TV-14\",\"TV-14\",\"NR\",\"TV-MA\",\"TV-MA\",\"TV-MA\",\"TV-PG\",\"TV-PG\",\"TV-14\",\"TV-PG\",\"TV-14\",\"TV-PG\",\"TV-PG\",\"TV-PG\",\"TV-14\",\"TV-PG\",\"TV-MA\",\"TV-MA\",\"TV-MA\",\"TV-14\",\"TV-PG\",\"TV-MA\",\"TV-MA\",\"PG-13\",\"TV-G\",\"PG\",\"TV-14\",\"R\",\"R\",\"TV-G\",\"TV-PG\",\"TV-MA\",\"TV-14\",\"TV-MA\",\"TV-14\",\"TV-14\",\"TV-14\",\"R\",\"TV-14\",\"TV-PG\",\"TV-14\",\"PG\",\"TV-MA\",\"NR\",\"PG-13\",\"TV-14\",\"TV-PG\",\"TV-14\",\"TV-MA\",\"TV-MA\",\"R\",\"TV-MA\",\"TV-PG\",\"R\",\"PG-13\",\"TV-MA\",\"TV-MA\",\"TV-MA\",\"R\",\"TV-14\",\"TV-14\",\"TV-PG\",\"TV-MA\",\"TV-PG\",\"TV-MA\",\"TV-MA\",\"TV-14\",\"TV-MA\",\"TV-MA\",\"TV-MA\",\"PG\",\"TV-MA\",\"TV-MA\",\"TV-MA\",\"TV-14\",\"R\",\"TV-MA\",\"TV-Y7\",\"TV-PG\",\"TV-PG\",\"TV-MA\",\"TV-14\",\"TV-MA\",\"TV-PG\",\"TV-MA\",\"PG\",\"PG-13\",\"TV-G\",\"TV-G\",\"TV-PG\",\"TV-PG\",\"TV-PG\",\"TV-G\",\"TV-14\",\"TV-G\",\"TV-PG\",\"TV-PG\",\"TV-14\",\"TV-PG\",\"TV-PG\",\"TV-PG\",\"TV-PG\",\"TV-G\",\"TV-PG\",\"TV-PG\",\"TV-PG\",\"TV-G\",\"PG-13\",\"PG-13\",\"TV-MA\",\"R\",\"TV-PG\",\"TV-MA\",\"NR\",\"TV-MA\",\"TV-MA\",\"R\",\"R\",\"G\",\"R\",\"TV-PG\",\"PG-13\",\"PG-13\",\"TV-Y\",\"TV-Y\",\"TV-Y\",\"TV-Y\",\"TV-14\",\"TV-MA\",\"TV-MA\",\"R\",\"TV-MA\",\"TV-14\",\"TV-MA\",\"TV-MA\",\"TV-MA\",\"TV-PG\",\"TV-MA\",\"TV-MA\",\"TV-14\",\"TV-14\",\"TV-14\",\"TV-14\",\"TV-MA\",\"PG\",\"TV-14\",\"TV-14\",\"TV-MA\",\"R\",\"TV-14\",\"TV-14\",\"TV-MA\",\"TV-MA\",\"TV-MA\",\"TV-14\",\"TV-14\",\"TV-14\",\"TV-MA\",\"TV-PG\",\"TV-MA\",\"TV-MA\",\"TV-14\",\"TV-PG\",\"TV-MA\",\"TV-PG\",\"TV-MA\",\"TV-PG\",\"TV-MA\",\"NR\",\"TV-14\",\"PG-13\",\"TV-14\",\"TV-14\",\"TV-PG\",\"TV-G\",\"TV-14\",\"PG\",\"TV-G\",\"TV-14\",\"TV-MA\",\"TV-MA\",\"TV-MA\",\"TV-14\",\"TV-MA\",\"TV-14\",\"TV-G\",\"TV-MA\",\"TV-MA\",\"R\",\"TV-14\",\"TV-MA\",\"PG\",\"TV-MA\",\"TV-MA\",\"TV-G\",\"NR\",\"TV-MA\",\"TV-MA\",\"TV-MA\",\"TV-MA\",\"TV-MA\",\"TV-PG\",\"TV-14\",\"TV-MA\",\"TV-14\",\"TV-14\",\"TV-14\",\"TV-MA\",\"R\",\"TV-MA\",\"TV-MA\",\"TV-PG\",\"TV-MA\",\"PG-13\",\"R\",\"TV-MA\",\"TV-G\",\"TV-PG\",\"TV-14\",\"TV-MA\",\"TV-PG\",\"TV-MA\",\"R\",\"TV-MA\",\"TV-MA\",\"R\",\"PG\",\"TV-MA\",\"TV-MA\",\"TV-14\",\"TV-MA\",\"TV-14\",\"PG-13\",\"TV-14\",\"TV-14\",\"NR\",\"TV-Y7\",\"PG\",\"TV-G\",\"PG-13\",\"TV-MA\",\"TV-14\",\"TV-MA\",\"TV-PG\",\"TV-PG\",\"TV-MA\",\"R\",\"R\",\"TV-PG\",\"TV-MA\",\"TV-14\",\"TV-MA\",\"R\",\"TV-MA\",\"TV-MA\",\"R\",\"TV-14\",\"TV-MA\",\"TV-G\",\"TV-PG\",\"TV-MA\",\"TV-MA\",\"TV-MA\",\"TV-MA\",\"R\",\"TV-14\",\"PG\",\"TV-14\",\"TV-14\",\"TV-PG\",\"TV-14\",\"R\",\"TV-MA\",\"TV-MA\",\"TV-PG\",\"TV-14\",\"TV-14\",\"TV-14\",\"R\",\"TV-PG\",\"TV-14\",\"TV-MA\",\"TV-PG\",\"R\",\"TV-MA\",\"TV-MA\",\"TV-MA\",\"PG\",\"TV-14\",\"TV-MA\",\"TV-14\",\"TV-14\",\"TV-MA\",\"TV-MA\",\"TV-PG\",\"TV-PG\",\"TV-MA\",\"TV-MA\",\"TV-MA\",\"TV-MA\",\"TV-14\",\"TV-14\",\"PG\",\"PG\",\"TV-MA\",\"R\",\"TV-PG\",\"TV-MA\",\"TV-MA\",\"R\",\"TV-PG\",\"R\",\"TV-MA\",\"TV-MA\",\"PG\",\"TV-Y7\",\"TV-14\",\"TV-14\",\"TV-G\",\"TV-MA\",\"TV-14\",\"PG\",\"PG-13\",\"TV-14\",\"TV-14\",\"TV-14\",\"TV-MA\",\"TV-14\",\"TV-14\",\"TV-14\",\"TV-PG\",\"TV-MA\",\"R\",\"R\",\"TV-MA\",\"TV-14\",\"TV-PG\",\"R\",\"TV-14\",\"TV-Y\",\"TV-MA\",\"TV-MA\",\"TV-14\",\"TV-MA\",\"TV-14\",\"TV-MA\",\"PG\",\"TV-14\",\"TV-MA\",\"R\",\"TV-14\",\"PG-13\",\"TV-14\",\"TV-MA\",\"TV-MA\",\"TV-MA\",\"TV-Y\",\"TV-Y\",\"TV-Y\",\"TV-Y\",\"TV-Y\",\"TV-Y\",\"TV-MA\",\"TV-Y7\",\"TV-Y7\",\"TV-Y7\",\"TV-MA\",\"PG-13\",\"TV-PG\",\"TV-14\",\"PG\",\"PG\",\"TV-MA\",\"PG-13\",\"TV-MA\",\"TV-14\",\"TV-MA\",\"PG-13\",\"TV-MA\",\"PG-13\",\"TV-MA\",\"TV-Y7\",\"TV-Y7\",\"TV-Y7\",\"TV-Y7\",\"TV-Y7\",\"TV-Y7\",\"TV-Y7\",\"TV-Y7\",\"TV-MA\",\"TV-14\",\"TV-14\",\"TV-14\",\"TV-14\",\"NR\",\"TV-14\",\"TV-PG\",\"R\",\"TV-PG\",\"TV-14\",\"TV-G\",\"TV-MA\",\"TV-14\",\"R\",\"TV-PG\",\"TV-MA\",\"TV-MA\",\"TV-14\",\"R\",\"PG-13\",\"TV-MA\",\"R\",\"TV-MA\",\"TV-MA\",\"R\",\"TV-14\",\"TV-14\",\"R\",\"TV-14\",\"G\",\"PG\",\"G\",\"PG\",\"TV-MA\",\"R\",\"TV-Y7\",\"PG\",\"TV-14\",\"TV-MA\",\"TV-MA\",\"TV-14\",\"TV-MA\",\"TV-14\",\"TV-14\",\"TV-PG\",\"TV-14\",\"PG-13\",\"PG-13\",\"TV-MA\",\"PG-13\",\"TV-MA\",\"TV-PG\",\"PG-13\",\"TV-MA\",\"TV-14\",\"PG\",\"TV-14\",\"TV-MA\",\"TV-PG\",\"TV-14\",\"TV-14\",\"PG\",\"R\",\"TV-MA\",\"TV-G\",\"TV-PG\",\"TV-14\",\"TV-14\",\"TV-MA\",\"TV-MA\",\"R\",\"TV-MA\",\"TV-MA\",\"TV-14\",\"NR\",\"TV-14\",\"R\",\"TV-14\",\"TV-MA\",\"TV-Y\",\"R\",\"TV-14\",\"TV-14\",\"TV-MA\",\"TV-PG\",\"TV-MA\",\"PG\",\"TV-MA\",\"TV-MA\",\"TV-14\",\"TV-14\",\"TV-14\",\"TV-MA\",\"TV-PG\",\"TV-14\",\"TV-MA\",\"TV-MA\",\"TV-MA\",\"TV-14\",\"PG\",\"TV-14\",\"TV-14\",\"TV-MA\",\"NR\",\"TV-MA\",\"TV-MA\",\"TV-MA\",\"TV-14\",\"TV-14\",\"TV-PG\",\"TV-MA\",\"TV-14\",\"TV-14\",\"PG-13\",\"PG-13\",\"PG-13\",\"TV-MA\",\"TV-MA\",\"TV-MA\",\"TV-MA\",\"PG-13\",\"TV-14\",\"TV-PG\",\"R\",\"TV-PG\",\"TV-MA\",\"TV-MA\",\"TV-14\",\"R\",\"TV-14\",\"TV-MA\",\"TV-14\",\"TV-MA\",\"TV-MA\",\"TV-14\",\"TV-MA\",\"TV-14\",\"TV-PG\",\"R\",\"PG-13\",\"PG-13\",\"TV-MA\",\"R\",\"TV-MA\",\"TV-MA\",\"TV-MA\",\"R\",\"TV-MA\",\"TV-MA\",\"TV-MA\",\"R\",\"NR\",\"R\",\"TV-14\",\"TV-MA\",\"TV-14\",\"R\",\"R\",\"NR\",\"TV-MA\",\"TV-MA\",\"TV-MA\",\"TV-MA\",\"TV-MA\",\"TV-14\",\"TV-MA\",\"TV-MA\",\"PG\",\"TV-PG\",\"TV-MA\",\"R\",\"TV-14\",\"TV-14\",\"TV-MA\",\"TV-PG\",\"TV-14\",\"TV-MA\",\"TV-PG\",\"TV-MA\",\"PG-13\",\"TV-MA\",\"TV-G\",\"TV-MA\",\"PG-13\",\"TV-MA\",\"TV-PG\",\"TV-14\",\"TV-14\",\"R\",\"TV-MA\",\"TV-14\",\"TV-14\",\"TV-MA\",\"TV-PG\",\"TV-14\",\"TV-Y7\",\"PG\",\"TV-MA\",\"PG\",\"PG\",\"PG\",\"PG-13\",\"TV-MA\",\"TV-MA\",\"R\",\"TV-MA\",\"R\",\"R\",\"TV-MA\",\"TV-MA\",\"TV-MA\",\"TV-MA\",\"TV-MA\",\"R\",\"TV-MA\",\"NR\",\"TV-14\",\"TV-14\",\"TV-14\",\"TV-MA\",\"TV-MA\",\"TV-MA\",\"TV-MA\",\"R\",\"TV-MA\",\"TV-Y7\",\"TV-PG\",\"TV-PG\",\"PG\",\"TV-MA\",\"TV-14\",\"R\",\"R\",\"TV-14\",\"TV-MA\",\"TV-14\",\"G\",\"TV-MA\",\"TV-MA\",\"R\",\"PG-13\",\"TV-14\",\"PG\",\"TV-14\",\"TV-14\",\"TV-14\",\"TV-MA\",\"TV-MA\",\"TV-MA\",\"PG\",\"TV-MA\",\"NR\",\"R\",\"TV-14\",\"TV-14\",\"TV-MA\",\"TV-MA\",\"PG-13\",\"TV-MA\",\"TV-PG\",\"TV-14\",\"TV-14\",\"TV-14\",\"TV-14\",\"TV-MA\",\"TV-MA\",\"TV-14\",\"TV-MA\",\"TV-14\",\"TV-14\",\"TV-MA\",\"R\",\"TV-Y7\",\"TV-MA\",\"TV-MA\",\"TV-14\",\"TV-14\",\"TV-PG\",\"TV-14\",\"TV-MA\",\"TV-PG\",\"TV-14\",\"TV-MA\",\"TV-MA\",\"TV-MA\",\"TV-MA\",\"TV-MA\",\"TV-MA\",\"TV-PG\",\"PG-13\",\"TV-14\",\"TV-14\",\"PG-13\",\"TV-Y\",\"TV-14\",\"TV-14\",\"TV-MA\",\"TV-PG\",\"TV-14\",\"TV-14\",\"TV-MA\",\"TV-14\",\"TV-PG\",\"TV-PG\",\"TV-Y\",\"TV-G\",\"TV-MA\",\"TV-14\",\"TV-MA\",\"TV-MA\",\"TV-MA\",\"PG-13\",\"TV-PG\",\"TV-14\",\"TV-PG\",\"TV-14\",\"TV-MA\",\"TV-14\",\"TV-14\",\"TV-14\",\"TV-14\",\"TV-14\",\"TV-MA\",\"TV-14\",\"TV-G\",\"TV-14\",\"TV-MA\",\"TV-14\",\"TV-14\",\"TV-MA\",\"TV-MA\",\"TV-MA\",\"TV-PG\",\"PG-13\",\"R\",\"TV-14\",\"R\",\"TV-14\",\"PG\",\"TV-PG\",\"TV-MA\",\"R\",\"PG-13\",\"R\",\"R\",\"TV-MA\",\"TV-14\",\"TV-PG\",\"PG-13\",\"PG-13\",\"R\",\"R\",\"TV-MA\",\"TV-MA\",\"TV-MA\",\"R\",\"PG\",\"PG-13\",\"PG-13\",\"TV-MA\",\"TV-MA\",\"TV-MA\",\"TV-MA\",\"TV-PG\",\"PG-13\",\"TV-14\",\"TV-14\",\"TV-14\",\"TV-PG\",\"TV-PG\",\"TV-PG\",\"TV-PG\",\"TV-PG\",\"TV-14\",\"TV-PG\",\"TV-PG\",\"TV-PG\",\"TV-PG\",\"TV-PG\",\"R\",\"TV-MA\",\"TV-14\",\"TV-14\",\"PG-13\",\"TV-MA\",\"TV-14\",\"PG-13\",\"TV-MA\",\"PG-13\",\"TV-MA\",\"R\",\"TV-MA\",\"TV-MA\",\"TV-MA\",\"TV-MA\",\"R\",\"TV-MA\",\"TV-MA\",\"TV-MA\",\"TV-14\",\"TV-MA\",\"TV-14\",\"TV-14\",\"PG-13\",\"PG-13\",\"TV-MA\",\"TV-MA\",\"PG-13\",\"R\",\"R\",\"UR\",\"R\",\"R\",\"TV-14\",\"TV-MA\",\"TV-MA\",\"TV-14\",\"TV-14\",\"TV-14\",\"TV-MA\",\"TV-MA\",\"TV-14\",\"TV-14\",\"TV-PG\",\"TV-14\",\"PG-13\",\"TV-14\",\"TV-Y\",\"TV-14\",\"TV-MA\",\"TV-PG\",\"TV-PG\",\"TV-14\",\"TV-14\",\"R\",\"TV-14\",\"TV-MA\",\"R\",\"R\",\"PG-13\",\"TV-14\",\"TV-14\",\"TV-MA\",\"TV-MA\",\"TV-14\",\"TV-MA\",\"TV-PG\",\"UR\",\"TV-Y\",\"TV-Y\",\"TV-Y\",\"TV-MA\",\"TV-14\",\"R\",\"TV-PG\",\"PG\",\"R\",\"TV-MA\",\"TV-G\",\"TV-PG\",\"TV-14\",\"TV-MA\",\"TV-PG\",\"TV-G\",\"TV-G\",\"TV-MA\",\"TV-MA\",\"TV-G\",\"PG-13\",\"TV-14\",\"TV-MA\",\"TV-Y\",\"R\",\"TV-PG\",\"TV-14\",\"R\",\"TV-MA\",\"TV-MA\",\"TV-MA\",\"TV-14\",\"TV-MA\",\"TV-PG\",\"TV-14\",\"TV-14\",\"TV-PG\",\"PG-13\",\"R\",\"TV-MA\",\"TV-MA\",\"TV-MA\",\"R\",\"TV-14\",\"TV-PG\",\"TV-MA\",\"R\",\"TV-MA\",\"PG-13\",\"TV-MA\",\"TV-MA\",\"TV-G\",\"TV-G\",\"PG-13\",\"TV-MA\",\"R\",\"PG\",\"R\",\"R\",\"TV-MA\",\"R\",\"TV-MA\",\"PG-13\",\"R\",\"R\",\"TV-MA\",\"TV-14\",\"PG-13\",\"R\",\"PG\",\"R\",\"R\",\"TV-14\",\"TV-14\",\"TV-MA\",\"TV-MA\",\"TV-MA\",\"TV-MA\",\"TV-14\",\"TV-14\",\"TV-14\",\"TV-MA\",\"NR\",\"PG-13\",\"PG-13\",\"R\",\"TV-MA\",\"R\",\"TV-MA\",\"PG-13\",\"TV-14\",\"TV-MA\",\"TV-MA\",\"R\",\"TV-14\",\"TV-MA\",\"NR\",\"TV-14\",\"TV-14\",\"TV-14\",\"PG\",\"TV-MA\",\"NR\",\"PG-13\",\"TV-MA\",\"PG\",\"TV-MA\",\"TV-PG\",\"TV-MA\",\"TV-14\",\"PG-13\",\"TV-14\",\"TV-G\",\"R\",\"PG-13\",\"PG-13\",\"PG\",\"TV-Y7\",\"TV-Y7\",\"TV-14\",\"TV-MA\",\"TV-MA\",\"TV-Y\",\"G\",\"R\",\"R\",\"TV-MA\",\"TV-MA\",\"PG\",\"PG\",\"PG\",\"PG\",\"TV-MA\",\"TV-14\",\"TV-MA\",\"TV-14\",\"R\",\"TV-14\",\"PG-13\",\"TV-Y\",\"PG-13\",\"TV-MA\",\"TV-14\",\"PG-13\",\"TV-14\",\"TV-PG\",\"TV-PG\",\"TV-Y\",\"TV-MA\",\"R\",\"TV-14\",\"PG-13\",\"R\",\"TV-MA\",\"R\",\"TV-14\",\"TV-14\",\"TV-MA\",\"TV-MA\",\"TV-PG\",\"PG-13\",\"NR\",\"TV-PG\",\"TV-MA\",\"PG-13\",\"TV-PG\",\"R\",\"PG-13\",\"TV-MA\",\"TV-MA\",\"TV-MA\",\"TV-Y7\",\"PG\",\"TV-MA\",\"R\",\"R\",\"TV-MA\",\"NR\",\"TV-MA\",\"PG\",\"PG\",\"TV-MA\",\"TV-MA\",\"TV-G\",\"TV-MA\",\"TV-MA\",\"NR\",\"TV-MA\",\"TV-14\",\"PG-13\",\"TV-G\",\"TV-MA\",\"TV-MA\",\"TV-MA\",\"TV-MA\",\"TV-MA\",\"PG-13\",\"TV-14\",\"TV-MA\",\"TV-Y7\",\"TV-MA\",\"TV-MA\",\"TV-Y\",\"TV-Y\",\"TV-Y\",\"TV-Y\",\"TV-Y\",\"TV-Y\",\"TV-Y\",\"TV-Y\",\"TV-Y\",\"TV-PG\",\"R\",\"R\",\"TV-MA\",\"PG-13\",\"PG-13\",\"TV-14\",\"TV-14\",\"TV-14\",\"PG\",\"TV-14\",\"TV-14\",\"TV-14\",\"TV-MA\",\"TV-MA\",\"TV-G\",\"TV-MA\",\"TV-MA\",\"TV-PG\",\"TV-PG\",\"TV-MA\",\"NC-17\",\"R\",\"R\",\"PG-13\",\"TV-14\",\"R\",\"TV-MA\",\"R\",\"R\",\"TV-14\",\"TV-MA\",\"TV-PG\",\"PG\",\"TV-14\",\"TV-MA\",\"R\",\"TV-MA\",\"TV-MA\",\"TV-14\",\"PG-13\",\"TV-14\",\"TV-14\",\"R\",\"TV-PG\",\"TV-MA\",\"TV-MA\",\"TV-14\",\"TV-MA\",\"TV-MA\",\"TV-14\",\"TV-MA\",\"TV-14\",\"TV-14\",\"TV-MA\",\"TV-PG\",\"G\",\"G\",\"TV-14\",\"TV-MA\",\"R\",\"TV-MA\",\"R\",\"TV-PG\",\"TV-MA\",\"TV-Y7\",\"TV-14\",\"TV-14\",\"TV-MA\",\"R\",\"TV-14\",\"TV-14\",\"TV-MA\",\"TV-PG\",\"TV-MA\",\"PG\",\"PG\",\"PG\",\"TV-PG\",\"TV-MA\",\"TV-Y7\",\"TV-MA\",\"TV-MA\",\"TV-MA\",\"TV-14\",\"R\",\"R\",\"PG-13\",\"TV-PG\",\"TV-MA\",\"TV-PG\",\"TV-MA\",\"TV-14\",\"TV-14\",\"TV-14\",\"TV-14\",\"TV-14\",\"TV-MA\",\"TV-MA\",\"TV-MA\",\"TV-MA\",\"TV-MA\",\"TV-MA\",\"TV-MA\",\"TV-MA\",\"TV-MA\",\"TV-MA\",\"TV-14\",\"R\",\"TV-Y7\",\"PG\",\"PG\",\"TV-MA\",\"TV-14\",\"TV-MA\",\"TV-MA\",\"TV-14\",\"TV-PG\",\"TV-MA\",\"PG-13\",\"R\",\"TV-MA\",\"PG\",\"TV-MA\",\"TV-14\",\"TV-MA\",\"TV-MA\",\"TV-PG\",\"TV-MA\",\"TV-MA\",\"R\",\"R\",\"PG-13\",\"R\",\"R\",\"TV-MA\",\"R\",\"TV-MA\",\"TV-MA\",\"TV-14\",\"R\",\"TV-MA\",\"TV-MA\",\"R\",\"R\",\"TV-MA\",\"TV-14\",\"TV-MA\",\"TV-MA\",\"TV-14\",\"TV-14\",\"TV-MA\",\"TV-14\",\"TV-PG\",\"TV-PG\",\"TV-MA\",\"TV-MA\",\"TV-MA\",\"TV-MA\",\"TV-14\",\"TV-MA\",\"TV-MA\",\"PG-13\",\"TV-MA\",\"R\",\"TV-14\",\"R\",\"TV-14\",\"TV-MA\",\"TV-14\",\"R\",\"TV-14\",\"TV-PG\",\"TV-14\",\"TV-MA\",\"TV-14\",\"R\",\"TV-14\",\"TV-Y7\",\"TV-MA\",\"PG-13\",\"PG-13\",\"PG-13\",\"PG-13\",\"TV-Y\",\"TV-PG\",\"R\",\"TV-MA\",\"TV-MA\",\"R\",\"TV-MA\",\"PG-13\",\"PG-13\",\"TV-MA\",\"TV-MA\",\"TV-14\",\"TV-MA\",\"TV-14\",\"PG-13\",\"PG-13\",\"TV-MA\",\"TV-14\",\"TV-14\",\"TV-PG\",\"PG-13\",\"TV-MA\",\"TV-14\",\"TV-14\",\"TV-MA\",\"R\",\"PG\",\"TV-MA\",\"TV-MA\",\"TV-PG\",\"TV-MA\",\"TV-14\",\"R\",\"TV-MA\",\"TV-14\",\"TV-MA\",\"PG\",\"TV-PG\",\"PG\",\"TV-PG\",\"TV-14\",\"R\",\"TV-14\",\"TV-14\",\"PG-13\",\"TV-MA\",\"PG-13\",\"R\",\"TV-14\",\"R\",\"PG-13\",\"TV-MA\",\"R\",\"TV-14\",\"R\",\"TV-14\",\"TV-MA\",\"TV-14\",\"PG\",\"R\",\"TV-PG\",\"R\",\"TV-PG\",\"R\",\"PG-13\",\"TV-14\",\"TV-MA\",\"R\",\"PG\",\"TV-MA\",\"TV-MA\",\"PG-13\",\"TV-MA\",\"TV-MA\",\"TV-MA\",\"TV-14\",\"TV-MA\",\"R\",\"R\",\"TV-MA\",\"TV-MA\",\"TV-MA\",\"TV-14\",\"R\",\"TV-14\",\"TV-14\",\"R\",\"TV-PG\",\"R\",\"TV-14\",\"TV-MA\",\"TV-MA\",\"TV-MA\",\"R\",\"TV-MA\",\"TV-MA\",\"TV-MA\",\"TV-MA\",\"TV-MA\",\"TV-PG\",\"TV-MA\",\"TV-MA\",\"R\",\"PG-13\",\"R\",\"TV-14\",\"R\",\"TV-MA\",\"TV-14\",\"TV-MA\",\"TV-MA\",\"R\",\"TV-MA\",\"TV-MA\",\"TV-MA\",\"R\",\"R\",\"TV-MA\",\"R\",\"TV-MA\",\"TV-MA\",\"R\",\"TV-14\",\"R\",\"TV-MA\",\"TV-14\",\"TV-MA\",\"PG\",\"R\",\"PG\",\"PG\",\"R\",\"TV-MA\",\"PG-13\",\"TV-MA\",\"R\",\"PG-13\",\"TV-MA\",\"TV-MA\",\"R\",\"PG-13\",\"TV-PG\",\"R\",\"TV-MA\",\"TV-MA\",\"TV-MA\",\"TV-14\",\"TV-14\",\"TV-MA\",\"TV-14\",\"TV-MA\",\"TV-14\",\"TV-MA\",\"TV-MA\",\"R\",\"TV-MA\",\"PG-13\",\"TV-MA\",\"R\",\"TV-14\",\"TV-14\",\"TV-14\",\"TV-14\",\"PG-13\",\"TV-MA\",\"TV-14\",\"TV-MA\",\"TV-14\",\"R\",\"PG-13\",\"R\",\"TV-G\",\"TV-PG\",\"PG-13\",\"R\",\"TV-MA\",\"R\",\"TV-MA\",\"R\",\"PG-13\",\"TV-14\",\"TV-14\",\"R\",\"TV-MA\",\"PG-13\",\"TV-MA\",\"TV-MA\",\"TV-MA\",\"R\",\"TV-14\",\"TV-G\",\"R\",\"TV-14\",\"TV-MA\",\"TV-MA\",\"TV-14\",\"TV-14\",\"TV-PG\",\"R\",\"R\",\"PG\",\"PG-13\",\"PG-13\",\"PG-13\",\"PG-13\",\"TV-MA\",\"TV-MA\",\"TV-G\",\"PG\",\"PG\",\"TV-MA\",\"R\",\"TV-MA\",\"TV-MA\",\"TV-14\",\"NR\",\"R\",\"PG-13\",\"TV-MA\",\"TV-14\",\"TV-MA\",\"R\",\"TV-MA\",\"PG-13\",\"TV-14\",\"TV-14\",\"TV-14\",\"PG-13\",\"R\",\"TV-PG\",\"PG\",\"PG-13\",\"TV-MA\",\"R\",\"R\",\"R\",\"R\",\"TV-14\",\"TV-14\",\"TV-MA\",\"TV-14\",\"PG\",\"PG\",\"TV-MA\",\"TV-14\",\"TV-MA\",\"TV-MA\",\"TV-Y7\",\"PG\",\"TV-14\",\"R\",\"TV-MA\",\"R\",\"PG-13\",\"R\",\"TV-MA\",\"TV-MA\",\"TV-MA\",\"TV-PG\",\"TV-14\",\"TV-MA\",\"TV-14\",\"TV-14\",\"R\",\"PG\",\"R\",\"R\",\"TV-MA\",\"TV-14\",\"TV-MA\",\"TV-MA\",\"TV-14\",\"TV-MA\",\"TV-14\",\"TV-PG\",\"PG-13\",\"TV-MA\",\"TV-MA\",\"TV-MA\",\"TV-14\",\"R\",\"PG\",\"PG\",\"TV-MA\",\"TV-G\",\"TV-14\",\"R\",\"R\",\"R\",\"TV-MA\",\"R\",\"TV-PG\",\"R\",\"PG\",\"PG-13\",\"PG-13\",\"PG-13\",\"TV-MA\",\"PG-13\",\"TV-MA\",\"TV-MA\",\"PG-13\",\"R\",\"R\",\"TV-14\",\"TV-14\",\"TV-14\",\"TV-PG\",\"TV-Y\",\"TV-Y\",\"TV-Y\",\"TV-G\",\"TV-14\",\"TV-14\",\"TV-MA\",\"TV-MA\",\"TV-14\",\"TV-PG\",\"PG-13\",\"TV-Y\",\"R\",\"TV-MA\",\"R\",\"R\",\"R\",\"TV-MA\",\"TV-14\",\"TV-MA\",\"TV-MA\",\"TV-MA\",\"TV-PG\",\"R\",\"TV-MA\",\"TV-14\",\"PG-13\",\"TV-14\",\"TV-MA\",\"TV-14\",\"TV-14\",\"TV-MA\",\"TV-PG\",\"TV-MA\",\"R\",\"TV-MA\",\"TV-MA\",\"TV-MA\",\"TV-PG\",\"TV-MA\",\"PG\",\"TV-PG\",\"PG-13\",\"PG-13\",\"PG\",\"TV-14\",\"TV-MA\",\"TV-MA\",\"PG\",\"TV-MA\",\"R\",\"TV-MA\",\"TV-14\",\"PG\",\"PG\",\"TV-MA\",\"R\",\"TV-MA\",\"R\",\"TV-PG\",\"TV-MA\",\"R\",\"TV-MA\",\"PG-13\",\"TV-14\",\"R\",\"R\",\"TV-14\",\"R\",\"TV-MA\",\"TV-MA\",\"TV-MA\",\"TV-MA\",\"R\",\"NR\",\"R\",\"PG-13\",\"TV-14\",\"TV-14\",\"TV-MA\",\"TV-MA\",\"TV-MA\",\"PG-13\",\"PG-13\",\"TV-MA\",\"R\",\"PG\",\"G\",\"R\",\"PG\",\"G\",\"R\",\"TV-MA\",\"TV-MA\",\"TV-MA\",\"TV-MA\",\"G\",\"TV-14\",\"TV-14\",\"TV-MA\",\"TV-MA\",\"R\",\"PG\",\"G\",\"TV-G\",\"TV-G\",\"TV-MA\",\"TV-14\",\"PG-13\",\"PG-13\",\"TV-14\",\"PG-13\",\"TV-MA\",\"TV-MA\",\"TV-MA\",\"TV-PG\",\"PG-13\",\"TV-PG\",\"TV-PG\",\"TV-MA\",\"TV-MA\",\"TV-MA\",\"TV-14\",\"TV-MA\",\"PG-13\",\"TV-MA\",\"TV-14\",\"TV-MA\",\"TV-MA\",\"TV-MA\",\"TV-14\",\"TV-MA\",\"TV-14\",\"PG-13\",\"R\",\"TV-MA\",\"NR\",\"PG-13\",\"TV-14\",\"TV-MA\",\"PG-13\",\"TV-MA\",\"R\",\"TV-MA\",\"TV-PG\",\"G\",\"R\",\"R\",\"R\",\"TV-PG\",\"TV-MA\",\"TV-PG\",\"TV-14\",\"R\",\"PG-13\",\"TV-14\",\"R\",\"PG-13\",\"TV-G\",\"TV-14\",\"PG\",\"TV-MA\",\"TV-14\",\"R\",\"TV-MA\",\"PG\",\"TV-MA\",\"TV-MA\",\"TV-MA\",\"TV-14\",\"PG-13\",\"PG-13\",\"TV-14\",\"TV-MA\",\"TV-MA\",\"NR\",\"TV-14\",\"TV-MA\",\"TV-MA\",\"TV-PG\",\"PG\",\"PG\",\"PG-13\",\"PG-13\",\"TV-MA\",\"PG-13\",\"R\",\"TV-PG\",\"PG\",\"TV-MA\",\"TV-Y7\",\"PG\",\"TV-MA\",\"TV-MA\",\"R\",\"R\",\"R\",\"TV-14\",\"TV-14\",\"TV-14\",\"TV-14\",\"TV-MA\",\"R\",\"TV-14\",\"TV-14\",\"R\",\"R\",\"R\",\"TV-MA\",\"R\",\"PG-13\",\"TV-14\",\"TV-MA\",\"TV-MA\",\"TV-14\",\"TV-G\",\"PG-13\",\"PG-13\",\"TV-MA\",\"PG-13\",\"TV-PG\",\"TV-MA\",\"TV-MA\",\"R\",\"TV-MA\",\"R\",\"R\",\"TV-MA\",\"R\",\"TV-14\",\"PG-13\",\"TV-14\",\"PG-13\",\"R\",\"TV-MA\",\"TV-MA\",\"PG-13\",\"TV-MA\",\"TV-MA\",\"R\",\"PG-13\",\"TV-MA\",\"TV-MA\",\"TV-14\",\"TV-MA\",\"TV-14\",\"TV-MA\",\"TV-MA\",\"R\",\"PG\",\"PG-13\",\"TV-PG\",\"TV-14\",\"TV-14\",\"TV-PG\",\"TV-14\",\"TV-PG\",\"PG\",\"TV-14\",\"R\",\"TV-14\",\"TV-MA\",\"TV-PG\",\"TV-14\",\"TV-MA\",\"TV-PG\",\"TV-MA\",\"PG-13\",\"TV-MA\",\"PG\",\"TV-PG\",\"TV-MA\",\"TV-14\",\"TV-MA\",\"PG-13\",\"TV-MA\",\"TV-14\",\"TV-14\",\"TV-PG\",\"TV-14\",\"TV-PG\",\"PG-13\",\"TV-14\",\"TV-MA\",\"TV-14\",\"R\",\"TV-14\",\"TV-MA\",\"TV-MA\",\"TV-MA\",\"TV-MA\",\"TV-14\",\"TV-PG\",\"NR\",\"TV-MA\",\"TV-Y\",\"TV-Y\",\"TV-Y\",\"TV-MA\",\"PG-13\",\"TV-Y7\",\"NR\",\"NR\",\"TV-14\",\"TV-MA\",\"TV-G\",\"TV-14\",\"TV-MA\",\"R\",\"TV-14\",\"TV-MA\",\"TV-PG\",\"TV-MA\",\"TV-MA\",\"TV-14\",\"TV-14\",\"TV-14\",\"PG\",\"TV-14\",\"TV-MA\",\"TV-MA\",\"TV-MA\",\"TV-MA\",\"TV-MA\",\"TV-14\",\"TV-14\",\"TV-MA\",\"TV-MA\",\"TV-14\",\"G\",\"G\",\"TV-14\",\"TV-14\",\"TV-14\",\"TV-MA\",\"TV-14\",\"TV-MA\",\"TV-MA\",\"TV-MA\",\"PG-13\",\"TV-MA\",\"TV-MA\",\"TV-MA\",\"TV-MA\",\"TV-MA\",\"TV-MA\",\"TV-G\",\"TV-14\",\"TV-14\",\"TV-MA\",\"TV-Y7\",\"TV-14\",\"TV-14\",\"TV-MA\",\"TV-MA\",\"TV-MA\",\"TV-MA\",\"TV-MA\",\"PG-13\",\"TV-14\",\"TV-MA\",\"TV-14\",\"TV-MA\",\"TV-MA\",\"TV-14\",\"TV-MA\",\"TV-MA\",\"PG-13\",\"NR\",\"R\",\"TV-MA\",\"PG-13\",\"TV-MA\",\"TV-MA\",\"TV-MA\",\"TV-MA\",\"R\",\"TV-MA\",\"TV-MA\",\"R\",\"TV-MA\",\"TV-MA\",\"TV-MA\",\"R\",\"PG-13\",\"TV-MA\",\"PG-13\",\"TV-MA\",\"R\",\"R\",\"TV-MA\",\"TV-MA\",\"TV-MA\",\"TV-G\",\"TV-PG\",\"PG-13\",\"PG-13\",\"PG\",\"PG-13\",\"PG-13\",\"PG-13\",\"PG-13\",\"R\",\"TV-14\",\"TV-MA\",\"TV-MA\",\"TV-14\",\"TV-PG\",\"TV-MA\",\"R\",\"R\",\"R\",\"TV-PG\",\"TV-MA\",\"TV-Y7\",\"TV-MA\",\"TV-MA\",\"TV-14\",\"G\",\"TV-14\",\"R\",\"TV-Y\",\"TV-Y\",\"TV-Y\",\"TV-Y\",\"TV-Y\",\"TV-Y\",\"TV-Y\",\"R\",\"TV-MA\",\"TV-14\",\"R\",\"TV-PG\",\"TV-14\",\"TV-MA\",\"TV-PG\",\"TV-MA\",\"TV-14\",\"PG\",\"TV-MA\",\"R\",\"TV-14\",\"TV-MA\",\"TV-MA\",\"TV-MA\",\"TV-14\",\"TV-MA\",\"TV-MA\",\"R\",\"TV-14\",\"R\",\"TV-14\",\"TV-MA\",\"TV-MA\",\"TV-MA\",\"NR\",\"TV-14\",\"TV-14\",\"TV-MA\",\"TV-MA\",\"TV-MA\",\"TV-MA\",\"R\",\"PG\",\"TV-MA\",\"TV-14\",\"TV-MA\",\"TV-14\",\"TV-MA\",\"TV-MA\",\"TV-14\",\"TV-MA\",\"TV-MA\",\"R\",\"PG-13\",\"TV-14\",\"TV-MA\",\"TV-MA\",\"TV-MA\",\"PG-13\",\"R\",\"R\",\"PG-13\",\"TV-PG\",\"PG\",\"TV-14\",\"PG-13\",\"R\",\"TV-14\",\"TV-14\",\"TV-14\",\"PG-13\",\"TV-MA\",\"TV-14\",\"TV-14\",\"TV-14\",\"TV-PG\",\"TV-MA\",\"R\",\"TV-14\",\"TV-MA\",\"TV-14\",\"TV-14\",\"TV-MA\",\"TV-MA\",\"TV-MA\",\"TV-14\",\"R\",\"TV-14\",\"R\",\"PG-13\",\"TV-MA\",\"PG-13\",\"TV-14\",\"TV-MA\",\"TV-14\",\"TV-14\",\"TV-14\",\"R\",\"TV-14\",\"TV-MA\",\"TV-MA\",\"TV-PG\",\"TV-14\",\"TV-MA\",\"TV-14\",\"NR\",\"TV-14\",\"PG-13\",\"R\",\"TV-PG\",\"R\",\"TV-PG\",\"R\",\"TV-PG\",\"TV-MA\",\"TV-MA\",\"TV-MA\",\"TV-MA\",\"TV-14\",\"TV-MA\",\"TV-14\",\"TV-14\",\"TV-14\",\"TV-14\",\"NR\",\"NR\",\"TV-14\",\"TV-MA\",\"TV-MA\",\"TV-MA\",\"TV-MA\",\"R\",\"TV-MA\",\"TV-MA\",\"TV-14\",\"PG\",\"TV-MA\",\"PG\",\"R\",\"TV-14\",\"R\",\"TV-14\",\"TV-PG\",\"TV-PG\",\"PG-13\",\"TV-Y\",\"TV-MA\",\"TV-MA\",\"R\",\"TV-MA\",\"TV-14\",\"PG-13\",\"TV-MA\",\"R\",\"TV-14\",\"TV-14\",\"TV-MA\",\"TV-14\",\"PG\",\"TV-G\",\"TV-MA\",\"TV-14\",\"TV-14\",\"TV-14\",\"TV-MA\",\"TV-MA\",\"R\",\"TV-14\",\"PG\",\"TV-14\",\"TV-MA\",\"R\",\"R\",\"TV-PG\",\"TV-14\",\"TV-MA\",\"TV-MA\",\"TV-MA\",\"TV-MA\",\"TV-PG\",\"TV-MA\",\"TV-MA\",\"TV-PG\",\"TV-MA\",\"TV-MA\",\"TV-Y7\",\"R\",\"TV-14\",\"R\",\"TV-MA\",\"TV-14\",\"TV-MA\",\"TV-MA\",\"TV-MA\",\"TV-MA\",\"PG\",\"TV-14\",\"TV-MA\",\"TV-14\",\"TV-14\",\"TV-MA\",\"TV-MA\",\"TV-14\",\"R\",\"PG-13\",\"TV-14\",\"TV-14\",\"TV-MA\",\"TV-14\",\"TV-PG\",\"TV-PG\",\"TV-MA\",\"TV-MA\",\"TV-14\",\"PG-13\",\"R\",\"TV-PG\",\"TV-PG\",\"TV-MA\",\"R\",\"TV-MA\",\"NR\",\"TV-14\",\"TV-14\",\"TV-14\",\"PG-13\",\"R\",\"R\",\"TV-MA\",\"TV-14\",\"TV-MA\",\"TV-14\",\"TV-MA\",\"TV-G\",\"TV-PG\",\"TV-MA\",\"TV-MA\",\"TV-MA\",\"TV-MA\",\"TV-MA\",\"TV-MA\",\"R\",\"R\",\"TV-14\",\"TV-MA\",\"TV-MA\",\"TV-PG\",\"PG-13\",\"PG-13\",\"PG-13\",\"PG-13\",\"R\",\"TV-MA\",\"TV-Y\",\"G\",\"TV-MA\",\"PG-13\",\"R\",\"TV-14\",\"NR\",\"TV-MA\",\"R\",\"TV-14\",\"R\",\"TV-14\",\"PG\",\"TV-PG\",\"TV-MA\",\"TV-14\",\"TV-14\",\"TV-PG\",\"R\",\"TV-MA\",\"TV-14\",\"R\",\"TV-MA\",\"PG\",\"TV-14\",\"TV-MA\",\"PG-13\",\"TV-PG\",\"TV-MA\",\"TV-14\",\"TV-MA\",\"TV-PG\",\"TV-MA\",\"PG-13\",\"TV-14\",\"TV-MA\",\"TV-MA\",\"TV-14\",\"R\",\"PG-13\",\"PG-13\",\"R\",\"TV-MA\",\"TV-PG\",\"TV-14\",\"TV-14\",\"TV-14\",\"TV-14\",\"TV-PG\",\"TV-14\",\"TV-MA\",\"TV-PG\",\"PG\",\"PG-13\",\"TV-PG\",\"TV-PG\",\"TV-PG\",\"R\",\"TV-Y7\",\"PG-13\",\"TV-Y\",\"TV-MA\",\"TV-MA\",\"TV-PG\",\"TV-G\",\"TV-PG\",\"TV-MA\",\"TV-PG\",\"UR\",\"TV-MA\",\"TV-PG\",\"TV-14\",\"TV-MA\",\"R\",\"NR\",\"TV-G\",\"TV-MA\",\"TV-MA\",\"TV-MA\",\"PG\",\"TV-14\",\"TV-14\",\"TV-MA\",\"TV-14\",\"TV-MA\",\"R\",\"TV-PG\",\"TV-Y\",\"TV-MA\",\"TV-14\",\"TV-14\",\"TV-MA\",\"TV-14\",\"TV-14\",\"TV-MA\",\"TV-PG\",\"TV-PG\",\"TV-MA\",\"R\",\"PG\",\"R\",\"TV-MA\",\"PG\",\"TV-MA\",\"TV-14\",\"TV-MA\",\"TV-MA\"],\"xaxis\":\"x\",\"yaxis\":\"y\",\"type\":\"histogram\"}],                        {\"template\":{\"data\":{\"barpolar\":[{\"marker\":{\"line\":{\"color\":\"rgb(17,17,17)\",\"width\":0.5},\"pattern\":{\"fillmode\":\"overlay\",\"size\":10,\"solidity\":0.2}},\"type\":\"barpolar\"}],\"bar\":[{\"error_x\":{\"color\":\"#f2f5fa\"},\"error_y\":{\"color\":\"#f2f5fa\"},\"marker\":{\"line\":{\"color\":\"rgb(17,17,17)\",\"width\":0.5},\"pattern\":{\"fillmode\":\"overlay\",\"size\":10,\"solidity\":0.2}},\"type\":\"bar\"}],\"carpet\":[{\"aaxis\":{\"endlinecolor\":\"#A2B1C6\",\"gridcolor\":\"#506784\",\"linecolor\":\"#506784\",\"minorgridcolor\":\"#506784\",\"startlinecolor\":\"#A2B1C6\"},\"baxis\":{\"endlinecolor\":\"#A2B1C6\",\"gridcolor\":\"#506784\",\"linecolor\":\"#506784\",\"minorgridcolor\":\"#506784\",\"startlinecolor\":\"#A2B1C6\"},\"type\":\"carpet\"}],\"choropleth\":[{\"colorbar\":{\"outlinewidth\":0,\"ticks\":\"\"},\"type\":\"choropleth\"}],\"contourcarpet\":[{\"colorbar\":{\"outlinewidth\":0,\"ticks\":\"\"},\"type\":\"contourcarpet\"}],\"contour\":[{\"colorbar\":{\"outlinewidth\":0,\"ticks\":\"\"},\"colorscale\":[[0.0,\"#0d0887\"],[0.1111111111111111,\"#46039f\"],[0.2222222222222222,\"#7201a8\"],[0.3333333333333333,\"#9c179e\"],[0.4444444444444444,\"#bd3786\"],[0.5555555555555556,\"#d8576b\"],[0.6666666666666666,\"#ed7953\"],[0.7777777777777778,\"#fb9f3a\"],[0.8888888888888888,\"#fdca26\"],[1.0,\"#f0f921\"]],\"type\":\"contour\"}],\"heatmapgl\":[{\"colorbar\":{\"outlinewidth\":0,\"ticks\":\"\"},\"colorscale\":[[0.0,\"#0d0887\"],[0.1111111111111111,\"#46039f\"],[0.2222222222222222,\"#7201a8\"],[0.3333333333333333,\"#9c179e\"],[0.4444444444444444,\"#bd3786\"],[0.5555555555555556,\"#d8576b\"],[0.6666666666666666,\"#ed7953\"],[0.7777777777777778,\"#fb9f3a\"],[0.8888888888888888,\"#fdca26\"],[1.0,\"#f0f921\"]],\"type\":\"heatmapgl\"}],\"heatmap\":[{\"colorbar\":{\"outlinewidth\":0,\"ticks\":\"\"},\"colorscale\":[[0.0,\"#0d0887\"],[0.1111111111111111,\"#46039f\"],[0.2222222222222222,\"#7201a8\"],[0.3333333333333333,\"#9c179e\"],[0.4444444444444444,\"#bd3786\"],[0.5555555555555556,\"#d8576b\"],[0.6666666666666666,\"#ed7953\"],[0.7777777777777778,\"#fb9f3a\"],[0.8888888888888888,\"#fdca26\"],[1.0,\"#f0f921\"]],\"type\":\"heatmap\"}],\"histogram2dcontour\":[{\"colorbar\":{\"outlinewidth\":0,\"ticks\":\"\"},\"colorscale\":[[0.0,\"#0d0887\"],[0.1111111111111111,\"#46039f\"],[0.2222222222222222,\"#7201a8\"],[0.3333333333333333,\"#9c179e\"],[0.4444444444444444,\"#bd3786\"],[0.5555555555555556,\"#d8576b\"],[0.6666666666666666,\"#ed7953\"],[0.7777777777777778,\"#fb9f3a\"],[0.8888888888888888,\"#fdca26\"],[1.0,\"#f0f921\"]],\"type\":\"histogram2dcontour\"}],\"histogram2d\":[{\"colorbar\":{\"outlinewidth\":0,\"ticks\":\"\"},\"colorscale\":[[0.0,\"#0d0887\"],[0.1111111111111111,\"#46039f\"],[0.2222222222222222,\"#7201a8\"],[0.3333333333333333,\"#9c179e\"],[0.4444444444444444,\"#bd3786\"],[0.5555555555555556,\"#d8576b\"],[0.6666666666666666,\"#ed7953\"],[0.7777777777777778,\"#fb9f3a\"],[0.8888888888888888,\"#fdca26\"],[1.0,\"#f0f921\"]],\"type\":\"histogram2d\"}],\"histogram\":[{\"marker\":{\"pattern\":{\"fillmode\":\"overlay\",\"size\":10,\"solidity\":0.2}},\"type\":\"histogram\"}],\"mesh3d\":[{\"colorbar\":{\"outlinewidth\":0,\"ticks\":\"\"},\"type\":\"mesh3d\"}],\"parcoords\":[{\"line\":{\"colorbar\":{\"outlinewidth\":0,\"ticks\":\"\"}},\"type\":\"parcoords\"}],\"pie\":[{\"automargin\":true,\"type\":\"pie\"}],\"scatter3d\":[{\"line\":{\"colorbar\":{\"outlinewidth\":0,\"ticks\":\"\"}},\"marker\":{\"colorbar\":{\"outlinewidth\":0,\"ticks\":\"\"}},\"type\":\"scatter3d\"}],\"scattercarpet\":[{\"marker\":{\"colorbar\":{\"outlinewidth\":0,\"ticks\":\"\"}},\"type\":\"scattercarpet\"}],\"scattergeo\":[{\"marker\":{\"colorbar\":{\"outlinewidth\":0,\"ticks\":\"\"}},\"type\":\"scattergeo\"}],\"scattergl\":[{\"marker\":{\"line\":{\"color\":\"#283442\"}},\"type\":\"scattergl\"}],\"scattermapbox\":[{\"marker\":{\"colorbar\":{\"outlinewidth\":0,\"ticks\":\"\"}},\"type\":\"scattermapbox\"}],\"scatterpolargl\":[{\"marker\":{\"colorbar\":{\"outlinewidth\":0,\"ticks\":\"\"}},\"type\":\"scatterpolargl\"}],\"scatterpolar\":[{\"marker\":{\"colorbar\":{\"outlinewidth\":0,\"ticks\":\"\"}},\"type\":\"scatterpolar\"}],\"scatter\":[{\"marker\":{\"line\":{\"color\":\"#283442\"}},\"type\":\"scatter\"}],\"scatterternary\":[{\"marker\":{\"colorbar\":{\"outlinewidth\":0,\"ticks\":\"\"}},\"type\":\"scatterternary\"}],\"surface\":[{\"colorbar\":{\"outlinewidth\":0,\"ticks\":\"\"},\"colorscale\":[[0.0,\"#0d0887\"],[0.1111111111111111,\"#46039f\"],[0.2222222222222222,\"#7201a8\"],[0.3333333333333333,\"#9c179e\"],[0.4444444444444444,\"#bd3786\"],[0.5555555555555556,\"#d8576b\"],[0.6666666666666666,\"#ed7953\"],[0.7777777777777778,\"#fb9f3a\"],[0.8888888888888888,\"#fdca26\"],[1.0,\"#f0f921\"]],\"type\":\"surface\"}],\"table\":[{\"cells\":{\"fill\":{\"color\":\"#506784\"},\"line\":{\"color\":\"rgb(17,17,17)\"}},\"header\":{\"fill\":{\"color\":\"#2a3f5f\"},\"line\":{\"color\":\"rgb(17,17,17)\"}},\"type\":\"table\"}]},\"layout\":{\"annotationdefaults\":{\"arrowcolor\":\"#f2f5fa\",\"arrowhead\":0,\"arrowwidth\":1},\"autotypenumbers\":\"strict\",\"coloraxis\":{\"colorbar\":{\"outlinewidth\":0,\"ticks\":\"\"}},\"colorscale\":{\"diverging\":[[0,\"#8e0152\"],[0.1,\"#c51b7d\"],[0.2,\"#de77ae\"],[0.3,\"#f1b6da\"],[0.4,\"#fde0ef\"],[0.5,\"#f7f7f7\"],[0.6,\"#e6f5d0\"],[0.7,\"#b8e186\"],[0.8,\"#7fbc41\"],[0.9,\"#4d9221\"],[1,\"#276419\"]],\"sequential\":[[0.0,\"#0d0887\"],[0.1111111111111111,\"#46039f\"],[0.2222222222222222,\"#7201a8\"],[0.3333333333333333,\"#9c179e\"],[0.4444444444444444,\"#bd3786\"],[0.5555555555555556,\"#d8576b\"],[0.6666666666666666,\"#ed7953\"],[0.7777777777777778,\"#fb9f3a\"],[0.8888888888888888,\"#fdca26\"],[1.0,\"#f0f921\"]],\"sequentialminus\":[[0.0,\"#0d0887\"],[0.1111111111111111,\"#46039f\"],[0.2222222222222222,\"#7201a8\"],[0.3333333333333333,\"#9c179e\"],[0.4444444444444444,\"#bd3786\"],[0.5555555555555556,\"#d8576b\"],[0.6666666666666666,\"#ed7953\"],[0.7777777777777778,\"#fb9f3a\"],[0.8888888888888888,\"#fdca26\"],[1.0,\"#f0f921\"]]},\"colorway\":[\"#636efa\",\"#EF553B\",\"#00cc96\",\"#ab63fa\",\"#FFA15A\",\"#19d3f3\",\"#FF6692\",\"#B6E880\",\"#FF97FF\",\"#FECB52\"],\"font\":{\"color\":\"#f2f5fa\"},\"geo\":{\"bgcolor\":\"rgb(17,17,17)\",\"lakecolor\":\"rgb(17,17,17)\",\"landcolor\":\"rgb(17,17,17)\",\"showlakes\":true,\"showland\":true,\"subunitcolor\":\"#506784\"},\"hoverlabel\":{\"align\":\"left\"},\"hovermode\":\"closest\",\"mapbox\":{\"style\":\"dark\"},\"paper_bgcolor\":\"rgb(17,17,17)\",\"plot_bgcolor\":\"rgb(17,17,17)\",\"polar\":{\"angularaxis\":{\"gridcolor\":\"#506784\",\"linecolor\":\"#506784\",\"ticks\":\"\"},\"bgcolor\":\"rgb(17,17,17)\",\"radialaxis\":{\"gridcolor\":\"#506784\",\"linecolor\":\"#506784\",\"ticks\":\"\"}},\"scene\":{\"xaxis\":{\"backgroundcolor\":\"rgb(17,17,17)\",\"gridcolor\":\"#506784\",\"gridwidth\":2,\"linecolor\":\"#506784\",\"showbackground\":true,\"ticks\":\"\",\"zerolinecolor\":\"#C8D4E3\"},\"yaxis\":{\"backgroundcolor\":\"rgb(17,17,17)\",\"gridcolor\":\"#506784\",\"gridwidth\":2,\"linecolor\":\"#506784\",\"showbackground\":true,\"ticks\":\"\",\"zerolinecolor\":\"#C8D4E3\"},\"zaxis\":{\"backgroundcolor\":\"rgb(17,17,17)\",\"gridcolor\":\"#506784\",\"gridwidth\":2,\"linecolor\":\"#506784\",\"showbackground\":true,\"ticks\":\"\",\"zerolinecolor\":\"#C8D4E3\"}},\"shapedefaults\":{\"line\":{\"color\":\"#f2f5fa\"}},\"sliderdefaults\":{\"bgcolor\":\"#C8D4E3\",\"bordercolor\":\"rgb(17,17,17)\",\"borderwidth\":1,\"tickwidth\":0},\"ternary\":{\"aaxis\":{\"gridcolor\":\"#506784\",\"linecolor\":\"#506784\",\"ticks\":\"\"},\"baxis\":{\"gridcolor\":\"#506784\",\"linecolor\":\"#506784\",\"ticks\":\"\"},\"bgcolor\":\"rgb(17,17,17)\",\"caxis\":{\"gridcolor\":\"#506784\",\"linecolor\":\"#506784\",\"ticks\":\"\"}},\"title\":{\"x\":0.05},\"updatemenudefaults\":{\"bgcolor\":\"#506784\",\"borderwidth\":0},\"xaxis\":{\"automargin\":true,\"gridcolor\":\"#283442\",\"linecolor\":\"#506784\",\"ticks\":\"\",\"title\":{\"standoff\":15},\"zerolinecolor\":\"#283442\",\"zerolinewidth\":2},\"yaxis\":{\"automargin\":true,\"gridcolor\":\"#283442\",\"linecolor\":\"#506784\",\"ticks\":\"\",\"title\":{\"standoff\":15},\"zerolinecolor\":\"#283442\",\"zerolinewidth\":2}}},\"xaxis\":{\"anchor\":\"y\",\"domain\":[0.0,1.0],\"title\":{\"text\":\"rating\"}},\"yaxis\":{\"anchor\":\"x\",\"domain\":[0.0,1.0],\"title\":{\"text\":\"count\"}},\"legend\":{\"title\":{\"text\":\"type\"},\"tracegroupgap\":0},\"margin\":{\"t\":60},\"barmode\":\"group\",\"title\":{\"text\":\"What Rated shows are maximum in number\",\"x\":0.5}},                        {\"responsive\": true}                    ).then(function(){\n",
              "                            \n",
              "var gd = document.getElementById('d9cbffc7-4553-42fb-ae8a-b8119fb8b5a1');\n",
              "var x = new MutationObserver(function (mutations, observer) {{\n",
              "        var display = window.getComputedStyle(gd).display;\n",
              "        if (!display || display === 'none') {{\n",
              "            console.log([gd, 'removed!']);\n",
              "            Plotly.purge(gd);\n",
              "            observer.disconnect();\n",
              "        }}\n",
              "}});\n",
              "\n",
              "// Listen for the removal of the full notebook cells\n",
              "var notebookContainer = gd.closest('#notebook-container');\n",
              "if (notebookContainer) {{\n",
              "    x.observe(notebookContainer, {childList: true});\n",
              "}}\n",
              "\n",
              "// Listen for the clearing of the current output cell\n",
              "var outputEl = gd.closest('.output');\n",
              "if (outputEl) {{\n",
              "    x.observe(outputEl, {childList: true});\n",
              "}}\n",
              "\n",
              "                        })                };                            </script>        </div>\n",
              "</body>\n",
              "</html>"
            ]
          },
          "metadata": {}
        }
      ],
      "source": [
        "# visualization code\n",
        "px.histogram(dataset,x='rating',color='type',barmode='group',template='plotly_dark',color_discrete_sequence=['#FF69B4','#7F00FF']).update_layout(title_text='What Rated shows are maximum in number',title_x=0.5)"
      ]
    },
    {
      "cell_type": "markdown",
      "metadata": {
        "id": "bbFf2-_FphqN"
      },
      "source": [
        "##### 1. Why did you pick the specific chart?"
      ]
    },
    {
      "cell_type": "markdown",
      "metadata": {
        "id": "loh7H2nzphqN"
      },
      "source": [
        "Answer Here."
      ]
    },
    {
      "cell_type": "markdown",
      "metadata": {
        "id": "_ouA3fa0phqN"
      },
      "source": [
        "##### 2. What is/are the insight(s) found from the chart?"
      ]
    },
    {
      "cell_type": "markdown",
      "metadata": {
        "id": "VECbqPI7phqN"
      },
      "source": [
        "Answer Here"
      ]
    },
    {
      "cell_type": "markdown",
      "metadata": {
        "id": "Seke61FWphqN"
      },
      "source": [
        "##### 3. Will the gained insights help creating a positive business impact? \n",
        "Are there any insights that lead to negative growth? Justify with specific reason."
      ]
    },
    {
      "cell_type": "markdown",
      "metadata": {
        "id": "DW4_bGpfphqN"
      },
      "source": [
        "Answer Here"
      ]
    },
    {
      "cell_type": "markdown",
      "metadata": {
        "id": "PIIx-8_IphqN"
      },
      "source": [
        "#### Chart - 7. Countries with most releases"
      ]
    },
    {
      "cell_type": "code",
      "execution_count": 59,
      "metadata": {
        "id": "xaeZYYtsFiiT"
      },
      "outputs": [],
      "source": [
        "country_df= making_df_from_column('country',['name','releases'])"
      ]
    },
    {
      "cell_type": "code",
      "execution_count": 60,
      "metadata": {
        "id": "lqAIGUfyphqO",
        "outputId": "14e848c3-8458-42f0-f985-668ee0e9a7b5",
        "colab": {
          "base_uri": "https://localhost:8080/",
          "height": 542
        }
      },
      "outputs": [
        {
          "output_type": "display_data",
          "data": {
            "text/html": [
              "<html>\n",
              "<head><meta charset=\"utf-8\" /></head>\n",
              "<body>\n",
              "    <div>            <script src=\"https://cdnjs.cloudflare.com/ajax/libs/mathjax/2.7.5/MathJax.js?config=TeX-AMS-MML_SVG\"></script><script type=\"text/javascript\">if (window.MathJax && window.MathJax.Hub && window.MathJax.Hub.Config) {window.MathJax.Hub.Config({SVG: {font: \"STIX-Web\"}});}</script>                <script type=\"text/javascript\">window.PlotlyConfig = {MathJaxConfig: 'local'};</script>\n",
              "        <script src=\"https://cdn.plot.ly/plotly-2.18.2.min.js\"></script>                <div id=\"a2afd8b2-3a4d-4354-9b8b-e93fae496076\" class=\"plotly-graph-div\" style=\"height:525px; width:100%;\"></div>            <script type=\"text/javascript\">                                    window.PLOTLYENV=window.PLOTLYENV || {};                                    if (document.getElementById(\"a2afd8b2-3a4d-4354-9b8b-e93fae496076\")) {                    Plotly.newPlot(                        \"a2afd8b2-3a4d-4354-9b8b-e93fae496076\",                        [{\"alignmentgroup\":\"True\",\"hovertemplate\":\"name=%{x}<br>releases=%{y}<extra></extra>\",\"legendgroup\":\"\",\"marker\":{\"color\":\"#FFA500\",\"pattern\":{\"shape\":\"\"}},\"name\":\"\",\"offsetgroup\":\"\",\"orientation\":\"v\",\"showlegend\":false,\"textposition\":\"auto\",\"x\":[\"United States\",\"India\",\"United Kingdom\",\"unknown\",\" United States\",\"Canada\",\"Japan\",\"France\",\"South Korea\",\"Spain\"],\"xaxis\":\"x\",\"y\":[2883,956,577,507,414,259,237,196,194,168],\"yaxis\":\"y\",\"type\":\"bar\"}],                        {\"template\":{\"data\":{\"barpolar\":[{\"marker\":{\"line\":{\"color\":\"rgb(17,17,17)\",\"width\":0.5},\"pattern\":{\"fillmode\":\"overlay\",\"size\":10,\"solidity\":0.2}},\"type\":\"barpolar\"}],\"bar\":[{\"error_x\":{\"color\":\"#f2f5fa\"},\"error_y\":{\"color\":\"#f2f5fa\"},\"marker\":{\"line\":{\"color\":\"rgb(17,17,17)\",\"width\":0.5},\"pattern\":{\"fillmode\":\"overlay\",\"size\":10,\"solidity\":0.2}},\"type\":\"bar\"}],\"carpet\":[{\"aaxis\":{\"endlinecolor\":\"#A2B1C6\",\"gridcolor\":\"#506784\",\"linecolor\":\"#506784\",\"minorgridcolor\":\"#506784\",\"startlinecolor\":\"#A2B1C6\"},\"baxis\":{\"endlinecolor\":\"#A2B1C6\",\"gridcolor\":\"#506784\",\"linecolor\":\"#506784\",\"minorgridcolor\":\"#506784\",\"startlinecolor\":\"#A2B1C6\"},\"type\":\"carpet\"}],\"choropleth\":[{\"colorbar\":{\"outlinewidth\":0,\"ticks\":\"\"},\"type\":\"choropleth\"}],\"contourcarpet\":[{\"colorbar\":{\"outlinewidth\":0,\"ticks\":\"\"},\"type\":\"contourcarpet\"}],\"contour\":[{\"colorbar\":{\"outlinewidth\":0,\"ticks\":\"\"},\"colorscale\":[[0.0,\"#0d0887\"],[0.1111111111111111,\"#46039f\"],[0.2222222222222222,\"#7201a8\"],[0.3333333333333333,\"#9c179e\"],[0.4444444444444444,\"#bd3786\"],[0.5555555555555556,\"#d8576b\"],[0.6666666666666666,\"#ed7953\"],[0.7777777777777778,\"#fb9f3a\"],[0.8888888888888888,\"#fdca26\"],[1.0,\"#f0f921\"]],\"type\":\"contour\"}],\"heatmapgl\":[{\"colorbar\":{\"outlinewidth\":0,\"ticks\":\"\"},\"colorscale\":[[0.0,\"#0d0887\"],[0.1111111111111111,\"#46039f\"],[0.2222222222222222,\"#7201a8\"],[0.3333333333333333,\"#9c179e\"],[0.4444444444444444,\"#bd3786\"],[0.5555555555555556,\"#d8576b\"],[0.6666666666666666,\"#ed7953\"],[0.7777777777777778,\"#fb9f3a\"],[0.8888888888888888,\"#fdca26\"],[1.0,\"#f0f921\"]],\"type\":\"heatmapgl\"}],\"heatmap\":[{\"colorbar\":{\"outlinewidth\":0,\"ticks\":\"\"},\"colorscale\":[[0.0,\"#0d0887\"],[0.1111111111111111,\"#46039f\"],[0.2222222222222222,\"#7201a8\"],[0.3333333333333333,\"#9c179e\"],[0.4444444444444444,\"#bd3786\"],[0.5555555555555556,\"#d8576b\"],[0.6666666666666666,\"#ed7953\"],[0.7777777777777778,\"#fb9f3a\"],[0.8888888888888888,\"#fdca26\"],[1.0,\"#f0f921\"]],\"type\":\"heatmap\"}],\"histogram2dcontour\":[{\"colorbar\":{\"outlinewidth\":0,\"ticks\":\"\"},\"colorscale\":[[0.0,\"#0d0887\"],[0.1111111111111111,\"#46039f\"],[0.2222222222222222,\"#7201a8\"],[0.3333333333333333,\"#9c179e\"],[0.4444444444444444,\"#bd3786\"],[0.5555555555555556,\"#d8576b\"],[0.6666666666666666,\"#ed7953\"],[0.7777777777777778,\"#fb9f3a\"],[0.8888888888888888,\"#fdca26\"],[1.0,\"#f0f921\"]],\"type\":\"histogram2dcontour\"}],\"histogram2d\":[{\"colorbar\":{\"outlinewidth\":0,\"ticks\":\"\"},\"colorscale\":[[0.0,\"#0d0887\"],[0.1111111111111111,\"#46039f\"],[0.2222222222222222,\"#7201a8\"],[0.3333333333333333,\"#9c179e\"],[0.4444444444444444,\"#bd3786\"],[0.5555555555555556,\"#d8576b\"],[0.6666666666666666,\"#ed7953\"],[0.7777777777777778,\"#fb9f3a\"],[0.8888888888888888,\"#fdca26\"],[1.0,\"#f0f921\"]],\"type\":\"histogram2d\"}],\"histogram\":[{\"marker\":{\"pattern\":{\"fillmode\":\"overlay\",\"size\":10,\"solidity\":0.2}},\"type\":\"histogram\"}],\"mesh3d\":[{\"colorbar\":{\"outlinewidth\":0,\"ticks\":\"\"},\"type\":\"mesh3d\"}],\"parcoords\":[{\"line\":{\"colorbar\":{\"outlinewidth\":0,\"ticks\":\"\"}},\"type\":\"parcoords\"}],\"pie\":[{\"automargin\":true,\"type\":\"pie\"}],\"scatter3d\":[{\"line\":{\"colorbar\":{\"outlinewidth\":0,\"ticks\":\"\"}},\"marker\":{\"colorbar\":{\"outlinewidth\":0,\"ticks\":\"\"}},\"type\":\"scatter3d\"}],\"scattercarpet\":[{\"marker\":{\"colorbar\":{\"outlinewidth\":0,\"ticks\":\"\"}},\"type\":\"scattercarpet\"}],\"scattergeo\":[{\"marker\":{\"colorbar\":{\"outlinewidth\":0,\"ticks\":\"\"}},\"type\":\"scattergeo\"}],\"scattergl\":[{\"marker\":{\"line\":{\"color\":\"#283442\"}},\"type\":\"scattergl\"}],\"scattermapbox\":[{\"marker\":{\"colorbar\":{\"outlinewidth\":0,\"ticks\":\"\"}},\"type\":\"scattermapbox\"}],\"scatterpolargl\":[{\"marker\":{\"colorbar\":{\"outlinewidth\":0,\"ticks\":\"\"}},\"type\":\"scatterpolargl\"}],\"scatterpolar\":[{\"marker\":{\"colorbar\":{\"outlinewidth\":0,\"ticks\":\"\"}},\"type\":\"scatterpolar\"}],\"scatter\":[{\"marker\":{\"line\":{\"color\":\"#283442\"}},\"type\":\"scatter\"}],\"scatterternary\":[{\"marker\":{\"colorbar\":{\"outlinewidth\":0,\"ticks\":\"\"}},\"type\":\"scatterternary\"}],\"surface\":[{\"colorbar\":{\"outlinewidth\":0,\"ticks\":\"\"},\"colorscale\":[[0.0,\"#0d0887\"],[0.1111111111111111,\"#46039f\"],[0.2222222222222222,\"#7201a8\"],[0.3333333333333333,\"#9c179e\"],[0.4444444444444444,\"#bd3786\"],[0.5555555555555556,\"#d8576b\"],[0.6666666666666666,\"#ed7953\"],[0.7777777777777778,\"#fb9f3a\"],[0.8888888888888888,\"#fdca26\"],[1.0,\"#f0f921\"]],\"type\":\"surface\"}],\"table\":[{\"cells\":{\"fill\":{\"color\":\"#506784\"},\"line\":{\"color\":\"rgb(17,17,17)\"}},\"header\":{\"fill\":{\"color\":\"#2a3f5f\"},\"line\":{\"color\":\"rgb(17,17,17)\"}},\"type\":\"table\"}]},\"layout\":{\"annotationdefaults\":{\"arrowcolor\":\"#f2f5fa\",\"arrowhead\":0,\"arrowwidth\":1},\"autotypenumbers\":\"strict\",\"coloraxis\":{\"colorbar\":{\"outlinewidth\":0,\"ticks\":\"\"}},\"colorscale\":{\"diverging\":[[0,\"#8e0152\"],[0.1,\"#c51b7d\"],[0.2,\"#de77ae\"],[0.3,\"#f1b6da\"],[0.4,\"#fde0ef\"],[0.5,\"#f7f7f7\"],[0.6,\"#e6f5d0\"],[0.7,\"#b8e186\"],[0.8,\"#7fbc41\"],[0.9,\"#4d9221\"],[1,\"#276419\"]],\"sequential\":[[0.0,\"#0d0887\"],[0.1111111111111111,\"#46039f\"],[0.2222222222222222,\"#7201a8\"],[0.3333333333333333,\"#9c179e\"],[0.4444444444444444,\"#bd3786\"],[0.5555555555555556,\"#d8576b\"],[0.6666666666666666,\"#ed7953\"],[0.7777777777777778,\"#fb9f3a\"],[0.8888888888888888,\"#fdca26\"],[1.0,\"#f0f921\"]],\"sequentialminus\":[[0.0,\"#0d0887\"],[0.1111111111111111,\"#46039f\"],[0.2222222222222222,\"#7201a8\"],[0.3333333333333333,\"#9c179e\"],[0.4444444444444444,\"#bd3786\"],[0.5555555555555556,\"#d8576b\"],[0.6666666666666666,\"#ed7953\"],[0.7777777777777778,\"#fb9f3a\"],[0.8888888888888888,\"#fdca26\"],[1.0,\"#f0f921\"]]},\"colorway\":[\"#636efa\",\"#EF553B\",\"#00cc96\",\"#ab63fa\",\"#FFA15A\",\"#19d3f3\",\"#FF6692\",\"#B6E880\",\"#FF97FF\",\"#FECB52\"],\"font\":{\"color\":\"#f2f5fa\"},\"geo\":{\"bgcolor\":\"rgb(17,17,17)\",\"lakecolor\":\"rgb(17,17,17)\",\"landcolor\":\"rgb(17,17,17)\",\"showlakes\":true,\"showland\":true,\"subunitcolor\":\"#506784\"},\"hoverlabel\":{\"align\":\"left\"},\"hovermode\":\"closest\",\"mapbox\":{\"style\":\"dark\"},\"paper_bgcolor\":\"rgb(17,17,17)\",\"plot_bgcolor\":\"rgb(17,17,17)\",\"polar\":{\"angularaxis\":{\"gridcolor\":\"#506784\",\"linecolor\":\"#506784\",\"ticks\":\"\"},\"bgcolor\":\"rgb(17,17,17)\",\"radialaxis\":{\"gridcolor\":\"#506784\",\"linecolor\":\"#506784\",\"ticks\":\"\"}},\"scene\":{\"xaxis\":{\"backgroundcolor\":\"rgb(17,17,17)\",\"gridcolor\":\"#506784\",\"gridwidth\":2,\"linecolor\":\"#506784\",\"showbackground\":true,\"ticks\":\"\",\"zerolinecolor\":\"#C8D4E3\"},\"yaxis\":{\"backgroundcolor\":\"rgb(17,17,17)\",\"gridcolor\":\"#506784\",\"gridwidth\":2,\"linecolor\":\"#506784\",\"showbackground\":true,\"ticks\":\"\",\"zerolinecolor\":\"#C8D4E3\"},\"zaxis\":{\"backgroundcolor\":\"rgb(17,17,17)\",\"gridcolor\":\"#506784\",\"gridwidth\":2,\"linecolor\":\"#506784\",\"showbackground\":true,\"ticks\":\"\",\"zerolinecolor\":\"#C8D4E3\"}},\"shapedefaults\":{\"line\":{\"color\":\"#f2f5fa\"}},\"sliderdefaults\":{\"bgcolor\":\"#C8D4E3\",\"bordercolor\":\"rgb(17,17,17)\",\"borderwidth\":1,\"tickwidth\":0},\"ternary\":{\"aaxis\":{\"gridcolor\":\"#506784\",\"linecolor\":\"#506784\",\"ticks\":\"\"},\"baxis\":{\"gridcolor\":\"#506784\",\"linecolor\":\"#506784\",\"ticks\":\"\"},\"bgcolor\":\"rgb(17,17,17)\",\"caxis\":{\"gridcolor\":\"#506784\",\"linecolor\":\"#506784\",\"ticks\":\"\"}},\"title\":{\"x\":0.05},\"updatemenudefaults\":{\"bgcolor\":\"#506784\",\"borderwidth\":0},\"xaxis\":{\"automargin\":true,\"gridcolor\":\"#283442\",\"linecolor\":\"#506784\",\"ticks\":\"\",\"title\":{\"standoff\":15},\"zerolinecolor\":\"#283442\",\"zerolinewidth\":2},\"yaxis\":{\"automargin\":true,\"gridcolor\":\"#283442\",\"linecolor\":\"#506784\",\"ticks\":\"\",\"title\":{\"standoff\":15},\"zerolinecolor\":\"#283442\",\"zerolinewidth\":2}}},\"xaxis\":{\"anchor\":\"y\",\"domain\":[0.0,1.0],\"title\":{\"text\":\"name\"}},\"yaxis\":{\"anchor\":\"x\",\"domain\":[0.0,1.0],\"title\":{\"text\":\"releases\"}},\"legend\":{\"tracegroupgap\":0},\"margin\":{\"t\":60},\"barmode\":\"relative\",\"title\":{\"text\":\"Top 10 countries in terms of releases\",\"x\":0.5}},                        {\"responsive\": true}                    ).then(function(){\n",
              "                            \n",
              "var gd = document.getElementById('a2afd8b2-3a4d-4354-9b8b-e93fae496076');\n",
              "var x = new MutationObserver(function (mutations, observer) {{\n",
              "        var display = window.getComputedStyle(gd).display;\n",
              "        if (!display || display === 'none') {{\n",
              "            console.log([gd, 'removed!']);\n",
              "            Plotly.purge(gd);\n",
              "            observer.disconnect();\n",
              "        }}\n",
              "}});\n",
              "\n",
              "// Listen for the removal of the full notebook cells\n",
              "var notebookContainer = gd.closest('#notebook-container');\n",
              "if (notebookContainer) {{\n",
              "    x.observe(notebookContainer, {childList: true});\n",
              "}}\n",
              "\n",
              "// Listen for the clearing of the current output cell\n",
              "var outputEl = gd.closest('.output');\n",
              "if (outputEl) {{\n",
              "    x.observe(outputEl, {childList: true});\n",
              "}}\n",
              "\n",
              "                        })                };                            </script>        </div>\n",
              "</body>\n",
              "</html>"
            ]
          },
          "metadata": {}
        }
      ],
      "source": [
        "# Chart - 7 visualization code\n",
        "px.bar(country_df.sort_values(by='releases',ascending=False)[:10],x='name',y='releases',template='plotly_dark',color_discrete_sequence=['#FFA500']).update_layout(title_text='Top 10 countries in terms of releases',title_x=0.5)"
      ]
    },
    {
      "cell_type": "markdown",
      "metadata": {
        "id": "t27r6nlMphqO"
      },
      "source": [
        "##### 1. Why did you pick the specific chart?"
      ]
    },
    {
      "cell_type": "markdown",
      "metadata": {
        "id": "iv6ro40sphqO"
      },
      "source": [
        "Answer Here."
      ]
    },
    {
      "cell_type": "markdown",
      "metadata": {
        "id": "r2jJGEOYphqO"
      },
      "source": [
        "##### 2. What is/are the insight(s) found from the chart?"
      ]
    },
    {
      "cell_type": "markdown",
      "metadata": {
        "id": "Po6ZPi4hphqO"
      },
      "source": [
        "Answer Here"
      ]
    },
    {
      "cell_type": "markdown",
      "metadata": {
        "id": "b0JNsNcRphqO"
      },
      "source": [
        "##### 3. Will the gained insights help creating a positive business impact? \n",
        "Are there any insights that lead to negative growth? Justify with specific reason."
      ]
    },
    {
      "cell_type": "markdown",
      "metadata": {
        "id": "xvSq8iUTphqO"
      },
      "source": [
        "Answer Here"
      ]
    },
    {
      "cell_type": "markdown",
      "metadata": {
        "id": "BZR9WyysphqO"
      },
      "source": [
        "#### Chart - 8. Country"
      ]
    },
    {
      "cell_type": "code",
      "execution_count": 61,
      "metadata": {
        "id": "TdPTWpAVphqO"
      },
      "outputs": [],
      "source": [
        "# Chart - 8 visualization code\n",
        "# country_df.plot(column='name', cmap=\"OrRd\", edgecolor='releases', legend=True)"
      ]
    },
    {
      "cell_type": "markdown",
      "metadata": {
        "id": "jj7wYXLtphqO"
      },
      "source": [
        "##### 1. Why did you pick the specific chart?"
      ]
    },
    {
      "cell_type": "markdown",
      "metadata": {
        "id": "Ob8u6rCTphqO"
      },
      "source": [
        "Answer Here."
      ]
    },
    {
      "cell_type": "markdown",
      "metadata": {
        "id": "eZrbJ2SmphqO"
      },
      "source": [
        "##### 2. What is/are the insight(s) found from the chart?"
      ]
    },
    {
      "cell_type": "markdown",
      "metadata": {
        "id": "mZtgC_hjphqO"
      },
      "source": [
        "Answer Here"
      ]
    },
    {
      "cell_type": "markdown",
      "metadata": {
        "id": "rFu4xreNphqO"
      },
      "source": [
        "##### 3. Will the gained insights help creating a positive business impact? \n",
        "Are there any insights that lead to negative growth? Justify with specific reason."
      ]
    },
    {
      "cell_type": "markdown",
      "metadata": {
        "id": "ey_0qi68phqO"
      },
      "source": [
        "Answer Here"
      ]
    },
    {
      "cell_type": "markdown",
      "metadata": {
        "id": "YJ55k-q6phqO"
      },
      "source": [
        "#### Chart - 9. Which Genre has the highest number of shows"
      ]
    },
    {
      "cell_type": "code",
      "execution_count": 62,
      "metadata": {
        "id": "XNtaKVZNrQjS"
      },
      "outputs": [],
      "source": [
        "genre_df=making_df_from_column('listed_in',['genre','count'])"
      ]
    },
    {
      "cell_type": "code",
      "execution_count": 63,
      "metadata": {
        "id": "B2aS4O1ophqO",
        "outputId": "d64fed3f-2cbc-41d7-88e7-409c60ba1131",
        "colab": {
          "base_uri": "https://localhost:8080/",
          "height": 542
        }
      },
      "outputs": [
        {
          "output_type": "display_data",
          "data": {
            "text/html": [
              "<html>\n",
              "<head><meta charset=\"utf-8\" /></head>\n",
              "<body>\n",
              "    <div>            <script src=\"https://cdnjs.cloudflare.com/ajax/libs/mathjax/2.7.5/MathJax.js?config=TeX-AMS-MML_SVG\"></script><script type=\"text/javascript\">if (window.MathJax && window.MathJax.Hub && window.MathJax.Hub.Config) {window.MathJax.Hub.Config({SVG: {font: \"STIX-Web\"}});}</script>                <script type=\"text/javascript\">window.PlotlyConfig = {MathJaxConfig: 'local'};</script>\n",
              "        <script src=\"https://cdn.plot.ly/plotly-2.18.2.min.js\"></script>                <div id=\"e0fe7656-3a59-40e9-a3c4-d49a3c7bac73\" class=\"plotly-graph-div\" style=\"height:525px; width:100%;\"></div>            <script type=\"text/javascript\">                                    window.PLOTLYENV=window.PLOTLYENV || {};                                    if (document.getElementById(\"e0fe7656-3a59-40e9-a3c4-d49a3c7bac73\")) {                    Plotly.newPlot(                        \"e0fe7656-3a59-40e9-a3c4-d49a3c7bac73\",                        [{\"alignmentgroup\":\"True\",\"hovertemplate\":\"genre=%{x}<br>count=%{y}<extra></extra>\",\"legendgroup\":\"\",\"marker\":{\"color\":\"#535724\",\"pattern\":{\"shape\":\"\"}},\"name\":\"\",\"offsetgroup\":\"\",\"orientation\":\"v\",\"showlegend\":false,\"textposition\":\"auto\",\"x\":[\" International Movies\",\"Dramas\",\"Comedies\",\"Documentaries\",\" Dramas\",\"Action & Adventure\",\"International TV Shows\",\" Independent Movies\",\" TV Dramas\",\" Romantic Movies\",\" International TV Shows\",\"Children & Family Movies\",\" Thrillers\",\" TV Comedies\",\" Comedies\",\"Crime TV Shows\",\"Kids' TV\",\"Stand-Up Comedy\",\" Romantic TV Shows\",\" Music & Musicals\"],\"xaxis\":\"x\",\"y\":[2323,1384,1074,751,722,721,690,653,642,528,509,502,442,415,397,369,359,321,305,304],\"yaxis\":\"y\",\"type\":\"bar\"}],                        {\"template\":{\"data\":{\"barpolar\":[{\"marker\":{\"line\":{\"color\":\"rgb(17,17,17)\",\"width\":0.5},\"pattern\":{\"fillmode\":\"overlay\",\"size\":10,\"solidity\":0.2}},\"type\":\"barpolar\"}],\"bar\":[{\"error_x\":{\"color\":\"#f2f5fa\"},\"error_y\":{\"color\":\"#f2f5fa\"},\"marker\":{\"line\":{\"color\":\"rgb(17,17,17)\",\"width\":0.5},\"pattern\":{\"fillmode\":\"overlay\",\"size\":10,\"solidity\":0.2}},\"type\":\"bar\"}],\"carpet\":[{\"aaxis\":{\"endlinecolor\":\"#A2B1C6\",\"gridcolor\":\"#506784\",\"linecolor\":\"#506784\",\"minorgridcolor\":\"#506784\",\"startlinecolor\":\"#A2B1C6\"},\"baxis\":{\"endlinecolor\":\"#A2B1C6\",\"gridcolor\":\"#506784\",\"linecolor\":\"#506784\",\"minorgridcolor\":\"#506784\",\"startlinecolor\":\"#A2B1C6\"},\"type\":\"carpet\"}],\"choropleth\":[{\"colorbar\":{\"outlinewidth\":0,\"ticks\":\"\"},\"type\":\"choropleth\"}],\"contourcarpet\":[{\"colorbar\":{\"outlinewidth\":0,\"ticks\":\"\"},\"type\":\"contourcarpet\"}],\"contour\":[{\"colorbar\":{\"outlinewidth\":0,\"ticks\":\"\"},\"colorscale\":[[0.0,\"#0d0887\"],[0.1111111111111111,\"#46039f\"],[0.2222222222222222,\"#7201a8\"],[0.3333333333333333,\"#9c179e\"],[0.4444444444444444,\"#bd3786\"],[0.5555555555555556,\"#d8576b\"],[0.6666666666666666,\"#ed7953\"],[0.7777777777777778,\"#fb9f3a\"],[0.8888888888888888,\"#fdca26\"],[1.0,\"#f0f921\"]],\"type\":\"contour\"}],\"heatmapgl\":[{\"colorbar\":{\"outlinewidth\":0,\"ticks\":\"\"},\"colorscale\":[[0.0,\"#0d0887\"],[0.1111111111111111,\"#46039f\"],[0.2222222222222222,\"#7201a8\"],[0.3333333333333333,\"#9c179e\"],[0.4444444444444444,\"#bd3786\"],[0.5555555555555556,\"#d8576b\"],[0.6666666666666666,\"#ed7953\"],[0.7777777777777778,\"#fb9f3a\"],[0.8888888888888888,\"#fdca26\"],[1.0,\"#f0f921\"]],\"type\":\"heatmapgl\"}],\"heatmap\":[{\"colorbar\":{\"outlinewidth\":0,\"ticks\":\"\"},\"colorscale\":[[0.0,\"#0d0887\"],[0.1111111111111111,\"#46039f\"],[0.2222222222222222,\"#7201a8\"],[0.3333333333333333,\"#9c179e\"],[0.4444444444444444,\"#bd3786\"],[0.5555555555555556,\"#d8576b\"],[0.6666666666666666,\"#ed7953\"],[0.7777777777777778,\"#fb9f3a\"],[0.8888888888888888,\"#fdca26\"],[1.0,\"#f0f921\"]],\"type\":\"heatmap\"}],\"histogram2dcontour\":[{\"colorbar\":{\"outlinewidth\":0,\"ticks\":\"\"},\"colorscale\":[[0.0,\"#0d0887\"],[0.1111111111111111,\"#46039f\"],[0.2222222222222222,\"#7201a8\"],[0.3333333333333333,\"#9c179e\"],[0.4444444444444444,\"#bd3786\"],[0.5555555555555556,\"#d8576b\"],[0.6666666666666666,\"#ed7953\"],[0.7777777777777778,\"#fb9f3a\"],[0.8888888888888888,\"#fdca26\"],[1.0,\"#f0f921\"]],\"type\":\"histogram2dcontour\"}],\"histogram2d\":[{\"colorbar\":{\"outlinewidth\":0,\"ticks\":\"\"},\"colorscale\":[[0.0,\"#0d0887\"],[0.1111111111111111,\"#46039f\"],[0.2222222222222222,\"#7201a8\"],[0.3333333333333333,\"#9c179e\"],[0.4444444444444444,\"#bd3786\"],[0.5555555555555556,\"#d8576b\"],[0.6666666666666666,\"#ed7953\"],[0.7777777777777778,\"#fb9f3a\"],[0.8888888888888888,\"#fdca26\"],[1.0,\"#f0f921\"]],\"type\":\"histogram2d\"}],\"histogram\":[{\"marker\":{\"pattern\":{\"fillmode\":\"overlay\",\"size\":10,\"solidity\":0.2}},\"type\":\"histogram\"}],\"mesh3d\":[{\"colorbar\":{\"outlinewidth\":0,\"ticks\":\"\"},\"type\":\"mesh3d\"}],\"parcoords\":[{\"line\":{\"colorbar\":{\"outlinewidth\":0,\"ticks\":\"\"}},\"type\":\"parcoords\"}],\"pie\":[{\"automargin\":true,\"type\":\"pie\"}],\"scatter3d\":[{\"line\":{\"colorbar\":{\"outlinewidth\":0,\"ticks\":\"\"}},\"marker\":{\"colorbar\":{\"outlinewidth\":0,\"ticks\":\"\"}},\"type\":\"scatter3d\"}],\"scattercarpet\":[{\"marker\":{\"colorbar\":{\"outlinewidth\":0,\"ticks\":\"\"}},\"type\":\"scattercarpet\"}],\"scattergeo\":[{\"marker\":{\"colorbar\":{\"outlinewidth\":0,\"ticks\":\"\"}},\"type\":\"scattergeo\"}],\"scattergl\":[{\"marker\":{\"line\":{\"color\":\"#283442\"}},\"type\":\"scattergl\"}],\"scattermapbox\":[{\"marker\":{\"colorbar\":{\"outlinewidth\":0,\"ticks\":\"\"}},\"type\":\"scattermapbox\"}],\"scatterpolargl\":[{\"marker\":{\"colorbar\":{\"outlinewidth\":0,\"ticks\":\"\"}},\"type\":\"scatterpolargl\"}],\"scatterpolar\":[{\"marker\":{\"colorbar\":{\"outlinewidth\":0,\"ticks\":\"\"}},\"type\":\"scatterpolar\"}],\"scatter\":[{\"marker\":{\"line\":{\"color\":\"#283442\"}},\"type\":\"scatter\"}],\"scatterternary\":[{\"marker\":{\"colorbar\":{\"outlinewidth\":0,\"ticks\":\"\"}},\"type\":\"scatterternary\"}],\"surface\":[{\"colorbar\":{\"outlinewidth\":0,\"ticks\":\"\"},\"colorscale\":[[0.0,\"#0d0887\"],[0.1111111111111111,\"#46039f\"],[0.2222222222222222,\"#7201a8\"],[0.3333333333333333,\"#9c179e\"],[0.4444444444444444,\"#bd3786\"],[0.5555555555555556,\"#d8576b\"],[0.6666666666666666,\"#ed7953\"],[0.7777777777777778,\"#fb9f3a\"],[0.8888888888888888,\"#fdca26\"],[1.0,\"#f0f921\"]],\"type\":\"surface\"}],\"table\":[{\"cells\":{\"fill\":{\"color\":\"#506784\"},\"line\":{\"color\":\"rgb(17,17,17)\"}},\"header\":{\"fill\":{\"color\":\"#2a3f5f\"},\"line\":{\"color\":\"rgb(17,17,17)\"}},\"type\":\"table\"}]},\"layout\":{\"annotationdefaults\":{\"arrowcolor\":\"#f2f5fa\",\"arrowhead\":0,\"arrowwidth\":1},\"autotypenumbers\":\"strict\",\"coloraxis\":{\"colorbar\":{\"outlinewidth\":0,\"ticks\":\"\"}},\"colorscale\":{\"diverging\":[[0,\"#8e0152\"],[0.1,\"#c51b7d\"],[0.2,\"#de77ae\"],[0.3,\"#f1b6da\"],[0.4,\"#fde0ef\"],[0.5,\"#f7f7f7\"],[0.6,\"#e6f5d0\"],[0.7,\"#b8e186\"],[0.8,\"#7fbc41\"],[0.9,\"#4d9221\"],[1,\"#276419\"]],\"sequential\":[[0.0,\"#0d0887\"],[0.1111111111111111,\"#46039f\"],[0.2222222222222222,\"#7201a8\"],[0.3333333333333333,\"#9c179e\"],[0.4444444444444444,\"#bd3786\"],[0.5555555555555556,\"#d8576b\"],[0.6666666666666666,\"#ed7953\"],[0.7777777777777778,\"#fb9f3a\"],[0.8888888888888888,\"#fdca26\"],[1.0,\"#f0f921\"]],\"sequentialminus\":[[0.0,\"#0d0887\"],[0.1111111111111111,\"#46039f\"],[0.2222222222222222,\"#7201a8\"],[0.3333333333333333,\"#9c179e\"],[0.4444444444444444,\"#bd3786\"],[0.5555555555555556,\"#d8576b\"],[0.6666666666666666,\"#ed7953\"],[0.7777777777777778,\"#fb9f3a\"],[0.8888888888888888,\"#fdca26\"],[1.0,\"#f0f921\"]]},\"colorway\":[\"#636efa\",\"#EF553B\",\"#00cc96\",\"#ab63fa\",\"#FFA15A\",\"#19d3f3\",\"#FF6692\",\"#B6E880\",\"#FF97FF\",\"#FECB52\"],\"font\":{\"color\":\"#f2f5fa\"},\"geo\":{\"bgcolor\":\"rgb(17,17,17)\",\"lakecolor\":\"rgb(17,17,17)\",\"landcolor\":\"rgb(17,17,17)\",\"showlakes\":true,\"showland\":true,\"subunitcolor\":\"#506784\"},\"hoverlabel\":{\"align\":\"left\"},\"hovermode\":\"closest\",\"mapbox\":{\"style\":\"dark\"},\"paper_bgcolor\":\"rgb(17,17,17)\",\"plot_bgcolor\":\"rgb(17,17,17)\",\"polar\":{\"angularaxis\":{\"gridcolor\":\"#506784\",\"linecolor\":\"#506784\",\"ticks\":\"\"},\"bgcolor\":\"rgb(17,17,17)\",\"radialaxis\":{\"gridcolor\":\"#506784\",\"linecolor\":\"#506784\",\"ticks\":\"\"}},\"scene\":{\"xaxis\":{\"backgroundcolor\":\"rgb(17,17,17)\",\"gridcolor\":\"#506784\",\"gridwidth\":2,\"linecolor\":\"#506784\",\"showbackground\":true,\"ticks\":\"\",\"zerolinecolor\":\"#C8D4E3\"},\"yaxis\":{\"backgroundcolor\":\"rgb(17,17,17)\",\"gridcolor\":\"#506784\",\"gridwidth\":2,\"linecolor\":\"#506784\",\"showbackground\":true,\"ticks\":\"\",\"zerolinecolor\":\"#C8D4E3\"},\"zaxis\":{\"backgroundcolor\":\"rgb(17,17,17)\",\"gridcolor\":\"#506784\",\"gridwidth\":2,\"linecolor\":\"#506784\",\"showbackground\":true,\"ticks\":\"\",\"zerolinecolor\":\"#C8D4E3\"}},\"shapedefaults\":{\"line\":{\"color\":\"#f2f5fa\"}},\"sliderdefaults\":{\"bgcolor\":\"#C8D4E3\",\"bordercolor\":\"rgb(17,17,17)\",\"borderwidth\":1,\"tickwidth\":0},\"ternary\":{\"aaxis\":{\"gridcolor\":\"#506784\",\"linecolor\":\"#506784\",\"ticks\":\"\"},\"baxis\":{\"gridcolor\":\"#506784\",\"linecolor\":\"#506784\",\"ticks\":\"\"},\"bgcolor\":\"rgb(17,17,17)\",\"caxis\":{\"gridcolor\":\"#506784\",\"linecolor\":\"#506784\",\"ticks\":\"\"}},\"title\":{\"x\":0.05},\"updatemenudefaults\":{\"bgcolor\":\"#506784\",\"borderwidth\":0},\"xaxis\":{\"automargin\":true,\"gridcolor\":\"#283442\",\"linecolor\":\"#506784\",\"ticks\":\"\",\"title\":{\"standoff\":15},\"zerolinecolor\":\"#283442\",\"zerolinewidth\":2},\"yaxis\":{\"automargin\":true,\"gridcolor\":\"#283442\",\"linecolor\":\"#506784\",\"ticks\":\"\",\"title\":{\"standoff\":15},\"zerolinecolor\":\"#283442\",\"zerolinewidth\":2}}},\"xaxis\":{\"anchor\":\"y\",\"domain\":[0.0,1.0],\"title\":{\"text\":\"genre\"}},\"yaxis\":{\"anchor\":\"x\",\"domain\":[0.0,1.0],\"title\":{\"text\":\"count\"}},\"legend\":{\"tracegroupgap\":0},\"margin\":{\"t\":60},\"barmode\":\"relative\",\"title\":{\"text\":\"Genre with most Shows\",\"x\":0.5}},                        {\"responsive\": true}                    ).then(function(){\n",
              "                            \n",
              "var gd = document.getElementById('e0fe7656-3a59-40e9-a3c4-d49a3c7bac73');\n",
              "var x = new MutationObserver(function (mutations, observer) {{\n",
              "        var display = window.getComputedStyle(gd).display;\n",
              "        if (!display || display === 'none') {{\n",
              "            console.log([gd, 'removed!']);\n",
              "            Plotly.purge(gd);\n",
              "            observer.disconnect();\n",
              "        }}\n",
              "}});\n",
              "\n",
              "// Listen for the removal of the full notebook cells\n",
              "var notebookContainer = gd.closest('#notebook-container');\n",
              "if (notebookContainer) {{\n",
              "    x.observe(notebookContainer, {childList: true});\n",
              "}}\n",
              "\n",
              "// Listen for the clearing of the current output cell\n",
              "var outputEl = gd.closest('.output');\n",
              "if (outputEl) {{\n",
              "    x.observe(outputEl, {childList: true});\n",
              "}}\n",
              "\n",
              "                        })                };                            </script>        </div>\n",
              "</body>\n",
              "</html>"
            ]
          },
          "metadata": {}
        }
      ],
      "source": [
        "# Chart - 9 visualization code\n",
        "px.bar(genre_df.sort_values(by='count',ascending=False)[:20],x='genre',y='count',template='plotly_dark',color_discrete_sequence=['#535724']).update_layout(title_text='Genre with most Shows',title_x=0.5)"
      ]
    },
    {
      "cell_type": "markdown",
      "metadata": {
        "id": "gCFgpxoyphqP"
      },
      "source": [
        "##### 1. Why did you pick the specific chart?"
      ]
    },
    {
      "cell_type": "markdown",
      "metadata": {
        "id": "TVxDimi2phqP"
      },
      "source": [
        "Answer Here."
      ]
    },
    {
      "cell_type": "markdown",
      "metadata": {
        "id": "OVtJsKN_phqQ"
      },
      "source": [
        "##### 2. What is/are the insight(s) found from the chart?"
      ]
    },
    {
      "cell_type": "markdown",
      "metadata": {
        "id": "ngGi97qjphqQ"
      },
      "source": [
        "Answer Here"
      ]
    },
    {
      "cell_type": "markdown",
      "metadata": {
        "id": "lssrdh5qphqQ"
      },
      "source": [
        "##### 3. Will the gained insights help creating a positive business impact? \n",
        "Are there any insights that lead to negative growth? Justify with specific reason."
      ]
    },
    {
      "cell_type": "markdown",
      "metadata": {
        "id": "tBpY5ekJphqQ"
      },
      "source": [
        "Answer Here"
      ]
    },
    {
      "cell_type": "markdown",
      "metadata": {
        "id": "U2RJ9gkRphqQ"
      },
      "source": [
        "#### Chart - 10"
      ]
    },
    {
      "cell_type": "code",
      "execution_count": 65,
      "metadata": {
        "id": "GM7a4YP4phqQ"
      },
      "outputs": [],
      "source": [
        "# visualization code\n"
      ]
    },
    {
      "cell_type": "markdown",
      "metadata": {
        "id": "1M8mcRywphqQ"
      },
      "source": [
        "##### 1. Why did you pick the specific chart?"
      ]
    },
    {
      "cell_type": "markdown",
      "metadata": {
        "id": "8agQvks0phqQ"
      },
      "source": [
        "Answer Here."
      ]
    },
    {
      "cell_type": "markdown",
      "metadata": {
        "id": "tgIPom80phqQ"
      },
      "source": [
        "##### 2. What is/are the insight(s) found from the chart?"
      ]
    },
    {
      "cell_type": "markdown",
      "metadata": {
        "id": "Qp13pnNzphqQ"
      },
      "source": [
        "Answer Here"
      ]
    },
    {
      "cell_type": "markdown",
      "metadata": {
        "id": "JMzcOPDDphqR"
      },
      "source": [
        "##### 3. Will the gained insights help creating a positive business impact? \n",
        "Are there any insights that lead to negative growth? Justify with specific reason."
      ]
    },
    {
      "cell_type": "markdown",
      "metadata": {
        "id": "R4Ka1PC2phqR"
      },
      "source": [
        "Answer Here"
      ]
    },
    {
      "cell_type": "markdown",
      "metadata": {
        "id": "x-EpHcCOp1ci"
      },
      "source": [
        "#### Chart - 11"
      ]
    },
    {
      "cell_type": "code",
      "execution_count": 66,
      "metadata": {
        "id": "mAQTIvtqp1cj"
      },
      "outputs": [],
      "source": [
        "# Chart - 11 visualization code"
      ]
    },
    {
      "cell_type": "markdown",
      "metadata": {
        "id": "X_VqEhTip1ck"
      },
      "source": [
        "##### 1. Why did you pick the specific chart?"
      ]
    },
    {
      "cell_type": "markdown",
      "metadata": {
        "id": "-vsMzt_np1ck"
      },
      "source": [
        "Answer Here."
      ]
    },
    {
      "cell_type": "markdown",
      "metadata": {
        "id": "8zGJKyg5p1ck"
      },
      "source": [
        "##### 2. What is/are the insight(s) found from the chart?"
      ]
    },
    {
      "cell_type": "markdown",
      "metadata": {
        "id": "ZYdMsrqVp1ck"
      },
      "source": [
        "Answer Here"
      ]
    },
    {
      "cell_type": "markdown",
      "metadata": {
        "id": "PVzmfK_Ep1ck"
      },
      "source": [
        "##### 3. Will the gained insights help creating a positive business impact? \n",
        "Are there any insights that lead to negative growth? Justify with specific reason."
      ]
    },
    {
      "cell_type": "markdown",
      "metadata": {
        "id": "druuKYZpp1ck"
      },
      "source": [
        "Answer Here"
      ]
    },
    {
      "cell_type": "markdown",
      "metadata": {
        "id": "NC_X3p0fY2L0"
      },
      "source": [
        "#### Chart - 12 - Correlation Heatmap"
      ]
    },
    {
      "cell_type": "code",
      "execution_count": 67,
      "metadata": {
        "id": "xyC9zolEZNRQ"
      },
      "outputs": [],
      "source": [
        "# Correlation Heatmap visualization code"
      ]
    },
    {
      "cell_type": "markdown",
      "metadata": {
        "id": "UV0SzAkaZNRQ"
      },
      "source": [
        "##### 1. Why did you pick the specific chart?"
      ]
    },
    {
      "cell_type": "markdown",
      "metadata": {
        "id": "DVPuT8LYZNRQ"
      },
      "source": [
        "Answer Here."
      ]
    },
    {
      "cell_type": "markdown",
      "metadata": {
        "id": "YPEH6qLeZNRQ"
      },
      "source": [
        "##### 2. What is/are the insight(s) found from the chart?"
      ]
    },
    {
      "cell_type": "markdown",
      "metadata": {
        "id": "bfSqtnDqZNRR"
      },
      "source": [
        "Answer Here"
      ]
    },
    {
      "cell_type": "markdown",
      "metadata": {
        "id": "q29F0dvdveiT"
      },
      "source": [
        "#### Chart - 13 - Pair Plot "
      ]
    },
    {
      "cell_type": "code",
      "execution_count": 68,
      "metadata": {
        "id": "o58-TEIhveiU"
      },
      "outputs": [],
      "source": [
        "# Pair Plot visualization code"
      ]
    },
    {
      "cell_type": "markdown",
      "metadata": {
        "id": "EXh0U9oCveiU"
      },
      "source": [
        "##### 1. Why did you pick the specific chart?"
      ]
    },
    {
      "cell_type": "markdown",
      "metadata": {
        "id": "eMmPjTByveiU"
      },
      "source": [
        "Answer Here."
      ]
    },
    {
      "cell_type": "markdown",
      "metadata": {
        "id": "22aHeOlLveiV"
      },
      "source": [
        "##### 2. What is/are the insight(s) found from the chart?"
      ]
    },
    {
      "cell_type": "markdown",
      "metadata": {
        "id": "uPQ8RGwHveiV"
      },
      "source": [
        "Answer Here"
      ]
    },
    {
      "cell_type": "markdown",
      "source": [
        "## 3.1 ***Handling Missing Values Continued***"
      ],
      "metadata": {
        "id": "ffLMgIQeg-5c"
      }
    },
    {
      "cell_type": "code",
      "execution_count": 69,
      "metadata": {
        "id": "R1F3nWeQFih6"
      },
      "outputs": [],
      "source": [
        "dataset=dataset[~dataset['date_added'].isnull()]"
      ]
    },
    {
      "cell_type": "code",
      "execution_count": 70,
      "metadata": {
        "colab": {
          "base_uri": "https://localhost:8080/"
        },
        "id": "KPSbuqUTFih6",
        "outputId": "32b09a03-447d-4ac5-ffc6-364b3e707c08"
      },
      "outputs": [
        {
          "output_type": "execute_result",
          "data": {
            "text/plain": [
              "show_id         0\n",
              "type            0\n",
              "title           0\n",
              "director        0\n",
              "cast            0\n",
              "country         0\n",
              "date_added      0\n",
              "release_year    0\n",
              "rating          0\n",
              "duration        0\n",
              "listed_in       0\n",
              "description     0\n",
              "dtype: int64"
            ]
          },
          "metadata": {},
          "execution_count": 70
        }
      ],
      "source": [
        "dataset.isnull().sum()"
      ]
    },
    {
      "cell_type": "markdown",
      "metadata": {
        "id": "7wuGOrhz0itI"
      },
      "source": [
        "#### What all missing value imputation techniques have you used and why did you use those techniques?"
      ]
    },
    {
      "cell_type": "markdown",
      "metadata": {
        "id": "1ixusLtI0pqI"
      },
      "source": [
        "Answer Here."
      ]
    },
    {
      "cell_type": "markdown",
      "metadata": {
        "id": "bKJF3rekwFvQ"
      },
      "source": [
        "## 4.1. ***Data Wrangling Continued***"
      ]
    },
    {
      "cell_type": "code",
      "execution_count": 71,
      "metadata": {
        "id": "Jv2HUI-dFih8"
      },
      "outputs": [],
      "source": [
        "# Creating a function to convert date's value's datatype from string to a string that can be converted to datetime datatype\n",
        "def date_to_str(s):\n",
        "  s=s.split()\n",
        "  if s[1][0]==' ':\n",
        "    s1='0'+s[1][1]+'.'\n",
        "  else:\n",
        "    s1=s[1][:-1]+'.'  \n",
        "  if 'Jan'in s[0][:3]:\n",
        "    s1=s1+'01'\n",
        "  elif 'Feb'in s[0][:3]:\n",
        "    s1=s1+'02'\n",
        "  elif 'Mar'in s[0][:3]:\n",
        "    s1=s1+'03'\n",
        "  elif 'Apr'in s[0][:3]:\n",
        "    s1=s1+'04'\n",
        "  elif 'May'in s[0][:3]:\n",
        "    s1=s1+'05'\n",
        "  elif 'Jun'in s[0][:3]:\n",
        "    s1=s1+'06'\n",
        "  elif 'Jul'in s[0][:3]:\n",
        "    s1=s1+'07'\n",
        "  elif 'Aug'in s[0][:3]:\n",
        "    s1=s1+'08'\n",
        "  elif 'Sep'in s[0][:3]:\n",
        "    s1=s1+'09'\n",
        "  elif 'Oct'in s[0][:3]:\n",
        "    s1=s1+'10'\n",
        "  elif 'Nov'in s[0][:3]:\n",
        "    s1=s1+'11'\n",
        "  elif 'Dec'in s[0][:3]:\n",
        "    s1=s1+'12'    \n",
        "  s1=s1+'.'\n",
        "  s1=s1+s[2][-2:]\n",
        "  return s1                   "
      ]
    },
    {
      "cell_type": "code",
      "execution_count": 72,
      "metadata": {
        "id": "x44fCX2aFih9"
      },
      "outputs": [],
      "source": [
        "dataset['date_added']=dataset.apply(lambda x:date_to_str(x['date_added']),axis=1)"
      ]
    },
    {
      "cell_type": "code",
      "execution_count": 73,
      "metadata": {
        "id": "foe6ZIJwFih-"
      },
      "outputs": [],
      "source": [
        "dataset['date_added']=dataset['date_added'].apply(lambda x:datetime.strptime(x,'%d.%m.%y'))"
      ]
    },
    {
      "cell_type": "code",
      "execution_count": 74,
      "metadata": {
        "colab": {
          "base_uri": "https://localhost:8080/",
          "height": 780
        },
        "id": "8je2j-Z3Fih-",
        "outputId": "69affb37-0676-487f-ead4-70a2c9183ea7"
      },
      "outputs": [
        {
          "output_type": "execute_result",
          "data": {
            "text/plain": [
              "     show_id     type                                    title  \\\n",
              "0         s1  TV Show                                       3%   \n",
              "1         s2    Movie                                     7:19   \n",
              "2         s3    Movie                                    23:59   \n",
              "3         s4    Movie                                        9   \n",
              "4         s5    Movie                                       21   \n",
              "...      ...      ...                                      ...   \n",
              "7782   s7783    Movie                                     Zozo   \n",
              "7783   s7784    Movie                                   Zubaan   \n",
              "7784   s7785    Movie                        Zulu Man in Japan   \n",
              "7785   s7786  TV Show                    Zumbo's Just Desserts   \n",
              "7786   s7787    Movie  ZZ TOP: THAT LITTLE OL' BAND FROM TEXAS   \n",
              "\n",
              "               director                                               cast  \\\n",
              "0               unknown  João Miguel, Bianca Comparato, Michel Gomes, R...   \n",
              "1     Jorge Michel Grau  Demián Bichir, Héctor Bonilla, Oscar Serrano, ...   \n",
              "2          Gilbert Chan  Tedd Chan, Stella Chung, Henley Hii, Lawrence ...   \n",
              "3           Shane Acker  Elijah Wood, John C. Reilly, Jennifer Connelly...   \n",
              "4        Robert Luketic  Jim Sturgess, Kevin Spacey, Kate Bosworth, Aar...   \n",
              "...                 ...                                                ...   \n",
              "7782        Josef Fares  Imad Creidi, Antoinette Turk, Elias Gergi, Car...   \n",
              "7783        Mozez Singh  Vicky Kaushal, Sarah-Jane Dias, Raaghav Chanan...   \n",
              "7784            unknown                                            Nasty C   \n",
              "7785            unknown                         Adriano Zumbo, Rachel Khoo   \n",
              "7786           Sam Dunn                                            unknown   \n",
              "\n",
              "                                                country date_added  \\\n",
              "0                                                Brazil 2020-08-14   \n",
              "1                                                Mexico 2016-12-23   \n",
              "2                                             Singapore 2018-12-20   \n",
              "3                                         United States 2017-11-16   \n",
              "4                                         United States 2020-01-01   \n",
              "...                                                 ...        ...   \n",
              "7782  Sweden, Czech Republic, United Kingdom, Denmar... 2020-10-19   \n",
              "7783                                              India 2019-03-02   \n",
              "7784                                            unknown 2020-09-25   \n",
              "7785                                          Australia 2020-10-31   \n",
              "7786              United Kingdom, Canada, United States 2020-03-01   \n",
              "\n",
              "      release_year rating   duration  \\\n",
              "0             2020  TV-MA  4 Seasons   \n",
              "1             2016  TV-MA     93 min   \n",
              "2             2011      R     78 min   \n",
              "3             2009  PG-13     80 min   \n",
              "4             2008  PG-13    123 min   \n",
              "...            ...    ...        ...   \n",
              "7782          2005  TV-MA     99 min   \n",
              "7783          2015  TV-14    111 min   \n",
              "7784          2019  TV-MA     44 min   \n",
              "7785          2019  TV-PG   1 Season   \n",
              "7786          2019  TV-MA     90 min   \n",
              "\n",
              "                                              listed_in  \\\n",
              "0     International TV Shows, TV Dramas, TV Sci-Fi &...   \n",
              "1                          Dramas, International Movies   \n",
              "2                   Horror Movies, International Movies   \n",
              "3     Action & Adventure, Independent Movies, Sci-Fi...   \n",
              "4                                                Dramas   \n",
              "...                                                 ...   \n",
              "7782                       Dramas, International Movies   \n",
              "7783     Dramas, International Movies, Music & Musicals   \n",
              "7784  Documentaries, International Movies, Music & M...   \n",
              "7785                 International TV Shows, Reality TV   \n",
              "7786                    Documentaries, Music & Musicals   \n",
              "\n",
              "                                            description  \n",
              "0     In a future where the elite inhabit an island ...  \n",
              "1     After a devastating earthquake hits Mexico Cit...  \n",
              "2     When an army recruit is found dead, his fellow...  \n",
              "3     In a postapocalyptic world, rag-doll robots hi...  \n",
              "4     A brilliant group of students become card-coun...  \n",
              "...                                                 ...  \n",
              "7782  When Lebanon's Civil War deprives Zozo of his ...  \n",
              "7783  A scrappy but poor boy worms his way into a ty...  \n",
              "7784  In this documentary, South African rapper Nast...  \n",
              "7785  Dessert wizard Adriano Zumbo looks for the nex...  \n",
              "7786  This documentary delves into the mystique behi...  \n",
              "\n",
              "[7777 rows x 12 columns]"
            ],
            "text/html": [
              "\n",
              "  <div id=\"df-4b718334-79e1-405d-a215-211eb0ff97bb\">\n",
              "    <div class=\"colab-df-container\">\n",
              "      <div>\n",
              "<style scoped>\n",
              "    .dataframe tbody tr th:only-of-type {\n",
              "        vertical-align: middle;\n",
              "    }\n",
              "\n",
              "    .dataframe tbody tr th {\n",
              "        vertical-align: top;\n",
              "    }\n",
              "\n",
              "    .dataframe thead th {\n",
              "        text-align: right;\n",
              "    }\n",
              "</style>\n",
              "<table border=\"1\" class=\"dataframe\">\n",
              "  <thead>\n",
              "    <tr style=\"text-align: right;\">\n",
              "      <th></th>\n",
              "      <th>show_id</th>\n",
              "      <th>type</th>\n",
              "      <th>title</th>\n",
              "      <th>director</th>\n",
              "      <th>cast</th>\n",
              "      <th>country</th>\n",
              "      <th>date_added</th>\n",
              "      <th>release_year</th>\n",
              "      <th>rating</th>\n",
              "      <th>duration</th>\n",
              "      <th>listed_in</th>\n",
              "      <th>description</th>\n",
              "    </tr>\n",
              "  </thead>\n",
              "  <tbody>\n",
              "    <tr>\n",
              "      <th>0</th>\n",
              "      <td>s1</td>\n",
              "      <td>TV Show</td>\n",
              "      <td>3%</td>\n",
              "      <td>unknown</td>\n",
              "      <td>João Miguel, Bianca Comparato, Michel Gomes, R...</td>\n",
              "      <td>Brazil</td>\n",
              "      <td>2020-08-14</td>\n",
              "      <td>2020</td>\n",
              "      <td>TV-MA</td>\n",
              "      <td>4 Seasons</td>\n",
              "      <td>International TV Shows, TV Dramas, TV Sci-Fi &amp;...</td>\n",
              "      <td>In a future where the elite inhabit an island ...</td>\n",
              "    </tr>\n",
              "    <tr>\n",
              "      <th>1</th>\n",
              "      <td>s2</td>\n",
              "      <td>Movie</td>\n",
              "      <td>7:19</td>\n",
              "      <td>Jorge Michel Grau</td>\n",
              "      <td>Demián Bichir, Héctor Bonilla, Oscar Serrano, ...</td>\n",
              "      <td>Mexico</td>\n",
              "      <td>2016-12-23</td>\n",
              "      <td>2016</td>\n",
              "      <td>TV-MA</td>\n",
              "      <td>93 min</td>\n",
              "      <td>Dramas, International Movies</td>\n",
              "      <td>After a devastating earthquake hits Mexico Cit...</td>\n",
              "    </tr>\n",
              "    <tr>\n",
              "      <th>2</th>\n",
              "      <td>s3</td>\n",
              "      <td>Movie</td>\n",
              "      <td>23:59</td>\n",
              "      <td>Gilbert Chan</td>\n",
              "      <td>Tedd Chan, Stella Chung, Henley Hii, Lawrence ...</td>\n",
              "      <td>Singapore</td>\n",
              "      <td>2018-12-20</td>\n",
              "      <td>2011</td>\n",
              "      <td>R</td>\n",
              "      <td>78 min</td>\n",
              "      <td>Horror Movies, International Movies</td>\n",
              "      <td>When an army recruit is found dead, his fellow...</td>\n",
              "    </tr>\n",
              "    <tr>\n",
              "      <th>3</th>\n",
              "      <td>s4</td>\n",
              "      <td>Movie</td>\n",
              "      <td>9</td>\n",
              "      <td>Shane Acker</td>\n",
              "      <td>Elijah Wood, John C. Reilly, Jennifer Connelly...</td>\n",
              "      <td>United States</td>\n",
              "      <td>2017-11-16</td>\n",
              "      <td>2009</td>\n",
              "      <td>PG-13</td>\n",
              "      <td>80 min</td>\n",
              "      <td>Action &amp; Adventure, Independent Movies, Sci-Fi...</td>\n",
              "      <td>In a postapocalyptic world, rag-doll robots hi...</td>\n",
              "    </tr>\n",
              "    <tr>\n",
              "      <th>4</th>\n",
              "      <td>s5</td>\n",
              "      <td>Movie</td>\n",
              "      <td>21</td>\n",
              "      <td>Robert Luketic</td>\n",
              "      <td>Jim Sturgess, Kevin Spacey, Kate Bosworth, Aar...</td>\n",
              "      <td>United States</td>\n",
              "      <td>2020-01-01</td>\n",
              "      <td>2008</td>\n",
              "      <td>PG-13</td>\n",
              "      <td>123 min</td>\n",
              "      <td>Dramas</td>\n",
              "      <td>A brilliant group of students become card-coun...</td>\n",
              "    </tr>\n",
              "    <tr>\n",
              "      <th>...</th>\n",
              "      <td>...</td>\n",
              "      <td>...</td>\n",
              "      <td>...</td>\n",
              "      <td>...</td>\n",
              "      <td>...</td>\n",
              "      <td>...</td>\n",
              "      <td>...</td>\n",
              "      <td>...</td>\n",
              "      <td>...</td>\n",
              "      <td>...</td>\n",
              "      <td>...</td>\n",
              "      <td>...</td>\n",
              "    </tr>\n",
              "    <tr>\n",
              "      <th>7782</th>\n",
              "      <td>s7783</td>\n",
              "      <td>Movie</td>\n",
              "      <td>Zozo</td>\n",
              "      <td>Josef Fares</td>\n",
              "      <td>Imad Creidi, Antoinette Turk, Elias Gergi, Car...</td>\n",
              "      <td>Sweden, Czech Republic, United Kingdom, Denmar...</td>\n",
              "      <td>2020-10-19</td>\n",
              "      <td>2005</td>\n",
              "      <td>TV-MA</td>\n",
              "      <td>99 min</td>\n",
              "      <td>Dramas, International Movies</td>\n",
              "      <td>When Lebanon's Civil War deprives Zozo of his ...</td>\n",
              "    </tr>\n",
              "    <tr>\n",
              "      <th>7783</th>\n",
              "      <td>s7784</td>\n",
              "      <td>Movie</td>\n",
              "      <td>Zubaan</td>\n",
              "      <td>Mozez Singh</td>\n",
              "      <td>Vicky Kaushal, Sarah-Jane Dias, Raaghav Chanan...</td>\n",
              "      <td>India</td>\n",
              "      <td>2019-03-02</td>\n",
              "      <td>2015</td>\n",
              "      <td>TV-14</td>\n",
              "      <td>111 min</td>\n",
              "      <td>Dramas, International Movies, Music &amp; Musicals</td>\n",
              "      <td>A scrappy but poor boy worms his way into a ty...</td>\n",
              "    </tr>\n",
              "    <tr>\n",
              "      <th>7784</th>\n",
              "      <td>s7785</td>\n",
              "      <td>Movie</td>\n",
              "      <td>Zulu Man in Japan</td>\n",
              "      <td>unknown</td>\n",
              "      <td>Nasty C</td>\n",
              "      <td>unknown</td>\n",
              "      <td>2020-09-25</td>\n",
              "      <td>2019</td>\n",
              "      <td>TV-MA</td>\n",
              "      <td>44 min</td>\n",
              "      <td>Documentaries, International Movies, Music &amp; M...</td>\n",
              "      <td>In this documentary, South African rapper Nast...</td>\n",
              "    </tr>\n",
              "    <tr>\n",
              "      <th>7785</th>\n",
              "      <td>s7786</td>\n",
              "      <td>TV Show</td>\n",
              "      <td>Zumbo's Just Desserts</td>\n",
              "      <td>unknown</td>\n",
              "      <td>Adriano Zumbo, Rachel Khoo</td>\n",
              "      <td>Australia</td>\n",
              "      <td>2020-10-31</td>\n",
              "      <td>2019</td>\n",
              "      <td>TV-PG</td>\n",
              "      <td>1 Season</td>\n",
              "      <td>International TV Shows, Reality TV</td>\n",
              "      <td>Dessert wizard Adriano Zumbo looks for the nex...</td>\n",
              "    </tr>\n",
              "    <tr>\n",
              "      <th>7786</th>\n",
              "      <td>s7787</td>\n",
              "      <td>Movie</td>\n",
              "      <td>ZZ TOP: THAT LITTLE OL' BAND FROM TEXAS</td>\n",
              "      <td>Sam Dunn</td>\n",
              "      <td>unknown</td>\n",
              "      <td>United Kingdom, Canada, United States</td>\n",
              "      <td>2020-03-01</td>\n",
              "      <td>2019</td>\n",
              "      <td>TV-MA</td>\n",
              "      <td>90 min</td>\n",
              "      <td>Documentaries, Music &amp; Musicals</td>\n",
              "      <td>This documentary delves into the mystique behi...</td>\n",
              "    </tr>\n",
              "  </tbody>\n",
              "</table>\n",
              "<p>7777 rows × 12 columns</p>\n",
              "</div>\n",
              "      <button class=\"colab-df-convert\" onclick=\"convertToInteractive('df-4b718334-79e1-405d-a215-211eb0ff97bb')\"\n",
              "              title=\"Convert this dataframe to an interactive table.\"\n",
              "              style=\"display:none;\">\n",
              "        \n",
              "  <svg xmlns=\"http://www.w3.org/2000/svg\" height=\"24px\"viewBox=\"0 0 24 24\"\n",
              "       width=\"24px\">\n",
              "    <path d=\"M0 0h24v24H0V0z\" fill=\"none\"/>\n",
              "    <path d=\"M18.56 5.44l.94 2.06.94-2.06 2.06-.94-2.06-.94-.94-2.06-.94 2.06-2.06.94zm-11 1L8.5 8.5l.94-2.06 2.06-.94-2.06-.94L8.5 2.5l-.94 2.06-2.06.94zm10 10l.94 2.06.94-2.06 2.06-.94-2.06-.94-.94-2.06-.94 2.06-2.06.94z\"/><path d=\"M17.41 7.96l-1.37-1.37c-.4-.4-.92-.59-1.43-.59-.52 0-1.04.2-1.43.59L10.3 9.45l-7.72 7.72c-.78.78-.78 2.05 0 2.83L4 21.41c.39.39.9.59 1.41.59.51 0 1.02-.2 1.41-.59l7.78-7.78 2.81-2.81c.8-.78.8-2.07 0-2.86zM5.41 20L4 18.59l7.72-7.72 1.47 1.35L5.41 20z\"/>\n",
              "  </svg>\n",
              "      </button>\n",
              "      \n",
              "  <style>\n",
              "    .colab-df-container {\n",
              "      display:flex;\n",
              "      flex-wrap:wrap;\n",
              "      gap: 12px;\n",
              "    }\n",
              "\n",
              "    .colab-df-convert {\n",
              "      background-color: #E8F0FE;\n",
              "      border: none;\n",
              "      border-radius: 50%;\n",
              "      cursor: pointer;\n",
              "      display: none;\n",
              "      fill: #1967D2;\n",
              "      height: 32px;\n",
              "      padding: 0 0 0 0;\n",
              "      width: 32px;\n",
              "    }\n",
              "\n",
              "    .colab-df-convert:hover {\n",
              "      background-color: #E2EBFA;\n",
              "      box-shadow: 0px 1px 2px rgba(60, 64, 67, 0.3), 0px 1px 3px 1px rgba(60, 64, 67, 0.15);\n",
              "      fill: #174EA6;\n",
              "    }\n",
              "\n",
              "    [theme=dark] .colab-df-convert {\n",
              "      background-color: #3B4455;\n",
              "      fill: #D2E3FC;\n",
              "    }\n",
              "\n",
              "    [theme=dark] .colab-df-convert:hover {\n",
              "      background-color: #434B5C;\n",
              "      box-shadow: 0px 1px 3px 1px rgba(0, 0, 0, 0.15);\n",
              "      filter: drop-shadow(0px 1px 2px rgba(0, 0, 0, 0.3));\n",
              "      fill: #FFFFFF;\n",
              "    }\n",
              "  </style>\n",
              "\n",
              "      <script>\n",
              "        const buttonEl =\n",
              "          document.querySelector('#df-4b718334-79e1-405d-a215-211eb0ff97bb button.colab-df-convert');\n",
              "        buttonEl.style.display =\n",
              "          google.colab.kernel.accessAllowed ? 'block' : 'none';\n",
              "\n",
              "        async function convertToInteractive(key) {\n",
              "          const element = document.querySelector('#df-4b718334-79e1-405d-a215-211eb0ff97bb');\n",
              "          const dataTable =\n",
              "            await google.colab.kernel.invokeFunction('convertToInteractive',\n",
              "                                                     [key], {});\n",
              "          if (!dataTable) return;\n",
              "\n",
              "          const docLinkHtml = 'Like what you see? Visit the ' +\n",
              "            '<a target=\"_blank\" href=https://colab.research.google.com/notebooks/data_table.ipynb>data table notebook</a>'\n",
              "            + ' to learn more about interactive tables.';\n",
              "          element.innerHTML = '';\n",
              "          dataTable['output_type'] = 'display_data';\n",
              "          await google.colab.output.renderOutput(dataTable, element);\n",
              "          const docLink = document.createElement('div');\n",
              "          docLink.innerHTML = docLinkHtml;\n",
              "          element.appendChild(docLink);\n",
              "        }\n",
              "      </script>\n",
              "    </div>\n",
              "  </div>\n",
              "  "
            ]
          },
          "metadata": {},
          "execution_count": 74
        }
      ],
      "source": [
        "dataset"
      ]
    },
    {
      "cell_type": "code",
      "execution_count": 75,
      "metadata": {
        "colab": {
          "base_uri": "https://localhost:8080/"
        },
        "id": "zafVCnk8Fih_",
        "outputId": "b17be844-7678-4ae3-bcb7-3df572845b2a"
      },
      "outputs": [
        {
          "output_type": "stream",
          "name": "stdout",
          "text": [
            "<class 'pandas.core.frame.DataFrame'>\n",
            "Int64Index: 7777 entries, 0 to 7786\n",
            "Data columns (total 12 columns):\n",
            " #   Column        Non-Null Count  Dtype         \n",
            "---  ------        --------------  -----         \n",
            " 0   show_id       7777 non-null   object        \n",
            " 1   type          7777 non-null   object        \n",
            " 2   title         7777 non-null   object        \n",
            " 3   director      7777 non-null   object        \n",
            " 4   cast          7777 non-null   object        \n",
            " 5   country       7777 non-null   object        \n",
            " 6   date_added    7777 non-null   datetime64[ns]\n",
            " 7   release_year  7777 non-null   int64         \n",
            " 8   rating        7777 non-null   object        \n",
            " 9   duration      7777 non-null   object        \n",
            " 10  listed_in     7777 non-null   object        \n",
            " 11  description   7777 non-null   object        \n",
            "dtypes: datetime64[ns](1), int64(1), object(10)\n",
            "memory usage: 789.9+ KB\n"
          ]
        }
      ],
      "source": [
        "dataset.info()"
      ]
    },
    {
      "cell_type": "markdown",
      "source": [
        "## 5. Data Visualization Continued"
      ],
      "metadata": {
        "id": "xeHnQb-Fj_Zs"
      }
    },
    {
      "cell_type": "markdown",
      "metadata": {
        "id": "n3dbpmDWp1ck"
      },
      "source": [
        "#### Chart - 14"
      ]
    },
    {
      "cell_type": "code",
      "execution_count": 76,
      "metadata": {
        "id": "bwevp1tKp1ck"
      },
      "outputs": [],
      "source": [
        "# Chart - 12 visualization code"
      ]
    },
    {
      "cell_type": "markdown",
      "metadata": {
        "id": "ylSl6qgtp1ck"
      },
      "source": [
        "##### 1. Why did you pick the specific chart?"
      ]
    },
    {
      "cell_type": "markdown",
      "metadata": {
        "id": "m2xqNkiQp1ck"
      },
      "source": [
        "Answer Here."
      ]
    },
    {
      "cell_type": "markdown",
      "metadata": {
        "id": "ZWILFDl5p1ck"
      },
      "source": [
        "##### 2. What is/are the insight(s) found from the chart?"
      ]
    },
    {
      "cell_type": "markdown",
      "metadata": {
        "id": "x-lUsV2mp1ck"
      },
      "source": [
        "Answer Here"
      ]
    },
    {
      "cell_type": "markdown",
      "metadata": {
        "id": "M7G43BXep1ck"
      },
      "source": [
        "##### 3. Will the gained insights help creating a positive business impact? \n",
        "Are there any insights that lead to negative growth? Justify with specific reason."
      ]
    },
    {
      "cell_type": "markdown",
      "metadata": {
        "id": "5wwDJXsLp1cl"
      },
      "source": [
        "Answer Here"
      ]
    },
    {
      "cell_type": "markdown",
      "metadata": {
        "id": "Ag9LCva-p1cl"
      },
      "source": [
        "#### Chart - 15"
      ]
    },
    {
      "cell_type": "code",
      "execution_count": 77,
      "metadata": {
        "id": "EUfxeq9-p1cl"
      },
      "outputs": [],
      "source": [
        "# Chart - 13 visualization code"
      ]
    },
    {
      "cell_type": "markdown",
      "metadata": {
        "id": "E6MkPsBcp1cl"
      },
      "source": [
        "##### 1. Why did you pick the specific chart?"
      ]
    },
    {
      "cell_type": "markdown",
      "metadata": {
        "id": "V22bRsFWp1cl"
      },
      "source": [
        "Answer Here."
      ]
    },
    {
      "cell_type": "markdown",
      "metadata": {
        "id": "2cELzS2fp1cl"
      },
      "source": [
        "##### 2. What is/are the insight(s) found from the chart?"
      ]
    },
    {
      "cell_type": "markdown",
      "metadata": {
        "id": "ozQPc2_Ip1cl"
      },
      "source": [
        "Answer Here"
      ]
    },
    {
      "cell_type": "markdown",
      "metadata": {
        "id": "3MPXvC8up1cl"
      },
      "source": [
        "##### 3. Will the gained insights help creating a positive business impact? \n",
        "Are there any insights that lead to negative growth? Justify with specific reason."
      ]
    },
    {
      "cell_type": "markdown",
      "metadata": {
        "id": "GL8l1tdLp1cl"
      },
      "source": [
        "Answer Here"
      ]
    },
    {
      "cell_type": "markdown",
      "metadata": {
        "id": "g-ATYxFrGrvw"
      },
      "source": [
        "## ***6. Hypothesis Testing***"
      ]
    },
    {
      "cell_type": "markdown",
      "metadata": {
        "id": "Yfr_Vlr8HBkt"
      },
      "source": [
        "### Based on your chart experiments, define three hypothetical statements from the dataset. In the next three questions, perform hypothesis testing to obtain final conclusion about the statements through your code and statistical testing."
      ]
    },
    {
      "cell_type": "markdown",
      "metadata": {
        "id": "-7MS06SUHkB-"
      },
      "source": [
        "Answer Here."
      ]
    },
    {
      "cell_type": "markdown",
      "metadata": {
        "id": "8yEUt7NnHlrM"
      },
      "source": [
        "### Hypothetical Statement - 1"
      ]
    },
    {
      "cell_type": "markdown",
      "metadata": {
        "id": "tEA2Xm5dHt1r"
      },
      "source": [
        "#### 1. State Your research hypothesis as a null hypothesis and alternate hypothesis."
      ]
    },
    {
      "cell_type": "markdown",
      "metadata": {
        "id": "HI9ZP0laH0D-"
      },
      "source": [
        "Answer Here."
      ]
    },
    {
      "cell_type": "markdown",
      "metadata": {
        "id": "I79__PHVH19G"
      },
      "source": [
        "#### 2. Perform an appropriate statistical test."
      ]
    },
    {
      "cell_type": "code",
      "execution_count": 78,
      "metadata": {
        "id": "oZrfquKtyian"
      },
      "outputs": [],
      "source": [
        "# Perform Statistical Test to obtain P-Value"
      ]
    },
    {
      "cell_type": "markdown",
      "metadata": {
        "id": "Ou-I18pAyIpj"
      },
      "source": [
        "##### Which statistical test have you done to obtain P-Value?"
      ]
    },
    {
      "cell_type": "markdown",
      "metadata": {
        "id": "s2U0kk00ygSB"
      },
      "source": [
        "Answer Here."
      ]
    },
    {
      "cell_type": "markdown",
      "metadata": {
        "id": "fF3858GYyt-u"
      },
      "source": [
        "##### Why did you choose the specific statistical test?"
      ]
    },
    {
      "cell_type": "markdown",
      "metadata": {
        "id": "HO4K0gP5y3B4"
      },
      "source": [
        "Answer Here."
      ]
    },
    {
      "cell_type": "markdown",
      "metadata": {
        "id": "4_0_7-oCpUZd"
      },
      "source": [
        "### Hypothetical Statement - 2"
      ]
    },
    {
      "cell_type": "markdown",
      "metadata": {
        "id": "hwyV_J3ipUZe"
      },
      "source": [
        "#### 1. State Your research hypothesis as a null hypothesis and alternate hypothesis."
      ]
    },
    {
      "cell_type": "markdown",
      "metadata": {
        "id": "FnpLGJ-4pUZe"
      },
      "source": [
        "Answer Here."
      ]
    },
    {
      "cell_type": "markdown",
      "metadata": {
        "id": "3yB-zSqbpUZe"
      },
      "source": [
        "#### 2. Perform an appropriate statistical test."
      ]
    },
    {
      "cell_type": "code",
      "execution_count": 79,
      "metadata": {
        "id": "sWxdNTXNpUZe"
      },
      "outputs": [],
      "source": [
        "# Perform Statistical Test to obtain P-Value"
      ]
    },
    {
      "cell_type": "markdown",
      "metadata": {
        "id": "dEUvejAfpUZe"
      },
      "source": [
        "##### Which statistical test have you done to obtain P-Value?"
      ]
    },
    {
      "cell_type": "markdown",
      "metadata": {
        "id": "oLDrPz7HpUZf"
      },
      "source": [
        "Answer Here."
      ]
    },
    {
      "cell_type": "markdown",
      "metadata": {
        "id": "Fd15vwWVpUZf"
      },
      "source": [
        "##### Why did you choose the specific statistical test?"
      ]
    },
    {
      "cell_type": "markdown",
      "metadata": {
        "id": "4xOGYyiBpUZf"
      },
      "source": [
        "Answer Here."
      ]
    },
    {
      "cell_type": "markdown",
      "metadata": {
        "id": "bn_IUdTipZyH"
      },
      "source": [
        "### Hypothetical Statement - 3"
      ]
    },
    {
      "cell_type": "markdown",
      "metadata": {
        "id": "49K5P_iCpZyH"
      },
      "source": [
        "#### 1. State Your research hypothesis as a null hypothesis and alternate hypothesis."
      ]
    },
    {
      "cell_type": "markdown",
      "metadata": {
        "id": "7gWI5rT9pZyH"
      },
      "source": [
        "Answer Here."
      ]
    },
    {
      "cell_type": "markdown",
      "metadata": {
        "id": "Nff-vKELpZyI"
      },
      "source": [
        "#### 2. Perform an appropriate statistical test."
      ]
    },
    {
      "cell_type": "code",
      "execution_count": 80,
      "metadata": {
        "id": "s6AnJQjtpZyI"
      },
      "outputs": [],
      "source": [
        "# Perform Statistical Test to obtain P-Value"
      ]
    },
    {
      "cell_type": "markdown",
      "metadata": {
        "id": "kLW572S8pZyI"
      },
      "source": [
        "##### Which statistical test have you done to obtain P-Value?"
      ]
    },
    {
      "cell_type": "markdown",
      "metadata": {
        "id": "ytWJ8v15pZyI"
      },
      "source": [
        "Answer Here."
      ]
    },
    {
      "cell_type": "markdown",
      "metadata": {
        "id": "dWbDXHzopZyI"
      },
      "source": [
        "##### Why did you choose the specific statistical test?"
      ]
    },
    {
      "cell_type": "markdown",
      "metadata": {
        "id": "M99G98V6pZyI"
      },
      "source": [
        "Answer Here."
      ]
    },
    {
      "cell_type": "markdown",
      "metadata": {
        "id": "yLjJCtPM0KBk"
      },
      "source": [
        "## ***7. Feature Engineering & Data Pre-processing***"
      ]
    },
    {
      "cell_type": "markdown",
      "metadata": {
        "id": "id1riN9m0vUs"
      },
      "source": [
        "### 2. Handling Outliers"
      ]
    },
    {
      "cell_type": "code",
      "execution_count": 81,
      "metadata": {
        "id": "M6w2CzZf04JK"
      },
      "outputs": [],
      "source": [
        "# Handling Outliers & Outlier treatments"
      ]
    },
    {
      "cell_type": "markdown",
      "metadata": {
        "id": "578E2V7j08f6"
      },
      "source": [
        "##### What all outlier treatment techniques have you used and why did you use those techniques?"
      ]
    },
    {
      "cell_type": "markdown",
      "metadata": {
        "id": "uGZz5OrT1HH-"
      },
      "source": [
        "Answer Here."
      ]
    },
    {
      "cell_type": "markdown",
      "metadata": {
        "id": "89xtkJwZ18nB"
      },
      "source": [
        "### 3. Categorical Encoding"
      ]
    },
    {
      "cell_type": "code",
      "execution_count": 82,
      "metadata": {
        "id": "21JmIYMG2hEo"
      },
      "outputs": [],
      "source": [
        "# Encode your categorical columns"
      ]
    },
    {
      "cell_type": "markdown",
      "metadata": {
        "id": "67NQN5KX2AMe"
      },
      "source": [
        "#### What all categorical encoding techniques have you used & why did you use those techniques?"
      ]
    },
    {
      "cell_type": "markdown",
      "metadata": {
        "id": "UDaue5h32n_G"
      },
      "source": [
        "Answer Here."
      ]
    },
    {
      "cell_type": "markdown",
      "metadata": {
        "id": "Iwf50b-R2tYG"
      },
      "source": [
        "### 4. Textual Data Preprocessing \n",
        "(It's mandatory for textual dataset i.e., NLP, Sentiment Analysis, Text Clustering etc.)"
      ]
    },
    {
      "cell_type": "markdown",
      "metadata": {
        "id": "GMQiZwjn3iu7"
      },
      "source": [
        "#### 1. Expand Contraction"
      ]
    },
    {
      "cell_type": "code",
      "execution_count": 83,
      "metadata": {
        "id": "PTouz10C3oNN"
      },
      "outputs": [],
      "source": [
        "# Expand Contraction"
      ]
    },
    {
      "cell_type": "markdown",
      "metadata": {
        "id": "WVIkgGqN3qsr"
      },
      "source": [
        "#### 2. Lower Casing"
      ]
    },
    {
      "cell_type": "code",
      "execution_count": 84,
      "metadata": {
        "id": "88JnJ1jN3w7j"
      },
      "outputs": [],
      "source": [
        "# Lower Casing"
      ]
    },
    {
      "cell_type": "markdown",
      "metadata": {
        "id": "XkPnILGE3zoT"
      },
      "source": [
        "#### 3. Removing Punctuations"
      ]
    },
    {
      "cell_type": "code",
      "execution_count": 85,
      "metadata": {
        "id": "vqbBqNaA33c0"
      },
      "outputs": [],
      "source": [
        "# Remove Punctuations"
      ]
    },
    {
      "cell_type": "markdown",
      "metadata": {
        "id": "Hlsf0x5436Go"
      },
      "source": [
        "#### 4. Removing URLs & Removing words and digits contain digits."
      ]
    },
    {
      "cell_type": "code",
      "execution_count": 86,
      "metadata": {
        "id": "2sxKgKxu4Ip3"
      },
      "outputs": [],
      "source": [
        "# Remove URLs & Remove words and digits contain digits"
      ]
    },
    {
      "cell_type": "markdown",
      "metadata": {
        "id": "mT9DMSJo4nBL"
      },
      "source": [
        "#### 5. Removing Stopwords & Removing White spaces"
      ]
    },
    {
      "cell_type": "code",
      "execution_count": 87,
      "metadata": {
        "id": "T2LSJh154s8W"
      },
      "outputs": [],
      "source": [
        "# Remove Stopwords"
      ]
    },
    {
      "cell_type": "code",
      "execution_count": 88,
      "metadata": {
        "id": "EgLJGffy4vm0"
      },
      "outputs": [],
      "source": [
        "# Remove White spaces"
      ]
    },
    {
      "cell_type": "markdown",
      "metadata": {
        "id": "c49ITxTc407N"
      },
      "source": [
        "#### 6. Rephrase Text"
      ]
    },
    {
      "cell_type": "code",
      "execution_count": 89,
      "metadata": {
        "id": "foqY80Qu48N2"
      },
      "outputs": [],
      "source": [
        "# Rephrase Text"
      ]
    },
    {
      "cell_type": "markdown",
      "metadata": {
        "id": "OeJFEK0N496M"
      },
      "source": [
        "#### 7. Tokenization"
      ]
    },
    {
      "cell_type": "code",
      "execution_count": 90,
      "metadata": {
        "id": "ijx1rUOS5CUU"
      },
      "outputs": [],
      "source": [
        "# Tokenization"
      ]
    },
    {
      "cell_type": "markdown",
      "metadata": {
        "id": "9ExmJH0g5HBk"
      },
      "source": [
        "#### 8. Text Normalization"
      ]
    },
    {
      "cell_type": "code",
      "execution_count": 91,
      "metadata": {
        "id": "AIJ1a-Zc5PY8"
      },
      "outputs": [],
      "source": [
        "# Normalizing Text (i.e., Stemming, Lemmatization etc.)"
      ]
    },
    {
      "cell_type": "markdown",
      "metadata": {
        "id": "cJNqERVU536h"
      },
      "source": [
        "##### Which text normalization technique have you used and why?"
      ]
    },
    {
      "cell_type": "markdown",
      "metadata": {
        "id": "Z9jKVxE06BC1"
      },
      "source": [
        "Answer Here."
      ]
    },
    {
      "cell_type": "markdown",
      "metadata": {
        "id": "k5UmGsbsOxih"
      },
      "source": [
        "#### 9. Part of speech tagging"
      ]
    },
    {
      "cell_type": "code",
      "execution_count": 92,
      "metadata": {
        "id": "btT3ZJBAO6Ik"
      },
      "outputs": [],
      "source": [
        "# POS Taging"
      ]
    },
    {
      "cell_type": "markdown",
      "metadata": {
        "id": "T0VqWOYE6DLQ"
      },
      "source": [
        "#### 10. Text Vectorization"
      ]
    },
    {
      "cell_type": "code",
      "execution_count": 93,
      "metadata": {
        "id": "yBRtdhth6JDE"
      },
      "outputs": [],
      "source": [
        "# Vectorizing Text"
      ]
    },
    {
      "cell_type": "markdown",
      "metadata": {
        "id": "qBMux9mC6MCf"
      },
      "source": [
        "##### Which text vectorization technique have you used and why?"
      ]
    },
    {
      "cell_type": "markdown",
      "metadata": {
        "id": "su2EnbCh6UKQ"
      },
      "source": [
        "Answer Here."
      ]
    },
    {
      "cell_type": "markdown",
      "metadata": {
        "id": "-oLEiFgy-5Pf"
      },
      "source": [
        "### 4. Feature Manipulation & Selection"
      ]
    },
    {
      "cell_type": "markdown",
      "metadata": {
        "id": "C74aWNz2AliB"
      },
      "source": [
        "#### 1. Feature Manipulation"
      ]
    },
    {
      "cell_type": "code",
      "execution_count": 94,
      "metadata": {
        "id": "h1qC4yhBApWC"
      },
      "outputs": [],
      "source": [
        "# Manipulate Features to minimize feature correlation and create new features"
      ]
    },
    {
      "cell_type": "markdown",
      "metadata": {
        "id": "2DejudWSA-a0"
      },
      "source": [
        "#### 2. Feature Selection"
      ]
    },
    {
      "cell_type": "code",
      "execution_count": 95,
      "metadata": {
        "id": "YLhe8UmaBCEE"
      },
      "outputs": [],
      "source": [
        "# Select your features wisely to avoid overfitting"
      ]
    },
    {
      "cell_type": "markdown",
      "metadata": {
        "id": "pEMng2IbBLp7"
      },
      "source": [
        "##### What all feature selection methods have you used  and why?"
      ]
    },
    {
      "cell_type": "markdown",
      "metadata": {
        "id": "rb2Lh6Z8BgGs"
      },
      "source": [
        "Answer Here."
      ]
    },
    {
      "cell_type": "markdown",
      "metadata": {
        "id": "rAdphbQ9Bhjc"
      },
      "source": [
        "##### Which all features you found important and why?"
      ]
    },
    {
      "cell_type": "markdown",
      "metadata": {
        "id": "fGgaEstsBnaf"
      },
      "source": [
        "Answer Here."
      ]
    },
    {
      "cell_type": "markdown",
      "metadata": {
        "id": "TNVZ9zx19K6k"
      },
      "source": [
        "### 5. Data Transformation"
      ]
    },
    {
      "cell_type": "markdown",
      "metadata": {
        "id": "nqoHp30x9hH9"
      },
      "source": [
        "#### Do you think that your data needs to be transformed? If yes, which transformation have you used. Explain Why?"
      ]
    },
    {
      "cell_type": "code",
      "execution_count": 96,
      "metadata": {
        "id": "I6quWQ1T9rtH"
      },
      "outputs": [],
      "source": [
        "# Transform Your data"
      ]
    },
    {
      "cell_type": "markdown",
      "metadata": {
        "id": "rMDnDkt2B6du"
      },
      "source": [
        "### 6. Data Scaling"
      ]
    },
    {
      "cell_type": "code",
      "execution_count": 97,
      "metadata": {
        "id": "dL9LWpySC6x_"
      },
      "outputs": [],
      "source": [
        "# Scaling your data"
      ]
    },
    {
      "cell_type": "markdown",
      "metadata": {
        "id": "yiiVWRdJDDil"
      },
      "source": [
        "##### Which method have you used to scale you data and why?"
      ]
    },
    {
      "cell_type": "markdown",
      "metadata": {
        "id": "1UUpS68QDMuG"
      },
      "source": [
        "### 7. Dimesionality Reduction"
      ]
    },
    {
      "cell_type": "markdown",
      "metadata": {
        "id": "kexQrXU-DjzY"
      },
      "source": [
        "##### Do you think that dimensionality reduction is needed? Explain Why?"
      ]
    },
    {
      "cell_type": "markdown",
      "metadata": {
        "id": "GGRlBsSGDtTQ"
      },
      "source": [
        "Answer Here."
      ]
    },
    {
      "cell_type": "code",
      "execution_count": 98,
      "metadata": {
        "id": "kQfvxBBHDvCa"
      },
      "outputs": [],
      "source": [
        "# DImensionality Reduction (If needed)"
      ]
    },
    {
      "cell_type": "markdown",
      "metadata": {
        "id": "T5CmagL3EC8N"
      },
      "source": [
        "##### Which dimensionality reduction technique have you used and why? (If dimensionality reduction done on dataset.)"
      ]
    },
    {
      "cell_type": "markdown",
      "metadata": {
        "id": "ZKr75IDuEM7t"
      },
      "source": [
        "Answer Here."
      ]
    },
    {
      "cell_type": "markdown",
      "metadata": {
        "id": "BhH2vgX9EjGr"
      },
      "source": [
        "### 8. Data Splitting"
      ]
    },
    {
      "cell_type": "code",
      "execution_count": 99,
      "metadata": {
        "id": "0CTyd2UwEyNM"
      },
      "outputs": [],
      "source": [
        "# Split your data to train and test. Choose Splitting ratio wisely."
      ]
    },
    {
      "cell_type": "markdown",
      "metadata": {
        "id": "qjKvONjwE8ra"
      },
      "source": [
        "##### What data splitting ratio have you used and why? "
      ]
    },
    {
      "cell_type": "markdown",
      "metadata": {
        "id": "Y2lJ8cobFDb_"
      },
      "source": [
        "Answer Here."
      ]
    },
    {
      "cell_type": "markdown",
      "metadata": {
        "id": "P1XJ9OREExlT"
      },
      "source": [
        "### 9. Handling Imbalanced Dataset"
      ]
    },
    {
      "cell_type": "markdown",
      "metadata": {
        "id": "VFOzZv6IFROw"
      },
      "source": [
        "##### Do you think the dataset is imbalanced? Explain Why."
      ]
    },
    {
      "cell_type": "markdown",
      "metadata": {
        "id": "GeKDIv7pFgcC"
      },
      "source": [
        "Answer Here."
      ]
    },
    {
      "cell_type": "code",
      "execution_count": 100,
      "metadata": {
        "id": "nQsRhhZLFiDs"
      },
      "outputs": [],
      "source": [
        "# Handling Imbalanced Dataset (If needed)"
      ]
    },
    {
      "cell_type": "markdown",
      "metadata": {
        "id": "TIqpNgepFxVj"
      },
      "source": [
        "##### What technique did you use to handle the imbalance dataset and why? (If needed to be balanced)"
      ]
    },
    {
      "cell_type": "markdown",
      "metadata": {
        "id": "qbet1HwdGDTz"
      },
      "source": [
        "Answer Here."
      ]
    },
    {
      "cell_type": "markdown",
      "metadata": {
        "id": "VfCC591jGiD4"
      },
      "source": [
        "## ***8. ML Model Implementation***"
      ]
    },
    {
      "cell_type": "markdown",
      "metadata": {
        "id": "OB4l2ZhMeS1U"
      },
      "source": [
        "### ML Model - 1"
      ]
    },
    {
      "cell_type": "code",
      "execution_count": 101,
      "metadata": {
        "id": "7ebyywQieS1U"
      },
      "outputs": [],
      "source": [
        "# ML Model - 1 Implementation\n",
        "\n",
        "# Fit the Algorithm\n",
        "\n",
        "# Predict on the model"
      ]
    },
    {
      "cell_type": "markdown",
      "metadata": {
        "id": "ArJBuiUVfxKd"
      },
      "source": [
        "#### 1. Explain the ML Model used and it's performance using Evaluation metric Score Chart."
      ]
    },
    {
      "cell_type": "code",
      "execution_count": 102,
      "metadata": {
        "id": "rqD5ZohzfxKe"
      },
      "outputs": [],
      "source": [
        "# Visualizing evaluation Metric Score chart"
      ]
    },
    {
      "cell_type": "markdown",
      "metadata": {
        "id": "4qY1EAkEfxKe"
      },
      "source": [
        "#### 2. Cross- Validation & Hyperparameter Tuning"
      ]
    },
    {
      "cell_type": "code",
      "execution_count": 103,
      "metadata": {
        "id": "Dy61ujd6fxKe"
      },
      "outputs": [],
      "source": [
        "# ML Model - 1 Implementation with hyperparameter optimization techniques (i.e., GridSearch CV, RandomSearch CV, Bayesian Optimization etc.)\n",
        "\n",
        "# Fit the Algorithm\n",
        "\n",
        "# Predict on the model"
      ]
    },
    {
      "cell_type": "markdown",
      "metadata": {
        "id": "PiV4Ypx8fxKe"
      },
      "source": [
        "##### Which hyperparameter optimization technique have you used and why?"
      ]
    },
    {
      "cell_type": "markdown",
      "metadata": {
        "id": "negyGRa7fxKf"
      },
      "source": [
        "Answer Here."
      ]
    },
    {
      "cell_type": "markdown",
      "metadata": {
        "id": "TfvqoZmBfxKf"
      },
      "source": [
        "##### Have you seen any improvement? Note down the improvement with updates Evaluation metric Score Chart."
      ]
    },
    {
      "cell_type": "markdown",
      "metadata": {
        "id": "OaLui8CcfxKf"
      },
      "source": [
        "Answer Here."
      ]
    },
    {
      "cell_type": "markdown",
      "metadata": {
        "id": "dJ2tPlVmpsJ0"
      },
      "source": [
        "### ML Model - 2"
      ]
    },
    {
      "cell_type": "markdown",
      "metadata": {
        "id": "JWYfwnehpsJ1"
      },
      "source": [
        "#### 1. Explain the ML Model used and it's performance using Evaluation metric Score Chart."
      ]
    },
    {
      "cell_type": "code",
      "execution_count": 104,
      "metadata": {
        "id": "yEl-hgQWpsJ1"
      },
      "outputs": [],
      "source": [
        "# Visualizing evaluation Metric Score chart"
      ]
    },
    {
      "cell_type": "markdown",
      "metadata": {
        "id": "-jK_YjpMpsJ2"
      },
      "source": [
        "#### 2. Cross- Validation & Hyperparameter Tuning"
      ]
    },
    {
      "cell_type": "code",
      "execution_count": 105,
      "metadata": {
        "id": "Dn0EOfS6psJ2"
      },
      "outputs": [],
      "source": [
        "# ML Model - 1 Implementation with hyperparameter optimization techniques (i.e., GridSearch CV, RandomSearch CV, Bayesian Optimization etc.)\n",
        "\n",
        "# Fit the Algorithm\n",
        "\n",
        "# Predict on the model"
      ]
    },
    {
      "cell_type": "markdown",
      "metadata": {
        "id": "HAih1iBOpsJ2"
      },
      "source": [
        "##### Which hyperparameter optimization technique have you used and why?"
      ]
    },
    {
      "cell_type": "markdown",
      "metadata": {
        "id": "9kBgjYcdpsJ2"
      },
      "source": [
        "Answer Here."
      ]
    },
    {
      "cell_type": "markdown",
      "metadata": {
        "id": "zVGeBEFhpsJ2"
      },
      "source": [
        "##### Have you seen any improvement? Note down the improvement with updates Evaluation metric Score Chart."
      ]
    },
    {
      "cell_type": "markdown",
      "metadata": {
        "id": "74yRdG6UpsJ3"
      },
      "source": [
        "Answer Here."
      ]
    },
    {
      "cell_type": "markdown",
      "metadata": {
        "id": "bmKjuQ-FpsJ3"
      },
      "source": [
        "#### 3. Explain each evaluation metric's indication towards business and the business impact pf the ML model used."
      ]
    },
    {
      "cell_type": "markdown",
      "metadata": {
        "id": "BDKtOrBQpsJ3"
      },
      "source": [
        "Answer Here."
      ]
    },
    {
      "cell_type": "markdown",
      "metadata": {
        "id": "Fze-IPXLpx6K"
      },
      "source": [
        "### ML Model - 3"
      ]
    },
    {
      "cell_type": "code",
      "execution_count": 106,
      "metadata": {
        "id": "FFrSXAtrpx6M"
      },
      "outputs": [],
      "source": [
        "# ML Model - 3 Implementation\n",
        "\n",
        "# Fit the Algorithm\n",
        "\n",
        "# Predict on the model"
      ]
    },
    {
      "cell_type": "markdown",
      "metadata": {
        "id": "7AN1z2sKpx6M"
      },
      "source": [
        "#### 1. Explain the ML Model used and it's performance using Evaluation metric Score Chart."
      ]
    },
    {
      "cell_type": "code",
      "execution_count": 107,
      "metadata": {
        "id": "xIY4lxxGpx6M"
      },
      "outputs": [],
      "source": [
        "# Visualizing evaluation Metric Score chart"
      ]
    },
    {
      "cell_type": "markdown",
      "metadata": {
        "id": "9PIHJqyupx6M"
      },
      "source": [
        "#### 2. Cross- Validation & Hyperparameter Tuning"
      ]
    },
    {
      "cell_type": "code",
      "execution_count": 108,
      "metadata": {
        "id": "eSVXuaSKpx6M"
      },
      "outputs": [],
      "source": [
        "# ML Model - 3 Implementation with hyperparameter optimization techniques (i.e., GridSearch CV, RandomSearch CV, Bayesian Optimization etc.)\n",
        "\n",
        "# Fit the Algorithm\n",
        "\n",
        "# Predict on the model"
      ]
    },
    {
      "cell_type": "markdown",
      "metadata": {
        "id": "_-qAgymDpx6N"
      },
      "source": [
        "##### Which hyperparameter optimization technique have you used and why?"
      ]
    },
    {
      "cell_type": "markdown",
      "metadata": {
        "id": "lQMffxkwpx6N"
      },
      "source": [
        "Answer Here."
      ]
    },
    {
      "cell_type": "markdown",
      "metadata": {
        "id": "Z-hykwinpx6N"
      },
      "source": [
        "##### Have you seen any improvement? Note down the improvement with updates Evaluation metric Score Chart."
      ]
    },
    {
      "cell_type": "markdown",
      "metadata": {
        "id": "MzVzZC6opx6N"
      },
      "source": [
        "Answer Here."
      ]
    },
    {
      "cell_type": "markdown",
      "metadata": {
        "id": "h_CCil-SKHpo"
      },
      "source": [
        "### 1. Which Evaluation metrics did you consider for a positive business impact and why?"
      ]
    },
    {
      "cell_type": "markdown",
      "metadata": {
        "id": "jHVz9hHDKFms"
      },
      "source": [
        "Answer Here."
      ]
    },
    {
      "cell_type": "markdown",
      "metadata": {
        "id": "cBFFvTBNJzUa"
      },
      "source": [
        "### 2. Which ML model did you choose from the above created models as your final prediction model and why?"
      ]
    },
    {
      "cell_type": "markdown",
      "metadata": {
        "id": "6ksF5Q1LKTVm"
      },
      "source": [
        "Answer Here."
      ]
    },
    {
      "cell_type": "markdown",
      "metadata": {
        "id": "HvGl1hHyA_VK"
      },
      "source": [
        "### 3. Explain the model which you have used and the feature importance using any model explainability tool?"
      ]
    },
    {
      "cell_type": "markdown",
      "metadata": {
        "id": "YnvVTiIxBL-C"
      },
      "source": [
        "Answer Here."
      ]
    },
    {
      "cell_type": "markdown",
      "metadata": {
        "id": "EyNgTHvd2WFk"
      },
      "source": [
        "## ***8.*** ***Future Work (Optional)***"
      ]
    },
    {
      "cell_type": "markdown",
      "metadata": {
        "id": "KH5McJBi2d8v"
      },
      "source": [
        "### 1. Save the best performing ml model in a pickle file or joblib file format for deployment process.\n"
      ]
    },
    {
      "cell_type": "code",
      "execution_count": 109,
      "metadata": {
        "id": "bQIANRl32f4J"
      },
      "outputs": [],
      "source": [
        "# Save the File"
      ]
    },
    {
      "cell_type": "markdown",
      "metadata": {
        "id": "iW_Lq9qf2h6X"
      },
      "source": [
        "### 2. Again Load the saved model file and try to predict unseen data for a sanity check.\n"
      ]
    },
    {
      "cell_type": "code",
      "execution_count": 110,
      "metadata": {
        "id": "oEXk9ydD2nVC"
      },
      "outputs": [],
      "source": [
        "# Load the File and predict unseen data."
      ]
    },
    {
      "cell_type": "markdown",
      "metadata": {
        "id": "-Kee-DAl2viO"
      },
      "source": [
        "### ***Congrats! Your model is successfully created and ready for deployment on a live server for a real user interaction !!!***"
      ]
    },
    {
      "cell_type": "markdown",
      "metadata": {
        "id": "gCX9965dhzqZ"
      },
      "source": [
        "# **Conclusion**"
      ]
    },
    {
      "cell_type": "markdown",
      "metadata": {
        "id": "Fjb1IsQkh3yE"
      },
      "source": [
        "Write the conclusion here."
      ]
    },
    {
      "cell_type": "markdown",
      "metadata": {
        "id": "gIfDvo9L0UH2"
      },
      "source": [
        "### ***Hurrah! You have successfully completed your Machine Learning Capstone Project !!!***"
      ]
    }
  ],
  "metadata": {
    "colab": {
      "collapsed_sections": [
        "vncDsAP0Gaoa",
        "FJNUwmbgGyua",
        "w6K7xa23Elo4",
        "yQaldy8SH6Dl",
        "mDgbUHAGgjLW",
        "O_i_v8NEhb9l",
        "HhfV-JJviCcP",
        "Y3lxredqlCYt",
        "3RnN4peoiCZX",
        "x71ZqKXriCWQ",
        "7hBIi_osiCS2",
        "JlHwYmJAmNHm",
        "35m5QtbWiB9F",
        "PoPl-ycgm1ru",
        "H0kj-8xxnORC",
        "nA9Y7ga8ng1Z",
        "PBTbrJXOngz2",
        "u3PMJOP6ngxN",
        "dauF4eBmngu3",
        "bKJF3rekwFvQ",
        "MSa1f5Uengrz",
        "GF8Ens_Soomf",
        "0wOQAZs5pc--",
        "K5QZ13OEpz2H",
        "lQ7QKXXCp7Bj",
        "448CDAPjqfQr",
        "KSlN3yHqYklG",
        "t6dVpIINYklI",
        "ijmpgYnKYklI",
        "-JiQyfWJYklI",
        "EM7whBJCYoAo",
        "fge-S5ZAYoAp",
        "85gYPyotYoAp",
        "RoGjAbkUYoAp",
        "4Of9eVA-YrdM",
        "iky9q4vBYrdO",
        "F6T5p64dYrdO",
        "y-Ehk30pYrdP",
        "bamQiAODYuh1",
        "QHF8YVU7Yuh3",
        "GwzvFGzlYuh3",
        "qYpmQ266Yuh3",
        "OH-pJp9IphqM",
        "bbFf2-_FphqN",
        "_ouA3fa0phqN",
        "Seke61FWphqN",
        "PIIx-8_IphqN",
        "t27r6nlMphqO",
        "r2jJGEOYphqO",
        "b0JNsNcRphqO",
        "BZR9WyysphqO",
        "jj7wYXLtphqO",
        "eZrbJ2SmphqO",
        "rFu4xreNphqO",
        "YJ55k-q6phqO",
        "gCFgpxoyphqP",
        "OVtJsKN_phqQ",
        "lssrdh5qphqQ",
        "U2RJ9gkRphqQ",
        "1M8mcRywphqQ",
        "tgIPom80phqQ",
        "JMzcOPDDphqR",
        "x-EpHcCOp1ci",
        "X_VqEhTip1ck",
        "8zGJKyg5p1ck",
        "PVzmfK_Ep1ck",
        "n3dbpmDWp1ck",
        "ylSl6qgtp1ck",
        "ZWILFDl5p1ck",
        "M7G43BXep1ck",
        "Ag9LCva-p1cl",
        "E6MkPsBcp1cl",
        "2cELzS2fp1cl",
        "3MPXvC8up1cl",
        "NC_X3p0fY2L0",
        "UV0SzAkaZNRQ",
        "YPEH6qLeZNRQ",
        "q29F0dvdveiT",
        "EXh0U9oCveiU",
        "22aHeOlLveiV",
        "g-ATYxFrGrvw",
        "Yfr_Vlr8HBkt",
        "8yEUt7NnHlrM",
        "tEA2Xm5dHt1r",
        "I79__PHVH19G",
        "Ou-I18pAyIpj",
        "fF3858GYyt-u",
        "4_0_7-oCpUZd",
        "hwyV_J3ipUZe",
        "3yB-zSqbpUZe",
        "dEUvejAfpUZe",
        "Fd15vwWVpUZf",
        "bn_IUdTipZyH",
        "49K5P_iCpZyH",
        "Nff-vKELpZyI",
        "kLW572S8pZyI",
        "dWbDXHzopZyI",
        "yLjJCtPM0KBk",
        "xiyOF9F70UgQ",
        "7wuGOrhz0itI",
        "id1riN9m0vUs",
        "578E2V7j08f6",
        "89xtkJwZ18nB",
        "67NQN5KX2AMe",
        "Iwf50b-R2tYG",
        "GMQiZwjn3iu7",
        "WVIkgGqN3qsr",
        "XkPnILGE3zoT",
        "Hlsf0x5436Go",
        "mT9DMSJo4nBL",
        "c49ITxTc407N",
        "OeJFEK0N496M",
        "9ExmJH0g5HBk",
        "cJNqERVU536h",
        "k5UmGsbsOxih",
        "T0VqWOYE6DLQ",
        "qBMux9mC6MCf",
        "-oLEiFgy-5Pf",
        "C74aWNz2AliB",
        "2DejudWSA-a0",
        "pEMng2IbBLp7",
        "rAdphbQ9Bhjc",
        "TNVZ9zx19K6k",
        "nqoHp30x9hH9",
        "rMDnDkt2B6du",
        "yiiVWRdJDDil",
        "1UUpS68QDMuG",
        "kexQrXU-DjzY",
        "T5CmagL3EC8N",
        "BhH2vgX9EjGr",
        "qjKvONjwE8ra",
        "P1XJ9OREExlT",
        "VFOzZv6IFROw",
        "TIqpNgepFxVj",
        "VfCC591jGiD4",
        "OB4l2ZhMeS1U",
        "ArJBuiUVfxKd",
        "4qY1EAkEfxKe",
        "PiV4Ypx8fxKe",
        "TfvqoZmBfxKf",
        "dJ2tPlVmpsJ0",
        "JWYfwnehpsJ1",
        "-jK_YjpMpsJ2",
        "HAih1iBOpsJ2",
        "zVGeBEFhpsJ2",
        "bmKjuQ-FpsJ3",
        "Fze-IPXLpx6K",
        "7AN1z2sKpx6M",
        "9PIHJqyupx6M",
        "_-qAgymDpx6N",
        "Z-hykwinpx6N",
        "h_CCil-SKHpo",
        "cBFFvTBNJzUa",
        "HvGl1hHyA_VK",
        "EyNgTHvd2WFk",
        "KH5McJBi2d8v",
        "iW_Lq9qf2h6X",
        "-Kee-DAl2viO",
        "gCX9965dhzqZ",
        "gIfDvo9L0UH2"
      ],
      "provenance": [],
      "include_colab_link": true
    },
    "gpuClass": "standard",
    "kernelspec": {
      "display_name": "Python 3",
      "name": "python3"
    },
    "language_info": {
      "codemirror_mode": {
        "name": "ipython",
        "version": 3
      },
      "file_extension": ".py",
      "mimetype": "text/x-python",
      "name": "python",
      "nbconvert_exporter": "python",
      "pygments_lexer": "ipython3",
      "version": "3.11.3"
    }
  },
  "nbformat": 4,
  "nbformat_minor": 0
}